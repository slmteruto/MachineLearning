{
 "cells": [
  {
   "cell_type": "code",
   "execution_count": 2,
   "metadata": {},
   "outputs": [],
   "source": [
    "# (tf1) 가상머신에서 jupyter 실행할 것\n",
    "import tensorflow as tf\n",
    "import numpy as np\n",
    "import pandas as pd\n",
    "import matplotlib.pylab as plt\n",
    "import sys"
   ]
  },
  {
   "cell_type": "markdown",
   "metadata": {},
   "source": [
    "    http://hunkim.github.io/ml/\n",
    "    \n",
    "    \n",
    "    Linear Regression 의 개념 슬라이드\n",
    "    \n",
    "        우리가 그동안 했던 선형 방식의 가중치를 구하는 식도 있다. \n",
    "    \n",
    "    Linear Regression 의 Lab슬라이드\n",
    "        텐서플로우로 어떻게 구현하였나.\n",
    "    "
   ]
  },
  {
   "cell_type": "markdown",
   "metadata": {},
   "source": [
    "# 단순 선형 회귀 모델\n",
    "    \n",
    "    "
   ]
  },
  {
   "cell_type": "code",
   "execution_count": 3,
   "metadata": {},
   "outputs": [],
   "source": [
    "# 데이터 준비\n",
    "\n",
    "# 입력 값\n",
    "x_train = [1,2,3]\n",
    "\n",
    "# 결과값\n",
    "y_train = [1,2,3]\n"
   ]
  },
  {
   "cell_type": "markdown",
   "metadata": {},
   "source": [
    "    이럴 경우 어떻게 해야 wx +b 식이 되느냐  \n",
    "    \n",
    "    w = 1일 것이고\n",
    "    b = 0일 것이다.  \n",
    "    \n",
    "    다만 텐서플로우에서는 어떻게 이 값을 찾는지 알아 볼 것이다."
   ]
  },
  {
   "cell_type": "code",
   "execution_count": 4,
   "metadata": {},
   "outputs": [],
   "source": [
    "# W 값이 얼마가 될 지 모르기 때문에 우선 임시로 잡는다\n",
    "# place holder 사용 \n",
    "W = tf.placeholder(tf.float32)"
   ]
  },
  {
   "cell_type": "code",
   "execution_count": 5,
   "metadata": {},
   "outputs": [],
   "source": [
    "# 가설 준비를 해야한다.\n",
    "# 뭐 지금은 단순해서 괜찮지만 나중에 다중회귀 모델일 땐 복잡해진다.\n",
    "\n",
    "# 가설 : Wx + b  일 것이다.\n",
    "\n",
    "hypot = W * x_train  "
   ]
  },
  {
   "cell_type": "markdown",
   "metadata": {},
   "source": [
    "    지도 방식으로 정답을 알려주기로 한다. \n",
    "    (비용함수 준비) - 실제 정답과 예측이 얼마나 차이가 나는가 "
   ]
  },
  {
   "cell_type": "code",
   "execution_count": 8,
   "metadata": {},
   "outputs": [],
   "source": [
    "# 비용함수\n",
    "cost = tf.reduce_mean(tf.square(hypot - y_train))\n",
    "# reducemean : 평균 구하는 함수\n",
    "# square : 제곱"
   ]
  },
  {
   "cell_type": "markdown",
   "metadata": {},
   "source": [
    "    여기까지 한 작업이 텐서플로우를 이용하기 위한 그래프를 준비한 과정이다."
   ]
  },
  {
   "cell_type": "code",
   "execution_count": 11,
   "metadata": {},
   "outputs": [
    {
     "name": "stdout",
     "output_type": "stream",
     "text": [
      "74.666664\n",
      "70.98\n",
      "67.386665\n",
      "63.88667\n",
      "60.479992\n",
      "57.166668\n",
      "53.946674\n",
      "50.819996\n",
      "47.78667\n",
      "44.84666\n",
      "42.0\n",
      "39.246666\n",
      "36.586662\n",
      "34.020004\n",
      "31.546667\n",
      "29.166666\n",
      "26.88\n",
      "24.686666\n",
      "22.58667\n",
      "20.58\n",
      "18.666666\n",
      "16.846666\n",
      "15.12\n",
      "13.486667\n",
      "11.946668\n",
      "10.5\n",
      "9.146666\n",
      "7.886667\n",
      "6.72\n",
      "5.646666\n",
      "4.6666665\n",
      "3.78\n",
      "2.986667\n",
      "2.2866664\n",
      "1.68\n",
      "1.1666666\n",
      "0.7466666\n",
      "0.42000008\n",
      "0.18666662\n",
      "0.04666671\n",
      "0.0\n",
      "0.04666671\n",
      "0.18666674\n",
      "0.41999987\n",
      "0.7466665\n",
      "1.1666666\n",
      "1.6800003\n",
      "2.2866673\n",
      "2.986666\n",
      "3.7799995\n",
      "4.6666665\n",
      "5.646666\n",
      "6.720001\n",
      "7.8866653\n",
      "9.146668\n",
      "10.5\n",
      "11.946666\n",
      "13.486669\n",
      "15.119998\n",
      "16.84667\n",
      "18.666666\n",
      "20.579996\n",
      "22.58667\n",
      "24.686666\n",
      "26.880005\n",
      "29.166666\n",
      "31.546661\n",
      "34.020004\n",
      "36.586662\n",
      "39.24667\n",
      "42.0\n",
      "44.84666\n",
      "47.786663\n",
      "50.820007\n",
      "53.946674\n",
      "57.166668\n",
      "60.479992\n",
      "63.886658\n",
      "67.386665\n",
      "70.98\n"
     ]
    },
    {
     "data": {
      "image/png": "[encoded data removed]",
      "text/plain": [
       "<Figure size 432x288 with 1 Axes>"
      ]
     },
     "metadata": {
      "needs_background": "light"
     },
     "output_type": "display_data"
    }
   ],
   "source": [
    "# 비용함수를 그래프로 그리기 \n",
    "sess = tf.Session()\n",
    "\n",
    "cost_val = []\n",
    "for i in range(-30, 50) :\n",
    "    cost_result = sess.run(cost, feed_dict={W:i*0.1})  #여기서 곱해준 숫자는 학습률이다. \n",
    "    print(cost_result)\n",
    "    cost_val.append(cost_result)\n",
    "\n",
    "\n",
    "\n",
    "plt.plot(cost_val)\n",
    "sess.close()"
   ]
  },
  {
   "cell_type": "markdown",
   "metadata": {},
   "source": [
    "    [가중치가 어떻게 비용을 계산하는지만 보여준 그래프]\n",
    "    \n",
    "    비용에 대한 결과이다. \n",
    "    비용이 제일 낮은 지점...\n",
    "    즉 0이 되는 부분이 우리가 찾던건데 \n",
    "    \n",
    "    0 이후에 다시 올라가기 시작함을 알 수 있다. (반복횟수를 많이 했기 때문)\n",
    "    \n",
    "    \n",
    "    현재위치에서 최소점을 찾아가는 방법 - 경사 하강법(Gradient Descent) 알고리즘    \n",
    "        - 폭을 얼마나 하느냐에 따라 성능이 달라짐. \n",
    "        - 이게 learning rate인데 아까 곱해준 소수점이 learning rate이다 .\n",
    "        - feed_dict={W:i*0.1}  이 부분에서 0.1이 학습률이다. \n",
    "\n",
    "    "
   ]
  },
  {
   "cell_type": "markdown",
   "metadata": {},
   "source": [
    "#### 경사하강 알고리즘을 이용한  가중치 학습\n"
   ]
  },
  {
   "cell_type": "code",
   "execution_count": 17,
   "metadata": {},
   "outputs": [],
   "source": [
    "# 데이터 준비  (위와 같은 데이터)\n",
    "\n",
    "# 입력 값\n",
    "x_train = [1,2,3]\n",
    "\n",
    "# 결과값\n",
    "y_train = [1,2,3]\n",
    "\n",
    "# 가설  Wx+b\n",
    "\n",
    "W = tf.Variable(tf.random_normal([1]), dtype=tf.float32, name = \"Weight\")  \n",
    "# Variable  클래스 \n",
    "# 초기값을 무엇을 줄 것인가가 중요한데 잘 모르기 때문에 Random으로 쓴다.\n",
    "# random_nomal : 랜덤하게 값을 뽑는 함수 [1]은 한개만, \n",
    "# 그래프에서 점점 내려가면서 값을 찾아야 하는데 초기 시작을 어디로 하냐에 따라 성능 차이도 난다.\n",
    "\n",
    "\n",
    "b = tf.Variable(tf.random_normal([1]), dtype=tf.float32, name = \"bias\")  \n",
    "\n",
    "\n",
    "# 가설 준비(기본 단순 선형 모델)\n",
    "hypothsis = W * x_train + b\n",
    "\n",
    "# 비용함수 준비\n",
    "cost = tf.reduce_mean(tf.square(hypothsis - y_train))\n",
    "\n",
    "# 최저비용학습을 위한 경사 하강 알고리즘(Gradient Descent Algorithm)\n",
    "# Linear Regression cost 함수 최소화 강의슬라이드 참고\n",
    "\n",
    "learning_rate = 0.1\n",
    "gradient = tf.reduce_mean((W * x_train - y_train) * x_train)\n",
    "descent = W - learning_rate * gradient\n",
    "update = W.assign(descent)  \n",
    "#텐서플로우에서는 W = W+b  이렇게 안되기 때문에 함수를 써야한다. "
   ]
  },
  {
   "cell_type": "markdown",
   "metadata": {},
   "source": [
    "    Gradient descent 알고리즘\n",
    "    \n",
    "        descent = W - learning_rate * gradient \n",
    "        \n",
    "        learning_rate = 0.1\n",
    "        gradient = tf.reduce_mean((W * x_train - y_train) * x_train)  --- 기울기값(즉 미분)?\n",
    "        x_train : 입력값. \n",
    "        \n",
    "    \n",
    "--------------------------------------------------------------------\n",
    "    여기까지가 Graph 작업 완료이다. \n",
    "    이제 Tensor Board에 그려보자. "
   ]
  },
  {
   "cell_type": "code",
   "execution_count": 19,
   "metadata": {},
   "outputs": [
    {
     "name": "stdout",
     "output_type": "stream",
     "text": [
      "0 3.3118637 [0.11318511]\n",
      "1 0.6399279 [0.5270321]\n",
      "2 1.5127586 [0.74775046]\n",
      "3 2.631883 [0.8654669]\n",
      "4 3.4146655 [0.928249]\n",
      "5 3.885033 [0.9617328]\n",
      "6 4.150938 [0.97959083]\n",
      "7 4.297033 [0.9891151]\n",
      "8 4.376167 [0.99419475]\n",
      "9 4.418718 [0.99690384]\n",
      "10 4.4415107 [0.9983487]\n",
      "11 4.453694 [0.99911934]\n",
      "12 4.460201 [0.9995303]\n",
      "13 4.4636726 [0.9997495]\n",
      "14 4.4655247 [0.99986637]\n",
      "15 4.4665127 [0.9999287]\n",
      "16 4.46704 [0.999962]\n",
      "17 4.4673214 [0.99997973]\n",
      "18 4.4674716 [0.9999892]\n",
      "19 4.4675517 [0.9999943]\n",
      "20 4.4675946 [0.99999696]\n"
     ]
    }
   ],
   "source": [
    "# 그리기\n",
    "sess = tf.Session()\n",
    "\n",
    "#구동\n",
    "sess.run(tf.global_variables_initializer())\n",
    "# 예전버전에선 initailize_어쩌구\n",
    "# 최신버전에선 global_variables_initializer()\n",
    "\n",
    "for step in range(21) :\n",
    "    _, c, w = sess.run([update, cost, W])  \n",
    "    # 여러개를 실행시킬 것이기 때문에 리스트로 여러개 묶어서 실행// 원래는 update만 실행해도 된다.\n",
    "    # _. 이렇게 해서 update값은 무시한다. \n",
    "    \n",
    "    print(step, c, w)\n",
    "    \n",
    "sess.close()"
   ]
  },
  {
   "cell_type": "markdown",
   "metadata": {},
   "source": [
    "    결과를 보면 난수이기 때문에 랜덤으로 시작점이 잡힌다.\n",
    "    \n",
    "    그래도 20번까지 진행이 되기 때문에 0으로 근접해가기 시작한다. "
   ]
  },
  {
   "cell_type": "markdown",
   "metadata": {},
   "source": [
    "#### 만약 주어지지 않은 데이터가 주어지지 않는다면?"
   ]
  },
  {
   "cell_type": "code",
   "execution_count": 21,
   "metadata": {},
   "outputs": [
    {
     "name": "stdout",
     "output_type": "stream",
     "text": [
      "0 13.860026 [-0.06301905]\n",
      "1 4.330465 [-0.06301905]\n",
      "2 1.4546412 [-0.06301905]\n",
      "3 0.5485266 [-0.06301905]\n",
      "4 0.24379909 [-0.06301905]\n",
      "5 0.13206069 [-0.06301905]\n",
      "6 0.08691182 [-0.06301905]\n",
      "7 0.06694118 [-0.06301905]\n",
      "8 0.057458878 [-0.06301905]\n",
      "9 0.052734125 [-0.06301905]\n",
      "10 0.050308805 [-0.06301905]\n",
      "11 0.04904219 [-0.06301905]\n",
      "12 0.048374314 [-0.06301905]\n",
      "13 0.048020314 [-0.06301905]\n",
      "14 0.047832068 [-0.06301905]\n",
      "15 0.047731888 [-0.06301905]\n",
      "16 0.04767849 [-0.06301905]\n",
      "17 0.047650088 [-0.06301905]\n",
      "18 0.04763489 [-0.06301905]\n",
      "19 0.047626834 [-0.06301905]\n",
      "20 0.04762249 [-0.06301905]\n"
     ]
    }
   ],
   "source": [
    "x_train = tf.placeholder(tf.float32, shape=[None])\n",
    "# 몇개가 넘어가는지 조차 모름... 하나인지 두개인지는 그래도 알려줘야 한다.\n",
    "# shape이라는 옵션이 있음. shape = [숫자] // 숫자가 데이터 갯수 \n",
    "# 그런데 갯수마저 모를땐 어떻게 하는가. 그럴땐 [None]이라고 한다.\n",
    "\n",
    "# 결과값도 없다.\n",
    "y_train = tf.placeholder(tf.float32, shape=[None])\n",
    "\n",
    "# 가설  Wx+b\n",
    "W = tf.Variable(tf.random_normal([1]), dtype=tf.float32, name = \"Weight\")  \n",
    "b = tf.Variable(tf.random_normal([1]), dtype=tf.float32, name = \"bias\")  \n",
    "\n",
    "###### graph 작업 끝####\n",
    "\n",
    "\n",
    "## tensor보드에 구현\n",
    "sess = tf.Session()\n",
    "sess.run(tf.global_variables_initializer())\n",
    "\n",
    "for step in range(21) :\n",
    "    _, c, w = sess.run([update, cost, W], feed_dict = {x_train:[1,2,3,4], y_train:[1,2,3,4]})      \n",
    "    print(step, c, w)\n",
    "    \n",
    "sess.close()"
   ]
  },
  {
   "cell_type": "markdown",
   "metadata": {},
   "source": [
    "    Gradient 를 구현해서 해보았는데\n",
    "    \n",
    "    tensorflow에는 당연히 이걸 해주는 함수가 있었다.\n",
    "    \n",
    "    tf.train.GradientDescentOptimizer(learning_rate= 0.1) \n",
    "    \n",
    "    "
   ]
  },
  {
   "cell_type": "code",
   "execution_count": 34,
   "metadata": {},
   "outputs": [
    {
     "name": "stdout",
     "output_type": "stream",
     "text": [
      "0 21.826294 [-0.44083512]\n",
      "1 18.333689 [-0.32364467]\n",
      "2 15.400019 [-0.21623528]\n",
      "3 12.935829 [-0.11779024]\n",
      "4 10.865993 [-0.027561]\n",
      "5 9.127397 [0.05513847]\n",
      "6 7.667034 [0.13093692]\n",
      "7 6.440377 [0.20041063]\n",
      "8 5.4100246 [0.2640877]\n",
      "9 4.5445623 [0.32245216]\n",
      "10 3.8176026 [0.37594762]\n",
      "11 3.206979 [0.42498067]\n",
      "12 2.6940746 [0.4699239]\n",
      "13 2.2632515 [0.5111189]\n",
      "14 1.901373 [0.54887855]\n",
      "15 1.5974061 [0.5834897]\n",
      "16 1.3420835 [0.61521536]\n",
      "17 1.1276197 [0.64429635]\n",
      "18 0.9474767 [0.6709536]\n",
      "19 0.7961614 [0.6953894]\n",
      "20 0.66906065 [0.7177893]\n",
      "21 0.5622993 [0.7383233]\n",
      "22 0.4726225 [0.75714713]\n",
      "23 0.3972962 [0.7744037]\n",
      "24 0.33402348 [0.7902238]\n",
      "25 0.28087583 [0.8047274]\n",
      "26 0.2362324 [0.8180244]\n",
      "27 0.19873248 [0.8302156]\n",
      "28 0.16723296 [0.84139323]\n",
      "29 0.1407736 [0.851642]\n",
      "30 0.1185477 [0.8610395]\n",
      "31 0.09987755 [0.86965674]\n",
      "32 0.08419451 [0.8775589]\n",
      "33 0.07102036 [0.8848056]\n",
      "34 0.059953645 [0.8914517]\n",
      "35 0.05065707 [0.8975473]\n",
      "36 0.042847253 [0.90313834]\n",
      "37 0.03628648 [0.9082669]\n",
      "38 0.030774768 [0.9129717]\n",
      "39 0.02614417 [0.917288]\n",
      "40 0.022253793 [0.9212483]\n",
      "41 0.018985111 [0.92488235]\n",
      "42 0.016238658 [0.92821735]\n",
      "43 0.013930836 [0.9312782]\n",
      "44 0.0119914925 [0.93408793]\n",
      "45 0.010361625 [0.9366674]\n",
      "46 0.008991751 [0.93903583]\n",
      "47 0.007840234 [0.94121087]\n",
      "48 0.00687212 [0.94320863]\n",
      "49 0.0060580974 [0.9450439]\n"
     ]
    }
   ],
   "source": [
    "# 위의 코드 Gradient 함수를 써서 사용\n",
    "x_train = tf.placeholder(tf.float32, shape=[None])\n",
    "y_train = tf.placeholder(tf.float32, shape=[None])\n",
    "\n",
    "W = tf.Variable(tf.random_normal([1]), dtype=tf.float32, name = \"Weight\")  \n",
    "b = tf.Variable(tf.random_normal([1]), dtype=tf.float32, name = \"bias\")  \n",
    "\n",
    "#가설\n",
    "hypothsis = W * x_train + b\n",
    "\n",
    "# 비용함수 준비\n",
    "cost = tf.reduce_mean(tf.square(hypothsis - y_train))\n",
    "\n",
    "# 최저비용학습을 위한 경사 하강 알고리즘(Gradient Descent Algorithm)\n",
    "# Linear Regression cost 함수 최소화 강의슬라이드 참고\n",
    "\n",
    "learning_rate = 0.1\n",
    "gradient = tf.reduce_mean((W * x_train - y_train) * x_train)\n",
    "descent = W - learning_rate * gradient\n",
    "update = W.assign(descent)  \n",
    "\n",
    "optimizer = tf.train.GradientDescentOptimizer(learning_rate= 0.005)\n",
    "train = optimizer.minimize(cost) \n",
    "\n",
    "## tensor보드에 구현\n",
    "sess = tf.Session()\n",
    "sess.run(tf.global_variables_initializer())\n",
    "\n",
    "for step in range(50) :\n",
    "    _, c, w = sess.run([train, cost, W], feed_dict = {x_train:[1,2,3,4], y_train:[1,2,3,4]})      \n",
    "    print(step, c, w)\n",
    "    \n",
    "sess.close()"
   ]
  },
  {
   "cell_type": "code",
   "execution_count": 35,
   "metadata": {},
   "outputs": [
    {
     "name": "stdout",
     "output_type": "stream",
     "text": [
      "0 81.010315 [-0.55109435] [-0.76832104]\n",
      "100 0.16619617 [1.2637775] [0.14767945]\n",
      "200 0.084422216 [1.1879991] [0.42126366]\n",
      "300 0.042883765 [1.1339904] [0.61625195]\n",
      "400 0.021783544 [1.0954974] [0.7552239]\n",
      "500 0.011065314 [1.0680627] [0.85427207]\n",
      "600 0.0056208186 [1.0485095] [0.9248651]\n",
      "700 0.0028551947 [1.0345737] [0.975178]\n",
      "800 0.0014503434 [1.0246412] [1.0110373]\n",
      "900 0.000736726 [1.0175622] [1.0365945]\n",
      "1000 0.0003742324 [1.012517] [1.0548099]\n",
      "1100 0.00019009321 [1.0089209] [1.0677925]\n",
      "1200 9.656549e-05 [1.0063583] [1.0770446]\n",
      "1300 4.9054273e-05 [1.0045317] [1.0836389]\n",
      "1400 2.4918167e-05 [1.0032299] [1.0883391]\n",
      "1500 1.26566065e-05 [1.0023019] [1.0916895]\n",
      "1600 6.4283217e-06 [1.0016406] [1.094077]\n",
      "1700 3.2651665e-06 [1.0011693] [1.0957786]\n",
      "1800 1.6593576e-06 [1.0008335] [1.0969907]\n",
      "1900 8.429126e-07 [1.0005941] [1.097855]\n",
      "2000 4.2852494e-07 [1.0004237] [1.0984709]\n"
     ]
    }
   ],
   "source": [
    "# 위의 코드 Gradient 함수를 써서 사용\n",
    "x_train = tf.placeholder(tf.float32, shape=[None])\n",
    "y_train = tf.placeholder(tf.float32, shape=[None])\n",
    "\n",
    "W = tf.Variable(tf.random_normal([1]), dtype=tf.float32, name = \"Weight\")  \n",
    "b = tf.Variable(tf.random_normal([1]), dtype=tf.float32, name = \"bias\")  \n",
    "\n",
    "#가설\n",
    "hypothsis = W * x_train + b\n",
    "# 비용함수 준비\n",
    "cost = tf.reduce_mean(tf.square(hypothsis - y_train))\n",
    "\n",
    "learning_rate = 0.1\n",
    "gradient = tf.reduce_mean((W * x_train - y_train) * x_train)\n",
    "descent = W - learning_rate * gradient\n",
    "update = W.assign(descent)  \n",
    "\n",
    "optimizer = tf.train.GradientDescentOptimizer(learning_rate= 0.01)\n",
    "train = optimizer.minimize(cost) \n",
    "\n",
    "## tensor보드에 구현\n",
    "sess = tf.Session()\n",
    "sess.run(tf.global_variables_initializer())\n",
    "\n",
    "for step in range(2001) :\n",
    "    _, curr_c, curr_w, curr_b = sess.run([train, cost, W, b], feed_dict = {x_train:[1, 2, 3, 4, 5], \n",
    "                                                                           y_train:[2.1, 3.1, 4.1, 5.1, 6.1]})      \n",
    "    \n",
    "    # 100번에 한번\n",
    "    if step % 100 == 0 :\n",
    "        print(step, curr_c, curr_w, curr_b)\n",
    "    \n"
   ]
  },
  {
   "cell_type": "markdown",
   "metadata": {},
   "source": [
    "    w값도 1이되고\n",
    "    b값도 1.1이 되어간다 ."
   ]
  },
  {
   "cell_type": "code",
   "execution_count": 37,
   "metadata": {},
   "outputs": [
    {
     "name": "stdout",
     "output_type": "stream",
     "text": [
      "[28.10991]\n",
      "[3.59953   4.8000383]\n"
     ]
    }
   ],
   "source": [
    "# Testing  예측해보기\n",
    "print(sess.run(hypothsis, feed_dict={x_train:[27]}))\n",
    "print(sess.run(hypothsis, feed_dict={x_train:[2.5, 3.7]}))\n",
    "sess.close()"
   ]
  },
  {
   "cell_type": "markdown",
   "metadata": {},
   "source": [
    "    x_train에 값을 넣어보면 근사값이 나오는 것을 확인 해볼 수 있다."
   ]
  },
  {
   "cell_type": "code",
   "execution_count": 58,
   "metadata": {},
   "outputs": [
    {
     "name": "stdout",
     "output_type": "stream",
     "text": [
      "no      c           w            b\n",
      "0 13455991000.0 [1036.3176] [206.89165]\n",
      "100 13768416.0 [24602.78] [4824.5586]\n",
      "200 10858895.0 [24964.727] [4761.6143]\n",
      "300 10693585.0 [24994.91] [4636.8047]\n",
      "400 10541025.0 [25019.416] [4515.791]\n",
      "500 10399758.0 [25042.936] [4399.3286]\n",
      "600 10268949.0 [25065.568] [4287.2603]\n",
      "700 10147821.0 [25087.346] [4179.4204]\n",
      "800 10035662.0 [25108.299] [4075.6484]\n",
      "900 9931810.0 [25128.465] [3975.7917]\n",
      "1000 9835635.0 [25147.873] [3879.7017]\n",
      "8시간 예측값 : [205062.69]\n"
     ]
    }
   ],
   "source": [
    "# 아래의 데이터를 가지고 하루 8시간을 일했을때 매출액이 얼마인지 예측하시오\n",
    "X = [1, 2, 3, 4, 5, 6, 7]\n",
    "y = [25000, 55000, 75000, 110000, 128000, 155000, 180000]\n",
    "\n",
    "x_test = tf.placeholder(tf.float32, shape=[None])\n",
    "y_test = tf.placeholder(tf.float32, shape=[None])\n",
    "\n",
    "W = tf.Variable(tf.random_normal([1]), dtype=tf.float32, name = \"Weight\")  \n",
    "b = tf.Variable(tf.random_normal([1]), dtype=tf.float32, name = \"bias\")  \n",
    "\n",
    "#가설\n",
    "hypothsis = W * x_test + b\n",
    "# 비용함수 준비\n",
    "cost = tf.reduce_mean(tf.square(hypothsis - y))\n",
    "\n",
    "learning_rate = 0.1\n",
    "gradient = tf.reduce_mean((W * x_test - y_test) * x_test)\n",
    "descent = W - learning_rate * gradient\n",
    "update = W.assign(descent)  \n",
    "\n",
    "optimizer = tf.train.GradientDescentOptimizer(learning_rate= 0.001)\n",
    "train = optimizer.minimize(cost) \n",
    "\n",
    "sess = tf.Session()\n",
    "sess.run(tf.global_variables_initializer())\n",
    "print(\"no      c           w            b\")\n",
    "for step in range(1001) :\n",
    "    \n",
    "    _, curr_c, curr_w, curr_b = sess.run([train, cost, W, b], feed_dict={x_test:X, y_test:y})      \n",
    "    \n",
    "    # 100번에 한번\n",
    "    if step % 100 == 0 :\n",
    "        print(step, curr_c, curr_w, curr_b)\n",
    "      \n",
    "        \n",
    "        \n",
    "print(\"8시간 예측값 :\",sess.run(hypothsis, feed_dict={x_test:[8]}))     \n",
    "sess.close()\n"
   ]
  },
  {
   "cell_type": "markdown",
   "metadata": {},
   "source": [
    "# 다중 선형 회귀 모델\n",
    "\n",
    "\n",
    "    http://hunkim.github.io/ml/\n",
    "    \n",
    "    여러개의 입력 Linear Regression - Lab 슬라이드\n",
    "    \n",
    "    Hypothesis가 Multi 일경우\n",
    "\n",
    "        H = W1X1 + W2X2 + W3X3 + .....+ b\n",
    "\n",
    "        이럴 경우 행렬 곱을 이용해서 해결한다.\n",
    "\n",
    "\n",
    "    Matrix multiplication\n",
    "    \n",
    "        행렬 곱셈의 경우  행x열의 합이 하나의 값이 된다. \n",
    "        \n",
    "    Hypothesis using matrix \n",
    "    \n",
    "        행렬곱과 Hypothesis와의 관계를 보여줌 \n",
    "        \n",
    "                 X           *      W           =                  XW    \n",
    "                     \n",
    "        | x11  x12  x13 |                             | x11w11 +  x12w21 + x13w31 |\n",
    "        | x21  x22  x23 |        | w11 |              | x21w11 +  x22w21 + x23w31 |\n",
    "        | x31  x32  x33 |    *   | w21 |        =     | x31w11 +  x32w21 + x33w31 |\n",
    "        | x41  x42  x43 |        | w31 |              | x41w11 +  x42w21 + x43w31 |\n",
    "        | x51  x52  x53 |                             | x51w11 +  x52w21 + x53w31 |\n",
    "        \n",
    "        \n",
    "        "
   ]
  },
  {
   "cell_type": "markdown",
   "metadata": {},
   "source": [
    "#### 1차원일 때 단순하게 처리"
   ]
  },
  {
   "cell_type": "code",
   "execution_count": 62,
   "metadata": {},
   "outputs": [],
   "source": [
    "x1_data = [73., 93., 89., 96., 73.]\n",
    "x2_data = [80., 88., 91., 98., 66.]\n",
    "x3_data = [75., 93., 90., 100., 70.]\n",
    "y_data = [152., 185., 180., 196., 142.]"
   ]
  },
  {
   "cell_type": "code",
   "execution_count": 71,
   "metadata": {},
   "outputs": [
    {
     "name": "stdout",
     "output_type": "stream",
     "text": [
      "0 [-272.49023 -318.43463 -318.2171  -347.34143 -240.30005] 224646.38\n",
      "100 [148.15076 186.96738 179.85617 195.03804 145.15846] 5.921837\n",
      "200 [148.24202 186.90472 179.88405 195.05885 145.07571] 5.6219225\n",
      "300 [148.33084 186.84377 179.91118 195.07913 144.99518] 5.3378353\n",
      "400 [148.41728 186.78444 179.93758 195.09888 144.91676] 5.0687037\n",
      "500 [148.50142 186.7267  179.96327 195.11813 144.84047] 4.8137727\n",
      "600 [148.5833  186.67049 179.98827 195.13684 144.76619] 4.5722733\n",
      "700 [148.66298 186.61581 180.01262 195.15508 144.6939 ] 4.3435364\n",
      "800 [148.74052 186.5626  180.03627 195.17285 144.62352] 4.1268535\n",
      "900 [148.81598 186.5108  180.05933 195.19016 144.55501] 3.9215903\n",
      "1000 [148.8894  186.46039 180.08173 195.207   144.48834] 3.7271829\n",
      "1100 [148.96088 186.41133 180.10355 195.2234  144.42343] 3.5429943\n",
      "1200 [149.03041 186.3636  180.12477 195.2394  144.36024] 3.3685424\n",
      "1300 [149.09811 186.31714 180.14543 195.25497 144.29877] 3.203268\n",
      "1400 [149.16399 186.27193 180.16551 195.27016 144.2389 ] 3.0467083\n",
      "1500 [149.22806 186.22789 180.18506 195.2849  144.18062] 2.8984184\n",
      "1600 [149.29045 186.1851  180.20409 195.2993  144.12392] 2.757956\n",
      "1700 [149.35115 186.14342 180.22261 195.31332 144.0687 ] 2.624877\n",
      "1800 [149.41022 186.10284 180.24063 195.32697 144.01495] 2.4988315\n",
      "1900 [149.46771 186.06339 180.25816 195.34027 143.96265] 2.379428\n",
      "2000 [149.52365 186.02498 180.27522 195.35323 143.91173] 2.2663307\n"
     ]
    }
   ],
   "source": [
    "# 1차원일 때 단순하게 처리\n",
    "\n",
    "X1 = tf.placeholder(tf.float32, shape=[None])\n",
    "X2 = tf.placeholder(tf.float32, shape=[None])\n",
    "X3 = tf.placeholder(tf.float32, shape=[None])\n",
    "\n",
    "y = tf.placeholder(tf.float32, shape=[None])\n",
    "\n",
    "\n",
    "# 가중치\n",
    "W1 = tf.Variable(tf.random_normal([1]))\n",
    "W2 = tf.Variable(tf.random_normal([1]))\n",
    "W3 = tf.Variable(tf.random_normal([1]))\n",
    "b = tf.Variable(tf.random_normal([1]))\n",
    "\n",
    "\n",
    "# 가설\n",
    "hypothesis = W1*X1 + W2*X2 + W3*X3 + b\n",
    "\n",
    "# 비용함수\n",
    "cost = tf.reduce_mean(tf.square(hypothesis - y))\n",
    "\n",
    "# 최소비용 계산\n",
    "train = tf.train.GradientDescentOptimizer(learning_rate=1e-5).minimize(cost)\n",
    "\n",
    "\n",
    "with tf.Session() as sess :\n",
    "    sess.run(tf.global_variables_initializer())\n",
    "    \n",
    "    for step in range(2001) :\n",
    "        _, hy, co= sess.run([train, hypothesis, cost], feed_dict={X1:x1_data, X2:x2_data, X3:x3_data, \n",
    "                                                                  y:y_data})  # 보고싶은 것을 리스트로 묶어서\n",
    "        \n",
    "        if step % 100 == 0 :\n",
    "            print(step, hy, co)\n",
    "            \n"
   ]
  },
  {
   "cell_type": "markdown",
   "metadata": {},
   "source": [
    "    nan값이 뜬거면 학습 범위가 넘어섰음(learning_rate가 높아서 폭이 커졌기 때문이라던지)\n",
    "    \n",
    "    그런데 x1_data, x2_data, x3_data\n",
    "    \n",
    "    이게 1차원 데이터이기 때문에\n",
    "    \n",
    "    2차원 데이터로 바꿔야 우리가 하는 행렬 계산이 가능하다."
   ]
  },
  {
   "cell_type": "markdown",
   "metadata": {},
   "source": [
    "#### 2차원일 때 계산"
   ]
  },
  {
   "cell_type": "code",
   "execution_count": 73,
   "metadata": {},
   "outputs": [],
   "source": [
    "# 1차원 배열 2차원 ...\n",
    "x_data = [[73., 80., 75.], [93., 88., 93.],\n",
    "         [89., 91., 90.], [96., 98., 100.], [73., 66., 70.]]\n",
    "y_data = [[152.], [185.], [180.], [196.], [142.]]"
   ]
  },
  {
   "cell_type": "code",
   "execution_count": 74,
   "metadata": {},
   "outputs": [
    {
     "name": "stdout",
     "output_type": "stream",
     "text": [
      "0 [[100.72239]\n",
      " [112.17811]\n",
      " [115.38905]\n",
      " [121.96963]\n",
      " [ 86.44638]] 4134.7393\n",
      "100 [[157.54024]\n",
      " [180.73167]\n",
      " [182.7989 ]\n",
      " [195.39853]\n",
      " [138.7832 ]] 13.491251\n",
      "200 [[157.40443]\n",
      " [180.82425]\n",
      " [182.75662]\n",
      " [195.37328]\n",
      " [138.90019]] 12.849072\n",
      "300 [[157.27219]\n",
      " [180.91435]\n",
      " [182.71541]\n",
      " [195.3488 ]\n",
      " [139.01395]] 12.240497\n",
      "400 [[157.1434 ]\n",
      " [181.00209]\n",
      " [182.67528]\n",
      " [195.32509]\n",
      " [139.1246 ]] 11.663678\n",
      "500 [[157.018  ]\n",
      " [181.08751]\n",
      " [182.63615]\n",
      " [195.3021 ]\n",
      " [139.23222]] 11.116987\n",
      "600 [[156.89594]\n",
      " [181.17068]\n",
      " [182.59805]\n",
      " [195.27985]\n",
      " [139.33691]] 10.598872\n",
      "700 [[156.77704]\n",
      " [181.25166]\n",
      " [182.56096]\n",
      " [195.2583 ]\n",
      " [139.43872]] 10.10778\n",
      "800 [[156.66125]\n",
      " [181.33047]\n",
      " [182.52478]\n",
      " [195.23738]\n",
      " [139.5377 ]] 9.6423435\n",
      "900 [[156.54855]\n",
      " [181.40724]\n",
      " [182.48958]\n",
      " [195.2172 ]\n",
      " [139.63402]] 9.201181\n",
      "1000 [[156.43875]\n",
      " [181.48195]\n",
      " [182.45525]\n",
      " [195.1976 ]\n",
      " [139.72763]] 8.782988\n",
      "1100 [[156.33186]\n",
      " [181.55472]\n",
      " [182.42183]\n",
      " [195.17867]\n",
      " [139.81873]] 8.386563\n",
      "1200 [[156.22774]\n",
      " [181.62555]\n",
      " [182.38922]\n",
      " [195.16032]\n",
      " [139.90726]] 8.010737\n",
      "1300 [[156.12637]\n",
      " [181.69453]\n",
      " [182.3575 ]\n",
      " [195.14256]\n",
      " [139.99338]] 7.654518\n",
      "1400 [[156.02763]\n",
      " [181.76166]\n",
      " [182.32657]\n",
      " [195.12538]\n",
      " [140.07712]] 7.3168097\n",
      "1500 [[155.9315 ]\n",
      " [181.82706]\n",
      " [182.29645]\n",
      " [195.1088 ]\n",
      " [140.15857]] 6.996614\n",
      "1600 [[155.83788]\n",
      " [181.89075]\n",
      " [182.26709]\n",
      " [195.09274]\n",
      " [140.23776]] 6.693007\n",
      "1700 [[155.7467 ]\n",
      " [181.95273]\n",
      " [182.23848]\n",
      " [195.07721]\n",
      " [140.31476]] 6.4052057\n",
      "1800 [[155.6579 ]\n",
      " [182.01309]\n",
      " [182.2106 ]\n",
      " [195.0622 ]\n",
      " [140.38963]] 6.1322713\n",
      "1900 [[155.57137]\n",
      " [182.07182]\n",
      " [182.18343]\n",
      " [195.04765]\n",
      " [140.46239]] 5.8734875\n",
      "2000 [[155.48717]\n",
      " [182.12907]\n",
      " [182.15697]\n",
      " [195.03366]\n",
      " [140.53319]] 5.6280813\n"
     ]
    }
   ],
   "source": [
    "# 위랑 코드가 똑같다. 다만 수정해야할 것은 변수들을 행렬로 바꿔줘야한다.\n",
    "\n",
    "\n",
    "# X = tf.placeholder(tf.float32, shape=[5, 3])\n",
    "# y = tf.placeholder(tf.float32, shape=[None,1])\n",
    "# 그런데 상수값을 고정시켜놓기 그렇기 때문에 \n",
    "X = tf.placeholder(tf.float32, shape=[None, 3])\n",
    "y = tf.placeholder(tf.float32, shape=[None,1])\n",
    "\n",
    "\n",
    "\n",
    "W = tf.Variable(tf.random_normal([3,1]))   \n",
    "#X가 [5,3]이니까 5개로 들어와서 출력이 3개이다. \n",
    "#그래서 W값이 [3,] 이고  출력이 b = 1개 이므로  [3, 1] 이 된다.\n",
    "b = tf.Variable(tf.random_normal([1]))\n",
    "\n",
    "# 멀티 식을 잘 생각해봐라 \n",
    "\n",
    "\n",
    "# 가설\n",
    "hypothesis = tf.matmul(X,W) + b\n",
    "# matmul : 행렬 곱\n",
    "\n",
    "# 비용함수\n",
    "cost = tf.reduce_mean(tf.square(hypothesis - y))\n",
    "\n",
    "# 최소비용 계산\n",
    "train = tf.train.GradientDescentOptimizer(learning_rate=1e-5).minimize(cost)\n",
    "\n",
    "\n",
    "with tf.Session() as sess :\n",
    "    sess.run(tf.global_variables_initializer())\n",
    "    \n",
    "    for step in range(2001) :\n",
    "        _, hy, co= sess.run([train, hypothesis, cost], feed_dict={X:x_data, y:y_data})  # 보고싶은 것을 리스트로 묶어서\n",
    "        \n",
    "        if step % 100 == 0 :\n",
    "            print(step, hy, co)\n",
    "            "
   ]
  },
  {
   "cell_type": "markdown",
   "metadata": {},
   "source": [
    "    2000번이 가까워질수록 y값과 거의 맞아가는 것을 확인할 수 있다."
   ]
  },
  {
   "cell_type": "markdown",
   "metadata": {},
   "source": [
    "# Dask  : 패키지 (파이썬)\n",
    "\n",
    "    가상 데이터를 생성하는 패키지\n",
    "    \n",
    "    - 가상 데이터 프레임이다.\n",
    "    - 병렬 처리용 작업 스케쥴러\n",
    "    \n",
    "    \n",
    "    데이터를 한번에 불러오면 메모리에 부담을 주기 때문에\n",
    "    \n",
    "    준비만 하는 것이다.\n",
    "    \n",
    "    \n",
    "    \n",
    "    "
   ]
  },
  {
   "cell_type": "code",
   "execution_count": 77,
   "metadata": {},
   "outputs": [
    {
     "name": "stdout",
     "output_type": "stream",
     "text": [
      "Overwriting data/sample1.csv\n"
     ]
    }
   ],
   "source": [
    "%%writefile \"data/sample1.csv\"\n",
    "c1, c2, c3\n",
    "1, 1.11, one\n",
    "2, 2.22, two\n",
    "3, 3.33, three"
   ]
  },
  {
   "cell_type": "code",
   "execution_count": 78,
   "metadata": {},
   "outputs": [
    {
     "data": {
      "text/html": [
       "<div>\n",
       "<style scoped>\n",
       "    .dataframe tbody tr th:only-of-type {\n",
       "        vertical-align: middle;\n",
       "    }\n",
       "\n",
       "    .dataframe tbody tr th {\n",
       "        vertical-align: top;\n",
       "    }\n",
       "\n",
       "    .dataframe thead th {\n",
       "        text-align: right;\n",
       "    }\n",
       "</style>\n",
       "<table border=\"1\" class=\"dataframe\">\n",
       "  <thead>\n",
       "    <tr style=\"text-align: right;\">\n",
       "      <th></th>\n",
       "      <th>c1</th>\n",
       "      <th>c2</th>\n",
       "      <th>c3</th>\n",
       "    </tr>\n",
       "  </thead>\n",
       "  <tbody>\n",
       "    <tr>\n",
       "      <th>0</th>\n",
       "      <td>1</td>\n",
       "      <td>1.11</td>\n",
       "      <td>one</td>\n",
       "    </tr>\n",
       "    <tr>\n",
       "      <th>1</th>\n",
       "      <td>2</td>\n",
       "      <td>2.22</td>\n",
       "      <td>two</td>\n",
       "    </tr>\n",
       "    <tr>\n",
       "      <th>2</th>\n",
       "      <td>3</td>\n",
       "      <td>3.33</td>\n",
       "      <td>three</td>\n",
       "    </tr>\n",
       "  </tbody>\n",
       "</table>\n",
       "</div>"
      ],
      "text/plain": [
       "   c1    c2      c3\n",
       "0   1  1.11     one\n",
       "1   2  2.22     two\n",
       "2   3  3.33   three"
      ]
     },
     "execution_count": 78,
     "metadata": {},
     "output_type": "execute_result"
    }
   ],
   "source": [
    "df1 = pd.read_csv(\"data/sample1.csv\")\n",
    "df1\n",
    "df1[\" c2\"].mean()"
   ]
  },
  {
   "cell_type": "markdown",
   "metadata": {},
   "source": [
    "    이 방식은 메모리에 올려놓고 사용하는 것이다.\n",
    "    \n",
    "    만약 이게 엄청 큰 데이터 였으면 아마 메모리에서 불러오지 못했을 것이다.\n",
    "    \n",
    "    우리가 항상 하던 방식이었다."
   ]
  },
  {
   "cell_type": "markdown",
   "metadata": {},
   "source": [
    "#### Dask 사용"
   ]
  },
  {
   "cell_type": "code",
   "execution_count": 79,
   "metadata": {},
   "outputs": [
    {
     "data": {
      "text/html": [
       "<div><strong>Dask DataFrame Structure:</strong></div>\n",
       "<div>\n",
       "<style scoped>\n",
       "    .dataframe tbody tr th:only-of-type {\n",
       "        vertical-align: middle;\n",
       "    }\n",
       "\n",
       "    .dataframe tbody tr th {\n",
       "        vertical-align: top;\n",
       "    }\n",
       "\n",
       "    .dataframe thead th {\n",
       "        text-align: right;\n",
       "    }\n",
       "</style>\n",
       "<table border=\"1\" class=\"dataframe\">\n",
       "  <thead>\n",
       "    <tr style=\"text-align: right;\">\n",
       "      <th></th>\n",
       "      <th>c1</th>\n",
       "      <th>c2</th>\n",
       "      <th>c3</th>\n",
       "    </tr>\n",
       "    <tr>\n",
       "      <th>npartitions=1</th>\n",
       "      <th></th>\n",
       "      <th></th>\n",
       "      <th></th>\n",
       "    </tr>\n",
       "  </thead>\n",
       "  <tbody>\n",
       "    <tr>\n",
       "      <th></th>\n",
       "      <td>int64</td>\n",
       "      <td>float64</td>\n",
       "      <td>object</td>\n",
       "    </tr>\n",
       "    <tr>\n",
       "      <th></th>\n",
       "      <td>...</td>\n",
       "      <td>...</td>\n",
       "      <td>...</td>\n",
       "    </tr>\n",
       "  </tbody>\n",
       "</table>\n",
       "</div>\n",
       "<div>Dask Name: from-delayed, 3 tasks</div>"
      ],
      "text/plain": [
       "Dask DataFrame Structure:\n",
       "                  c1       c2      c3\n",
       "npartitions=1                        \n",
       "               int64  float64  object\n",
       "                 ...      ...     ...\n",
       "Dask Name: from-delayed, 3 tasks"
      ]
     },
     "execution_count": 79,
     "metadata": {},
     "output_type": "execute_result"
    }
   ],
   "source": [
    "import dask.dataframe as dd\n",
    "\n",
    "df2 = dd.read_csv(\"data/sample1.csv\")\n",
    "df2\n"
   ]
  },
  {
   "cell_type": "markdown",
   "metadata": {},
   "source": [
    "    값은 없고 틀만 있다.\n",
    "    \n",
    "    이걸 보니 tensorflow 방식이 생각난다.\n",
    "    \n",
    "     from-delayed, 3 tasks 라는 결과로 불러올 값이 3개 있다고 알려주고\n",
    "     \n",
    "    준비만 된 상태라는 것."
   ]
  },
  {
   "cell_type": "code",
   "execution_count": 81,
   "metadata": {},
   "outputs": [
    {
     "name": "stderr",
     "output_type": "stream",
     "text": [
      "C:\\Users\\acorn\\Anaconda3\\envs\\tf1\\lib\\site-packages\\dask\\dataframe\\core.py:5916: UserWarning: Insufficient elements for `head`. 5 elements requested, only 3 elements available. Try passing larger `npartitions` to `head`.\n",
      "  warnings.warn(msg.format(n, len(r)))\n"
     ]
    },
    {
     "data": {
      "text/html": [
       "<div>\n",
       "<style scoped>\n",
       "    .dataframe tbody tr th:only-of-type {\n",
       "        vertical-align: middle;\n",
       "    }\n",
       "\n",
       "    .dataframe tbody tr th {\n",
       "        vertical-align: top;\n",
       "    }\n",
       "\n",
       "    .dataframe thead th {\n",
       "        text-align: right;\n",
       "    }\n",
       "</style>\n",
       "<table border=\"1\" class=\"dataframe\">\n",
       "  <thead>\n",
       "    <tr style=\"text-align: right;\">\n",
       "      <th></th>\n",
       "      <th>c1</th>\n",
       "      <th>c2</th>\n",
       "      <th>c3</th>\n",
       "    </tr>\n",
       "  </thead>\n",
       "  <tbody>\n",
       "    <tr>\n",
       "      <th>0</th>\n",
       "      <td>1</td>\n",
       "      <td>1.11</td>\n",
       "      <td>one</td>\n",
       "    </tr>\n",
       "    <tr>\n",
       "      <th>1</th>\n",
       "      <td>2</td>\n",
       "      <td>2.22</td>\n",
       "      <td>two</td>\n",
       "    </tr>\n",
       "    <tr>\n",
       "      <th>2</th>\n",
       "      <td>3</td>\n",
       "      <td>3.33</td>\n",
       "      <td>three</td>\n",
       "    </tr>\n",
       "  </tbody>\n",
       "</table>\n",
       "</div>"
      ],
      "text/plain": [
       "   c1    c2      c3\n",
       "0   1  1.11     one\n",
       "1   2  2.22     two\n",
       "2   3  3.33   three"
      ]
     },
     "execution_count": 81,
     "metadata": {},
     "output_type": "execute_result"
    }
   ],
   "source": [
    "df2.head()"
   ]
  },
  {
   "cell_type": "markdown",
   "metadata": {},
   "source": [
    "    내가 값을 사용하게 되는 순간 그 때 값을 불러오게 됨.\n",
    "    \n",
    "    지금은 데이터가 작아서 다 보여준다.\n",
    "    \n",
    "    다만 수십만개라면 일부만 올려서 사용"
   ]
  },
  {
   "cell_type": "code",
   "execution_count": 82,
   "metadata": {},
   "outputs": [
    {
     "data": {
      "text/plain": [
       "dd.Scalar<series-..., dtype=float64>"
      ]
     },
     "execution_count": 82,
     "metadata": {},
     "output_type": "execute_result"
    }
   ],
   "source": [
    "df2[\" c2\"].mean()"
   ]
  },
  {
   "cell_type": "markdown",
   "metadata": {},
   "source": [
    "    평균을 계산해봤더니\n",
    "    \n",
    "    이 경우에는 값이 안나온다. 왜?? 객체는 생성이 된거 같은데..\n",
    "    \n",
    "    \n",
    "    이럴 경우에는 불러오는 함수까지 써야 값을 불러온다.\n",
    "    .compute()"
   ]
  },
  {
   "cell_type": "code",
   "execution_count": 83,
   "metadata": {},
   "outputs": [
    {
     "data": {
      "text/plain": [
       "2.22"
      ]
     },
     "execution_count": 83,
     "metadata": {},
     "output_type": "execute_result"
    }
   ],
   "source": [
    "df2[\" c2\"].mean().compute()"
   ]
  },
  {
   "cell_type": "markdown",
   "metadata": {},
   "source": [
    "#### 큰 데이터 불러와 보기 : 병렬처리\n",
    "    cpu의 코어를 더 사용해서 "
   ]
  },
  {
   "cell_type": "code",
   "execution_count": 90,
   "metadata": {},
   "outputs": [],
   "source": [
    "df3 = dd.read_csv(\"data/crime.csv\", dtype=str, error_bad_lines = False, warn_bad_lines = False)"
   ]
  },
  {
   "cell_type": "code",
   "execution_count": 91,
   "metadata": {},
   "outputs": [
    {
     "data": {
      "text/plain": [
       "ID                            6954279\n",
       "Case Number                   6954275\n",
       "Date                          6954279\n",
       "Block                         6954279\n",
       "IUCR                          6954279\n",
       "Primary Type                  6954279\n",
       "Description                   6954279\n",
       "Location Description          6948835\n",
       "Arrest                        6954279\n",
       "Domestic                      6954279\n",
       "Beat                          6954279\n",
       "District                      6954232\n",
       "Ward                          6339453\n",
       "Community Area                6340784\n",
       "FBI Code                      6954279\n",
       "X Coordinate                  6888372\n",
       "Y Coordinate                  6888372\n",
       "Year                          6954279\n",
       "Updated On                    6954279\n",
       "Latitude                      6888372\n",
       "Longitude                     6888372\n",
       "Location                      6888372\n",
       "Historical Wards 2003-2015    6868367\n",
       "Zip Codes                     6888372\n",
       "Community Areas               6871115\n",
       "Census Tracts                 6873256\n",
       "Wards                         6871227\n",
       "Boundaries - ZIP Codes        6871162\n",
       "Police Districts              6872194\n",
       "Police Beats                  6872217\n",
       "dtype: int64"
      ]
     },
     "execution_count": 91,
     "metadata": {},
     "output_type": "execute_result"
    }
   ],
   "source": [
    "df3\n",
    "df3.tail()\n",
    "df3.count().compute()"
   ]
  },
  {
   "cell_type": "code",
   "execution_count": 92,
   "metadata": {},
   "outputs": [],
   "source": [
    "# 기다리기 지루할 수도 있어서 진행표시기를 사용해볼 수도 있다.\n",
    "\n",
    "from dask.diagnostics import ProgressBar\n",
    "pbar = ProgressBar()\n",
    "pbar.register()  # pbar를 이용해서 진행바를 표시함 "
   ]
  },
  {
   "cell_type": "code",
   "execution_count": 87,
   "metadata": {},
   "outputs": [],
   "source": [
    "# 걸린 시간을 재려면 time을 이용한다."
   ]
  },
  {
   "cell_type": "code",
   "execution_count": 93,
   "metadata": {},
   "outputs": [
    {
     "name": "stdout",
     "output_type": "stream",
     "text": [
      "[########################################] | 100% Completed | 31.8s\n",
      "Wall time: 31.8 s\n"
     ]
    },
    {
     "data": {
      "text/plain": [
       "ID                            6954279\n",
       "Case Number                   6954275\n",
       "Date                          6954279\n",
       "Block                         6954279\n",
       "IUCR                          6954279\n",
       "Primary Type                  6954279\n",
       "Description                   6954279\n",
       "Location Description          6948835\n",
       "Arrest                        6954279\n",
       "Domestic                      6954279\n",
       "Beat                          6954279\n",
       "District                      6954232\n",
       "Ward                          6339453\n",
       "Community Area                6340784\n",
       "FBI Code                      6954279\n",
       "X Coordinate                  6888372\n",
       "Y Coordinate                  6888372\n",
       "Year                          6954279\n",
       "Updated On                    6954279\n",
       "Latitude                      6888372\n",
       "Longitude                     6888372\n",
       "Location                      6888372\n",
       "Historical Wards 2003-2015    6868367\n",
       "Zip Codes                     6888372\n",
       "Community Areas               6871115\n",
       "Census Tracts                 6873256\n",
       "Wards                         6871227\n",
       "Boundaries - ZIP Codes        6871162\n",
       "Police Districts              6872194\n",
       "Police Beats                  6872217\n",
       "dtype: int64"
      ]
     },
     "execution_count": 93,
     "metadata": {},
     "output_type": "execute_result"
    }
   ],
   "source": [
    "%%time\n",
    "df3.count().compute()"
   ]
  },
  {
   "cell_type": "code",
   "execution_count": 95,
   "metadata": {},
   "outputs": [
    {
     "name": "stderr",
     "output_type": "stream",
     "text": [
      "UsageError: Line magic function `%%time` not found.\n"
     ]
    }
   ],
   "source": [
    "# cpu를 몇개 사용할 것인가\n",
    "%%time\n",
    "df3.count().compute(scheduler = \"processes\", num_workers = 4)\n",
    "\n",
    "# numworkers가 cpu갯수이다"
   ]
  },
  {
   "cell_type": "code",
   "execution_count": 97,
   "metadata": {},
   "outputs": [
    {
     "name": "stdout",
     "output_type": "stream",
     "text": [
      "[########################################] | 100% Completed |  0.1s\n"
     ]
    },
    {
     "data": {
      "text/plain": [
       "0    4\n",
       "1    5\n",
       "2    6\n",
       "Name: c1, dtype: int64"
      ]
     },
     "execution_count": 97,
     "metadata": {},
     "output_type": "execute_result"
    }
   ],
   "source": [
    "# 기존 df2 가공 처리\n",
    "(df2[\"c1\"] + 3).compute()"
   ]
  },
  {
   "cell_type": "code",
   "execution_count": 98,
   "metadata": {},
   "outputs": [],
   "source": [
    "# 주의점  pandas처럼 이렇게 집어 넣을 수 없다.\n",
    "# df2 = df2[\"c1\"]-3\n",
    "\n",
    "# dask는 이렇게 해야한다.\n",
    "df2 = df2.assign(c1=df2[\"c1\"]-3)"
   ]
  },
  {
   "cell_type": "code",
   "execution_count": 99,
   "metadata": {},
   "outputs": [
    {
     "data": {
      "text/html": [
       "<div><strong>Dask DataFrame Structure:</strong></div>\n",
       "<div>\n",
       "<style scoped>\n",
       "    .dataframe tbody tr th:only-of-type {\n",
       "        vertical-align: middle;\n",
       "    }\n",
       "\n",
       "    .dataframe tbody tr th {\n",
       "        vertical-align: top;\n",
       "    }\n",
       "\n",
       "    .dataframe thead th {\n",
       "        text-align: right;\n",
       "    }\n",
       "</style>\n",
       "<table border=\"1\" class=\"dataframe\">\n",
       "  <thead>\n",
       "    <tr style=\"text-align: right;\">\n",
       "      <th></th>\n",
       "      <th>c1</th>\n",
       "      <th>c2</th>\n",
       "      <th>c3</th>\n",
       "    </tr>\n",
       "    <tr>\n",
       "      <th>npartitions=1</th>\n",
       "      <th></th>\n",
       "      <th></th>\n",
       "      <th></th>\n",
       "    </tr>\n",
       "  </thead>\n",
       "  <tbody>\n",
       "    <tr>\n",
       "      <th></th>\n",
       "      <td>int64</td>\n",
       "      <td>float64</td>\n",
       "      <td>object</td>\n",
       "    </tr>\n",
       "    <tr>\n",
       "      <th></th>\n",
       "      <td>...</td>\n",
       "      <td>...</td>\n",
       "      <td>...</td>\n",
       "    </tr>\n",
       "  </tbody>\n",
       "</table>\n",
       "</div>\n",
       "<div>Dask Name: assign, 6 tasks</div>"
      ],
      "text/plain": [
       "Dask DataFrame Structure:\n",
       "                  c1       c2      c3\n",
       "npartitions=1                        \n",
       "               int64  float64  object\n",
       "                 ...      ...     ...\n",
       "Dask Name: assign, 6 tasks"
      ]
     },
     "execution_count": 99,
     "metadata": {},
     "output_type": "execute_result"
    }
   ],
   "source": [
    "df2  # 그냥 사용하면 안나요죠?"
   ]
  },
  {
   "cell_type": "code",
   "execution_count": 100,
   "metadata": {},
   "outputs": [
    {
     "name": "stdout",
     "output_type": "stream",
     "text": [
      "[########################################] | 100% Completed |  0.1s\n"
     ]
    },
    {
     "name": "stderr",
     "output_type": "stream",
     "text": [
      "C:\\Users\\acorn\\Anaconda3\\envs\\tf1\\lib\\site-packages\\dask\\dataframe\\core.py:5916: UserWarning: Insufficient elements for `head`. 5 elements requested, only 3 elements available. Try passing larger `npartitions` to `head`.\n",
      "  warnings.warn(msg.format(n, len(r)))\n"
     ]
    },
    {
     "data": {
      "text/html": [
       "<div>\n",
       "<style scoped>\n",
       "    .dataframe tbody tr th:only-of-type {\n",
       "        vertical-align: middle;\n",
       "    }\n",
       "\n",
       "    .dataframe tbody tr th {\n",
       "        vertical-align: top;\n",
       "    }\n",
       "\n",
       "    .dataframe thead th {\n",
       "        text-align: right;\n",
       "    }\n",
       "</style>\n",
       "<table border=\"1\" class=\"dataframe\">\n",
       "  <thead>\n",
       "    <tr style=\"text-align: right;\">\n",
       "      <th></th>\n",
       "      <th>c1</th>\n",
       "      <th>c2</th>\n",
       "      <th>c3</th>\n",
       "    </tr>\n",
       "  </thead>\n",
       "  <tbody>\n",
       "    <tr>\n",
       "      <th>0</th>\n",
       "      <td>-2</td>\n",
       "      <td>1.11</td>\n",
       "      <td>one</td>\n",
       "    </tr>\n",
       "    <tr>\n",
       "      <th>1</th>\n",
       "      <td>-1</td>\n",
       "      <td>2.22</td>\n",
       "      <td>two</td>\n",
       "    </tr>\n",
       "    <tr>\n",
       "      <th>2</th>\n",
       "      <td>0</td>\n",
       "      <td>3.33</td>\n",
       "      <td>three</td>\n",
       "    </tr>\n",
       "  </tbody>\n",
       "</table>\n",
       "</div>"
      ],
      "text/plain": [
       "   c1    c2      c3\n",
       "0  -2  1.11     one\n",
       "1  -1  2.22     two\n",
       "2   0  3.33   three"
      ]
     },
     "execution_count": 100,
     "metadata": {},
     "output_type": "execute_result"
    }
   ],
   "source": [
    "df2.head()"
   ]
  },
  {
   "cell_type": "code",
   "execution_count": 101,
   "metadata": {},
   "outputs": [],
   "source": [
    "# 새로운 컬럼 추가 \n",
    "df2 = df2.assign(title = df2[\"c1\"].astype(str) + \"%\")"
   ]
  },
  {
   "cell_type": "code",
   "execution_count": 102,
   "metadata": {},
   "outputs": [
    {
     "name": "stdout",
     "output_type": "stream",
     "text": [
      "[########################################] | 100% Completed |  0.1s\n"
     ]
    },
    {
     "name": "stderr",
     "output_type": "stream",
     "text": [
      "C:\\Users\\acorn\\Anaconda3\\envs\\tf1\\lib\\site-packages\\dask\\dataframe\\core.py:5916: UserWarning: Insufficient elements for `head`. 5 elements requested, only 3 elements available. Try passing larger `npartitions` to `head`.\n",
      "  warnings.warn(msg.format(n, len(r)))\n"
     ]
    },
    {
     "data": {
      "text/html": [
       "<div>\n",
       "<style scoped>\n",
       "    .dataframe tbody tr th:only-of-type {\n",
       "        vertical-align: middle;\n",
       "    }\n",
       "\n",
       "    .dataframe tbody tr th {\n",
       "        vertical-align: top;\n",
       "    }\n",
       "\n",
       "    .dataframe thead th {\n",
       "        text-align: right;\n",
       "    }\n",
       "</style>\n",
       "<table border=\"1\" class=\"dataframe\">\n",
       "  <thead>\n",
       "    <tr style=\"text-align: right;\">\n",
       "      <th></th>\n",
       "      <th>c1</th>\n",
       "      <th>c2</th>\n",
       "      <th>c3</th>\n",
       "      <th>title</th>\n",
       "    </tr>\n",
       "  </thead>\n",
       "  <tbody>\n",
       "    <tr>\n",
       "      <th>0</th>\n",
       "      <td>-2</td>\n",
       "      <td>1.11</td>\n",
       "      <td>one</td>\n",
       "      <td>-2%</td>\n",
       "    </tr>\n",
       "    <tr>\n",
       "      <th>1</th>\n",
       "      <td>-1</td>\n",
       "      <td>2.22</td>\n",
       "      <td>two</td>\n",
       "      <td>-1%</td>\n",
       "    </tr>\n",
       "    <tr>\n",
       "      <th>2</th>\n",
       "      <td>0</td>\n",
       "      <td>3.33</td>\n",
       "      <td>three</td>\n",
       "      <td>0%</td>\n",
       "    </tr>\n",
       "  </tbody>\n",
       "</table>\n",
       "</div>"
      ],
      "text/plain": [
       "   c1    c2      c3 title\n",
       "0  -2  1.11     one   -2%\n",
       "1  -1  2.22     two   -1%\n",
       "2   0  3.33   three    0%"
      ]
     },
     "execution_count": 102,
     "metadata": {},
     "output_type": "execute_result"
    }
   ],
   "source": [
    "df2.head()"
   ]
  },
  {
   "cell_type": "code",
   "execution_count": 103,
   "metadata": {},
   "outputs": [
    {
     "name": "stdout",
     "output_type": "stream",
     "text": [
      "Writing data/sample2.csv\n"
     ]
    }
   ],
   "source": [
    "%%writefile \"data/sample2.csv\"\n",
    "c1, c2, c3\n",
    "4, 4.11, one\n",
    "5, 5.22, two\n",
    "6, 6.33, three"
   ]
  },
  {
   "cell_type": "code",
   "execution_count": 104,
   "metadata": {},
   "outputs": [
    {
     "name": "stdout",
     "output_type": "stream",
     "text": [
      "[########################################] | 100% Completed |  0.1s\n"
     ]
    },
    {
     "data": {
      "text/plain": [
       "c1     6\n",
       " c2    6\n",
       " c3    6\n",
       "dtype: int64"
      ]
     },
     "execution_count": 104,
     "metadata": {},
     "output_type": "execute_result"
    }
   ],
   "source": [
    "# 복수데이터\n",
    "df4 = dd.read_csv(\"data/sample*.csv\")\n",
    "df4.count().compute()"
   ]
  },
  {
   "cell_type": "markdown",
   "metadata": {},
   "source": [
    "# Queue Runners : First In First out\n",
    "\n",
    "\n",
    "### 위의 Dask와 같은 원리이다\n",
    "    한대의 컴퓨터에서 큰 데이터를 불러올 때 효율적으로 불러오기 위함\n",
    "    \n",
    "    한대 컴터에서 처리하는 방법이 여러가지 있다.\n",
    "    \n",
    "    단순 파이썬으로 작업할 땐 Dask를 사용하면 되지만 tensor에서는 그걸 해주는 함수가 또 따로 있다. \n",
    "    \n",
    "    tf.train.string_input_producer([])  \n",
    "    \n",
    "    \n",
    "    이게 파일 목록만 불러오는 것.. 그래서 대용량이라도 그냥 불러와놓기만 한다.\n",
    "    목록은 어차피 여러개이므로 리스트로 받아옴"
   ]
  },
  {
   "cell_type": "code",
   "execution_count": 115,
   "metadata": {},
   "outputs": [],
   "source": [
    "# 목록만 불러오기  \n",
    "\n",
    "# 성적 데이터 \n",
    "filename_queue = tf.train.string_input_producer([\"data/data-01-test-score1.csv\"])\n",
    "\n",
    "# 실제로 불러오기 \n",
    "key, value = tf.TextLineReader().read(filename_queue)\n",
    "\n",
    "# 메모리에 있는 것을 실질적인 형태로 decoding 하기\n",
    "xy = tf.decode_csv(value, record_defaults = [[0.], [0.], [0.], [0.]])\n",
    "# record_defaults : 기본 값, 2차원형태의 숫자형으로 쓰겠다는 의미  \n",
    "# [0.] 4개 인 이유는 우리가 열 데이터를 보면 숫자 4개 형태로 있기 때문"
   ]
  },
  {
   "cell_type": "code",
   "execution_count": 106,
   "metadata": {},
   "outputs": [
    {
     "data": {
      "text/plain": [
       "[<tf.Tensor 'DecodeCSV:0' shape=() dtype=float32>,\n",
       " <tf.Tensor 'DecodeCSV:1' shape=() dtype=float32>,\n",
       " <tf.Tensor 'DecodeCSV:2' shape=() dtype=float32>,\n",
       " <tf.Tensor 'DecodeCSV:3' shape=() dtype=float32>]"
      ]
     },
     "execution_count": 106,
     "metadata": {},
     "output_type": "execute_result"
    }
   ],
   "source": [
    "xy"
   ]
  },
  {
   "cell_type": "markdown",
   "metadata": {},
   "source": [
    "    심지어 이것도 데이터를 바로 불러온게 아니다.\n",
    "    \n",
    "    데이터를 쓸 준비만 해둔 것."
   ]
  },
  {
   "cell_type": "markdown",
   "metadata": {},
   "source": [
    "#### tr.train.batch\n",
    "\n",
    "    batch 는 모아서 한번에 처리하는,  일괄 처리를 의미\n",
    "    \n",
    "    \n",
    "    batch 처리방식으로 세가지의 방법론이 있음\n",
    "    \n",
    "        - Batch(기본) : 전체 데이터를 모아서 다 가져오는 것   (메모리가 충분하거나 부담이 전혀 없을 때)\n",
    "        - Stochastic  : 한개의 데이터\n",
    "                1000개의 데이터를 쓸 때 하나씩 가져와서 쓰고 싶을 때 - 1000번 처리해서 할 때도\n",
    "                \n",
    "        - Mini-Batch  : Batch + Stochastic의 절충안 // 적당한 갯수를 우리가 지정\n",
    "        \n",
    "                   epoch (에폭)  : 전체의 훈련셋을 반복해서 훈련하는 횟수 \n",
    "                   \n",
    "                   (40개 배치가 한 세트) * 1000번 반복 = 4만번(에폭)\n",
    "                        "
   ]
  },
  {
   "cell_type": "code",
   "execution_count": 117,
   "metadata": {},
   "outputs": [],
   "source": [
    "train_x_batch, train_y_batch = tf.train.batch([xy[0:-1], xy[-1:]], batch_size=10)  \n",
    "# xy[0:-1] : 첫번째부터 마지막 컬럼 전까지  ---->  train_x_batch\n",
    "# xy[-1:] : 마지막 컬럼만  ----> train_y_batch\n",
    "# batch_size : 몇개씩 읽을 것인가 10개씩  1로하면 전체, 최대값을 하면 하나씩임\n",
    "                "
   ]
  },
  {
   "cell_type": "code",
   "execution_count": 118,
   "metadata": {},
   "outputs": [],
   "source": [
    "# 위 데이터로 해보기 \n",
    "X = tf.placeholder(tf.float32, shape=[None, 3])  \n",
    "y = tf.placeholder(tf.float32, shape=[None, 1])\n",
    "# None이라고 한 이유는 데이터 입력이 달라질 수도 있기 때문이다. \n",
    "\n",
    "\n",
    "# 가중치\n",
    "W = tf.Variable(tf.random_normal([3, 1]))\n",
    "b = tf.Variable(tf.random_normal([1]))\n",
    "\n",
    "\n",
    "# 가설  #지금은 입력값이 25개인데 각각에 가중치를 줄 수가 없기 때문에\n",
    "hypothesis = tf.matmul(X, W) + b\n",
    "\n",
    "# 비용값\n",
    "cost = tf.reduce_mean(tf.square(hypothesis - y))\n",
    "\n",
    "# 훈련값\n",
    "train = tf.train.GradientDescentOptimizer(learning_rate=1e-5).minimize(cost)"
   ]
  },
  {
   "cell_type": "markdown",
   "metadata": {},
   "source": [
    "    여기까지가 그래프 작업\n",
    "    "
   ]
  },
  {
   "cell_type": "code",
   "execution_count": 122,
   "metadata": {},
   "outputs": [
    {
     "name": "stdout",
     "output_type": "stream",
     "text": [
      "당신의 성적은  [[187.9025]]\n",
      "다른 사람의 성적은  [[196.64465]\n",
      " [171.9934 ]\n",
      " [129.85088]]\n"
     ]
    }
   ],
   "source": [
    "# 세션 생성\n",
    "with tf.Session() as sess :\n",
    "    sess.run(tf.global_variables_initializer())\n",
    "    \n",
    "    # 코디네이터 : 실제로 불러오기 위함\n",
    "    coord = tf.train.Coordinator()\n",
    "    \n",
    "    # 이 코디네이터한테 일을 시키는 것이다.\n",
    "    threads = tf.train.start_queue_runners(sess = sess, coord = coord)\n",
    "    # sess : session이 누군지 알려주고\n",
    "    # coord : coordinater가 누군지 알려주면 된다.\n",
    "    \n",
    "    \n",
    "    for step in range(2001) :\n",
    "        x_batch, y_batch = sess.run([train_x_batch, train_y_batch])  # 10개씩 꺼내오는 걸 잊지마라.\n",
    "        sess.run(train, feed_dict={X:x_batch, y:y_batch})\n",
    "        # feed_dict할 때 10개씩 끊어서 가져오는 데이터를 넘겨주면 된다. 이렇게 분할 처리가 가능\n",
    "        \n",
    "    coord.request_stop()\n",
    "    coord.join(threads)\n",
    "#         *threads 밑에 설명 참고\n",
    "\n",
    "    print(\"당신의 성적은 \", sess.run(hypothesis, feed_dict={X:[[100, 70, 101]]})) \n",
    "    print(\"다른 사람의 성적은 \", sess.run(hypothesis, feed_dict={X:[[60, 70, 110], [90, 100, 81], [60, 50, 70]]})) \n",
    "        # 저 점수일 때 예측 값은 \n",
    "        \n",
    "        \n",
    "        \n",
    "    "
   ]
  },
  {
   "cell_type": "markdown",
   "metadata": {},
   "source": [
    "### 스레드 : 프로그래밍 한다면 꼭 공부해야되죠 \n",
    "\n",
    "    프로세스 : \n",
    "        하나의 프로그램이 실행되는 단위\n",
    "    \n",
    "        프로세스가 여러개 실행이 가능한게 윈도우의 특징이죠\n",
    "    \n",
    "    스레드 :\n",
    "        하나의 프로세스 안에서 실행되는 작업 단위\n",
    "        \n",
    "        핸드폰으로 보면  다운로드 받으면서 웹서핑하면서 노래들을 수 있는 것들이\n",
    "        \n",
    "        각각 개별적인 스레드가 여러개 실행되어서 가능 \n",
    "        \n",
    "    \n",
    "    싱글 스레드 : 하나의 작업이 끝날 때까지 기다렸다가 다 끝나면 다음작업이 순차적으로 실행\n",
    "    멀티 스레드 : 여러작업이 동시에 실행\n",
    "                    *실제로는 동시에 실행되진 않는다... 여러 작업이 번갈아가면서 진행되다 보니 여러개 되는거 같이 보임 (????)\n",
    "                    \n",
    "                    \n",
    "    위에서 join이라는게 끝난 스레드가 나머지 스레드가 끝날 때까지 기다리는 것. "
   ]
  },
  {
   "cell_type": "markdown",
   "metadata": {},
   "source": [
    "# 로지스틱 회귀모델"
   ]
  },
  {
   "cell_type": "markdown",
   "metadata": {},
   "source": [
    "    sklearn에서는 입력데이터는 1차원, 결과값도 1차원이였는데\n",
    "    tensorflow에서는 2차원이라는것에 주목\n",
    "    \n",
    "    http://hunkim.github.io/ml/lec5.pdf\n",
    "    \n",
    "    자료를 보면\n",
    "    \n",
    "    Sigmoid 함수가 있는데 이런것을 이용하는 함수라는 것이다. \n",
    "    \n",
    "    그래서 공식도 방금 전 회귀모델과는 다른 식이 된다\n",
    "    \n",
    "    회귀 : Wx+b\n",
    "    로지스틱 : 시그모이드  1 / (1 + e^(-(W^t * X))\n",
    "    \n",
    "    \n",
    "    \n",
    "    로지스틱의 경우는 1과 0일 때 이진 분류인데\n",
    "    \n",
    "    1일때와 0일때 구하는 계산 식이 다르다. \n",
    "    \n",
    "    근데 이걸 매번 구분해서 조건문으로 해줘야하나?  너무 불편하다.\n",
    "    \n",
    "    ** 그래서 하나로 식을 만들었다.  - pdf 참고  \n",
    "    \n",
    "    위 식이 우리가 세울 가설 공식이다. \n",
    "    \n",
    "    나머지 Gradient나 등등은 똑같다.\n",
    "    \n",
    "    "
   ]
  },
  {
   "cell_type": "code",
   "execution_count": 123,
   "metadata": {},
   "outputs": [],
   "source": [
    "# 선형모델과 거의 비슷한데 공식만 달라진것이다.\n",
    "x_data = [[1, 2], [2, 3], [3, 1], [4, 3], [5, 3], [6, 2]]\n",
    "y_data = [[0], [0], [0], [1], [1], [1]]  #정답 데이터 "
   ]
  },
  {
   "cell_type": "code",
   "execution_count": 125,
   "metadata": {},
   "outputs": [],
   "source": [
    "# 그래프 작업\n",
    "\n",
    "# 입력과 출력은 정해놓고 쓰는 것이 아니니깐 None으로 갑시다.\n",
    "X = tf.placeholder(tf.float32, shape=[None, 2])\n",
    "y = tf.placeholder(tf.float32, shape=[None, 1])\n",
    "\n",
    "W = tf.Variable(tf.random_normal([2, 1]))  #X의 결과가 2이므로\n",
    "b = tf.Variable(tf.random_normal([1]))\n",
    "\n",
    "\n",
    "# 가설 // 원래는 시그모이드를 만들어야한다. // 텐서플로우에는 시그모이드 함수를 제공해준다.\n",
    "hypothesis = tf.sigmoid(tf.matmul(X,W)+ b)\n",
    "\n",
    "# 위에서 선형 모델과 비슷하지 않나?   거기에다가 sigmoid함수만 써주면 완성인것이다.  아주 편리\n",
    "\n",
    "\n",
    "# 비용함수\n",
    "cost = -tf.reduce_mean(y * tf.log(hypothesis) + (1-y)*tf.log(1-hypothesis))  # 하나로 합친 식을  똑같이 만듬\n",
    "\n",
    "\n",
    "# 최소비용\n",
    "train = tf.train.GradientDescentOptimizer(learning_rate=0.01).minimize(cost)"
   ]
  },
  {
   "cell_type": "markdown",
   "metadata": {},
   "source": [
    "    Graph 준비 끝"
   ]
  },
  {
   "cell_type": "code",
   "execution_count": 126,
   "metadata": {},
   "outputs": [],
   "source": [
    "# 세션 // 그래프 실행\n",
    "sess = tf.Session()\n",
    "sess.run(tf.global_variables_initializer())\n",
    "\n",
    "for step in range(10001) :\n",
    "    sess.run(train, feed_dict={X:x_data, y:y_data})  #여기까지가 사실 끝이다.\n"
   ]
  },
  {
   "cell_type": "code",
   "execution_count": 127,
   "metadata": {},
   "outputs": [
    {
     "name": "stdout",
     "output_type": "stream",
     "text": [
      "가설 :  [[0.02778402]\n",
      " [0.15463603]\n",
      " [0.2903943 ]\n",
      " [0.78807396]\n",
      " [0.943714  ]\n",
      " [0.9815669 ]]\n",
      "예측 :  [[0.]\n",
      " [0.]\n",
      " [0.]\n",
      " [1.]\n",
      " [1.]\n",
      " [1.]]\n",
      "정확도 :  [[1.]\n",
      " [1.]\n",
      " [1.]\n",
      " [1.]\n",
      " [1.]\n",
      " [1.]]\n"
     ]
    }
   ],
   "source": [
    "# 정확도 확인  accuracy\n",
    "pred = tf.cast(hypothesis>0.5, dtype=tf.float32)  \n",
    "# 형식 변환  hypothesis가 0.5기준으로 구분할 것인데\n",
    "# True, False가 나오는데 이걸 숫자로 변환하는것  0, 1\n",
    "\n",
    "accuracy = tf.cast(tf.equal(pred, y), dtype = tf.float32) \n",
    "#현재 예측한 값과 실제값이 같은지 equal로 확인하는데\n",
    "# 이것 또한 결과가 True, False로 나오기 때문에 숫자로 변환하는 것이다.  0, 1\n",
    "\n",
    "h, p, a = sess.run([hypothesis, pred, accuracy], feed_dict={X:x_data, y:y_data})\n",
    "\n",
    "print(\"가설 : \", h)\n",
    "print(\"예측 : \", p)\n",
    "print(\"정확도 : \", a)"
   ]
  },
  {
   "cell_type": "markdown",
   "metadata": {},
   "source": [
    "    가설부분 결과값이 0.5 기준으로 1인지 0인지로 나눈다. \n",
    "    예측값과 결과값이 같기 때문에 정확도가 다 100%로 나왔다"
   ]
  },
  {
   "cell_type": "markdown",
   "metadata": {},
   "source": [
    "#### 당뇨병 예측\n",
    "    https://docs.google.com/presentation/d/180ZISPNRVWYKyV61xoZepZ_KVUK6mujIXuwXE0eKZuM/edit#slide=id.g1ed121957d_0_211\n",
    "    \n",
    "    여기에 자료를 받아서 스스로 해보기"
   ]
  },
  {
   "cell_type": "code",
   "execution_count": null,
   "metadata": {},
   "outputs": [],
   "source": []
  }
 ],
 "metadata": {
  "kernelspec": {
   "display_name": "Python 3",
   "language": "python",
   "name": "python3"
  },
  "language_info": {
   "codemirror_mode": {
    "name": "ipython",
    "version": 3
   },
   "file_extension": ".py",
   "mimetype": "text/x-python",
   "name": "python",
   "nbconvert_exporter": "python",
   "pygments_lexer": "ipython3",
   "version": "3.7.6"
  }
 },
 "nbformat": 4,
 "nbformat_minor": 4
}

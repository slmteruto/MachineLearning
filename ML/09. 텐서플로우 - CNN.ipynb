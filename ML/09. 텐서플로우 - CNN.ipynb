{
 "cells": [
  {
   "cell_type": "code",
   "execution_count": 1,
   "metadata": {},
   "outputs": [],
   "source": [
    "# (tf1) 가상머신에서 jupyter 실행할 것\n",
    "import tensorflow as tf\n",
    "import numpy as np\n",
    "import pandas as pd\n",
    "import matplotlib.pylab as plt"
   ]
  },
  {
   "cell_type": "code",
   "execution_count": 3,
   "metadata": {},
   "outputs": [
    {
     "data": {
      "text/plain": [
       "<matplotlib.image.AxesImage at 0x29f58037108>"
      ]
     },
     "execution_count": 3,
     "metadata": {},
     "output_type": "execute_result"
    },
    {
     "data": {
      "image/png": "[encoded data removed]",
      "text/plain": [
       "<Figure size 432x288 with 1 Axes>"
      ]
     },
     "metadata": {
      "needs_background": "light"
     },
     "output_type": "display_data"
    }
   ],
   "source": [
    "# 3*3*1*1 이미지 준비 \n",
    "\n",
    "# 2*2*1 필터 준비\n",
    "image = np.array([[[[1], [2], [3]],\n",
    "                 [[4], [5], [6]],\n",
    "                 [[7], [8], [9]]]], dtype=np.float32)\n",
    "\n",
    "\n",
    "image.shape\n",
    "\n",
    "# 이미지를 2차원크기로 보내야 한다.\n",
    "# 근데 이미지는 4차원이니까 reshape으로 줄여야함\n",
    "plt.imshow(image.reshape(3,3), cmap=\"Greys\")\n",
    "\n"
   ]
  },
  {
   "cell_type": "code",
   "execution_count": 4,
   "metadata": {},
   "outputs": [],
   "source": [
    "# 패딩없이  Convolution layer 추출\n",
    "\n",
    "filter = tf.constant([[[[1.]],[[1.]]],\n",
    "                      [[[1.]],[[1.]]]])"
   ]
  },
  {
   "cell_type": "code",
   "execution_count": 5,
   "metadata": {},
   "outputs": [
    {
     "data": {
      "text/plain": [
       "TensorShape([Dimension(2), Dimension(2), Dimension(1), Dimension(1)])"
      ]
     },
     "execution_count": 5,
     "metadata": {},
     "output_type": "execute_result"
    }
   ],
   "source": [
    "filter.shape"
   ]
  },
  {
   "cell_type": "code",
   "execution_count": 9,
   "metadata": {},
   "outputs": [
    {
     "name": "stdout",
     "output_type": "stream",
     "text": [
      "(1, 2, 2, 1)\n",
      "축의 방향을 바꿈: [[[[12.]\n",
      "   [16.]]\n",
      "\n",
      "  [[24.]\n",
      "   [28.]]]]\n",
      "차원 변경: [[12. 16.]\n",
      " [24. 28.]]\n"
     ]
    },
    {
     "data": {
      "image/png": "[encoded data removed]",
      "text/plain": [
       "<Figure size 432x288 with 1 Axes>"
      ]
     },
     "metadata": {
      "needs_background": "light"
     },
     "output_type": "display_data"
    }
   ],
   "source": [
    "# Tensorflow에 conv2d   : convolution layer를 추출해주는 함수\n",
    "\n",
    "conv2d = tf.nn.conv2d(image, filter, strides=[1,1,1,1], padding =\"VALID\")  \n",
    "# 가로 세로 한칸씩 이동이라는 뜻\n",
    "# [1,1,1,1] 에서 첫번째 네번째 1은 의미없는 자리이다 그냥 자리 채우기용\n",
    "\n",
    "# [1,2,2,1] 이라고 하면  가로 세로로 두칸씩 이동이라는 것\n",
    "\n",
    "sess = tf.Session()\n",
    "conv2d_img = sess.run(conv2d)\n",
    "\n",
    "print(conv2d_img.shape) # 1, 2, 2, 1로 크기가 작아짐을 알 수 있음.\n",
    "\n",
    "\n",
    "# 특징을 뽑아낸 것들 그래프 \n",
    "conv2d_img = np.swapaxes(conv2d_img, 0, 3)\n",
    "print(\"축의 방향을 바꿈:\", conv2d_img)\n",
    "for i, one_img in enumerate(conv2d_img):\n",
    "    print(\"차원 변경:\", one_img.reshape(2, 2))\n",
    "    plt.subplot(1, 2, i+1)\n",
    "    plt.imshow(one_img.reshape(2,2), cmap=\"Greys\")\n",
    "\n",
    "sess.close()"
   ]
  },
  {
   "cell_type": "code",
   "execution_count": null,
   "metadata": {},
   "outputs": [],
   "source": [
    "## padding을 이용한 convolution layer 추출\n",
    "filter = tf.constant([[[[1.]],[[1.]]],\n",
    "                      [[[1.]],[[1.]]]])\n",
    "\n",
    "\n",
    "conv2d = tf.nn.conv2d(image, filter, strides=[1,1,1,1], padding =\"SAME\")  \n",
    "# padding을 SAME을 하면 같은 모양을 그대로 유지할 수 있게 한다. \n",
    "\n",
    "\n",
    "sess = tf.Session()\n",
    "conv2d_img = sess.run(conv2d)\n",
    "\n",
    "print(conv2d_img.shape) # 1, 2, 2, 1로 크기가 작아짐을 알 수 있음.\n",
    "\n",
    "\n",
    "# 특징을 뽑아낸 것들 그래프 \n",
    "conv2d_img = np.swapaxes(conv2d_img, 0, 3)\n",
    "print(\"축의 방향을 바꿈:\", conv2d_img)\n",
    "for i, one_img in enumerate(conv2d_img):\n",
    "    print(\"차원 변경:\", one_img.reshape(2, 2))\n",
    "    plt.subplot(1, 2, i+1)\n",
    "    plt.imshow(one_img.reshape(2,2), cmap=\"Greys\")\n",
    "\n",
    "sess.close()"
   ]
  },
  {
   "cell_type": "code",
   "execution_count": 11,
   "metadata": {},
   "outputs": [
    {
     "name": "stdout",
     "output_type": "stream",
     "text": [
      "(1, 3, 3, 3)\n",
      "축의 방향을 바꿈: [[[[ 12.]\n",
      "   [ 16.]\n",
      "   [  9.]]\n",
      "\n",
      "  [[ 24.]\n",
      "   [ 28.]\n",
      "   [ 15.]]\n",
      "\n",
      "  [[ 15.]\n",
      "   [ 17.]\n",
      "   [  9.]]]\n",
      "\n",
      "\n",
      " [[[120.]\n",
      "   [160.]\n",
      "   [ 90.]]\n",
      "\n",
      "  [[240.]\n",
      "   [280.]\n",
      "   [150.]]\n",
      "\n",
      "  [[150.]\n",
      "   [170.]\n",
      "   [ 90.]]]\n",
      "\n",
      "\n",
      " [[[-12.]\n",
      "   [-16.]\n",
      "   [ -9.]]\n",
      "\n",
      "  [[-24.]\n",
      "   [-28.]\n",
      "   [-15.]]\n",
      "\n",
      "  [[-15.]\n",
      "   [-17.]\n",
      "   [ -9.]]]]\n",
      "차원 변경: [[12. 16.  9.]\n",
      " [24. 28. 15.]\n",
      " [15. 17.  9.]]\n",
      "차원 변경: [[120. 160.  90.]\n",
      " [240. 280. 150.]\n",
      " [150. 170.  90.]]\n",
      "차원 변경: [[-12. -16.  -9.]\n",
      " [-24. -28. -15.]\n",
      " [-15. -17.  -9.]]\n"
     ]
    },
    {
     "data": {
      "image/png": "[encoded data removed]",
      "text/plain": [
       "<Figure size 432x288 with 3 Axes>"
      ]
     },
     "metadata": {
      "needs_background": "light"
     },
     "output_type": "display_data"
    }
   ],
   "source": [
    "## 3개의 필터 사용해보기   (2*2*1*3)\n",
    "## 그러면 세개의 이미지가 생성된다.\n",
    "\n",
    "\n",
    "filter = tf.constant([[[[1., 10, -1]],[[1., 10, -1]]],\n",
    "                      [[[1., 10, -1]],[[1., 10, -1]]]])\n",
    "\n",
    "\n",
    "conv2d = tf.nn.conv2d(image, filter, strides=[1,1,1,1], padding =\"SAME\")  \n",
    "# padding을 SAME을 하면 같은 모양을 그대로 유지할 수 있게 한다. \n",
    "\n",
    "\n",
    "sess = tf.Session()\n",
    "conv2d_img = sess.run(conv2d)\n",
    "\n",
    "print(conv2d_img.shape) # 1, 2, 2, 1로 크기가 작아짐을 알 수 있음.\n",
    "\n",
    "\n",
    "# 특징을 뽑아낸 것들 그래프 \n",
    "conv2d_img = np.swapaxes(conv2d_img, 0, 3)\n",
    "print(\"축의 방향을 바꿈:\", conv2d_img)\n",
    "for i, one_img in enumerate(conv2d_img):\n",
    "    print(\"차원 변경:\", one_img.reshape(3, 3))\n",
    "    \n",
    "    #이미지가 세장이 나올것이니까 1행3열로 바꿔준다.\n",
    "    plt.subplot(1, 3, i+1)\n",
    "    plt.imshow(one_img.reshape(3,3), cmap=\"Greys\")\n",
    "\n",
    "sess.close()"
   ]
  },
  {
   "cell_type": "markdown",
   "metadata": {},
   "source": [
    "    필터로 만들어진 이미지 순서대로 이다.\n",
    "    패딩을 했기 때문에 사이즈가 같아짐 "
   ]
  },
  {
   "cell_type": "code",
   "execution_count": 13,
   "metadata": {},
   "outputs": [
    {
     "name": "stdout",
     "output_type": "stream",
     "text": [
      "(1, 1, 1, 1)\n",
      "[[[[4]]]]\n"
     ]
    }
   ],
   "source": [
    "#### Max pooling (2*2)\n",
    "image2 = tf.constant([[[[4],[3]],\n",
    "                     [[2], [1]]]])\n",
    "\n",
    "# 2*2 의 커널이 만들어짐?\n",
    "pool = tf.nn.max_pool(image2, ksize=[1,2,2,1], strides=[1,1,1,1], padding=\"VALID\")  \n",
    "\n",
    "# 세션\n",
    "\n",
    "sess = tf.Session()\n",
    "p = sess.run(pool)\n",
    "print(p.shape)\n",
    "print(p)\n",
    "\n",
    "\n",
    "sess.close()\n"
   ]
  },
  {
   "cell_type": "markdown",
   "metadata": {},
   "source": [
    "### CNN 실습예제_MNIST\n",
    "\n",
    "    https://docs.google.com/presentation/d/1h90rpyWiVlwkuCtMgTLfAVKIiqJrFunnKR7dqPNtI6I/edit#slide=id.g1ee4a504dd_0_0"
   ]
  },
  {
   "cell_type": "code",
   "execution_count": 2,
   "metadata": {},
   "outputs": [
    {
     "name": "stdout",
     "output_type": "stream",
     "text": [
      "WARNING:tensorflow:From <ipython-input-2-3ce75967a7a4>:2: read_data_sets (from tensorflow.contrib.learn.python.learn.datasets.mnist) is deprecated and will be removed in a future version.\n",
      "Instructions for updating:\n",
      "Please use alternatives such as official/mnist/dataset.py from tensorflow/models.\n",
      "WARNING:tensorflow:From C:\\Users\\acorn\\Anaconda3\\envs\\tf1\\lib\\site-packages\\tensorflow_core\\contrib\\learn\\python\\learn\\datasets\\mnist.py:260: maybe_download (from tensorflow.contrib.learn.python.learn.datasets.base) is deprecated and will be removed in a future version.\n",
      "Instructions for updating:\n",
      "Please write your own downloading logic.\n",
      "WARNING:tensorflow:From C:\\Users\\acorn\\Anaconda3\\envs\\tf1\\lib\\site-packages\\tensorflow_core\\contrib\\learn\\python\\learn\\datasets\\mnist.py:262: extract_images (from tensorflow.contrib.learn.python.learn.datasets.mnist) is deprecated and will be removed in a future version.\n",
      "Instructions for updating:\n",
      "Please use tf.data to implement this functionality.\n",
      "Extracting data/MNIST_data\\train-images-idx3-ubyte.gz\n",
      "WARNING:tensorflow:From C:\\Users\\acorn\\Anaconda3\\envs\\tf1\\lib\\site-packages\\tensorflow_core\\contrib\\learn\\python\\learn\\datasets\\mnist.py:267: extract_labels (from tensorflow.contrib.learn.python.learn.datasets.mnist) is deprecated and will be removed in a future version.\n",
      "Instructions for updating:\n",
      "Please use tf.data to implement this functionality.\n",
      "Extracting data/MNIST_data\\train-labels-idx1-ubyte.gz\n",
      "WARNING:tensorflow:From C:\\Users\\acorn\\Anaconda3\\envs\\tf1\\lib\\site-packages\\tensorflow_core\\contrib\\learn\\python\\learn\\datasets\\mnist.py:110: dense_to_one_hot (from tensorflow.contrib.learn.python.learn.datasets.mnist) is deprecated and will be removed in a future version.\n",
      "Instructions for updating:\n",
      "Please use tf.one_hot on tensors.\n",
      "Extracting data/MNIST_data\\t10k-images-idx3-ubyte.gz\n",
      "Extracting data/MNIST_data\\t10k-labels-idx1-ubyte.gz\n",
      "WARNING:tensorflow:From C:\\Users\\acorn\\Anaconda3\\envs\\tf1\\lib\\site-packages\\tensorflow_core\\contrib\\learn\\python\\learn\\datasets\\mnist.py:290: DataSet.__init__ (from tensorflow.contrib.learn.python.learn.datasets.mnist) is deprecated and will be removed in a future version.\n",
      "Instructions for updating:\n",
      "Please use alternatives such as official/mnist/dataset.py from tensorflow/models.\n"
     ]
    }
   ],
   "source": [
    "from tensorflow.examples.tutorials.mnist import input_data\n",
    "mnist = input_data.read_data_sets(\"data/MNIST_data\", one_hot=True)"
   ]
  },
  {
   "cell_type": "code",
   "execution_count": 3,
   "metadata": {},
   "outputs": [
    {
     "data": {
      "image/png": "[encoded data removed]",
      "text/plain": [
       "<Figure size 432x288 with 1 Axes>"
      ]
     },
     "metadata": {
      "needs_background": "light"
     },
     "output_type": "display_data"
    }
   ],
   "source": [
    "img = mnist.train.images[0]\n",
    "img.shape # (784,)\n",
    "\n",
    "plt.imshow(img.reshape(28, 28), cmap=\"gray\") # 2차원으로만 들어가니까 1차원 (784,) → 2차원 28*28\n",
    "\n",
    "X = tf.placeholder(tf.float32, shape=[None, 28*28])\n",
    "y = tf.placeholder(tf.float32, shape=[None, 10])"
   ]
  },
  {
   "cell_type": "markdown",
   "metadata": {},
   "source": [
    "#### 첫번째 Convolution Layer 준비\n",
    "\n",
    "    Convolution1 ->  ReLU1  ->  Max pool1  "
   ]
  },
  {
   "cell_type": "code",
   "execution_count": 4,
   "metadata": {},
   "outputs": [],
   "source": [
    "# 1차원 MNIST 데이터 4차원으로 Reshape\n",
    "## tf.reshape(X, [이미지갯수, 가로, 세로, 색])\n",
    "## 이미지갯수 -1 = None\n",
    "X_img = tf.reshape(X, [-1, 28, 28, 1]) # 이미지갯수 미지정의 가로 28, 세로 28, 흑백(1) 이미지로 Reshpae\n",
    "\n",
    "\n",
    "# 필터(크기 3*3 / 갯수 32개 / 색상 수 1) 준비\n",
    "#    * 필터사이즈 & 스트라이드 사이즈는 조절해가면서 성능 조절~~~~~\n",
    "# Convolution layer는 가중치로 뽑는거니까\n",
    "# W = tf.Variable(tf.random_normal(가로, 세로, 색상, 갯수), stddev=이게머라구?)로 준비하긔\n",
    "W1 = tf.Variable(tf.random_normal([3, 3, 1, 32], stddev=0.01))"
   ]
  },
  {
   "cell_type": "code",
   "execution_count": 5,
   "metadata": {},
   "outputs": [
    {
     "name": "stdout",
     "output_type": "stream",
     "text": [
      "Tensor(\"Conv2D:0\", shape=(?, 28, 28, 32), dtype=float32)\n",
      "Tensor(\"Relu:0\", shape=(?, 28, 28, 32), dtype=float32)\n",
      "Tensor(\"MaxPool:0\", shape=(?, 14, 14, 32), dtype=float32)\n"
     ]
    }
   ],
   "source": [
    "# Convolution Layer\n",
    "## L1 = tf.nn.conv2d(이미지데이터, 필터, strides=[디퐅트1, 가로1, 세로1, 디폴트1], padding=\"SAME\")\n",
    "L1 = tf.nn.conv2d(X_img, W1, strides=[1, 1, 1, 1], padding=\"SAME\")\n",
    "print(L1)\n",
    "\n",
    "L1 = tf.nn.relu(L1)\n",
    "print(L1)\n",
    "\n",
    "# Convolution Layer으로 뽑은 이미지에서 Max Pooling Layer\n",
    "L1 = tf.nn.max_pool(L1, ksize=[1, 2, 2, 1], strides=[1, 2, 2, 1], padding=\"SAME\")\n",
    "print(L1)"
   ]
  },
  {
   "cell_type": "markdown",
   "metadata": {},
   "source": [
    "    최초 컨볼루션할 때 모양은 28* 28이다.\n",
    "    \n",
    "    그것을 Max pool로 뽑아 내었을 때 크기는 14*14가 된다.\n",
    "    \n",
    "    원래는 더 작아졌을 텐데 padding = same을 해서 14*14의 크기가 된것"
   ]
  },
  {
   "cell_type": "markdown",
   "metadata": {},
   "source": [
    "#### 두번째 Convolution Layer"
   ]
  },
  {
   "cell_type": "code",
   "execution_count": 6,
   "metadata": {},
   "outputs": [],
   "source": [
    "# 필터(크기 3*3 / 갯수 64개 / 색상 수 1) 준비\n",
    "# W = tf.Variable(tf.random_normal(가로, 세로, 색상, 갯수), stddev=범위)로 준비하긔\n",
    "W2 = tf.Variable(tf.random_normal([3, 3, 32, 64], stddev=0.01))\n",
    "# 아니 3번째꺼 색상이라면서요 근데 왜 갖고온 갯수가 32개니까 3번째에 32개 넣는다고 하시는데요;;;;;\n",
    "# 아 처음 받을때는 색상 수인데 두번째에서는 이전꺼 갯수로 받는다고요\n",
    "# 왜 그러는건데...?"
   ]
  },
  {
   "cell_type": "code",
   "execution_count": 7,
   "metadata": {},
   "outputs": [
    {
     "name": "stdout",
     "output_type": "stream",
     "text": [
      "Tensor(\"Conv2D_1:0\", shape=(?, 14, 14, 64), dtype=float32)\n",
      "Tensor(\"Relu_1:0\", shape=(?, 14, 14, 64), dtype=float32)\n",
      "Tensor(\"MaxPool_1:0\", shape=(?, 7, 7, 64), dtype=float32)\n"
     ]
    }
   ],
   "source": [
    "# Convolution Layer\n",
    "## L1 = tf.nn.conv2d(첫번째 Convolution layer, 2번째필터, strides=[디퐅트1, 가로1, 세로1, 디폴트1], padding=\"SAME\")\n",
    "L2 = tf.nn.conv2d(L1, W2, strides=[1, 1, 1, 1], padding=\"SAME\")\n",
    "print(L2)\n",
    "\n",
    "L2 = tf.nn.relu(L2)\n",
    "print(L2)\n",
    "\n",
    "# Convolution Layer으로 뽑은 이미지에서 Max Pooling Layer\n",
    "L2 = tf.nn.max_pool(L2, ksize=[1, 2, 2, 1], strides=[1, 2, 2, 1], padding=\"SAME\")\n",
    "print(L2)\n"
   ]
  },
  {
   "cell_type": "markdown",
   "metadata": {},
   "source": [
    "    패딩이 SAME이지만 strides = [1, 1]에서 [2, 2]로 올라서 \n",
    "    \n",
    "    14*14에서 7*7로 크기가 줄어든 것이다. \n",
    "    "
   ]
  },
  {
   "cell_type": "markdown",
   "metadata": {},
   "source": [
    "#### Fully Connected Layer 작성\n",
    "\n",
    "    FC\n",
    "    \n",
    "    "
   ]
  },
  {
   "cell_type": "code",
   "execution_count": 8,
   "metadata": {},
   "outputs": [],
   "source": [
    "# 하이퍼파라미터 준비\n",
    "learning_rate = 0.001\n",
    "training_epochs = 30\n",
    "batch_size = 500"
   ]
  },
  {
   "cell_type": "code",
   "execution_count": 9,
   "metadata": {},
   "outputs": [
    {
     "name": "stdout",
     "output_type": "stream",
     "text": [
      "WARNING:tensorflow:From <ipython-input-9-60aa80ac6faf>:12: softmax_cross_entropy_with_logits (from tensorflow.python.ops.nn_ops) is deprecated and will be removed in a future version.\n",
      "Instructions for updating:\n",
      "\n",
      "Future major versions of TensorFlow will allow gradients to flow\n",
      "into the labels input on backprop by default.\n",
      "\n",
      "See `tf.nn.softmax_cross_entropy_with_logits_v2`.\n",
      "\n"
     ]
    },
    {
     "ename": "KeyboardInterrupt",
     "evalue": "",
     "output_type": "error",
     "traceback": [
      "\u001b[1;31m---------------------------------------------------------------------------\u001b[0m",
      "\u001b[1;31mKeyboardInterrupt\u001b[0m                         Traceback (most recent call last)",
      "\u001b[1;32m<ipython-input-9-60aa80ac6faf>\u001b[0m in \u001b[0;36m<module>\u001b[1;34m\u001b[0m\n\u001b[0;32m     26\u001b[0m     \u001b[1;32mfor\u001b[0m \u001b[0mi\u001b[0m \u001b[1;32min\u001b[0m \u001b[0mrange\u001b[0m\u001b[1;33m(\u001b[0m\u001b[0mtotal_batch\u001b[0m\u001b[1;33m)\u001b[0m\u001b[1;33m:\u001b[0m\u001b[1;33m\u001b[0m\u001b[1;33m\u001b[0m\u001b[0m\n\u001b[0;32m     27\u001b[0m         \u001b[0mbatch_xs\u001b[0m\u001b[1;33m,\u001b[0m \u001b[0mbatch_xy\u001b[0m \u001b[1;33m=\u001b[0m \u001b[0mmnist\u001b[0m\u001b[1;33m.\u001b[0m\u001b[0mtrain\u001b[0m\u001b[1;33m.\u001b[0m\u001b[0mnext_batch\u001b[0m\u001b[1;33m(\u001b[0m\u001b[0mbatch_size\u001b[0m\u001b[1;33m)\u001b[0m\u001b[1;33m\u001b[0m\u001b[1;33m\u001b[0m\u001b[0m\n\u001b[1;32m---> 28\u001b[1;33m         \u001b[0m_\u001b[0m\u001b[1;33m,\u001b[0m \u001b[0mc\u001b[0m \u001b[1;33m=\u001b[0m \u001b[0msess\u001b[0m\u001b[1;33m.\u001b[0m\u001b[0mrun\u001b[0m\u001b[1;33m(\u001b[0m\u001b[1;33m[\u001b[0m\u001b[0mtrain\u001b[0m\u001b[1;33m,\u001b[0m \u001b[0mcost\u001b[0m\u001b[1;33m]\u001b[0m\u001b[1;33m,\u001b[0m \u001b[0mfeed_dict\u001b[0m\u001b[1;33m=\u001b[0m\u001b[1;33m{\u001b[0m\u001b[0mX\u001b[0m\u001b[1;33m:\u001b[0m\u001b[0mbatch_xs\u001b[0m\u001b[1;33m,\u001b[0m \u001b[0my\u001b[0m\u001b[1;33m:\u001b[0m\u001b[0mbatch_xy\u001b[0m\u001b[1;33m}\u001b[0m\u001b[1;33m)\u001b[0m\u001b[1;33m\u001b[0m\u001b[1;33m\u001b[0m\u001b[0m\n\u001b[0m\u001b[0;32m     29\u001b[0m         \u001b[0mavg_cost\u001b[0m \u001b[1;33m+=\u001b[0m \u001b[0mc\u001b[0m\u001b[1;33m/\u001b[0m\u001b[0mtotal_batch\u001b[0m\u001b[1;33m\u001b[0m\u001b[1;33m\u001b[0m\u001b[0m\n\u001b[0;32m     30\u001b[0m \u001b[1;33m\u001b[0m\u001b[0m\n",
      "\u001b[1;32m~\\Anaconda3\\envs\\tf1\\lib\\site-packages\\tensorflow_core\\python\\client\\session.py\u001b[0m in \u001b[0;36mrun\u001b[1;34m(self, fetches, feed_dict, options, run_metadata)\u001b[0m\n\u001b[0;32m    954\u001b[0m     \u001b[1;32mtry\u001b[0m\u001b[1;33m:\u001b[0m\u001b[1;33m\u001b[0m\u001b[1;33m\u001b[0m\u001b[0m\n\u001b[0;32m    955\u001b[0m       result = self._run(None, fetches, feed_dict, options_ptr,\n\u001b[1;32m--> 956\u001b[1;33m                          run_metadata_ptr)\n\u001b[0m\u001b[0;32m    957\u001b[0m       \u001b[1;32mif\u001b[0m \u001b[0mrun_metadata\u001b[0m\u001b[1;33m:\u001b[0m\u001b[1;33m\u001b[0m\u001b[1;33m\u001b[0m\u001b[0m\n\u001b[0;32m    958\u001b[0m         \u001b[0mproto_data\u001b[0m \u001b[1;33m=\u001b[0m \u001b[0mtf_session\u001b[0m\u001b[1;33m.\u001b[0m\u001b[0mTF_GetBuffer\u001b[0m\u001b[1;33m(\u001b[0m\u001b[0mrun_metadata_ptr\u001b[0m\u001b[1;33m)\u001b[0m\u001b[1;33m\u001b[0m\u001b[1;33m\u001b[0m\u001b[0m\n",
      "\u001b[1;32m~\\Anaconda3\\envs\\tf1\\lib\\site-packages\\tensorflow_core\\python\\client\\session.py\u001b[0m in \u001b[0;36m_run\u001b[1;34m(self, handle, fetches, feed_dict, options, run_metadata)\u001b[0m\n\u001b[0;32m   1178\u001b[0m     \u001b[1;32mif\u001b[0m \u001b[0mfinal_fetches\u001b[0m \u001b[1;32mor\u001b[0m \u001b[0mfinal_targets\u001b[0m \u001b[1;32mor\u001b[0m \u001b[1;33m(\u001b[0m\u001b[0mhandle\u001b[0m \u001b[1;32mand\u001b[0m \u001b[0mfeed_dict_tensor\u001b[0m\u001b[1;33m)\u001b[0m\u001b[1;33m:\u001b[0m\u001b[1;33m\u001b[0m\u001b[1;33m\u001b[0m\u001b[0m\n\u001b[0;32m   1179\u001b[0m       results = self._do_run(handle, final_targets, final_fetches,\n\u001b[1;32m-> 1180\u001b[1;33m                              feed_dict_tensor, options, run_metadata)\n\u001b[0m\u001b[0;32m   1181\u001b[0m     \u001b[1;32melse\u001b[0m\u001b[1;33m:\u001b[0m\u001b[1;33m\u001b[0m\u001b[1;33m\u001b[0m\u001b[0m\n\u001b[0;32m   1182\u001b[0m       \u001b[0mresults\u001b[0m \u001b[1;33m=\u001b[0m \u001b[1;33m[\u001b[0m\u001b[1;33m]\u001b[0m\u001b[1;33m\u001b[0m\u001b[1;33m\u001b[0m\u001b[0m\n",
      "\u001b[1;32m~\\Anaconda3\\envs\\tf1\\lib\\site-packages\\tensorflow_core\\python\\client\\session.py\u001b[0m in \u001b[0;36m_do_run\u001b[1;34m(self, handle, target_list, fetch_list, feed_dict, options, run_metadata)\u001b[0m\n\u001b[0;32m   1357\u001b[0m     \u001b[1;32mif\u001b[0m \u001b[0mhandle\u001b[0m \u001b[1;32mis\u001b[0m \u001b[1;32mNone\u001b[0m\u001b[1;33m:\u001b[0m\u001b[1;33m\u001b[0m\u001b[1;33m\u001b[0m\u001b[0m\n\u001b[0;32m   1358\u001b[0m       return self._do_call(_run_fn, feeds, fetches, targets, options,\n\u001b[1;32m-> 1359\u001b[1;33m                            run_metadata)\n\u001b[0m\u001b[0;32m   1360\u001b[0m     \u001b[1;32melse\u001b[0m\u001b[1;33m:\u001b[0m\u001b[1;33m\u001b[0m\u001b[1;33m\u001b[0m\u001b[0m\n\u001b[0;32m   1361\u001b[0m       \u001b[1;32mreturn\u001b[0m \u001b[0mself\u001b[0m\u001b[1;33m.\u001b[0m\u001b[0m_do_call\u001b[0m\u001b[1;33m(\u001b[0m\u001b[0m_prun_fn\u001b[0m\u001b[1;33m,\u001b[0m \u001b[0mhandle\u001b[0m\u001b[1;33m,\u001b[0m \u001b[0mfeeds\u001b[0m\u001b[1;33m,\u001b[0m \u001b[0mfetches\u001b[0m\u001b[1;33m)\u001b[0m\u001b[1;33m\u001b[0m\u001b[1;33m\u001b[0m\u001b[0m\n",
      "\u001b[1;32m~\\Anaconda3\\envs\\tf1\\lib\\site-packages\\tensorflow_core\\python\\client\\session.py\u001b[0m in \u001b[0;36m_do_call\u001b[1;34m(self, fn, *args)\u001b[0m\n\u001b[0;32m   1363\u001b[0m   \u001b[1;32mdef\u001b[0m \u001b[0m_do_call\u001b[0m\u001b[1;33m(\u001b[0m\u001b[0mself\u001b[0m\u001b[1;33m,\u001b[0m \u001b[0mfn\u001b[0m\u001b[1;33m,\u001b[0m \u001b[1;33m*\u001b[0m\u001b[0margs\u001b[0m\u001b[1;33m)\u001b[0m\u001b[1;33m:\u001b[0m\u001b[1;33m\u001b[0m\u001b[1;33m\u001b[0m\u001b[0m\n\u001b[0;32m   1364\u001b[0m     \u001b[1;32mtry\u001b[0m\u001b[1;33m:\u001b[0m\u001b[1;33m\u001b[0m\u001b[1;33m\u001b[0m\u001b[0m\n\u001b[1;32m-> 1365\u001b[1;33m       \u001b[1;32mreturn\u001b[0m \u001b[0mfn\u001b[0m\u001b[1;33m(\u001b[0m\u001b[1;33m*\u001b[0m\u001b[0margs\u001b[0m\u001b[1;33m)\u001b[0m\u001b[1;33m\u001b[0m\u001b[1;33m\u001b[0m\u001b[0m\n\u001b[0m\u001b[0;32m   1366\u001b[0m     \u001b[1;32mexcept\u001b[0m \u001b[0merrors\u001b[0m\u001b[1;33m.\u001b[0m\u001b[0mOpError\u001b[0m \u001b[1;32mas\u001b[0m \u001b[0me\u001b[0m\u001b[1;33m:\u001b[0m\u001b[1;33m\u001b[0m\u001b[1;33m\u001b[0m\u001b[0m\n\u001b[0;32m   1367\u001b[0m       \u001b[0mmessage\u001b[0m \u001b[1;33m=\u001b[0m \u001b[0mcompat\u001b[0m\u001b[1;33m.\u001b[0m\u001b[0mas_text\u001b[0m\u001b[1;33m(\u001b[0m\u001b[0me\u001b[0m\u001b[1;33m.\u001b[0m\u001b[0mmessage\u001b[0m\u001b[1;33m)\u001b[0m\u001b[1;33m\u001b[0m\u001b[1;33m\u001b[0m\u001b[0m\n",
      "\u001b[1;32m~\\Anaconda3\\envs\\tf1\\lib\\site-packages\\tensorflow_core\\python\\client\\session.py\u001b[0m in \u001b[0;36m_run_fn\u001b[1;34m(feed_dict, fetch_list, target_list, options, run_metadata)\u001b[0m\n\u001b[0;32m   1348\u001b[0m       \u001b[0mself\u001b[0m\u001b[1;33m.\u001b[0m\u001b[0m_extend_graph\u001b[0m\u001b[1;33m(\u001b[0m\u001b[1;33m)\u001b[0m\u001b[1;33m\u001b[0m\u001b[1;33m\u001b[0m\u001b[0m\n\u001b[0;32m   1349\u001b[0m       return self._call_tf_sessionrun(options, feed_dict, fetch_list,\n\u001b[1;32m-> 1350\u001b[1;33m                                       target_list, run_metadata)\n\u001b[0m\u001b[0;32m   1351\u001b[0m \u001b[1;33m\u001b[0m\u001b[0m\n\u001b[0;32m   1352\u001b[0m     \u001b[1;32mdef\u001b[0m \u001b[0m_prun_fn\u001b[0m\u001b[1;33m(\u001b[0m\u001b[0mhandle\u001b[0m\u001b[1;33m,\u001b[0m \u001b[0mfeed_dict\u001b[0m\u001b[1;33m,\u001b[0m \u001b[0mfetch_list\u001b[0m\u001b[1;33m)\u001b[0m\u001b[1;33m:\u001b[0m\u001b[1;33m\u001b[0m\u001b[1;33m\u001b[0m\u001b[0m\n",
      "\u001b[1;32m~\\Anaconda3\\envs\\tf1\\lib\\site-packages\\tensorflow_core\\python\\client\\session.py\u001b[0m in \u001b[0;36m_call_tf_sessionrun\u001b[1;34m(self, options, feed_dict, fetch_list, target_list, run_metadata)\u001b[0m\n\u001b[0;32m   1441\u001b[0m     return tf_session.TF_SessionRun_wrapper(self._session, options, feed_dict,\n\u001b[0;32m   1442\u001b[0m                                             \u001b[0mfetch_list\u001b[0m\u001b[1;33m,\u001b[0m \u001b[0mtarget_list\u001b[0m\u001b[1;33m,\u001b[0m\u001b[1;33m\u001b[0m\u001b[1;33m\u001b[0m\u001b[0m\n\u001b[1;32m-> 1443\u001b[1;33m                                             run_metadata)\n\u001b[0m\u001b[0;32m   1444\u001b[0m \u001b[1;33m\u001b[0m\u001b[0m\n\u001b[0;32m   1445\u001b[0m   \u001b[1;32mdef\u001b[0m \u001b[0m_call_tf_sessionprun\u001b[0m\u001b[1;33m(\u001b[0m\u001b[0mself\u001b[0m\u001b[1;33m,\u001b[0m \u001b[0mhandle\u001b[0m\u001b[1;33m,\u001b[0m \u001b[0mfeed_dict\u001b[0m\u001b[1;33m,\u001b[0m \u001b[0mfetch_list\u001b[0m\u001b[1;33m)\u001b[0m\u001b[1;33m:\u001b[0m\u001b[1;33m\u001b[0m\u001b[1;33m\u001b[0m\u001b[0m\n",
      "\u001b[1;31mKeyboardInterrupt\u001b[0m: "
     ]
    }
   ],
   "source": [
    "########## Tensor graph 작성\n",
    "\n",
    "# 입력데이터 준비 (L를 4차원에서 2차원으로) / 정답(y)는 위에서 작업해놨구요\n",
    "L2 = tf.reshape(L2, [-1, 7*7*64])\n",
    "\n",
    "# 가설준비\n",
    "W3 = tf.Variable(tf.random_normal([7*7*64, 10]))\n",
    "b = tf.Variable(tf.random_normal([10]))\n",
    "\n",
    "### 비용 함수 ###\n",
    "logit = tf.matmul(L2, W3) + b\n",
    "cost = tf.reduce_mean(tf.nn.softmax_cross_entropy_with_logits(logits=logit, labels=y))\n",
    "\n",
    "### 최소비용 계산 ###\n",
    "train = tf.train.AdamOptimizer(learning_rate=learning_rate).minimize(cost)\n",
    "\n",
    "########## Tensor graph 실행\n",
    "\n",
    "sess = tf.Session()\n",
    "sess.run(tf.global_variables_initializer())\n",
    "\n",
    "for epoch in range(training_epochs):\n",
    "    total_batch = int(mnist.train.num_examples / batch_size)\n",
    "    avg_cost = 0\n",
    "    \n",
    "    for i in range(total_batch):\n",
    "        batch_xs, batch_xy = mnist.train.next_batch(batch_size)\n",
    "        _, c = sess.run([train, cost], feed_dict={X:batch_xs, y:batch_xy})\n",
    "        avg_cost += c/total_batch\n",
    "    \n",
    "#     print(\"Epoch :\", \"%04d\"%(epoch+1), \"cost :\", \"{:.9f}\".format(avg_cost))\n",
    "        \n"
   ]
  },
  {
   "cell_type": "code",
   "execution_count": 14,
   "metadata": {},
   "outputs": [
    {
     "name": "stdout",
     "output_type": "stream",
     "text": [
      "정확도 :  0.9855\n"
     ]
    }
   ],
   "source": [
    "# 정확도 확인\n",
    "correct_pred = tf.equal(tf.argmax(logit, 1), tf.argmax(y, 1))\n",
    "accuracy = tf.reduce_mean(tf.cast(correct_pred, tf.float32))\n",
    "print(\"정확도 : \", sess.run(accuracy, feed_dict={X:mnist.test.images, y:mnist.test.labels}))\n",
    "sess.close()"
   ]
  },
  {
   "cell_type": "markdown",
   "metadata": {},
   "source": [
    "\n",
    "\n",
    "### CNN 실습예제_교통표지판\n",
    "\n",
    "\n",
    "    http://benchmark.ini.rub.de/?section=gtsrb&subsection=dataset\n",
    "    GTSRB_Final_Test_Images.zip\n",
    "    GTSRB_Final_Training_Images.zip 다운로드\n",
    "    \n",
    "#### Image format\n",
    "    Images are stored in PPM format (Portable Pixmap, P6)\n",
    "\n",
    "    Image sizes vary between 15x15 to 250x250 pixels\n",
    "\n",
    "       "
   ]
  },
  {
   "cell_type": "markdown",
   "metadata": {},
   "source": [
    "### 이미지전처리 준비\n",
    "    \n",
    "    Convolution Layer1 → Max Pooling → Convolution Layer2 →Max Pooling →FC(Fully Connected)"
   ]
  },
  {
   "cell_type": "code",
   "execution_count": 10,
   "metadata": {},
   "outputs": [],
   "source": [
    "import glob # 동시에 여러 폴더(or)파일을 불러오기 위한 패키지\n",
    "from skimage.color import rgb2lab # RGB를 간단한 색상으로 바꿔주는 패키지\n",
    "from skimage.transform import resize # 이미지 사이즈 변경해주는 패키지\n",
    "from collections import namedtuple # 뭐욤?\n",
    "\n",
    "np.random.seed(101)"
   ]
  },
  {
   "cell_type": "code",
   "execution_count": 11,
   "metadata": {},
   "outputs": [],
   "source": [
    "# 절대 변하면 안되는 상수 값들을 전부 고정값으로 표시해두기(ex. 표지판클래스 개수 43개)\n",
    "N_CLASS = 43\n",
    "RESIZED_IMAGE = (32, 32)\n",
    "\n",
    "Dataset = namedtuple(\"Dataset\", [\"X\", \"y\"])"
   ]
  },
  {
   "cell_type": "code",
   "execution_count": 12,
   "metadata": {},
   "outputs": [],
   "source": [
    "#데이터 불러오기 & 전처리\n",
    "# X데이터 차원 조정하는 함수\n",
    "def to_tf_format(imgs):\n",
    "    # imgs : 리스트형식 데이터 받아와찌\n",
    "    # np.stack() : 차원과 차원을 합쳐서 다차원으로 만들어주는 놈\n",
    "    return np.stack([img[:, :, np.newaxis] for img in imgs]).astype(np.float32)\n",
    "\n",
    "# read_dataset_ppm(경로, 클래스(폴더)개수, 조정할사이즈)\n",
    "def read_dataset_ppm(roofpath, n_labels, resize_to):\n",
    "    images, labels = [], []\n",
    "    \n",
    "    for c in range(n_labels):\n",
    "        full_path = roofpath + \"/\" + format(c, \"05d\") + \"/\" # 0~42(range(n_labels))의 값을 5자리로 양식화해 경로지정\n",
    "        \n",
    "        for img_name in glob.glob(full_path+\"*.ppm\"): # 위에서 만든 경로의 확장자가 ppm인 모든 파일 불러옴\n",
    "            # plt.imshow(숫자) : 숫자를 이미지화해서 보여줌\n",
    "            # plt.imread(이미지데이터) : 이미지를 숫자화해서 보여줌\n",
    "            img = plt.imread(img_name).astype(np.float32)\n",
    "            \n",
    "            img = rgb2lab(img/255.0)[:, :, 0] # [:, :, 0] 뭔소리야 이게\n",
    "            \n",
    "            if resize_to: # 이미지 사이즈 변환\n",
    "                img = resize(img, resize_to)\n",
    "            \n",
    "            # Labeling\n",
    "            ## one-hot encoding을 할껀데요\n",
    "            ## 43개 중에 1번째면 100000000.....\n",
    "            ## 43개 중에 2번째면 010000000.....\n",
    "            label = np.zeros((n_labels), dtype=np.float) # 일단 카테고리 43개에 0을 채워놓구요\n",
    "            label[c] = 1.0 # 각 카테고리 위치에 one-hot을 주는겁니다\n",
    "            \n",
    "            # 이제 각 변수에 값을 넣어줍시다\n",
    "            images.append(img.astype(np.float32))\n",
    "            labels.append(label)\n",
    "    \n",
    "    # 이후 작업에서 편하게 쓰기 위해서 차원도 미치 X는 4처원 y는 2차원으로 맞춰둡시다\n",
    "    return Dataset(X=to_tf_format(images), y=np.matrix(labels).astype(np.float32))\n"
   ]
  },
  {
   "cell_type": "code",
   "execution_count": 13,
   "metadata": {},
   "outputs": [],
   "source": [
    "dataset = read_dataset_ppm(\"GTSRB/Final_Training/Images\", N_CLASS, RESIZED_IMAGE)\n",
    "\n",
    "# 이 인자들이 (\"경로\", 43, (32,32))라면 나중 혹 타인이 43, (32,32) 숫자가 무슨 의미인지, 왜 그 값인지 알 기 어렵ㅇㅇ\n",
    "# 그래서 위에서 상수값을 변수로 고정한거\n",
    "\n",
    "# print(dataset.X.shape) # (39209, 32, 32, 1) 4차원~~~~~~\n",
    "# print(dataset.y.shape) # (39209, 43) 2차원~~~~"
   ]
  },
  {
   "cell_type": "markdown",
   "metadata": {},
   "source": [
    "### 데이터 확인"
   ]
  },
  {
   "cell_type": "code",
   "execution_count": 14,
   "metadata": {},
   "outputs": [
    {
     "name": "stdout",
     "output_type": "stream",
     "text": [
      "[[0. 0. 0. 0. 0. 0. 0. 0. 0. 0. 0. 0. 0. 0. 0. 0. 0. 0. 0. 0. 0. 0. 0. 0.\n",
      "  0. 0. 0. 0. 0. 0. 0. 0. 0. 0. 0. 0. 0. 0. 0. 0. 0. 0. 1.]]\n"
     ]
    },
    {
     "data": {
      "image/png": "[encoded data removed]",
      "text/plain": [
       "<Figure size 432x288 with 1 Axes>"
      ]
     },
     "metadata": {
      "needs_background": "light"
     },
     "output_type": "display_data"
    }
   ],
   "source": [
    "plt.imshow(dataset.X[-1, :, :, :].reshape(RESIZED_IMAGE))\n",
    "print(dataset.y[-1, :])"
   ]
  },
  {
   "cell_type": "markdown",
   "metadata": {},
   "source": [
    "#### 훈련용 데이터 & 테스트 데이터 분리"
   ]
  },
  {
   "cell_type": "code",
   "execution_count": 15,
   "metadata": {},
   "outputs": [],
   "source": [
    "from sklearn.model_selection import train_test_split\n",
    "\n",
    "idx_train, idx_test = train_test_split(range(dataset.X.shape[0]), test_size=0.25, random_state=101)\n",
    "# 이전에는 데이터를 4개변수에 담았는데 지금은 2개에 인덱스를 담은 이유는\n",
    "# X는 4차원. y는 2차원이니까 4개변수에 담아오면 또 차원을 일일이 맞춰줘야하니꽈\n",
    "\n",
    "X_train = dataset.X[idx_train, :, :, :] # (29406, 32, 32, 1)\n",
    "X_test =  dataset.X[idx_test, :, :, :] # (9803, 32, 32, 1)\n",
    "y_train = dataset.y[idx_train, :] # (29406, 43)\n",
    "y_test = dataset.y[idx_test, :] # (9803, 43)"
   ]
  },
  {
   "cell_type": "markdown",
   "metadata": {},
   "source": [
    "#### 모델 훈련 & 예측_함수로 준비"
   ]
  },
  {
   "cell_type": "code",
   "execution_count": 16,
   "metadata": {},
   "outputs": [],
   "source": [
    "# 전체 데이터를 원하는 크기로 나눠서 훈련할 수 있게 만드는 함수\n",
    "# minibatcher(훈련데이터, 훈련정답, 나눌사이즈, 데이터의 순서를 섞느냐 마느냐):\n",
    "def minibatcher(X, y, batch_size, shuffle):\n",
    "    assert X.shape[0] == y.shape[0]\n",
    "    # → 예외처리 / 단위테스트 / 디버깅(개발중인)모드에서 이 조건이 맞지 않으면 에러를 띄움\n",
    "    # → 실제 배포시에는 지워줘야하는 코드\n",
    "    \n",
    "    n_samples = X.shape[0] # X의 갯수를 받아놓고요\n",
    "    \n",
    "    if shuffle: # 어차피 받아온 값이 불린이니까 연산자 안썼음 ㅇㅇ\n",
    "        idx = np.random.permutation(n_samples) # X갯수 받은거를 순서를 섞어서 인덱스 저장\n",
    "    else:\n",
    "        idx = list(range(n_samples)) # X갯수를 순서대로 인덱스 저장\n",
    "    \n",
    "    for k in range(int(np.ceil(n_samples/batch_size))): # 29406/10000을 반올림X, 올림으로 > range(3)\n",
    "        from_idx = k * batch_size\n",
    "        to_idx = (k+1) * batch_size\n",
    "        yield X[idx[from_idx:to_idx], :, :, :], y[idx[from_idx:to_idx], :] # 작업이 안정적으로 되도록 한거라는데 어떤 부분에서 안정적으로 처리한다는 건지 못들음 ㅇㅋ;;\n",
    "        # X, y데이터를 끊어서 작업해서 함수를 호출하는 순간 10000씩 끊어진다고... 머라고.... 왓....."
   ]
  },
  {
   "cell_type": "code",
   "execution_count": 17,
   "metadata": {},
   "outputs": [
    {
     "name": "stdout",
     "output_type": "stream",
     "text": [
      "(10000, 32, 32, 1) (10000, 43)\n",
      "(10000, 32, 32, 1) (10000, 43)\n",
      "(9406, 32, 32, 1) (9406, 43)\n"
     ]
    }
   ],
   "source": [
    "for nb in minibatcher(X_train, y_train, 10000, True):\n",
    "    print(nb[0].shape, nb[1].shape)"
   ]
  },
  {
   "cell_type": "markdown",
   "metadata": {},
   "source": [
    "#### Fully Connected Layer\n",
    "    - W, b : 고정 값\n",
    "    - hypothesis, cost, train : 변동 가능\n",
    "        → 그니까 두개를 따로 모듈화합니다 ㅇㅇ"
   ]
  },
  {
   "cell_type": "code",
   "execution_count": 18,
   "metadata": {},
   "outputs": [],
   "source": [
    "# 가설 준비하는 함수\n",
    "def fc_nn_activation_layer(in_tensors, n_units):\n",
    "    W = tf.get_variable(\"fc_W\", [in_tensors.get_shape()[1], n_units], tf.float32, tf.contrib.layers.xavier_initializer())\n",
    "    b = tf.get_variable(\"fc_b\",[n_units], tf.float32, tf.constant_initializer(0.0))\n",
    "    # → in_tensor는 3차원(?)이니까 크기를 갖고오기 위해서 in_tensor.get_shape()[1] 요렇게\n",
    "    # → n_units 요거는 걍 원래도 갯수를 가져올꺼라서 그냥 넣을거임 ㅇㅋ?\n",
    "    return tf.matmul(in_tensors, W) + b\n",
    "\n",
    "# 액티베이션 펑션 준비하는 함수\n",
    "def fc_layer(is_tensors, n_units):\n",
    "    return tf.nn.leaky_relu(fc_nn_activation_layer(is_tensors, n_units)) # 나중에 액티베이션 펑션을 바꾸고싶으면 리턴 부분만 바꿔주면 되니까~"
   ]
  },
  {
   "cell_type": "markdown",
   "metadata": {},
   "source": [
    "#### Convolution Layer\n",
    "\n",
    "    (convoultion layer → relu → Max Pooling → Drop Out)  이게 한 세트가 된다.  Dropdout은 주로 선택이고\n",
    "    "
   ]
  },
  {
   "cell_type": "code",
   "execution_count": 31,
   "metadata": {},
   "outputs": [],
   "source": [
    "def conv_layer(in_tensors, kernel_size, n_units):\n",
    "    W = tf.get_variable(\"conv_W\", [kernel_size, kernel_size, in_tensors.get_shape()[3], n_units],\n",
    "                        tf.float32, tf.contrib.layers.xavier_initializer())\n",
    "    # [가로, 세로, 이전데이터에서입력받을갯수, 이미지갯수]\n",
    "    b = tf.get_variable(\"conv_b\", [n_units], tf.float32, tf.constant_initializer(0.0))\n",
    "    return tf.nn.leaky_relu(tf.nn.conv2d(in_tensors, W, [1, 1, 1, 1], \"SAME\"))\n",
    "\n",
    "\n",
    "def maxpool_layer(in_tensors, sampling):\n",
    "    return tf.nn.max_pool(in_tensors, [1, sampling, sampling, 1], [1, sampling, sampling, 1], \"SAME\")\n",
    "\n",
    "def dropout(in_tensors, keep_prob, is_training):\n",
    "    # is_training : True, False 값  True면 훈련중, False면 테스트 \n",
    "    return tf.cond(is_training, lambda:tf.nn.dropout(in_tensors, keep_prob), lambda:in_tensors)\n",
    "\n",
    "\n",
    "# cond(is_trianing, True, False)  로 넘겨줄 예정이다. \n",
    "# 첫번째 lambda는 True라면 실행  True라는게 훈련중이므로 dropout을 하기 때문에 keep_prob를 넘겨준다. \n",
    "# 두번째 lambda는 False라면 실행인데 False는 테스트 이므로 \n",
    "#      dropout을 실행시키지 말고 그냥 넘길것이기 때문에 in_tensors만 보냄"
   ]
  },
  {
   "cell_type": "markdown",
   "metadata": {},
   "source": [
    "### summary\n",
    "\n",
    "    위 코드들 요약\n",
    "\n",
    "    - convolution 1 (5*5, 32개 필터) 사용\n",
    "    - convolution 2 (5*5  64개 필터) 사용\n",
    "    \n",
    "    - FC : 출력 1024 개 unit을 사용\n",
    "    - Dropout : 60%만 가지고 훈련 (40%는 버리고)\n",
    "    - Activation Function : softmax\n",
    "    \n",
    "    \n",
    "    나중에 만들 때 이렇게 스펙을 정리해놔야 설명하기 좋다.\n",
    "    \n",
    "    "
   ]
  },
  {
   "cell_type": "code",
   "execution_count": 36,
   "metadata": {},
   "outputs": [],
   "source": [
    "# 위에서 만든 코드들을 네트워크 구성\n",
    "\n",
    "\n",
    "def model(in_tensors, is_training) : \n",
    "    # ----1st conv layer : 5*5, 32 filter, 2x maxpool, 20% drop out\n",
    "    with tf.variable_scope(\"L1\") :\n",
    "        l1 = maxpool_layer(conv_layer(in_tensors, 5, 32), 2)\n",
    "        l1_out = dropout(l1, 0.8, is_training)\n",
    "        \n",
    "    # ---- 2nd conv layer : 5*5, 64 filter, 2x maxpool, 20% drop out\n",
    "    with tf.variable_scope(\"L2\") :\n",
    "        l2 = maxpool_layer(conv_layer(l1_out, 5, 64), 2)\n",
    "        l2_out = dropout(l2, 0.8, is_training)\n",
    "\n",
    "    # 평면화     \n",
    "    with tf.variable_scope(\"flatten\") :\n",
    "        l2_out_flat = tf.layers.flatten(l2_out)\n",
    "    \n",
    "    # FC : 1024 neurons, 40% drop dout\n",
    "    with tf.variable_scope(\"L3\") :\n",
    "        l3 = fc_layer(l2_out_flat, 1024)\n",
    "        l3_out = dropout(l3, 0.6, is_training)\n",
    "    \n",
    "    # output (출력계층)    \n",
    "    with tf.variable_scope(\"out\") :\n",
    "        out_tensors = fc_nn_activation_layer(l3_out, N_CLASS)\n",
    "        \n",
    "    return out_tensors\n",
    "# ↓↓↓↓↓↓↓↓ 설명 ↓↓↓↓↓↓↓↓"
   ]
  },
  {
   "cell_type": "markdown",
   "metadata": {},
   "source": [
    "#### [L1]\n",
    "    \n",
    "    with tf.variable_scope(\"L1\") :            \n",
    "            tf.variable_scope : L1이라는 이름으로 그룹화 하는 것이다. \n",
    "    \n",
    "        l1 = maxpool(conv_layer(in_tensors, 5, 32), 2)\n",
    "            \n",
    "            conv_layer : 우리가 만든 함수는 필터 크기가 [k, k]로 만들었으니까 한 값만 넘겨주면 된다.\n",
    "            maxpool : 위의 conv_layer의 결과값과 필터값을 매개변수로 한다. \n",
    "        \n",
    "        l1_out = dropout(l1, 0.8, is_training)\n",
    "            \n",
    "            우리가 만든 dropout 함수를 사용한다. \n",
    "            dropout : 매개변수는 maxpool한 값, 버릴 비율, is_training은 True False 여부\n",
    "            \n",
    "            \n",
    "    ----------------------------------------------------------\n",
    "    \n",
    "#### [L2]\n",
    "    \n",
    "    l2 방식도 변수만 달라지지 l1과 같은 방식이다. \n",
    "    \n",
    "    l2 = maxpool(conv_layer(l1_out, 5, 64), 2)\n",
    "                            ------\n",
    "        중요한 것은 conv_layer 부분에서 in_tensors를 받아오는게 아니라 \n",
    "        위에서 바꿔놓은 l1_out을 가져와야 한다는 점이다.\n",
    "\n",
    "\n",
    "\n",
    "    -----------------------------------------------------------------------------------------------\n",
    "\n",
    "    여기까지가 전처리작업이다 \n",
    "    \n",
    "    4차원으로 작업했기 때문에  2차원으로 다시 변경해줘야 FC로 넘겨줄 수 있다. \n",
    "    \n",
    "    4차원 -> 2차원으로 하는 작업이 평면화라고 한다. \n",
    "    \n",
    "\n",
    "#### [평면화]\n",
    "\n",
    "    l2_out_flat = tf.layers.flatten(l2_out)\n",
    "        l2의 결과(4차원)를 flatten 함수에 넣어주기만 하면 평면화가 된다. \n",
    "\n",
    "\n",
    "#### [L3]\n",
    "\n",
    "    l3 = fc_layer(l2_out_flat, 1024)\n",
    "    l3_out = dropout(l3, 0.6, is_training)\n",
    "          \n",
    "          \n",
    "          1024인 이유는 \n",
    "          40%만 사용할 것이기 때문에 0.6을 버린다. \n",
    "      \n",
    "\n",
    "#### [최종 output]\n",
    "\n",
    "    out_tensors = fc_nn_activation_layer(l3_out, N_CLASS)  \n",
    "        사용하기 직전의 뭐, 몇개 출력\n",
    "        \n",
    "        그전까진 1024개로 이어왔는데 실제 출력의 갯수를 넘겨 받아야 하기 때문에 \n",
    "        43개를 넘겨 받아야한다.\n",
    "        \n",
    "        위에 상수로 만든 N_CLASSES를 사용한다. \n",
    "            \n",
    "    "
   ]
  },
  {
   "cell_type": "code",
   "execution_count": 38,
   "metadata": {},
   "outputs": [],
   "source": [
    "from sklearn.metrics import classification_report, confusion_matrix\n",
    "\n",
    "# 우리가 실제로 사용할 함수\n",
    "def train_model(X_train, y_train, X_test, y_test, learning_rate, max_epochs, batch_size):\n",
    "    in_X_tensors_batch = tf.placeholder(tf.float32, shape=(None, RESIZED_IMAGE[0], RESIZED_IMAGE[1], 1))\n",
    "    in_y_tensors_batch = tf.placeholder(tf.float32, shape=(None, N_CLASS))\n",
    "    is_training = tf.placeholder(tf.bool)\n",
    "    \n",
    "    logit = model(in_X_tensors_batch, is_training)\n",
    "    out_y_pred =  tf.nn.softmax(logit)\n",
    "    \n",
    "    # cost\n",
    "    loss_score = tf.nn.softmax_cross_entropy_with_logits_v2(logits=logit, labels=in_y_tensors_batch)\n",
    "    loss = tf.reduce_mean(loss_score)\n",
    "    \n",
    "    train = tf.train.AdamOptimizer(learning_rate).minimize(loss)\n",
    "    \n",
    "    \n",
    "    \n",
    "    sess = tf.Session()\n",
    "    sess.run(tf.global_variables_initializer())\n",
    "    \n",
    "    for epochs in range(max_epochs) :\n",
    "        print(\"Epoch : \",epochs)\n",
    "        tf_score = []\n",
    "        \n",
    "        for mb in minibatcher(X_train, y_train, batch_size, True) : \n",
    "            tf_output = sess.run([train, loss], feed_dict={in_X_tensors_batch:mb[0], \n",
    "                                                         in_y_tensors_batch:mb[1],\n",
    "                                                        is_training:True})\n",
    "            \n",
    "            \n",
    "            tf_score.append(tf_output[1])\n",
    "            \n",
    "        print(\"training_loss_score : \", np.mean(tf_score))\n",
    "        \n",
    "    #TEST\n",
    "    print(\"TEST SET PERFORMANCE\")\n",
    "    y_test_pred, test_loss = sess.run([out_y_pred, loss], feed_dict={in_X_tensors_batch:X_test, \n",
    "                                                         in_y_tensors_batch:y_test,\n",
    "                                                        is_training:False})\n",
    "    \n",
    "    print(\"test_loss_score : \", test_loss)\n",
    "    y_test_pred_classified = np.argmax(y_test_pred, axis = 1).astype(np.int32)\n",
    "    y_test_true_classified = np.argmax(y_test, axis = 1).astype(np.int32)\n",
    "    \n",
    "    print(classification_report(y_test_true_classified, y_test_pred_classified))\n",
    "    "
   ]
  },
  {
   "cell_type": "markdown",
   "metadata": {},
   "source": [
    "    train_model(X_train, y_train, X_test, y_test, 0.001,)\n",
    "    \n",
    "        매개변수 : \n",
    "        훈련용 데이터, 테스트 데이터, learning_rate, 전체 epoch(반복횟수), 배치사이즈\n",
    "        \n",
    "        \n",
    "        - in_X_tensors_batch = tf.placeholder(tf.float32, shape=(None, RESIZED_IMAGE[0], RESIZED_IMAGE[1], 1))\n",
    "            \n",
    "            X값이 될 것  (미리 지정할 수 없으니 placeholder)                        \n",
    "            shape\n",
    "                4차원이 될 것이기 때문에 shape이 4차원이 되어야 한다.\n",
    "                크기가 그런데 32*32쓰는건 상수로 만들어놨으니 RESIZED_IMAGE를 쓴다.\n",
    "                정사각형이면 RESIZED_IMAGE를 써도 되는데 이미지가 직사각형일 수도 있으니\n",
    "                배열 [0][1]번을 써준다. \n",
    "            \n",
    "            \n",
    "        - in_y_tensors_batch = tf.placeholder(tf.float32, shape=(None, N_CLASS))\n",
    "        \n",
    "            y값이 될 것 (미리 지정할 수 없어서 placeholder)\n",
    "            \n",
    "            shape\n",
    "                출력이 43개이므로 미리 만들어둔 상수값으로 써준다. \n",
    "            \n",
    "        - is_training = tf.placeholder(tf.bool)\n",
    "            training 여부 (이것도 미리 지정 아님)\n",
    "            bool값이 들어가므로 tf.bool을 이용한다. \n",
    "            \n",
    "        - logit = model(in_X_tensors_batch, is_training)\n",
    "            우리가 만든 model함수 사용\n",
    "            X값, training 여부를 넘겨준다. \n",
    "        \n",
    "        - out_y_pred =  tf.nn.softmax(logit)\n",
    "        \n",
    "        - loss_score = tf.nn.softmax_cross_entropy_with_logits_v2(logits=logit, labels=in_y_tensors_batch)\n",
    "        \n",
    "            v2가 권장사항이다. \n",
    "            평소에 cost라는 변수명으로 썼던 그것이다. \n",
    "            \n",
    "        - loss = tf.reduce_mean(loss_score)\n",
    "            loss_score에서 바로 평균내도 됐지만 너무 길어져서 따로 만듬\n",
    "        \n",
    "        \n",
    "        - train = tf.train.AdamOptimizer(learning_rate).minimize(loss)\n",
    "        \n",
    "        \n",
    "        \n",
    "        - for mb in minibatcher(X_train, y_train, batch_size, True) : \n",
    "            tf_output = sess.run([train, loss], feed_dict={in_X_tensors_batch:mb[0], \n",
    "                                                         in_y_tensors_batch:mb[1],\n",
    "                                                         is_training:True})\n",
    "            \n",
    "                in_X_tensors_batch[0] : 첫번째 값을 가져와야한다.\n",
    "                \n",
    "                is_training : 현재 훈련중이니까 True로 넘겨준다. \n",
    "        \n",
    "        \n",
    "            tf_score.append(tf_output[1])  \n",
    "                1번째가 cost이다. 평균을 내기위해 한 list로 모아둔다.\n",
    "        \n",
    "        \n",
    "       "
   ]
  },
  {
   "cell_type": "code",
   "execution_count": 39,
   "metadata": {},
   "outputs": [
    {
     "name": "stdout",
     "output_type": "stream",
     "text": [
      "Epoch :  0\n",
      "training_loss_score :  3.90862\n",
      "Epoch :  1\n",
      "training_loss_score :  0.6258551\n",
      "Epoch :  2\n",
      "training_loss_score :  0.31595212\n",
      "Epoch :  3\n",
      "training_loss_score :  0.20409803\n",
      "Epoch :  4\n",
      "training_loss_score :  0.15152648\n",
      "Epoch :  5\n",
      "training_loss_score :  0.11584053\n",
      "Epoch :  6\n",
      "training_loss_score :  0.09897056\n",
      "Epoch :  7\n",
      "training_loss_score :  0.07745737\n",
      "Epoch :  8\n",
      "training_loss_score :  0.07683411\n",
      "Epoch :  9\n",
      "training_loss_score :  0.06729703\n",
      "TEST SET PERFORMANCE\n",
      "test_loss_score :  0.05541778\n",
      "              precision    recall  f1-score   support\n",
      "\n",
      "           0       1.00      0.79      0.88        67\n",
      "           1       0.94      0.99      0.97       539\n",
      "           2       0.98      0.99      0.99       558\n",
      "           3       0.98      0.98      0.98       364\n",
      "           4       1.00      0.99      0.99       487\n",
      "           5       0.98      0.97      0.98       479\n",
      "           6       1.00      0.97      0.99       105\n",
      "           7       0.99      0.99      0.99       364\n",
      "           8       1.00      0.99      0.99       340\n",
      "           9       0.99      1.00      0.99       384\n",
      "          10       1.00      0.98      0.99       513\n",
      "          11       0.99      0.99      0.99       334\n",
      "          12       1.00      0.99      1.00       545\n",
      "          13       1.00      1.00      1.00       537\n",
      "          14       0.99      1.00      1.00       213\n",
      "          15       0.99      0.99      0.99       164\n",
      "          16       1.00      1.00      1.00        98\n",
      "          17       1.00      1.00      1.00       281\n",
      "          18       0.99      1.00      0.99       286\n",
      "          19       1.00      0.98      0.99        56\n",
      "          20       1.00      0.95      0.97        78\n",
      "          21       0.98      1.00      0.99        95\n",
      "          22       1.00      1.00      1.00        97\n",
      "          23       0.98      1.00      0.99       123\n",
      "          24       0.99      1.00      0.99        77\n",
      "          25       0.98      1.00      0.99       401\n",
      "          26       0.98      1.00      0.99       135\n",
      "          27       0.97      0.95      0.96        60\n",
      "          28       1.00      0.99      1.00       123\n",
      "          29       0.99      1.00      0.99        69\n",
      "          30       1.00      0.95      0.97       115\n",
      "          31       0.99      0.99      0.99       178\n",
      "          32       0.93      1.00      0.96        55\n",
      "          33       1.00      0.99      1.00       177\n",
      "          34       0.99      0.99      0.99       103\n",
      "          35       1.00      0.98      0.99       277\n",
      "          36       1.00      1.00      1.00        78\n",
      "          37       1.00      0.98      0.99        63\n",
      "          38       1.00      0.99      1.00       540\n",
      "          39       1.00      1.00      1.00        60\n",
      "          40       0.96      0.96      0.96        85\n",
      "          41       1.00      1.00      1.00        47\n",
      "          42       1.00      1.00      1.00        53\n",
      "\n",
      "    accuracy                           0.99      9803\n",
      "   macro avg       0.99      0.98      0.99      9803\n",
      "weighted avg       0.99      0.99      0.99      9803\n",
      "\n"
     ]
    }
   ],
   "source": [
    "tf.reset_default_graph()\n",
    "train_model(X_train, y_train, X_test, y_test, 0.001, 10, 256)  #실제 코드 실행"
   ]
  },
  {
   "cell_type": "code",
   "execution_count": 41,
   "metadata": {},
   "outputs": [],
   "source": [
    "# cm = confusion_matrix(y_test_true_classified, y_test_pred_classified)\n",
    "\n",
    "# plt.imshow(cm, interpolation=\"nearest\", cmap=plt.cm.Blues)\n",
    "# plt.colorbar()\n",
    "# plt.tight_layout()\n",
    "\n",
    "# netsong7 [11:40]\n",
    "# plt.imshow(np.log2(cm+1), interpolation=\"nearest\", cmap=plt.get_cmap(\"tab20\"))\n",
    "# plt.colorbar()\n",
    "# plt.tight_layout()"
   ]
  },
  {
   "cell_type": "code",
   "execution_count": null,
   "metadata": {},
   "outputs": [],
   "source": []
  },
  {
   "cell_type": "code",
   "execution_count": null,
   "metadata": {},
   "outputs": [],
   "source": []
  }
 ],
 "metadata": {
  "kernelspec": {
   "display_name": "Python 3",
   "language": "python",
   "name": "python3"
  },
  "language_info": {
   "codemirror_mode": {
    "name": "ipython",
    "version": 3
   },
   "file_extension": ".py",
   "mimetype": "text/x-python",
   "name": "python",
   "nbconvert_exporter": "python",
   "pygments_lexer": "ipython3",
   "version": "3.7.6"
  }
 },
 "nbformat": 4,
 "nbformat_minor": 4
}

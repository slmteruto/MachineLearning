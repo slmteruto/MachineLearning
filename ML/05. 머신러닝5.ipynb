{
 "cells": [
  {
   "cell_type": "code",
   "execution_count": 1,
   "metadata": {},
   "outputs": [
    {
     "name": "stderr",
     "output_type": "stream",
     "text": [
      "C:\\Users\\acorn\\Anaconda3\\lib\\site-packages\\sklearn\\externals\\six.py:31: DeprecationWarning: The module is deprecated in version 0.21 and will be removed in version 0.23 since we've dropped support for Python 2.7. Please rely on the official version of six (https://pypi.org/project/six/).\n",
      "  \"(https://pypi.org/project/six/).\", DeprecationWarning)\n",
      "C:\\Users\\acorn\\Anaconda3\\lib\\site-packages\\sklearn\\externals\\joblib\\__init__.py:15: DeprecationWarning: sklearn.externals.joblib is deprecated in 0.21 and will be removed in 0.23. Please import this functionality directly from joblib, which can be installed with: pip install joblib. If this warning is raised when loading pickled models, you may need to re-serialize those models with scikit-learn 0.21+.\n",
      "  warnings.warn(msg, category=DeprecationWarning)\n"
     ]
    }
   ],
   "source": [
    "import pandas as pd\n",
    "import numpy as np\n",
    "import matplotlib.pyplot as plt\n",
    "import seaborn as sns\n",
    "import matplotlib as mpl\n",
    "\n",
    "\n",
    "import mglearn\n",
    "import matplotlib.font_manager as fm\n",
    "font_name = fm.FontProperties(fname=\"C:/Windows/Fonts/malgun.ttf\").get_name()    \n",
    "# 한글폰트가 기본적으로 없다.  그래서 따로 등록해서 사용하면 됨\n",
    "font_name\n",
    "#(c\\windows\\fonts  가 기본폰트)\n",
    "\n",
    "plt.rc('font', family=font_name)\n",
    "\n",
    "# - 마이너스 표시도 깨진다.\n",
    "mpl.rcParams[\"axes.unicode_minus\"]=False    #마이너스를 문자로 쓰지 않고 숫자로 쓰겠다. 라는 뜻\n",
    "\n",
    "\n",
    "import mglearn\n"
   ]
  },
  {
   "cell_type": "markdown",
   "metadata": {},
   "source": [
    "# Naive Bayes\n",
    "\n",
    "    확률의 곱의 법칙\n",
    "    \n",
    "    어떤 확률이 발생하기 위해 그 확률이 발생할때 다른 사건 발생확률이 어찌 되는가?\n",
    "    \n",
    "    스팸메일 구별할 때 많이 사용함. \n",
    "    \n",
    "    - 선형모델과 유사(Logistic Regression, LinearSVC...)\n",
    "    - 훈련속도 빠르지만 일반화 성능이 조금 뒤쳐진다. \n",
    "    - 확률로 뭔가를 계산할 때 사용하는 알고리즘\n",
    "    \n",
    "    - 데이터에 따라 알고리즘이 나뉨\n",
    "    \n",
    "        1) 연속적인 데이터일 때 : 가우시안(Gaussian) Naive Bayes\n",
    "        2) 이산적인 데이터일 때 : 베르누이(Bernoulli) Naive Bayes 또는 MultinomialNB\n",
    "    - Alpha 파라미터를 통해 복잡도 조절\n",
    "    \n",
    "    "
   ]
  },
  {
   "cell_type": "markdown",
   "metadata": {},
   "source": [
    "### 참고자료 : 나이브베이즈.pdf\n",
    "\n",
    "    1페이지\n",
    "    \n",
    "        과일 세개 중 바나나 뽑을 확률\n",
    "        과일 세개 중 사과를 뽑을 확률\n",
    "        \n",
    "        p : 어떤 사건이 일어날 확률\n",
    "        \n",
    "        확률의 합 : 별개의 확률\n",
    "        \n",
    "        확률의 곱 : 연속적 일어나거나, 동시에 일어나는 경우        \n",
    "            조건부 확률 : 어떤 사건이 발생할 때 그 안에서 다른 사건이 발생할 확률\n",
    "                1) 비올때 우산이 팔릴 확률  : P(A) * P(B|A)\n",
    "                                                    P(B|A) = P(A B) / P(B)............\n",
    "            \n",
    "            \n",
    "    3페이지\n",
    "        free라는 단어가 들어갔을 때 스팸메일일 가능성이 있다.\n",
    "        \n",
    "        그럴 때 공식들 \n",
    "        \n",
    "    4페이지\n",
    "        10통의 메일중  3통은 스팸메일이다.\n",
    "        free라는 단어는 4통이다.\n",
    "        \n",
    "        free라는 단어가 들어갔어도 스팸은 아니긴 하다.\n",
    "        \n",
    "        확률이 어느정도인지  계산해보면\n",
    "        50%가 나온다.\n",
    "        \n",
    "    \n",
    "        그냥 확률로 계산하면 되는데 이게 머신러닝으로 돌릴만한 일인가?\n",
    "        \n",
    "        맞다.\n",
    "        \n",
    "        \n",
    "        왜냐하면 여기서는 free라는 단어로만 예시를 들었지 실질적으론 여러단어로 계산해야되기 때문이다.\n",
    "        \n",
    "        \n",
    "        \n",
    "    6페이지\n",
    "        \n",
    "        그 와중에 coupon이라는 단어가 들어가면 더 스팸이 연관성에 대해 복잡해지므로\n",
    "        \n",
    "        계산 식이 복잡해진다. \n",
    "        \n",
    "    7페이지 이후\n",
    "        코딩 하는 과정"
   ]
  },
  {
   "cell_type": "markdown",
   "metadata": {},
   "source": [
    "### 실습 1 : iris (연속적인 데이터)\n",
    "### 가우시안 NB 사용\n",
    "\n",
    "\n",
    "연속적이기 때문에 가우시안 NB를 써서 테스트"
   ]
  },
  {
   "cell_type": "code",
   "execution_count": 2,
   "metadata": {},
   "outputs": [],
   "source": [
    "import sklearn\n",
    "from sklearn.model_selection import train_test_split\n",
    "\n",
    "iris = sklearn.datasets.load_iris()\n",
    "\n",
    "# DF화\n",
    "df = pd.DataFrame(iris.data, columns=iris.feature_names)\n",
    "df[\"target\"] = iris.target\n",
    "df.head()\n",
    "\n",
    "X_train, X_test, y_train, y_test = train_test_split(iris.data, iris.target, test_size=0.2)\n"
   ]
  },
  {
   "cell_type": "code",
   "execution_count": 4,
   "metadata": {},
   "outputs": [],
   "source": [
    "from sklearn.naive_bayes import GaussianNB"
   ]
  },
  {
   "cell_type": "code",
   "execution_count": 5,
   "metadata": {},
   "outputs": [
    {
     "data": {
      "text/plain": [
       "GaussianNB(priors=None, var_smoothing=1e-09)"
      ]
     },
     "execution_count": 5,
     "metadata": {},
     "output_type": "execute_result"
    }
   ],
   "source": [
    "# 훈련\n",
    "\n",
    "model1 = GaussianNB()\n",
    "model1.fit(X_train, y_train)"
   ]
  },
  {
   "cell_type": "code",
   "execution_count": 6,
   "metadata": {},
   "outputs": [],
   "source": [
    "pred = model1.predict(X_test)\n"
   ]
  },
  {
   "cell_type": "code",
   "execution_count": 7,
   "metadata": {},
   "outputs": [],
   "source": [
    "# 적합도 검사하기 위한 모듈들 \n",
    "from sklearn.metrics import classification_report, accuracy_score, confusion_matrix "
   ]
  },
  {
   "cell_type": "code",
   "execution_count": 8,
   "metadata": {},
   "outputs": [
    {
     "name": "stdout",
     "output_type": "stream",
     "text": [
      "              precision    recall  f1-score   support\n",
      "\n",
      "           0       1.00      1.00      1.00         9\n",
      "           1       0.75      0.86      0.80         7\n",
      "           2       0.92      0.86      0.89        14\n",
      "\n",
      "    accuracy                           0.90        30\n",
      "   macro avg       0.89      0.90      0.90        30\n",
      "weighted avg       0.91      0.90      0.90        30\n",
      "\n"
     ]
    }
   ],
   "source": [
    "print(classification_report(y_test, pred))"
   ]
  },
  {
   "cell_type": "markdown",
   "metadata": {},
   "source": [
    "    setosan은 잘 구별했다. \n",
    "    정확도만 따지려면 "
   ]
  },
  {
   "cell_type": "code",
   "execution_count": 9,
   "metadata": {},
   "outputs": [
    {
     "data": {
      "text/plain": [
       "0.9"
      ]
     },
     "execution_count": 9,
     "metadata": {},
     "output_type": "execute_result"
    }
   ],
   "source": [
    "accuracy_score(y_test, pred)"
   ]
  },
  {
   "cell_type": "code",
   "execution_count": 10,
   "metadata": {},
   "outputs": [
    {
     "name": "stdout",
     "output_type": "stream",
     "text": [
      "[[ 9  0  0]\n",
      " [ 0  6  1]\n",
      " [ 0  2 12]]\n"
     ]
    }
   ],
   "source": [
    "print(confusion_matrix(y_test, pred))"
   ]
  },
  {
   "cell_type": "markdown",
   "metadata": {},
   "source": [
    "### 실습 2 : 영화데이터 (이산 데이터)\n",
    "### 다항 분포 Naive Bayes  ( Multinomial NB)  :  영화리뷰를 이용한 평가 예측\n",
    "\n"
   ]
  },
  {
   "cell_type": "markdown",
   "metadata": {},
   "source": [
    "    텍스트마이닝을 해야하는 과정이다.\n",
    "    그런데 머신러닝에서 숫자데이터를 써야하는데 모든 단어를 분류해서 카운트를 해야한다. \n",
    "    그 카운트를 통해 분석, 학습하는 것이다.\n",
    "    \n",
    "    우리가 하는 것도 이렇게 해야할지도 모르겠다."
   ]
  },
  {
   "cell_type": "code",
   "execution_count": 20,
   "metadata": {},
   "outputs": [],
   "source": [
    "# 데이터 준비\n",
    "\n",
    "# 훈련용\n",
    "review_list = [\n",
    "                {'movie_review': 'this is great great movie. I will watch again', 'type': 'positive'},\n",
    "                {'movie_review': 'I like this movie', 'type': 'positive'},\n",
    "                {'movie_review': 'amazing movie in this year', 'type': 'positive'},\n",
    "                {'movie_review': 'cool my boyfriend also said the movie is cool', 'type': 'positive'},\n",
    "                {'movie_review': 'awesome of the awesome movie ever', 'type': 'positive'},\n",
    "                {'movie_review': 'shame I wasted money and time', 'type': 'negative'},\n",
    "                {'movie_review': 'regret on this move. I will never never what movie from this director', 'type': 'negative'},\n",
    "                {'movie_review': 'I do not like this movie', 'type': 'negative'},\n",
    "                {'movie_review': 'I do not like actors in this movie', 'type': 'negative'},\n",
    "                {'movie_review': 'boring boring sleeping movie', 'type': 'negative'}\n",
    "             ]\n",
    "\n",
    "df = pd.DataFrame(review_list)\n",
    "df\n",
    "\n",
    "\n",
    "# 테스트용\n",
    "test_feedback_list = [\n",
    "                {'movie_review': 'great great great movie ever', 'type': 'positive'},\n",
    "                {'movie_review': 'I like this amazing movie', 'type': 'positive'},\n",
    "                {'movie_review': 'my boyfriend said great movie ever', 'type': 'positive'},\n",
    "                {'movie_review': 'cool cool cool', 'type': 'positive'},\n",
    "                {'movie_review': 'awesome boyfriend said cool movie ever', 'type': 'positive'},\n",
    "                {'movie_review': 'shame shame shame', 'type': 'negative'},\n",
    "                {'movie_review': 'awesome director shame movie boring movie', 'type': 'negative'},\n",
    "                {'movie_review': 'do not like this movie', 'type': 'negative'},\n",
    "                {'movie_review': 'I do not like this boring movie', 'type': 'negative'},\n",
    "                {'movie_review': 'aweful terrible boring movie', 'type': 'negative'}\n",
    "             ]\n",
    "\n",
    "test_df = pd.DataFrame(test_feedback_list)\n",
    "test_df[\"label\"] = test_df[\"type\"].map({\"positive\":1, \"negative\":0})"
   ]
  },
  {
   "cell_type": "code",
   "execution_count": 13,
   "metadata": {},
   "outputs": [
    {
     "data": {
      "text/html": [
       "<div>\n",
       "<style scoped>\n",
       "    .dataframe tbody tr th:only-of-type {\n",
       "        vertical-align: middle;\n",
       "    }\n",
       "\n",
       "    .dataframe tbody tr th {\n",
       "        vertical-align: top;\n",
       "    }\n",
       "\n",
       "    .dataframe thead th {\n",
       "        text-align: right;\n",
       "    }\n",
       "</style>\n",
       "<table border=\"1\" class=\"dataframe\">\n",
       "  <thead>\n",
       "    <tr style=\"text-align: right;\">\n",
       "      <th></th>\n",
       "      <th>movie_review</th>\n",
       "      <th>type</th>\n",
       "      <th>label</th>\n",
       "    </tr>\n",
       "  </thead>\n",
       "  <tbody>\n",
       "    <tr>\n",
       "      <td>0</td>\n",
       "      <td>this is great great movie. I will watch again</td>\n",
       "      <td>positive</td>\n",
       "      <td>1</td>\n",
       "    </tr>\n",
       "    <tr>\n",
       "      <td>1</td>\n",
       "      <td>I like this movie</td>\n",
       "      <td>positive</td>\n",
       "      <td>1</td>\n",
       "    </tr>\n",
       "    <tr>\n",
       "      <td>2</td>\n",
       "      <td>amazing movie in this year</td>\n",
       "      <td>positive</td>\n",
       "      <td>1</td>\n",
       "    </tr>\n",
       "    <tr>\n",
       "      <td>3</td>\n",
       "      <td>cool my boyfriend also said the movie is cool</td>\n",
       "      <td>positive</td>\n",
       "      <td>1</td>\n",
       "    </tr>\n",
       "    <tr>\n",
       "      <td>4</td>\n",
       "      <td>awesome of the awesome movie ever</td>\n",
       "      <td>positive</td>\n",
       "      <td>1</td>\n",
       "    </tr>\n",
       "    <tr>\n",
       "      <td>5</td>\n",
       "      <td>shame I wasted money and time</td>\n",
       "      <td>negative</td>\n",
       "      <td>0</td>\n",
       "    </tr>\n",
       "    <tr>\n",
       "      <td>6</td>\n",
       "      <td>regret on this move. I will never never what m...</td>\n",
       "      <td>negative</td>\n",
       "      <td>0</td>\n",
       "    </tr>\n",
       "    <tr>\n",
       "      <td>7</td>\n",
       "      <td>I do not like this movie</td>\n",
       "      <td>negative</td>\n",
       "      <td>0</td>\n",
       "    </tr>\n",
       "    <tr>\n",
       "      <td>8</td>\n",
       "      <td>I do not like actors in this movie</td>\n",
       "      <td>negative</td>\n",
       "      <td>0</td>\n",
       "    </tr>\n",
       "    <tr>\n",
       "      <td>9</td>\n",
       "      <td>boring boring sleeping movie</td>\n",
       "      <td>negative</td>\n",
       "      <td>0</td>\n",
       "    </tr>\n",
       "  </tbody>\n",
       "</table>\n",
       "</div>"
      ],
      "text/plain": [
       "                                        movie_review      type  label\n",
       "0      this is great great movie. I will watch again  positive      1\n",
       "1                                  I like this movie  positive      1\n",
       "2                         amazing movie in this year  positive      1\n",
       "3      cool my boyfriend also said the movie is cool  positive      1\n",
       "4                  awesome of the awesome movie ever  positive      1\n",
       "5                      shame I wasted money and time  negative      0\n",
       "6  regret on this move. I will never never what m...  negative      0\n",
       "7                           I do not like this movie  negative      0\n",
       "8                 I do not like actors in this movie  negative      0\n",
       "9                       boring boring sleeping movie  negative      0"
      ]
     },
     "execution_count": 13,
     "metadata": {},
     "output_type": "execute_result"
    }
   ],
   "source": [
    "df[\"label\"] = df[\"type\"].map({\"positive\":1, \"negative\":0})  # map을 쓰면 한번에 바꾸기 용이함\n",
    "\n",
    "df"
   ]
  },
  {
   "cell_type": "code",
   "execution_count": 14,
   "metadata": {},
   "outputs": [],
   "source": [
    "# 훈련 데이터, 테스트 데이터 구분\n",
    "df_x = df[\"movie_review\"]\n",
    "df_y = df[\"label\"]"
   ]
  },
  {
   "cell_type": "code",
   "execution_count": 16,
   "metadata": {},
   "outputs": [
    {
     "data": {
      "text/plain": [
       "array([[0, 1, 0, 0, 0, 0, 0, 0, 0, 0, 0, 0, 0, 2, 0, 1, 0, 0, 0, 1, 0, 0,\n",
       "        0, 0, 0, 0, 0, 0, 0, 0, 1, 0, 0, 1, 0, 1, 0],\n",
       "       [0, 0, 0, 0, 0, 0, 0, 0, 0, 0, 0, 0, 0, 0, 0, 0, 1, 0, 0, 1, 0, 0,\n",
       "        0, 0, 0, 0, 0, 0, 0, 0, 1, 0, 0, 0, 0, 0, 0],\n",
       "       [0, 0, 0, 1, 0, 0, 0, 0, 0, 0, 0, 0, 0, 0, 1, 0, 0, 0, 0, 1, 0, 0,\n",
       "        0, 0, 0, 0, 0, 0, 0, 0, 1, 0, 0, 0, 0, 0, 1],\n",
       "       [0, 0, 1, 0, 0, 0, 0, 1, 2, 0, 0, 0, 0, 0, 0, 1, 0, 0, 0, 1, 1, 0,\n",
       "        0, 0, 0, 0, 1, 0, 0, 1, 0, 0, 0, 0, 0, 0, 0],\n",
       "       [0, 0, 0, 0, 0, 2, 0, 0, 0, 0, 0, 1, 0, 0, 0, 0, 0, 0, 0, 1, 0, 0,\n",
       "        0, 1, 0, 0, 0, 0, 0, 1, 0, 0, 0, 0, 0, 0, 0],\n",
       "       [0, 0, 0, 0, 1, 0, 0, 0, 0, 0, 0, 0, 0, 0, 0, 0, 0, 1, 0, 0, 0, 0,\n",
       "        0, 0, 0, 0, 0, 1, 0, 0, 0, 1, 1, 0, 0, 0, 0],\n",
       "       [0, 0, 0, 0, 0, 0, 0, 0, 0, 1, 0, 0, 1, 0, 0, 0, 0, 0, 1, 1, 0, 2,\n",
       "        0, 0, 1, 1, 0, 0, 0, 0, 2, 0, 0, 0, 1, 1, 0],\n",
       "       [0, 0, 0, 0, 0, 0, 0, 0, 0, 0, 1, 0, 0, 0, 0, 0, 1, 0, 0, 1, 0, 0,\n",
       "        1, 0, 0, 0, 0, 0, 0, 0, 1, 0, 0, 0, 0, 0, 0],\n",
       "       [1, 0, 0, 0, 0, 0, 0, 0, 0, 0, 1, 0, 0, 0, 1, 0, 1, 0, 0, 1, 0, 0,\n",
       "        1, 0, 0, 0, 0, 0, 0, 0, 1, 0, 0, 0, 0, 0, 0],\n",
       "       [0, 0, 0, 0, 0, 0, 2, 0, 0, 0, 0, 0, 0, 0, 0, 0, 0, 0, 0, 1, 0, 0,\n",
       "        0, 0, 0, 0, 0, 0, 1, 0, 0, 0, 0, 0, 0, 0, 0]], dtype=int64)"
      ]
     },
     "execution_count": 16,
     "metadata": {},
     "output_type": "execute_result"
    }
   ],
   "source": [
    "# 특성패키지에 텍스트를 추출하는 패키지에 벡터를 세는 함수\n",
    "from sklearn.feature_extraction.text import CountVectorizer\n",
    "\n",
    "cv = CountVectorizer()\n",
    "x_traincv = cv.fit_transform(df_x)\n",
    "x_traincv  # 10 x 37개의 배열로 만들어짐\n",
    "\n",
    "\n",
    "# 문자를 숫자로\n",
    "encoded_input = x_traincv.toarray()\n",
    "encoded_input"
   ]
  },
  {
   "cell_type": "code",
   "execution_count": 17,
   "metadata": {},
   "outputs": [
    {
     "data": {
      "text/plain": [
       "[array(['again', 'great', 'is', 'movie', 'this', 'watch', 'will'],\n",
       "       dtype='<U9')]"
      ]
     },
     "execution_count": 17,
     "metadata": {},
     "output_type": "execute_result"
    }
   ],
   "source": [
    "#문자를 숫자로 바꿨으니 숫자를 문자로\n",
    "cv.inverse_transform(encoded_input[0])  #이렇게 하면 숫자를 다시 문자형태로 바꿔준다. "
   ]
  },
  {
   "cell_type": "code",
   "execution_count": 18,
   "metadata": {},
   "outputs": [
    {
     "data": {
      "text/plain": [
       "['actors',\n",
       " 'again',\n",
       " 'also',\n",
       " 'amazing',\n",
       " 'and',\n",
       " 'awesome',\n",
       " 'boring',\n",
       " 'boyfriend',\n",
       " 'cool',\n",
       " 'director',\n",
       " 'do',\n",
       " 'ever',\n",
       " 'from',\n",
       " 'great',\n",
       " 'in',\n",
       " 'is',\n",
       " 'like',\n",
       " 'money',\n",
       " 'move',\n",
       " 'movie',\n",
       " 'my',\n",
       " 'never',\n",
       " 'not',\n",
       " 'of',\n",
       " 'on',\n",
       " 'regret',\n",
       " 'said',\n",
       " 'shame',\n",
       " 'sleeping',\n",
       " 'the',\n",
       " 'this',\n",
       " 'time',\n",
       " 'wasted',\n",
       " 'watch',\n",
       " 'what',\n",
       " 'will',\n",
       " 'year']"
      ]
     },
     "execution_count": 18,
     "metadata": {},
     "output_type": "execute_result"
    }
   ],
   "source": [
    "# 37개의 단어가 어떻게 되어있는지를 보여주는 함수\n",
    "cv.get_feature_names()"
   ]
  },
  {
   "cell_type": "code",
   "execution_count": 19,
   "metadata": {},
   "outputs": [
    {
     "data": {
      "text/plain": [
       "MultinomialNB(alpha=1.0, class_prior=None, fit_prior=True)"
      ]
     },
     "execution_count": 19,
     "metadata": {},
     "output_type": "execute_result"
    }
   ],
   "source": [
    "from sklearn.naive_bayes import MultinomialNB\n",
    "\n",
    "mnb = MultinomialNB()\n",
    "mnb.fit(x_traincv, df_y)"
   ]
  },
  {
   "cell_type": "code",
   "execution_count": 22,
   "metadata": {},
   "outputs": [],
   "source": [
    "# 테스트 데이터\n",
    "test_x = test_df[\"movie_review\"]\n",
    "test_y = test_df[\"label\"]"
   ]
  },
  {
   "cell_type": "code",
   "execution_count": 23,
   "metadata": {},
   "outputs": [],
   "source": [
    "# movie_review 데이터도 바꿔준다. 그 후 테스트\n",
    "x_testcv = cv.transform(test_x)\n",
    "pred = mnb.predict(x_testcv)"
   ]
  },
  {
   "cell_type": "code",
   "execution_count": 25,
   "metadata": {},
   "outputs": [
    {
     "name": "stdout",
     "output_type": "stream",
     "text": [
      "1.0\n"
     ]
    }
   ],
   "source": [
    "# 정확도 추출\n",
    "\n",
    "print(accuracy_score(test_y, pred))"
   ]
  },
  {
   "cell_type": "markdown",
   "metadata": {},
   "source": [
    "## 실습 3 : 스팸메일 필터\n",
    "## 베르누이 NB"
   ]
  },
  {
   "cell_type": "code",
   "execution_count": 26,
   "metadata": {},
   "outputs": [],
   "source": [
    "from sklearn.naive_bayes import BernoulliNB"
   ]
  },
  {
   "cell_type": "code",
   "execution_count": 28,
   "metadata": {},
   "outputs": [],
   "source": [
    "# 데이터 준비\n",
    "# 훈련용, 테스트용 \n",
    "\n",
    "email_list = [\n",
    "                {'email title': 'free game only today', 'spam': True},\n",
    "                {'email title': 'cheapest flight deal', 'spam': True},\n",
    "                {'email title': 'limited time offer only today only today', 'spam': True},\n",
    "                {'email title': 'today meeting schedule', 'spam': False},\n",
    "                {'email title': 'your flight schedule attached', 'spam': False},\n",
    "                {'email title': 'your credit card statement', 'spam': False}\n",
    "             ]\n",
    "\n",
    "df = pd.DataFrame(email_list)\n",
    "\n",
    "\n",
    "test_email_list = [\n",
    "                {'email title': 'free flight offer', 'spam': True},\n",
    "                {'email title': 'hey traveler free flight deal', 'spam': True},\n",
    "                {'email title': 'limited free game offer', 'spam': True},\n",
    "                {'email title': 'today flight schedule', 'spam': False},\n",
    "                {'email title': 'your credit card attached', 'spam': False},\n",
    "                {'email title': 'free credit card offer only today', 'spam': False}\n",
    "             ]\n",
    "\n",
    "test_df = pd.DataFrame(test_email_list)"
   ]
  },
  {
   "cell_type": "code",
   "execution_count": 29,
   "metadata": {},
   "outputs": [
    {
     "data": {
      "text/plain": [
       "0.8333333333333334"
      ]
     },
     "execution_count": 29,
     "metadata": {},
     "output_type": "execute_result"
    }
   ],
   "source": [
    "\n",
    "\n",
    "# 데이터 전처리 (긍정, 부정을 숫자로 표현 변경)\n",
    "df[\"label\"] = df[\"spam\"].map({True:1, False:0})\n",
    "\n",
    "# 훈련 데이터 준비\n",
    "df_x = df[\"email title\"]\n",
    "df_y = df[\"label\"]\n",
    "\n",
    "# 단어 골라내긔\n",
    "x_traincv = cv.fit_transform(df_x) # df_x 데이터 변환시키기\n",
    "encoded_input = x_traincv.toarray()\n",
    "\n",
    "# 훈련시키기\n",
    "from sklearn.naive_bayes import BernoulliNB\n",
    "mnb = BernoulliNB()\n",
    "mnb.fit(x_traincv, df_y)\n",
    "\n",
    "\n",
    "# 테스트 데이터 전처리 (긍정, 부정을 숫자로 표현 변경)\n",
    "test_df[\"label\"] = test_df[\"spam\"].map({True:1, False:0})\n",
    "\n",
    "# 테스트 데이터 준비\n",
    "test_x = test_df[\"email title\"]\n",
    "test_y = test_df[\"label\"]\n",
    "\n",
    "# 단어 골라내긔 & 예측\n",
    "x_testcv = cv.transform(test_x)\n",
    "pred = mnb.predict(x_testcv)\n",
    "accuracy_score(test_y, pred)"
   ]
  },
  {
   "cell_type": "markdown",
   "metadata": {},
   "source": [
    "## 비지도 방식\n",
    "\n",
    "    앞으론 이런 방식이 더 발전하지 않을까 기대하고 있긴한데..\n",
    "    \n",
    "    \n",
    "    우리가 정답을 그 동안 다 알려줬는데 만약 데이터가 엄청 많아진다면 어떻게 할 것인가..\n",
    "    \n",
    "    스스로 답을 찾는것이 좀 더 효율적이고 시간을 아낄 수 있지않을까\n",
    "    \n",
    "    \n",
    "    비지도의 주요 모델은\n",
    "    \n",
    "        Clustering (군집)"
   ]
  },
  {
   "cell_type": "markdown",
   "metadata": {},
   "source": [
    "    clustering과 classifier는 비슷한데\n",
    "    \n",
    "    차이는 답을 알려주냐 안알려주냐 차이이다. \n",
    "    \n",
    "    clustering의 대표 알고리즘\n",
    "    \n",
    "        K-means 알고리즘  (KNN과 다르다)\n",
    "        \n",
    "        KNN과 공통점은 L2 norm을 쓴다는 점.\n",
    "        \n",
    "        KNN : 이웃과의 거리  (높은 성능과 정확도를 기대하긴 어렵다)\n",
    "        K-means : 거리로 하는 것은 비슷하다. 다만 엄청 복잡하다. \n",
    "    \n",
    "    "
   ]
  },
  {
   "cell_type": "markdown",
   "metadata": {},
   "source": [
    "   #### 참고자료 kmeans.pdf\n",
    "   \n",
    "        1페이지\n",
    "            그래프를 보면 데이터가 엄청 흩어져있는데\n",
    "            어떤 방법을 써야할지 정하기도 어렵다.\n",
    "            \n",
    "            1) 처음에 실행단계로는 몇개로 나눌지를 우선 결정한다. \n",
    "                k = 군집의 갯수\n",
    "\n",
    "                    *knn에서는 이웃의 수였다.\n",
    "\n",
    "            \n",
    "            2) \n",
    "            \n",
    "            \n",
    "        3페이지  \n",
    "          \n",
    "            3) 중심점 \n",
    "                세개의 군집으로 나누고 싶으면 k = 3으로 하는데\n",
    "                \n",
    "       \n",
    "        4페이지\n",
    "            세개로 하면 중심점을 잡을 수 있게 된다.\n",
    "\n",
    "            세개를 임의의 위치로 놓았을 때 \n",
    "\n",
    "\n",
    "            중심점 수 = 군집의 수 가 되게 지정해야한다. \n",
    "\n",
    "\n",
    "            첫번째 중심점일 때 어디가 가까운지 L2 norm 방식으로 거리 계산을 해서 \n",
    "\n",
    "            c1이 가장 짧다는 것을 알 수 있음. 그래서 빨간색으로 군집\n",
    "\n",
    "            두번째 중심점도 같은 방식으로 계산하면 c1이 가까우므로  빨간색으로 군집\n",
    "                \n",
    "        5~6 페이지\n",
    "            이와 같은 방식으로 끝까지 가면\n",
    "            \n",
    "            first assignment is done! 한번 끝났다.\n",
    "            \n",
    "            \n",
    "            \n",
    "        7 페이지    \n",
    "            그럼 군집이 나눠졌기 때문에\n",
    "            \n",
    "            이 각 군집들 사이에서 중심점이 가장 중간위치로 바꾼다.\n",
    "            \n",
    "            이렇게 또 위에서 한것처럼 가까운 거리를 찾는걸로 해서 군집이 바뀐다.\n",
    "            \n",
    "            \n",
    "        8~9 페이지 \n",
    "            위 과정을 반복하는것을 보여준다. \n",
    "        \n",
    "        10 페이지\n",
    "            이렇게 계속 반복하여서 바뀔게 없어질 때까지 반복해진다.\n",
    "                \n",
    "        \n",
    "        \n",
    "        * 그래서 중심점을 어디로 초기화 하는지가 제일 중요하다. \n",
    "        \n",
    "        \n",
    "        중심점을 초기화 하는 방법에는 세가지 방법이 있다. \n",
    "            - randomly select centroid : 랜덤 지정, 재수없으면 군집끼리 몰려버리는 경우가 생겨서 잘 쓰지 는다.\n",
    "            - manually assign centroid : 직접 지정, 수작업도 100% 신뢰할 수 있는 경우는 아니다.\n",
    "            - k-mean++ : 중심점을 잡고 나머지 데이터를 비교해서 가장 먼 위치에 있는 두번째 중심점을 찾는다.\n",
    "                         그 다음 먼 것을 세번째 중심점으로 한다. \n",
    "            \n",
    "        \n",
    "        12페이지 \n",
    "            k-mean++ 원리 \n",
    "            \n",
    "            \n",
    "        만약 K-means할 때 중심점 옵션을 주지 않으면 기본 k-mean으로 사용한다.\n",
    "            "
   ]
  },
  {
   "cell_type": "markdown",
   "metadata": {},
   "source": [
    "# K-means\n",
    "    - 비지도 군집(Clustering) 알고리즘"
   ]
  },
  {
   "cell_type": "code",
   "execution_count": 30,
   "metadata": {},
   "outputs": [
    {
     "data": {
      "image/png": "[encoded data removed]",
      "text/plain": [
       "<Figure size 720x576 with 9 Axes>"
      ]
     },
     "metadata": {},
     "output_type": "display_data"
    }
   ],
   "source": [
    "# k-means 설명 \n",
    "mglearn.plots.plot_kmeans_algorithm()"
   ]
  },
  {
   "cell_type": "markdown",
   "metadata": {},
   "source": [
    "    처음엔 중심점을 초기화 하고 있다.\n",
    "    \n",
    "    그 후 중심점에 가까운 곳끼리 묶고 그 다음\n",
    "    \n",
    "    군집 상태에서 중간으로 이동해서 다시 가까운곳끼리 묶는다.\n",
    "    \n",
    "    반복 후 최종 모습"
   ]
  },
  {
   "cell_type": "code",
   "execution_count": 31,
   "metadata": {},
   "outputs": [
    {
     "data": {
      "image/png": "[encoded data removed]",
      "text/plain": [
       "<Figure size 432x288 with 1 Axes>"
      ]
     },
     "metadata": {},
     "output_type": "display_data"
    }
   ],
   "source": [
    "# 최종 결과 \n",
    "mglearn.plots.plot_kmeans_boundaries()"
   ]
  },
  {
   "cell_type": "code",
   "execution_count": 36,
   "metadata": {},
   "outputs": [],
   "source": [
    "from sklearn.cluster import KMeans\n",
    "import sklearn.datasets as datasets"
   ]
  },
  {
   "cell_type": "code",
   "execution_count": 37,
   "metadata": {},
   "outputs": [],
   "source": [
    "X, y = datasets.make_blobs()"
   ]
  },
  {
   "cell_type": "code",
   "execution_count": 42,
   "metadata": {},
   "outputs": [
    {
     "data": {
      "text/plain": [
       "[<matplotlib.lines.Line2D at 0x1b7c7e39b08>,\n",
       " <matplotlib.lines.Line2D at 0x1b7c418c7c8>,\n",
       " <matplotlib.lines.Line2D at 0x1b7c7e39f88>]"
      ]
     },
     "execution_count": 42,
     "metadata": {},
     "output_type": "execute_result"
    },
    {
     "data": {
      "image/png": "[encoded data removed]",
      "text/plain": [
       "<Figure size 432x288 with 1 Axes>"
      ]
     },
     "metadata": {
      "needs_background": "light"
     },
     "output_type": "display_data"
    }
   ],
   "source": [
    "mglearn.discrete_scatter(X[:,0], X[:, 1], y, markers=\"o\")"
   ]
  },
  {
   "cell_type": "code",
   "execution_count": 40,
   "metadata": {},
   "outputs": [],
   "source": [
    "# 훈련시키기\n",
    "\n",
    "km = KMeans(n_clusters=3).fit(X)\n",
    "\n",
    "# 앞에 훈련용, 뒤에 정답\n",
    "# 그런데 kmean은 정답을 안줘도 된다."
   ]
  },
  {
   "cell_type": "code",
   "execution_count": 43,
   "metadata": {},
   "outputs": [],
   "source": [
    "# 얘가 스스로 찾은 label(정답)이다\n",
    "lbl = km.labels_"
   ]
  },
  {
   "cell_type": "code",
   "execution_count": 46,
   "metadata": {},
   "outputs": [
    {
     "data": {
      "text/plain": [
       "[<matplotlib.lines.Line2D at 0x1b7c7e4ae08>,\n",
       " <matplotlib.lines.Line2D at 0x1b7c7e4a108>,\n",
       " <matplotlib.lines.Line2D at 0x1b7c7e56488>]"
      ]
     },
     "execution_count": 46,
     "metadata": {},
     "output_type": "execute_result"
    },
    {
     "data": {
      "image/png": "[encoded data removed]",
      "text/plain": [
       "<Figure size 432x288 with 1 Axes>"
      ]
     },
     "metadata": {
      "needs_background": "light"
     },
     "output_type": "display_data"
    }
   ],
   "source": [
    "# 위 결과를 label 기준으로 그려보자\n",
    "mglearn.discrete_scatter(X[:,0],X[:,1], lbl,  markers=\"o\")\n",
    "\n",
    "# 마지막 중심점 위치도 뽑아보자\n",
    "mglearn.discrete_scatter(km.cluster_centers_[:,0], km.cluster_centers_[:,1], [0,1,2], markers=\"^\")"
   ]
  },
  {
   "cell_type": "markdown",
   "metadata": {},
   "source": [
    "    값을 똑같이 찾아냈다. \n",
    "    중심점도 각 군집의 중앙임을 확인할 수 있다."
   ]
  },
  {
   "cell_type": "code",
   "execution_count": 48,
   "metadata": {},
   "outputs": [
    {
     "data": {
      "image/png": "[encoded data removed]",
      "text/plain": [
       "<Figure size 720x360 with 2 Axes>"
      ]
     },
     "metadata": {
      "needs_background": "light"
     },
     "output_type": "display_data"
    }
   ],
   "source": [
    "fig, axes = plt.subplots(1,2, figsize=(10,5))  #그래프 (1행 2열)두개 \n",
    "idx = 0\n",
    "for k in [2, 5] :  #처음엔 2라는 값으로, 그다음 5라는 값으로 반복\n",
    "    km = KMeans(n_clusters=k).fit(X)\n",
    "    lbl = km.labels_\n",
    "    mglearn.discrete_scatter(X[:,0],X[:,1], lbl, ax=axes[idx])\n",
    "    idx += 1"
   ]
  },
  {
   "cell_type": "code",
   "execution_count": 50,
   "metadata": {},
   "outputs": [
    {
     "data": {
      "text/plain": [
       "KMeans(algorithm='auto', copy_x=True, init='k-means++', max_iter=300,\n",
       "       n_clusters=8, n_init=10, n_jobs=None, precompute_distances='auto',\n",
       "       random_state=None, tol=0.0001, verbose=0)"
      ]
     },
     "execution_count": 50,
     "metadata": {},
     "output_type": "execute_result"
    }
   ],
   "source": [
    "KMeans().fit(X)"
   ]
  },
  {
   "cell_type": "markdown",
   "metadata": {},
   "source": [
    "    max_iter = 300 까지 계산한다.\n",
    "    클러스터 개수는 기본 8\n",
    "    precomute_distances = auto  : 거리계산은 자동으로 K-mean을 사용한다. "
   ]
  },
  {
   "cell_type": "markdown",
   "metadata": {},
   "source": [
    "## 실습 1 : iris\n",
    "    K-Mean "
   ]
  },
  {
   "cell_type": "code",
   "execution_count": 52,
   "metadata": {},
   "outputs": [
    {
     "data": {
      "text/html": [
       "<div>\n",
       "<style scoped>\n",
       "    .dataframe tbody tr th:only-of-type {\n",
       "        vertical-align: middle;\n",
       "    }\n",
       "\n",
       "    .dataframe tbody tr th {\n",
       "        vertical-align: top;\n",
       "    }\n",
       "\n",
       "    .dataframe thead th {\n",
       "        text-align: right;\n",
       "    }\n",
       "</style>\n",
       "<table border=\"1\" class=\"dataframe\">\n",
       "  <thead>\n",
       "    <tr style=\"text-align: right;\">\n",
       "      <th></th>\n",
       "      <th>sepal_length</th>\n",
       "      <th>sepal_width</th>\n",
       "      <th>petal_length</th>\n",
       "      <th>petal_width</th>\n",
       "    </tr>\n",
       "  </thead>\n",
       "  <tbody>\n",
       "    <tr>\n",
       "      <td>0</td>\n",
       "      <td>5.1</td>\n",
       "      <td>3.5</td>\n",
       "      <td>1.4</td>\n",
       "      <td>0.2</td>\n",
       "    </tr>\n",
       "    <tr>\n",
       "      <td>1</td>\n",
       "      <td>4.9</td>\n",
       "      <td>3.0</td>\n",
       "      <td>1.4</td>\n",
       "      <td>0.2</td>\n",
       "    </tr>\n",
       "    <tr>\n",
       "      <td>2</td>\n",
       "      <td>4.7</td>\n",
       "      <td>3.2</td>\n",
       "      <td>1.3</td>\n",
       "      <td>0.2</td>\n",
       "    </tr>\n",
       "    <tr>\n",
       "      <td>3</td>\n",
       "      <td>4.6</td>\n",
       "      <td>3.1</td>\n",
       "      <td>1.5</td>\n",
       "      <td>0.2</td>\n",
       "    </tr>\n",
       "    <tr>\n",
       "      <td>4</td>\n",
       "      <td>5.0</td>\n",
       "      <td>3.6</td>\n",
       "      <td>1.4</td>\n",
       "      <td>0.2</td>\n",
       "    </tr>\n",
       "  </tbody>\n",
       "</table>\n",
       "</div>"
      ],
      "text/plain": [
       "   sepal_length  sepal_width  petal_length  petal_width\n",
       "0           5.1          3.5           1.4          0.2\n",
       "1           4.9          3.0           1.4          0.2\n",
       "2           4.7          3.2           1.3          0.2\n",
       "3           4.6          3.1           1.5          0.2\n",
       "4           5.0          3.6           1.4          0.2"
      ]
     },
     "execution_count": 52,
     "metadata": {},
     "output_type": "execute_result"
    }
   ],
   "source": [
    "# 데이터 준비 \n",
    "# iris\n",
    "iris = sklearn.datasets.load_iris()\n",
    "\n",
    "# DF화\n",
    "X = pd.DataFrame(iris.data, columns=[\"sepal_length\", \"sepal_width\", \"petal_length\", \"petal_width\"])\n",
    "y = pd.DataFrame(iris.target, columns = [\"target\"])\n",
    "\n",
    "X.head()\n",
    "# y.head()"
   ]
  },
  {
   "cell_type": "code",
   "execution_count": 54,
   "metadata": {},
   "outputs": [
    {
     "data": {
      "text/plain": [
       "Text(0.5, 1.0, '꽃잎')"
      ]
     },
     "execution_count": 54,
     "metadata": {},
     "output_type": "execute_result"
    },
    {
     "data": {
      "image/png": "[encoded data removed]",
      "text/plain": [
       "<Figure size 1008x504 with 2 Axes>"
      ]
     },
     "metadata": {
      "needs_background": "light"
     },
     "output_type": "display_data"
    }
   ],
   "source": [
    "colormap = np.array([\"lime\", \"red\", \"black\"])\n",
    "plt.figure(figsize=(14,7))\n",
    "plt.subplot(1, 2, 1)\n",
    "plt.scatter(X.sepal_length, X.sepal_width, c= colormap[y.target], s = 40)\n",
    "plt.title(\"꽃받침\")\n",
    "\n",
    "\n",
    "\n",
    "plt.subplot(1, 2, 2)\n",
    "plt.scatter(X.petal_length, X.petal_width, c= colormap[y.target], s = 40)\n",
    "plt.title(\"꽃잎\")\n"
   ]
  },
  {
   "cell_type": "markdown",
   "metadata": {},
   "source": [
    "    iris에서 petal이 특성이 좋기 때문에 그동안 petal로만 했었다.\n",
    "    이 그래프를 통해서 좀 더 확실하게 꽃받침보다 꽃잎이 좋다는 것을 알게 되었다.\n",
    "    "
   ]
  },
  {
   "cell_type": "code",
   "execution_count": 55,
   "metadata": {},
   "outputs": [],
   "source": [
    "# 훈련시키기  //  정답을 넘겨주지 않는다. \n",
    "model = KMeans(n_clusters=3).fit(X)"
   ]
  },
  {
   "cell_type": "code",
   "execution_count": 56,
   "metadata": {},
   "outputs": [
    {
     "data": {
      "text/plain": [
       "array([1, 1, 1, 1, 1, 1, 1, 1, 1, 1, 1, 1, 1, 1, 1, 1, 1, 1, 1, 1, 1, 1,\n",
       "       1, 1, 1, 1, 1, 1, 1, 1, 1, 1, 1, 1, 1, 1, 1, 1, 1, 1, 1, 1, 1, 1,\n",
       "       1, 1, 1, 1, 1, 1, 0, 0, 2, 0, 0, 0, 0, 0, 0, 0, 0, 0, 0, 0, 0, 0,\n",
       "       0, 0, 0, 0, 0, 0, 0, 0, 0, 0, 0, 2, 0, 0, 0, 0, 0, 0, 0, 0, 0, 0,\n",
       "       0, 0, 0, 0, 0, 0, 0, 0, 0, 0, 0, 0, 2, 0, 2, 2, 2, 2, 0, 2, 2, 2,\n",
       "       2, 2, 2, 0, 0, 2, 2, 2, 2, 0, 2, 0, 2, 0, 2, 2, 0, 0, 2, 2, 2, 2,\n",
       "       2, 0, 2, 2, 2, 2, 0, 2, 2, 2, 0, 2, 2, 2, 0, 2, 2, 0])"
      ]
     },
     "execution_count": 56,
     "metadata": {},
     "output_type": "execute_result"
    }
   ],
   "source": [
    "model.labels_"
   ]
  },
  {
   "cell_type": "code",
   "execution_count": 57,
   "metadata": {},
   "outputs": [
    {
     "data": {
      "text/plain": [
       "Text(0.5, 1.0, '결과')"
      ]
     },
     "execution_count": 57,
     "metadata": {},
     "output_type": "execute_result"
    },
    {
     "data": {
      "image/png": "[encoded data removed]",
      "text/plain": [
       "<Figure size 1008x504 with 2 Axes>"
      ]
     },
     "metadata": {
      "needs_background": "light"
     },
     "output_type": "display_data"
    }
   ],
   "source": [
    "colormap = np.array([\"lime\", \"red\", \"black\"])\n",
    "plt.figure(figsize=(14,7))\n",
    "plt.subplot(1, 2, 1)\n",
    "plt.scatter(X.petal_length, X.petal_width, c= colormap[y.target], s = 40)\n",
    "plt.title(\"정답\")\n",
    "\n",
    "\n",
    "\n",
    "plt.subplot(1, 2, 2)\n",
    "plt.scatter(X.petal_length, X.petal_width, c= colormap[model.labels_], s = 40)\n",
    "plt.title(\"결과\")\n"
   ]
  },
  {
   "cell_type": "code",
   "execution_count": 61,
   "metadata": {},
   "outputs": [
    {
     "data": {
      "text/plain": [
       "0.24"
      ]
     },
     "execution_count": 61,
     "metadata": {},
     "output_type": "execute_result"
    }
   ],
   "source": [
    "accuracy_score(y, model.labels_)"
   ]
  },
  {
   "cell_type": "code",
   "execution_count": 59,
   "metadata": {},
   "outputs": [
    {
     "data": {
      "text/plain": [
       "array([[ 0, 50,  0],\n",
       "       [48,  0,  2],\n",
       "       [14,  0, 36]], dtype=int64)"
      ]
     },
     "execution_count": 59,
     "metadata": {},
     "output_type": "execute_result"
    }
   ],
   "source": [
    "confusion_matrix(y, model.labels_)"
   ]
  },
  {
   "cell_type": "code",
   "execution_count": 67,
   "metadata": {},
   "outputs": [
    {
     "data": {
      "text/plain": [
       "<seaborn.axisgrid.FacetGrid at 0x1b7c818d308>"
      ]
     },
     "execution_count": 67,
     "metadata": {},
     "output_type": "execute_result"
    },
    {
     "data": {
      "image/png": "[encoded data removed]",
      "text/plain": [
       "<Figure size 401.5x360 with 1 Axes>"
      ]
     },
     "metadata": {
      "needs_background": "light"
     },
     "output_type": "display_data"
    }
   ],
   "source": [
    "df = pd.DataFrame(columns=['height', 'weight'])\n",
    "df.loc[0] = [185,60]\n",
    "df.loc[1] = [180,60]\n",
    "df.loc[2] = [185,70]\n",
    "df.loc[3] = [165,63]\n",
    "df.loc[4] = [155,68]\n",
    "df.loc[5] = [170,75]\n",
    "df.loc[6] = [175,80]\n",
    "\n",
    "model = KMeans(n_clusters=3).fit(df.values)\n",
    "df[\"label\"] = model.labels_\n",
    "sns.lmplot(\"height\", \"weight\", data=df, fit_reg=False, scatter_kws={\"s\":200}, hue = \"label\")"
   ]
  },
  {
   "cell_type": "markdown",
   "metadata": {},
   "source": [
    " ## 실습 : 타이타닉 (생존자 예측)\n",
    "     \n",
    "     머신러닝\n",
    "     \n",
    "     www.kaggle.com\n",
    "     - 경진대회로 주로 많이 쓰이고\n",
    "     - 데이터 하는 사람들에겐 성지\n",
    "\n",
    "    -  로그인을 하고 나서 https://www.kaggle.com/c/titanic\n",
    "    \n",
    "        data 받기\n",
    "        \n",
    "        "
   ]
  },
  {
   "cell_type": "code",
   "execution_count": 145,
   "metadata": {},
   "outputs": [],
   "source": [
    "# 데이터 준비\n",
    "train = pd.read_csv(\"data/titanic/train.csv\")\n",
    "test = pd.read_csv(\"data/titanic/test.csv\")\n",
    "\n",
    "# 데이터 차이가 있다 test.scv파일에는 Survived의 정답이 없다.\n",
    "# 그래서 측정해서 kaggle에 올리면 kaggle에 정답이 있어서 그걸로 채점해준다."
   ]
  },
  {
   "cell_type": "code",
   "execution_count": 146,
   "metadata": {},
   "outputs": [
    {
     "name": "stdout",
     "output_type": "stream",
     "text": [
      "<class 'pandas.core.frame.DataFrame'>\n",
      "RangeIndex: 891 entries, 0 to 890\n",
      "Data columns (total 12 columns):\n",
      "PassengerId    891 non-null int64\n",
      "Survived       891 non-null int64\n",
      "Pclass         891 non-null int64\n",
      "Name           891 non-null object\n",
      "Sex            891 non-null object\n",
      "Age            714 non-null float64\n",
      "SibSp          891 non-null int64\n",
      "Parch          891 non-null int64\n",
      "Ticket         891 non-null object\n",
      "Fare           891 non-null float64\n",
      "Cabin          204 non-null object\n",
      "Embarked       889 non-null object\n",
      "dtypes: float64(2), int64(5), object(5)\n",
      "memory usage: 83.7+ KB\n"
     ]
    },
    {
     "data": {
      "text/plain": [
       "PassengerId      0\n",
       "Pclass           0\n",
       "Name             0\n",
       "Sex              0\n",
       "Age             86\n",
       "SibSp            0\n",
       "Parch            0\n",
       "Ticket           0\n",
       "Fare             1\n",
       "Cabin          327\n",
       "Embarked         0\n",
       "dtype: int64"
      ]
     },
     "execution_count": 146,
     "metadata": {},
     "output_type": "execute_result"
    }
   ],
   "source": [
    "train.info()\n",
    "\n",
    "#전처리\n",
    "\n",
    "train.isnull().sum()\n",
    "test.isnull().sum()"
   ]
  },
  {
   "cell_type": "markdown",
   "metadata": {},
   "source": [
    "## 탐색적 데이터 분석 \n",
    "    - Pclass\n",
    "    - Sex\n",
    "    - SibSp\n",
    "    - Parch\n",
    "    - Embarked\n",
    "    - Cabin"
   ]
  },
  {
   "cell_type": "code",
   "execution_count": 147,
   "metadata": {},
   "outputs": [],
   "source": [
    "# feature를 넘기면 막대그래프를 그리는 함수 생성\n",
    "def bar_chart(feature) :\n",
    "    survived = train[train[\"Survived\"]==1][feature].value_counts()\n",
    "    dead =  train[train[\"Survived\"]==0][feature].value_counts()\n",
    "    df = pd.DataFrame([survived, dead])\n",
    "    df.index = [\"Survived\", \"Dead\"]\n",
    "    df.plot(kind=\"bar\", stacked=True, figsize=(10, 5))"
   ]
  },
  {
   "cell_type": "code",
   "execution_count": 148,
   "metadata": {},
   "outputs": [
    {
     "data": {
      "image/png": "[encoded data removed]",
      "text/plain": [
       "<Figure size 720x360 with 1 Axes>"
      ]
     },
     "metadata": {
      "needs_background": "light"
     },
     "output_type": "display_data"
    }
   ],
   "source": [
    "bar_chart(\"Sex\")"
   ]
  },
  {
   "cell_type": "markdown",
   "metadata": {},
   "source": [
    "## Feature Engineering"
   ]
  },
  {
   "cell_type": "code",
   "execution_count": 149,
   "metadata": {},
   "outputs": [
    {
     "data": {
      "text/html": [
       "<div>\n",
       "<style scoped>\n",
       "    .dataframe tbody tr th:only-of-type {\n",
       "        vertical-align: middle;\n",
       "    }\n",
       "\n",
       "    .dataframe tbody tr th {\n",
       "        vertical-align: top;\n",
       "    }\n",
       "\n",
       "    .dataframe thead th {\n",
       "        text-align: right;\n",
       "    }\n",
       "</style>\n",
       "<table border=\"1\" class=\"dataframe\">\n",
       "  <thead>\n",
       "    <tr style=\"text-align: right;\">\n",
       "      <th></th>\n",
       "      <th>PassengerId</th>\n",
       "      <th>Survived</th>\n",
       "      <th>Pclass</th>\n",
       "      <th>Name</th>\n",
       "      <th>Sex</th>\n",
       "      <th>Age</th>\n",
       "      <th>SibSp</th>\n",
       "      <th>Parch</th>\n",
       "      <th>Ticket</th>\n",
       "      <th>Fare</th>\n",
       "      <th>Cabin</th>\n",
       "      <th>Embarked</th>\n",
       "    </tr>\n",
       "  </thead>\n",
       "  <tbody>\n",
       "    <tr>\n",
       "      <td>0</td>\n",
       "      <td>1</td>\n",
       "      <td>0</td>\n",
       "      <td>3</td>\n",
       "      <td>Braund, Mr. Owen Harris</td>\n",
       "      <td>male</td>\n",
       "      <td>22.0</td>\n",
       "      <td>1</td>\n",
       "      <td>0</td>\n",
       "      <td>A/5 21171</td>\n",
       "      <td>7.2500</td>\n",
       "      <td>NaN</td>\n",
       "      <td>S</td>\n",
       "    </tr>\n",
       "    <tr>\n",
       "      <td>1</td>\n",
       "      <td>2</td>\n",
       "      <td>1</td>\n",
       "      <td>1</td>\n",
       "      <td>Cumings, Mrs. John Bradley (Florence Briggs Th...</td>\n",
       "      <td>female</td>\n",
       "      <td>38.0</td>\n",
       "      <td>1</td>\n",
       "      <td>0</td>\n",
       "      <td>PC 17599</td>\n",
       "      <td>71.2833</td>\n",
       "      <td>C85</td>\n",
       "      <td>C</td>\n",
       "    </tr>\n",
       "    <tr>\n",
       "      <td>2</td>\n",
       "      <td>3</td>\n",
       "      <td>1</td>\n",
       "      <td>3</td>\n",
       "      <td>Heikkinen, Miss. Laina</td>\n",
       "      <td>female</td>\n",
       "      <td>26.0</td>\n",
       "      <td>0</td>\n",
       "      <td>0</td>\n",
       "      <td>STON/O2. 3101282</td>\n",
       "      <td>7.9250</td>\n",
       "      <td>NaN</td>\n",
       "      <td>S</td>\n",
       "    </tr>\n",
       "    <tr>\n",
       "      <td>3</td>\n",
       "      <td>4</td>\n",
       "      <td>1</td>\n",
       "      <td>1</td>\n",
       "      <td>Futrelle, Mrs. Jacques Heath (Lily May Peel)</td>\n",
       "      <td>female</td>\n",
       "      <td>35.0</td>\n",
       "      <td>1</td>\n",
       "      <td>0</td>\n",
       "      <td>113803</td>\n",
       "      <td>53.1000</td>\n",
       "      <td>C123</td>\n",
       "      <td>S</td>\n",
       "    </tr>\n",
       "    <tr>\n",
       "      <td>4</td>\n",
       "      <td>5</td>\n",
       "      <td>0</td>\n",
       "      <td>3</td>\n",
       "      <td>Allen, Mr. William Henry</td>\n",
       "      <td>male</td>\n",
       "      <td>35.0</td>\n",
       "      <td>0</td>\n",
       "      <td>0</td>\n",
       "      <td>373450</td>\n",
       "      <td>8.0500</td>\n",
       "      <td>NaN</td>\n",
       "      <td>S</td>\n",
       "    </tr>\n",
       "    <tr>\n",
       "      <td>5</td>\n",
       "      <td>6</td>\n",
       "      <td>0</td>\n",
       "      <td>3</td>\n",
       "      <td>Moran, Mr. James</td>\n",
       "      <td>male</td>\n",
       "      <td>NaN</td>\n",
       "      <td>0</td>\n",
       "      <td>0</td>\n",
       "      <td>330877</td>\n",
       "      <td>8.4583</td>\n",
       "      <td>NaN</td>\n",
       "      <td>Q</td>\n",
       "    </tr>\n",
       "    <tr>\n",
       "      <td>6</td>\n",
       "      <td>7</td>\n",
       "      <td>0</td>\n",
       "      <td>1</td>\n",
       "      <td>McCarthy, Mr. Timothy J</td>\n",
       "      <td>male</td>\n",
       "      <td>54.0</td>\n",
       "      <td>0</td>\n",
       "      <td>0</td>\n",
       "      <td>17463</td>\n",
       "      <td>51.8625</td>\n",
       "      <td>E46</td>\n",
       "      <td>S</td>\n",
       "    </tr>\n",
       "    <tr>\n",
       "      <td>7</td>\n",
       "      <td>8</td>\n",
       "      <td>0</td>\n",
       "      <td>3</td>\n",
       "      <td>Palsson, Master. Gosta Leonard</td>\n",
       "      <td>male</td>\n",
       "      <td>2.0</td>\n",
       "      <td>3</td>\n",
       "      <td>1</td>\n",
       "      <td>349909</td>\n",
       "      <td>21.0750</td>\n",
       "      <td>NaN</td>\n",
       "      <td>S</td>\n",
       "    </tr>\n",
       "    <tr>\n",
       "      <td>8</td>\n",
       "      <td>9</td>\n",
       "      <td>1</td>\n",
       "      <td>3</td>\n",
       "      <td>Johnson, Mrs. Oscar W (Elisabeth Vilhelmina Berg)</td>\n",
       "      <td>female</td>\n",
       "      <td>27.0</td>\n",
       "      <td>0</td>\n",
       "      <td>2</td>\n",
       "      <td>347742</td>\n",
       "      <td>11.1333</td>\n",
       "      <td>NaN</td>\n",
       "      <td>S</td>\n",
       "    </tr>\n",
       "    <tr>\n",
       "      <td>9</td>\n",
       "      <td>10</td>\n",
       "      <td>1</td>\n",
       "      <td>2</td>\n",
       "      <td>Nasser, Mrs. Nicholas (Adele Achem)</td>\n",
       "      <td>female</td>\n",
       "      <td>14.0</td>\n",
       "      <td>1</td>\n",
       "      <td>0</td>\n",
       "      <td>237736</td>\n",
       "      <td>30.0708</td>\n",
       "      <td>NaN</td>\n",
       "      <td>C</td>\n",
       "    </tr>\n",
       "  </tbody>\n",
       "</table>\n",
       "</div>"
      ],
      "text/plain": [
       "   PassengerId  Survived  Pclass  \\\n",
       "0            1         0       3   \n",
       "1            2         1       1   \n",
       "2            3         1       3   \n",
       "3            4         1       1   \n",
       "4            5         0       3   \n",
       "5            6         0       3   \n",
       "6            7         0       1   \n",
       "7            8         0       3   \n",
       "8            9         1       3   \n",
       "9           10         1       2   \n",
       "\n",
       "                                                Name     Sex   Age  SibSp  \\\n",
       "0                            Braund, Mr. Owen Harris    male  22.0      1   \n",
       "1  Cumings, Mrs. John Bradley (Florence Briggs Th...  female  38.0      1   \n",
       "2                             Heikkinen, Miss. Laina  female  26.0      0   \n",
       "3       Futrelle, Mrs. Jacques Heath (Lily May Peel)  female  35.0      1   \n",
       "4                           Allen, Mr. William Henry    male  35.0      0   \n",
       "5                                   Moran, Mr. James    male   NaN      0   \n",
       "6                            McCarthy, Mr. Timothy J    male  54.0      0   \n",
       "7                     Palsson, Master. Gosta Leonard    male   2.0      3   \n",
       "8  Johnson, Mrs. Oscar W (Elisabeth Vilhelmina Berg)  female  27.0      0   \n",
       "9                Nasser, Mrs. Nicholas (Adele Achem)  female  14.0      1   \n",
       "\n",
       "   Parch            Ticket     Fare Cabin Embarked  \n",
       "0      0         A/5 21171   7.2500   NaN        S  \n",
       "1      0          PC 17599  71.2833   C85        C  \n",
       "2      0  STON/O2. 3101282   7.9250   NaN        S  \n",
       "3      0            113803  53.1000  C123        S  \n",
       "4      0            373450   8.0500   NaN        S  \n",
       "5      0            330877   8.4583   NaN        Q  \n",
       "6      0             17463  51.8625   E46        S  \n",
       "7      1            349909  21.0750   NaN        S  \n",
       "8      2            347742  11.1333   NaN        S  \n",
       "9      0            237736  30.0708   NaN        C  "
      ]
     },
     "execution_count": 149,
     "metadata": {},
     "output_type": "execute_result"
    }
   ],
   "source": [
    "train.head(10)"
   ]
  },
  {
   "cell_type": "markdown",
   "metadata": {},
   "source": [
    "    여기서 보면 이름을 무시할 수 있다.\n",
    "    그런데 이름에서도 쓸만한 데이터가 있긴 있다. 바로 Mr, Miss 로 성별이 파악이 되긴하다.\n",
    "    \n",
    "   "
   ]
  },
  {
   "cell_type": "code",
   "execution_count": 150,
   "metadata": {},
   "outputs": [],
   "source": [
    "# 이름 추출 : Mr, Miss, Mrs\n",
    "\n",
    "# 훈련용데이터와 테스트용 데이터를 하나로 합쳐서 처리하자. \n",
    "\n",
    "train_test_data = [train, test]\n",
    "\n",
    "for dataset in train_test_data :\n",
    "    dataset[\"Title\"] = dataset[\"Name\"].str.extract(\" ([A-Za-z]+)\\.\")"
   ]
  },
  {
   "cell_type": "code",
   "execution_count": 151,
   "metadata": {},
   "outputs": [
    {
     "data": {
      "text/plain": [
       "Mr          517\n",
       "Miss        182\n",
       "Mrs         125\n",
       "Master       40\n",
       "Dr            7\n",
       "Rev           6\n",
       "Mlle          2\n",
       "Major         2\n",
       "Col           2\n",
       "Mme           1\n",
       "Capt          1\n",
       "Sir           1\n",
       "Lady          1\n",
       "Jonkheer      1\n",
       "Ms            1\n",
       "Countess      1\n",
       "Don           1\n",
       "Name: Title, dtype: int64"
      ]
     },
     "execution_count": 151,
     "metadata": {},
     "output_type": "execute_result"
    }
   ],
   "source": [
    "train[\"Title\"].value_counts()"
   ]
  },
  {
   "cell_type": "code",
   "execution_count": 152,
   "metadata": {},
   "outputs": [],
   "source": [
    "# Mr, Miss, Mrs 숫자로 지정, 그외의 값들은 다 3\n",
    "title_mapping = {\"Mr\":0, \"Miss\":1, \"Mrs\":2, \"Master\":3, \"Dr\":3, \"Rev\":3, \"Col\":3, \"Major\":3, \n",
    "                \"Mlle\":3, \"Mme\":3, \"Lady\":3, \"Don\":3, \"Capt\":3, \"Ms\":3, \"Countess\":3, \"Sir\":3,\n",
    "                \"Jonkheer\":3, \"Dona\":3}\n",
    "\n",
    "for dataset in train_test_data:\n",
    "    dataset[\"Title\"] = dataset[\"Title\"].map(title_mapping)"
   ]
  },
  {
   "cell_type": "code",
   "execution_count": 153,
   "metadata": {},
   "outputs": [],
   "source": [
    "# 이제 불필요한 column 삭제하기\n",
    "\n",
    "train.drop(\"Name\", axis=1, inplace=True)\n",
    "test.drop(\"Name\", axis=1, inplace=True)"
   ]
  },
  {
   "cell_type": "code",
   "execution_count": 154,
   "metadata": {},
   "outputs": [
    {
     "data": {
      "image/png": "[encoded data removed]",
      "text/plain": [
       "<Figure size 720x360 with 1 Axes>"
      ]
     },
     "metadata": {
      "needs_background": "light"
     },
     "output_type": "display_data"
    }
   ],
   "source": [
    "bar_chart(\"Title\")"
   ]
  },
  {
   "cell_type": "markdown",
   "metadata": {},
   "source": [
    "    Mr 가 엄청 많이 죽었음을 알 수 있다."
   ]
  },
  {
   "cell_type": "code",
   "execution_count": 155,
   "metadata": {},
   "outputs": [],
   "source": [
    "# 성별에 대한 숫자화 \n",
    "\n",
    "for dataset in train_test_data:\n",
    "    dataset[\"Sex\"] = dataset[\"Sex\"].map({\"male\":0, \"female\":1})"
   ]
  },
  {
   "cell_type": "code",
   "execution_count": 156,
   "metadata": {},
   "outputs": [
    {
     "data": {
      "image/png": "[encoded data removed]",
      "text/plain": [
       "<Figure size 720x360 with 1 Axes>"
      ]
     },
     "metadata": {
      "needs_background": "light"
     },
     "output_type": "display_data"
    }
   ],
   "source": [
    "# 확인\n",
    "\n",
    "bar_chart(\"Sex\")"
   ]
  },
  {
   "cell_type": "code",
   "execution_count": 157,
   "metadata": {},
   "outputs": [],
   "source": [
    "# Age에 대한 Binning\n",
    "# child:0, young:1, adult:2, mid-age:3, senior:4\n",
    "\n",
    "# 결측치 처리 : 남자들은 남자들의 평균나이, Mrs는 Mrs의 평균나이, Miss는 Miss의 평균나이\n",
    "# 이걸로 결측치를 예측해서 그냥 채워 넣자\n",
    "\n",
    "# 이 값이 다 들어가면 안되고 결측치에만 들어가야함.\n",
    "train[\"Age\"].fillna(train.groupby(\"Title\")[\"Age\"].transform(\"median\"), inplace=True)\n",
    "test[\"Age\"].fillna(test.groupby(\"Title\")[\"Age\"].transform(\"median\"), inplace=True)"
   ]
  },
  {
   "cell_type": "code",
   "execution_count": 158,
   "metadata": {},
   "outputs": [
    {
     "data": {
      "text/plain": [
       "PassengerId      0\n",
       "Pclass           0\n",
       "Sex              0\n",
       "Age              0\n",
       "SibSp            0\n",
       "Parch            0\n",
       "Ticket           0\n",
       "Fare             1\n",
       "Cabin          327\n",
       "Embarked         0\n",
       "Title            0\n",
       "dtype: int64"
      ]
     },
     "execution_count": 158,
     "metadata": {},
     "output_type": "execute_result"
    }
   ],
   "source": [
    "train.isnull().sum()\n",
    "test.isnull().sum()"
   ]
  },
  {
   "cell_type": "markdown",
   "metadata": {},
   "source": [
    "    결측치가 Age에 사라졌음을 확인하였다. "
   ]
  },
  {
   "cell_type": "code",
   "execution_count": 159,
   "metadata": {},
   "outputs": [],
   "source": [
    "# Binning   Age의 실제값은 사실 필요없다. \n",
    "for dataset in train_test_data :\n",
    "    dataset.loc[dataset[\"Age\"] < 16, \"Age\"] = 0\n",
    "    dataset.loc[(dataset[\"Age\"] >= 16) & (dataset[\"Age\"] < 26), \"Age\"] = 1\n",
    "    dataset.loc[(dataset[\"Age\"] >= 26) & (dataset[\"Age\"] < 36), \"Age\"] = 2\n",
    "    dataset.loc[(dataset[\"Age\"] >= 36) & (dataset[\"Age\"] < 62), \"Age\"] = 3\n",
    "    dataset.loc[dataset[\"Age\"] >= 62, \"Age\"] = 4\n",
    "    "
   ]
  },
  {
   "cell_type": "code",
   "execution_count": 160,
   "metadata": {},
   "outputs": [
    {
     "data": {
      "text/html": [
       "<div>\n",
       "<style scoped>\n",
       "    .dataframe tbody tr th:only-of-type {\n",
       "        vertical-align: middle;\n",
       "    }\n",
       "\n",
       "    .dataframe tbody tr th {\n",
       "        vertical-align: top;\n",
       "    }\n",
       "\n",
       "    .dataframe thead th {\n",
       "        text-align: right;\n",
       "    }\n",
       "</style>\n",
       "<table border=\"1\" class=\"dataframe\">\n",
       "  <thead>\n",
       "    <tr style=\"text-align: right;\">\n",
       "      <th></th>\n",
       "      <th>PassengerId</th>\n",
       "      <th>Pclass</th>\n",
       "      <th>Sex</th>\n",
       "      <th>Age</th>\n",
       "      <th>SibSp</th>\n",
       "      <th>Parch</th>\n",
       "      <th>Ticket</th>\n",
       "      <th>Fare</th>\n",
       "      <th>Cabin</th>\n",
       "      <th>Embarked</th>\n",
       "      <th>Title</th>\n",
       "    </tr>\n",
       "  </thead>\n",
       "  <tbody>\n",
       "    <tr>\n",
       "      <td>0</td>\n",
       "      <td>892</td>\n",
       "      <td>3</td>\n",
       "      <td>0</td>\n",
       "      <td>2.0</td>\n",
       "      <td>0</td>\n",
       "      <td>0</td>\n",
       "      <td>330911</td>\n",
       "      <td>7.8292</td>\n",
       "      <td>NaN</td>\n",
       "      <td>Q</td>\n",
       "      <td>0</td>\n",
       "    </tr>\n",
       "    <tr>\n",
       "      <td>1</td>\n",
       "      <td>893</td>\n",
       "      <td>3</td>\n",
       "      <td>1</td>\n",
       "      <td>3.0</td>\n",
       "      <td>1</td>\n",
       "      <td>0</td>\n",
       "      <td>363272</td>\n",
       "      <td>7.0000</td>\n",
       "      <td>NaN</td>\n",
       "      <td>S</td>\n",
       "      <td>2</td>\n",
       "    </tr>\n",
       "    <tr>\n",
       "      <td>2</td>\n",
       "      <td>894</td>\n",
       "      <td>2</td>\n",
       "      <td>0</td>\n",
       "      <td>4.0</td>\n",
       "      <td>0</td>\n",
       "      <td>0</td>\n",
       "      <td>240276</td>\n",
       "      <td>9.6875</td>\n",
       "      <td>NaN</td>\n",
       "      <td>Q</td>\n",
       "      <td>0</td>\n",
       "    </tr>\n",
       "    <tr>\n",
       "      <td>3</td>\n",
       "      <td>895</td>\n",
       "      <td>3</td>\n",
       "      <td>0</td>\n",
       "      <td>2.0</td>\n",
       "      <td>0</td>\n",
       "      <td>0</td>\n",
       "      <td>315154</td>\n",
       "      <td>8.6625</td>\n",
       "      <td>NaN</td>\n",
       "      <td>S</td>\n",
       "      <td>0</td>\n",
       "    </tr>\n",
       "    <tr>\n",
       "      <td>4</td>\n",
       "      <td>896</td>\n",
       "      <td>3</td>\n",
       "      <td>1</td>\n",
       "      <td>1.0</td>\n",
       "      <td>1</td>\n",
       "      <td>1</td>\n",
       "      <td>3101298</td>\n",
       "      <td>12.2875</td>\n",
       "      <td>NaN</td>\n",
       "      <td>S</td>\n",
       "      <td>2</td>\n",
       "    </tr>\n",
       "  </tbody>\n",
       "</table>\n",
       "</div>"
      ],
      "text/plain": [
       "   PassengerId  Pclass  Sex  Age  SibSp  Parch   Ticket     Fare Cabin  \\\n",
       "0          892       3    0  2.0      0      0   330911   7.8292   NaN   \n",
       "1          893       3    1  3.0      1      0   363272   7.0000   NaN   \n",
       "2          894       2    0  4.0      0      0   240276   9.6875   NaN   \n",
       "3          895       3    0  2.0      0      0   315154   8.6625   NaN   \n",
       "4          896       3    1  1.0      1      1  3101298  12.2875   NaN   \n",
       "\n",
       "  Embarked  Title  \n",
       "0        Q      0  \n",
       "1        S      2  \n",
       "2        Q      0  \n",
       "3        S      0  \n",
       "4        S      2  "
      ]
     },
     "execution_count": 160,
     "metadata": {},
     "output_type": "execute_result"
    }
   ],
   "source": [
    "train.head()\n",
    "test.head()"
   ]
  },
  {
   "cell_type": "code",
   "execution_count": 161,
   "metadata": {},
   "outputs": [
    {
     "data": {
      "text/plain": [
       "PassengerId      0\n",
       "Pclass           0\n",
       "Sex              0\n",
       "Age              0\n",
       "SibSp            0\n",
       "Parch            0\n",
       "Ticket           0\n",
       "Fare             1\n",
       "Cabin          327\n",
       "Embarked         0\n",
       "Title            0\n",
       "dtype: int64"
      ]
     },
     "execution_count": 161,
     "metadata": {},
     "output_type": "execute_result"
    }
   ],
   "source": [
    "# Embarked\n",
    "\n",
    "train.isnull().sum()\n",
    "test.isnull().sum()"
   ]
  },
  {
   "cell_type": "code",
   "execution_count": 162,
   "metadata": {},
   "outputs": [
    {
     "data": {
      "text/plain": [
       "<matplotlib.axes._subplots.AxesSubplot at 0x1e1331b1708>"
      ]
     },
     "execution_count": 162,
     "metadata": {},
     "output_type": "execute_result"
    },
    {
     "data": {
      "image/png": "[encoded data removed]",
      "text/plain": [
       "<Figure size 720x360 with 1 Axes>"
      ]
     },
     "metadata": {
      "needs_background": "light"
     },
     "output_type": "display_data"
    }
   ],
   "source": [
    "p1 = train[train[\"Pclass\"]==1][\"Embarked\"].value_counts()\n",
    "p2 = train[train[\"Pclass\"]==2][\"Embarked\"].value_counts()\n",
    "p3 = train[train[\"Pclass\"]==3][\"Embarked\"].value_counts()\n",
    "\n",
    "df = pd.DataFrame([p1, p2, p3])\n",
    "df.index = [\"1st class\", \"2nd class\", \"3rd class\"]\n",
    "df.head()\n",
    "df.plot(kind=\"bar\", stacked=True, figsize=(10, 5))"
   ]
  },
  {
   "cell_type": "code",
   "execution_count": 163,
   "metadata": {},
   "outputs": [],
   "source": [
    "# Embarked 결측치는 S로 채워준다.\n",
    "train[\"Embarked\"] = train[\"Embarked\"].fillna(\"S\")"
   ]
  },
  {
   "cell_type": "code",
   "execution_count": 164,
   "metadata": {},
   "outputs": [
    {
     "data": {
      "text/plain": [
       "PassengerId      0\n",
       "Survived         0\n",
       "Pclass           0\n",
       "Sex              0\n",
       "Age              0\n",
       "SibSp            0\n",
       "Parch            0\n",
       "Ticket           0\n",
       "Fare             0\n",
       "Cabin          687\n",
       "Embarked         0\n",
       "Title            0\n",
       "dtype: int64"
      ]
     },
     "execution_count": 164,
     "metadata": {},
     "output_type": "execute_result"
    }
   ],
   "source": [
    "train.isnull().sum() # 결측치 없음을 확인하기 "
   ]
  },
  {
   "cell_type": "code",
   "execution_count": 165,
   "metadata": {},
   "outputs": [],
   "source": [
    "for dataset in train_test_data:\n",
    "    dataset[\"Embarked\"] = dataset[\"Embarked\"].map({\"S\":0, \"C\":1, \"Q\":2})"
   ]
  },
  {
   "cell_type": "code",
   "execution_count": 166,
   "metadata": {},
   "outputs": [
    {
     "data": {
      "text/html": [
       "<div>\n",
       "<style scoped>\n",
       "    .dataframe tbody tr th:only-of-type {\n",
       "        vertical-align: middle;\n",
       "    }\n",
       "\n",
       "    .dataframe tbody tr th {\n",
       "        vertical-align: top;\n",
       "    }\n",
       "\n",
       "    .dataframe thead th {\n",
       "        text-align: right;\n",
       "    }\n",
       "</style>\n",
       "<table border=\"1\" class=\"dataframe\">\n",
       "  <thead>\n",
       "    <tr style=\"text-align: right;\">\n",
       "      <th></th>\n",
       "      <th>PassengerId</th>\n",
       "      <th>Pclass</th>\n",
       "      <th>Sex</th>\n",
       "      <th>Age</th>\n",
       "      <th>SibSp</th>\n",
       "      <th>Parch</th>\n",
       "      <th>Ticket</th>\n",
       "      <th>Fare</th>\n",
       "      <th>Cabin</th>\n",
       "      <th>Embarked</th>\n",
       "      <th>Title</th>\n",
       "    </tr>\n",
       "  </thead>\n",
       "  <tbody>\n",
       "    <tr>\n",
       "      <td>0</td>\n",
       "      <td>892</td>\n",
       "      <td>3</td>\n",
       "      <td>0</td>\n",
       "      <td>2.0</td>\n",
       "      <td>0</td>\n",
       "      <td>0</td>\n",
       "      <td>330911</td>\n",
       "      <td>7.8292</td>\n",
       "      <td>NaN</td>\n",
       "      <td>2</td>\n",
       "      <td>0</td>\n",
       "    </tr>\n",
       "    <tr>\n",
       "      <td>1</td>\n",
       "      <td>893</td>\n",
       "      <td>3</td>\n",
       "      <td>1</td>\n",
       "      <td>3.0</td>\n",
       "      <td>1</td>\n",
       "      <td>0</td>\n",
       "      <td>363272</td>\n",
       "      <td>7.0000</td>\n",
       "      <td>NaN</td>\n",
       "      <td>0</td>\n",
       "      <td>2</td>\n",
       "    </tr>\n",
       "    <tr>\n",
       "      <td>2</td>\n",
       "      <td>894</td>\n",
       "      <td>2</td>\n",
       "      <td>0</td>\n",
       "      <td>4.0</td>\n",
       "      <td>0</td>\n",
       "      <td>0</td>\n",
       "      <td>240276</td>\n",
       "      <td>9.6875</td>\n",
       "      <td>NaN</td>\n",
       "      <td>2</td>\n",
       "      <td>0</td>\n",
       "    </tr>\n",
       "    <tr>\n",
       "      <td>3</td>\n",
       "      <td>895</td>\n",
       "      <td>3</td>\n",
       "      <td>0</td>\n",
       "      <td>2.0</td>\n",
       "      <td>0</td>\n",
       "      <td>0</td>\n",
       "      <td>315154</td>\n",
       "      <td>8.6625</td>\n",
       "      <td>NaN</td>\n",
       "      <td>0</td>\n",
       "      <td>0</td>\n",
       "    </tr>\n",
       "    <tr>\n",
       "      <td>4</td>\n",
       "      <td>896</td>\n",
       "      <td>3</td>\n",
       "      <td>1</td>\n",
       "      <td>1.0</td>\n",
       "      <td>1</td>\n",
       "      <td>1</td>\n",
       "      <td>3101298</td>\n",
       "      <td>12.2875</td>\n",
       "      <td>NaN</td>\n",
       "      <td>0</td>\n",
       "      <td>2</td>\n",
       "    </tr>\n",
       "  </tbody>\n",
       "</table>\n",
       "</div>"
      ],
      "text/plain": [
       "   PassengerId  Pclass  Sex  Age  SibSp  Parch   Ticket     Fare Cabin  \\\n",
       "0          892       3    0  2.0      0      0   330911   7.8292   NaN   \n",
       "1          893       3    1  3.0      1      0   363272   7.0000   NaN   \n",
       "2          894       2    0  4.0      0      0   240276   9.6875   NaN   \n",
       "3          895       3    0  2.0      0      0   315154   8.6625   NaN   \n",
       "4          896       3    1  1.0      1      1  3101298  12.2875   NaN   \n",
       "\n",
       "   Embarked  Title  \n",
       "0         2      0  \n",
       "1         0      2  \n",
       "2         2      0  \n",
       "3         0      0  \n",
       "4         0      2  "
      ]
     },
     "execution_count": 166,
     "metadata": {},
     "output_type": "execute_result"
    }
   ],
   "source": [
    "train.head()\n",
    "test.head()"
   ]
  },
  {
   "cell_type": "code",
   "execution_count": 167,
   "metadata": {},
   "outputs": [
    {
     "data": {
      "text/plain": [
       "PassengerId      0\n",
       "Pclass           0\n",
       "Sex              0\n",
       "Age              0\n",
       "SibSp            0\n",
       "Parch            0\n",
       "Ticket           0\n",
       "Fare             1\n",
       "Cabin          327\n",
       "Embarked         0\n",
       "Title            0\n",
       "dtype: int64"
      ]
     },
     "execution_count": 167,
     "metadata": {},
     "output_type": "execute_result"
    }
   ],
   "source": [
    "# Fare\n",
    "\n",
    "train.isnull().sum()\n",
    "test.isnull().sum()"
   ]
  },
  {
   "cell_type": "code",
   "execution_count": 168,
   "metadata": {},
   "outputs": [],
   "source": [
    "# 객실 등급을 이용하여 Fare 결측치 채움\n",
    "test[\"Fare\"].fillna(test.groupby(\"Pclass\")[\"Fare\"].transform(\"median\"), inplace=True)"
   ]
  },
  {
   "cell_type": "code",
   "execution_count": 169,
   "metadata": {},
   "outputs": [
    {
     "data": {
      "text/plain": [
       "0"
      ]
     },
     "execution_count": 169,
     "metadata": {},
     "output_type": "execute_result"
    }
   ],
   "source": [
    "test[\"Fare\"].isnull().sum() # 결측치 처리 확인"
   ]
  },
  {
   "cell_type": "code",
   "execution_count": 170,
   "metadata": {},
   "outputs": [],
   "source": [
    "for dataset in train_test_data:\n",
    "    dataset.loc[dataset[\"Fare\"]<=17, \"Fare\"] = 0\n",
    "    dataset.loc[(dataset[\"Fare\"]>17) & (dataset[\"Fare\"]<=30), \"Fare\"] = 1\n",
    "    dataset.loc[(dataset[\"Fare\"]>30) & (dataset[\"Fare\"]<=100), \"Fare\"] = 2\n",
    "    dataset.loc[(dataset[\"Fare\"]>100), \"Fare\"] = 3"
   ]
  },
  {
   "cell_type": "code",
   "execution_count": 171,
   "metadata": {},
   "outputs": [
    {
     "data": {
      "text/html": [
       "<div>\n",
       "<style scoped>\n",
       "    .dataframe tbody tr th:only-of-type {\n",
       "        vertical-align: middle;\n",
       "    }\n",
       "\n",
       "    .dataframe tbody tr th {\n",
       "        vertical-align: top;\n",
       "    }\n",
       "\n",
       "    .dataframe thead th {\n",
       "        text-align: right;\n",
       "    }\n",
       "</style>\n",
       "<table border=\"1\" class=\"dataframe\">\n",
       "  <thead>\n",
       "    <tr style=\"text-align: right;\">\n",
       "      <th></th>\n",
       "      <th>PassengerId</th>\n",
       "      <th>Pclass</th>\n",
       "      <th>Sex</th>\n",
       "      <th>Age</th>\n",
       "      <th>SibSp</th>\n",
       "      <th>Parch</th>\n",
       "      <th>Ticket</th>\n",
       "      <th>Fare</th>\n",
       "      <th>Cabin</th>\n",
       "      <th>Embarked</th>\n",
       "      <th>Title</th>\n",
       "    </tr>\n",
       "  </thead>\n",
       "  <tbody>\n",
       "    <tr>\n",
       "      <td>0</td>\n",
       "      <td>892</td>\n",
       "      <td>3</td>\n",
       "      <td>0</td>\n",
       "      <td>2.0</td>\n",
       "      <td>0</td>\n",
       "      <td>0</td>\n",
       "      <td>330911</td>\n",
       "      <td>0.0</td>\n",
       "      <td>NaN</td>\n",
       "      <td>2</td>\n",
       "      <td>0</td>\n",
       "    </tr>\n",
       "    <tr>\n",
       "      <td>1</td>\n",
       "      <td>893</td>\n",
       "      <td>3</td>\n",
       "      <td>1</td>\n",
       "      <td>3.0</td>\n",
       "      <td>1</td>\n",
       "      <td>0</td>\n",
       "      <td>363272</td>\n",
       "      <td>0.0</td>\n",
       "      <td>NaN</td>\n",
       "      <td>0</td>\n",
       "      <td>2</td>\n",
       "    </tr>\n",
       "    <tr>\n",
       "      <td>2</td>\n",
       "      <td>894</td>\n",
       "      <td>2</td>\n",
       "      <td>0</td>\n",
       "      <td>4.0</td>\n",
       "      <td>0</td>\n",
       "      <td>0</td>\n",
       "      <td>240276</td>\n",
       "      <td>0.0</td>\n",
       "      <td>NaN</td>\n",
       "      <td>2</td>\n",
       "      <td>0</td>\n",
       "    </tr>\n",
       "    <tr>\n",
       "      <td>3</td>\n",
       "      <td>895</td>\n",
       "      <td>3</td>\n",
       "      <td>0</td>\n",
       "      <td>2.0</td>\n",
       "      <td>0</td>\n",
       "      <td>0</td>\n",
       "      <td>315154</td>\n",
       "      <td>0.0</td>\n",
       "      <td>NaN</td>\n",
       "      <td>0</td>\n",
       "      <td>0</td>\n",
       "    </tr>\n",
       "    <tr>\n",
       "      <td>4</td>\n",
       "      <td>896</td>\n",
       "      <td>3</td>\n",
       "      <td>1</td>\n",
       "      <td>1.0</td>\n",
       "      <td>1</td>\n",
       "      <td>1</td>\n",
       "      <td>3101298</td>\n",
       "      <td>0.0</td>\n",
       "      <td>NaN</td>\n",
       "      <td>0</td>\n",
       "      <td>2</td>\n",
       "    </tr>\n",
       "  </tbody>\n",
       "</table>\n",
       "</div>"
      ],
      "text/plain": [
       "   PassengerId  Pclass  Sex  Age  SibSp  Parch   Ticket  Fare Cabin  Embarked  \\\n",
       "0          892       3    0  2.0      0      0   330911   0.0   NaN         2   \n",
       "1          893       3    1  3.0      1      0   363272   0.0   NaN         0   \n",
       "2          894       2    0  4.0      0      0   240276   0.0   NaN         2   \n",
       "3          895       3    0  2.0      0      0   315154   0.0   NaN         0   \n",
       "4          896       3    1  1.0      1      1  3101298   0.0   NaN         0   \n",
       "\n",
       "   Title  \n",
       "0      0  \n",
       "1      2  \n",
       "2      0  \n",
       "3      0  \n",
       "4      2  "
      ]
     },
     "execution_count": 171,
     "metadata": {},
     "output_type": "execute_result"
    }
   ],
   "source": [
    "train.head()\n",
    "test.head()"
   ]
  },
  {
   "cell_type": "code",
   "execution_count": 172,
   "metadata": {},
   "outputs": [
    {
     "data": {
      "text/plain": [
       "B96 B98        4\n",
       "C23 C25 C27    4\n",
       "G6             4\n",
       "C22 C26        3\n",
       "F2             3\n",
       "              ..\n",
       "D46            1\n",
       "A19            1\n",
       "C128           1\n",
       "E49            1\n",
       "A16            1\n",
       "Name: Cabin, Length: 147, dtype: int64"
      ]
     },
     "execution_count": 172,
     "metadata": {},
     "output_type": "execute_result"
    }
   ],
   "source": [
    "# Cabin\n",
    "\n",
    "train.Cabin.value_counts()"
   ]
  },
  {
   "cell_type": "code",
   "execution_count": 173,
   "metadata": {},
   "outputs": [],
   "source": [
    "for dataset in train_test_data:\n",
    "    dataset[\"Cabin\"] = dataset[\"Cabin\"].str[:1]"
   ]
  },
  {
   "cell_type": "code",
   "execution_count": 174,
   "metadata": {},
   "outputs": [
    {
     "data": {
      "text/html": [
       "<div>\n",
       "<style scoped>\n",
       "    .dataframe tbody tr th:only-of-type {\n",
       "        vertical-align: middle;\n",
       "    }\n",
       "\n",
       "    .dataframe tbody tr th {\n",
       "        vertical-align: top;\n",
       "    }\n",
       "\n",
       "    .dataframe thead th {\n",
       "        text-align: right;\n",
       "    }\n",
       "</style>\n",
       "<table border=\"1\" class=\"dataframe\">\n",
       "  <thead>\n",
       "    <tr style=\"text-align: right;\">\n",
       "      <th></th>\n",
       "      <th>PassengerId</th>\n",
       "      <th>Pclass</th>\n",
       "      <th>Sex</th>\n",
       "      <th>Age</th>\n",
       "      <th>SibSp</th>\n",
       "      <th>Parch</th>\n",
       "      <th>Ticket</th>\n",
       "      <th>Fare</th>\n",
       "      <th>Cabin</th>\n",
       "      <th>Embarked</th>\n",
       "      <th>Title</th>\n",
       "    </tr>\n",
       "  </thead>\n",
       "  <tbody>\n",
       "    <tr>\n",
       "      <td>413</td>\n",
       "      <td>1305</td>\n",
       "      <td>3</td>\n",
       "      <td>0</td>\n",
       "      <td>2.0</td>\n",
       "      <td>0</td>\n",
       "      <td>0</td>\n",
       "      <td>A.5. 3236</td>\n",
       "      <td>0.0</td>\n",
       "      <td>NaN</td>\n",
       "      <td>0</td>\n",
       "      <td>0</td>\n",
       "    </tr>\n",
       "    <tr>\n",
       "      <td>414</td>\n",
       "      <td>1306</td>\n",
       "      <td>1</td>\n",
       "      <td>1</td>\n",
       "      <td>3.0</td>\n",
       "      <td>0</td>\n",
       "      <td>0</td>\n",
       "      <td>PC 17758</td>\n",
       "      <td>3.0</td>\n",
       "      <td>C</td>\n",
       "      <td>1</td>\n",
       "      <td>3</td>\n",
       "    </tr>\n",
       "    <tr>\n",
       "      <td>415</td>\n",
       "      <td>1307</td>\n",
       "      <td>3</td>\n",
       "      <td>0</td>\n",
       "      <td>3.0</td>\n",
       "      <td>0</td>\n",
       "      <td>0</td>\n",
       "      <td>SOTON/O.Q. 3101262</td>\n",
       "      <td>0.0</td>\n",
       "      <td>NaN</td>\n",
       "      <td>0</td>\n",
       "      <td>0</td>\n",
       "    </tr>\n",
       "    <tr>\n",
       "      <td>416</td>\n",
       "      <td>1308</td>\n",
       "      <td>3</td>\n",
       "      <td>0</td>\n",
       "      <td>2.0</td>\n",
       "      <td>0</td>\n",
       "      <td>0</td>\n",
       "      <td>359309</td>\n",
       "      <td>0.0</td>\n",
       "      <td>NaN</td>\n",
       "      <td>0</td>\n",
       "      <td>0</td>\n",
       "    </tr>\n",
       "    <tr>\n",
       "      <td>417</td>\n",
       "      <td>1309</td>\n",
       "      <td>3</td>\n",
       "      <td>0</td>\n",
       "      <td>0.0</td>\n",
       "      <td>1</td>\n",
       "      <td>1</td>\n",
       "      <td>2668</td>\n",
       "      <td>1.0</td>\n",
       "      <td>NaN</td>\n",
       "      <td>1</td>\n",
       "      <td>3</td>\n",
       "    </tr>\n",
       "  </tbody>\n",
       "</table>\n",
       "</div>"
      ],
      "text/plain": [
       "     PassengerId  Pclass  Sex  Age  SibSp  Parch              Ticket  Fare  \\\n",
       "413         1305       3    0  2.0      0      0           A.5. 3236   0.0   \n",
       "414         1306       1    1  3.0      0      0            PC 17758   3.0   \n",
       "415         1307       3    0  3.0      0      0  SOTON/O.Q. 3101262   0.0   \n",
       "416         1308       3    0  2.0      0      0              359309   0.0   \n",
       "417         1309       3    0  0.0      1      1                2668   1.0   \n",
       "\n",
       "    Cabin  Embarked  Title  \n",
       "413   NaN         0      0  \n",
       "414     C         1      3  \n",
       "415   NaN         0      0  \n",
       "416   NaN         0      0  \n",
       "417   NaN         1      3  "
      ]
     },
     "execution_count": 174,
     "metadata": {},
     "output_type": "execute_result"
    }
   ],
   "source": [
    "train.head()\n",
    "test.tail()"
   ]
  },
  {
   "cell_type": "code",
   "execution_count": 175,
   "metadata": {},
   "outputs": [
    {
     "data": {
      "text/plain": [
       "<matplotlib.axes._subplots.AxesSubplot at 0x1e133219308>"
      ]
     },
     "execution_count": 175,
     "metadata": {},
     "output_type": "execute_result"
    },
    {
     "data": {
      "image/png": "[encoded data removed]",
      "text/plain": [
       "<Figure size 720x360 with 1 Axes>"
      ]
     },
     "metadata": {
      "needs_background": "light"
     },
     "output_type": "display_data"
    }
   ],
   "source": [
    "Pclass1 = train[train[\"Pclass\"]==1][\"Cabin\"].value_counts()\n",
    "Pclass2 = train[train[\"Pclass\"]==2][\"Cabin\"].value_counts()\n",
    "Pclass3 = train[train[\"Pclass\"]==3][\"Cabin\"].value_counts()\n",
    "\n",
    "df = pd.DataFrame([Pclass1, Pclass2, Pclass3])\n",
    "df.index = [\"1st class\", \"2nd class\", \"3rd class\"]\n",
    "df.plot(kind=\"bar\", stacked=True, figsize=(10, 5))"
   ]
  },
  {
   "cell_type": "code",
   "execution_count": 176,
   "metadata": {},
   "outputs": [],
   "source": [
    "cabin_mapping = {\"A\":0, \"B\":0.4, \"C\":0.8, \"D\":1.2, \"E\":1.6, \"F\":2, \"G\":2.4, \"T\":2.8}\n",
    "\n",
    "for dataset in train_test_data:\n",
    "    dataset[\"Cabin\"] = dataset[\"Cabin\"].map(cabin_mapping)"
   ]
  },
  {
   "cell_type": "code",
   "execution_count": 177,
   "metadata": {},
   "outputs": [],
   "source": [
    "train[\"Cabin\"].fillna(train.groupby(\"Pclass\")[\"Cabin\"].transform(\"median\"), inplace=True)\n",
    "test[\"Cabin\"].fillna(test.groupby(\"Pclass\")[\"Cabin\"].transform(\"median\"), inplace=True)"
   ]
  },
  {
   "cell_type": "code",
   "execution_count": 178,
   "metadata": {},
   "outputs": [
    {
     "data": {
      "text/html": [
       "<div>\n",
       "<style scoped>\n",
       "    .dataframe tbody tr th:only-of-type {\n",
       "        vertical-align: middle;\n",
       "    }\n",
       "\n",
       "    .dataframe tbody tr th {\n",
       "        vertical-align: top;\n",
       "    }\n",
       "\n",
       "    .dataframe thead th {\n",
       "        text-align: right;\n",
       "    }\n",
       "</style>\n",
       "<table border=\"1\" class=\"dataframe\">\n",
       "  <thead>\n",
       "    <tr style=\"text-align: right;\">\n",
       "      <th></th>\n",
       "      <th>PassengerId</th>\n",
       "      <th>Pclass</th>\n",
       "      <th>Sex</th>\n",
       "      <th>Age</th>\n",
       "      <th>SibSp</th>\n",
       "      <th>Parch</th>\n",
       "      <th>Ticket</th>\n",
       "      <th>Fare</th>\n",
       "      <th>Cabin</th>\n",
       "      <th>Embarked</th>\n",
       "      <th>Title</th>\n",
       "    </tr>\n",
       "  </thead>\n",
       "  <tbody>\n",
       "    <tr>\n",
       "      <td>0</td>\n",
       "      <td>892</td>\n",
       "      <td>3</td>\n",
       "      <td>0</td>\n",
       "      <td>2.0</td>\n",
       "      <td>0</td>\n",
       "      <td>0</td>\n",
       "      <td>330911</td>\n",
       "      <td>0.0</td>\n",
       "      <td>2.0</td>\n",
       "      <td>2</td>\n",
       "      <td>0</td>\n",
       "    </tr>\n",
       "    <tr>\n",
       "      <td>1</td>\n",
       "      <td>893</td>\n",
       "      <td>3</td>\n",
       "      <td>1</td>\n",
       "      <td>3.0</td>\n",
       "      <td>1</td>\n",
       "      <td>0</td>\n",
       "      <td>363272</td>\n",
       "      <td>0.0</td>\n",
       "      <td>2.0</td>\n",
       "      <td>0</td>\n",
       "      <td>2</td>\n",
       "    </tr>\n",
       "    <tr>\n",
       "      <td>2</td>\n",
       "      <td>894</td>\n",
       "      <td>2</td>\n",
       "      <td>0</td>\n",
       "      <td>4.0</td>\n",
       "      <td>0</td>\n",
       "      <td>0</td>\n",
       "      <td>240276</td>\n",
       "      <td>0.0</td>\n",
       "      <td>2.0</td>\n",
       "      <td>2</td>\n",
       "      <td>0</td>\n",
       "    </tr>\n",
       "    <tr>\n",
       "      <td>3</td>\n",
       "      <td>895</td>\n",
       "      <td>3</td>\n",
       "      <td>0</td>\n",
       "      <td>2.0</td>\n",
       "      <td>0</td>\n",
       "      <td>0</td>\n",
       "      <td>315154</td>\n",
       "      <td>0.0</td>\n",
       "      <td>2.0</td>\n",
       "      <td>0</td>\n",
       "      <td>0</td>\n",
       "    </tr>\n",
       "    <tr>\n",
       "      <td>4</td>\n",
       "      <td>896</td>\n",
       "      <td>3</td>\n",
       "      <td>1</td>\n",
       "      <td>1.0</td>\n",
       "      <td>1</td>\n",
       "      <td>1</td>\n",
       "      <td>3101298</td>\n",
       "      <td>0.0</td>\n",
       "      <td>2.0</td>\n",
       "      <td>0</td>\n",
       "      <td>2</td>\n",
       "    </tr>\n",
       "  </tbody>\n",
       "</table>\n",
       "</div>"
      ],
      "text/plain": [
       "   PassengerId  Pclass  Sex  Age  SibSp  Parch   Ticket  Fare  Cabin  \\\n",
       "0          892       3    0  2.0      0      0   330911   0.0    2.0   \n",
       "1          893       3    1  3.0      1      0   363272   0.0    2.0   \n",
       "2          894       2    0  4.0      0      0   240276   0.0    2.0   \n",
       "3          895       3    0  2.0      0      0   315154   0.0    2.0   \n",
       "4          896       3    1  1.0      1      1  3101298   0.0    2.0   \n",
       "\n",
       "   Embarked  Title  \n",
       "0         2      0  \n",
       "1         0      2  \n",
       "2         2      0  \n",
       "3         0      0  \n",
       "4         0      2  "
      ]
     },
     "execution_count": 178,
     "metadata": {},
     "output_type": "execute_result"
    }
   ],
   "source": [
    "train.head()\n",
    "test.head()"
   ]
  },
  {
   "cell_type": "code",
   "execution_count": 179,
   "metadata": {},
   "outputs": [],
   "source": [
    "# 동승자 컬럼 합치기\n",
    "train[\"FamilySize\"] = train[\"SibSp\"] + train[\"Parch\"] + 1 # + 1 : 동승자 여부 , 최소값 1 \n",
    "test[\"FamilySize\"] = test[\"SibSp\"] + train[\"Parch\"] + 1"
   ]
  },
  {
   "cell_type": "code",
   "execution_count": 180,
   "metadata": {},
   "outputs": [
    {
     "data": {
      "text/plain": [
       "1.0     213\n",
       "2.0     127\n",
       "3.0      52\n",
       "4.0      13\n",
       "5.0       6\n",
       "7.0       3\n",
       "6.0       1\n",
       "13.0      1\n",
       "10.0      1\n",
       "8.0       1\n",
       "Name: FamilySize, dtype: int64"
      ]
     },
     "execution_count": 180,
     "metadata": {},
     "output_type": "execute_result"
    }
   ],
   "source": [
    "# 확인\n",
    "train[\"FamilySize\"].value_counts()\n",
    "test[\"FamilySize\"].value_counts()"
   ]
  },
  {
   "cell_type": "code",
   "execution_count": 181,
   "metadata": {},
   "outputs": [],
   "source": [
    "# 불필요 컬럼 삭제\n",
    "features_drop = [\"Ticket\", \"SibSp\", \"Parch\"]\n",
    "train = train.drop(features_drop, axis=1)\n",
    "test = test.drop(features_drop, axis=1)"
   ]
  },
  {
   "cell_type": "code",
   "execution_count": 182,
   "metadata": {},
   "outputs": [
    {
     "data": {
      "text/html": [
       "<div>\n",
       "<style scoped>\n",
       "    .dataframe tbody tr th:only-of-type {\n",
       "        vertical-align: middle;\n",
       "    }\n",
       "\n",
       "    .dataframe tbody tr th {\n",
       "        vertical-align: top;\n",
       "    }\n",
       "\n",
       "    .dataframe thead th {\n",
       "        text-align: right;\n",
       "    }\n",
       "</style>\n",
       "<table border=\"1\" class=\"dataframe\">\n",
       "  <thead>\n",
       "    <tr style=\"text-align: right;\">\n",
       "      <th></th>\n",
       "      <th>PassengerId</th>\n",
       "      <th>Pclass</th>\n",
       "      <th>Sex</th>\n",
       "      <th>Age</th>\n",
       "      <th>Fare</th>\n",
       "      <th>Cabin</th>\n",
       "      <th>Embarked</th>\n",
       "      <th>Title</th>\n",
       "      <th>FamilySize</th>\n",
       "    </tr>\n",
       "  </thead>\n",
       "  <tbody>\n",
       "    <tr>\n",
       "      <td>0</td>\n",
       "      <td>892</td>\n",
       "      <td>3</td>\n",
       "      <td>0</td>\n",
       "      <td>2.0</td>\n",
       "      <td>0.0</td>\n",
       "      <td>2.0</td>\n",
       "      <td>2</td>\n",
       "      <td>0</td>\n",
       "      <td>1.0</td>\n",
       "    </tr>\n",
       "    <tr>\n",
       "      <td>1</td>\n",
       "      <td>893</td>\n",
       "      <td>3</td>\n",
       "      <td>1</td>\n",
       "      <td>3.0</td>\n",
       "      <td>0.0</td>\n",
       "      <td>2.0</td>\n",
       "      <td>0</td>\n",
       "      <td>2</td>\n",
       "      <td>2.0</td>\n",
       "    </tr>\n",
       "    <tr>\n",
       "      <td>2</td>\n",
       "      <td>894</td>\n",
       "      <td>2</td>\n",
       "      <td>0</td>\n",
       "      <td>4.0</td>\n",
       "      <td>0.0</td>\n",
       "      <td>2.0</td>\n",
       "      <td>2</td>\n",
       "      <td>0</td>\n",
       "      <td>1.0</td>\n",
       "    </tr>\n",
       "    <tr>\n",
       "      <td>3</td>\n",
       "      <td>895</td>\n",
       "      <td>3</td>\n",
       "      <td>0</td>\n",
       "      <td>2.0</td>\n",
       "      <td>0.0</td>\n",
       "      <td>2.0</td>\n",
       "      <td>0</td>\n",
       "      <td>0</td>\n",
       "      <td>1.0</td>\n",
       "    </tr>\n",
       "    <tr>\n",
       "      <td>4</td>\n",
       "      <td>896</td>\n",
       "      <td>3</td>\n",
       "      <td>1</td>\n",
       "      <td>1.0</td>\n",
       "      <td>0.0</td>\n",
       "      <td>2.0</td>\n",
       "      <td>0</td>\n",
       "      <td>2</td>\n",
       "      <td>2.0</td>\n",
       "    </tr>\n",
       "  </tbody>\n",
       "</table>\n",
       "</div>"
      ],
      "text/plain": [
       "   PassengerId  Pclass  Sex  Age  Fare  Cabin  Embarked  Title  FamilySize\n",
       "0          892       3    0  2.0   0.0    2.0         2      0         1.0\n",
       "1          893       3    1  3.0   0.0    2.0         0      2         2.0\n",
       "2          894       2    0  4.0   0.0    2.0         2      0         1.0\n",
       "3          895       3    0  2.0   0.0    2.0         0      0         1.0\n",
       "4          896       3    1  1.0   0.0    2.0         0      2         2.0"
      ]
     },
     "execution_count": 182,
     "metadata": {},
     "output_type": "execute_result"
    }
   ],
   "source": [
    "train.head()\n",
    "test.head()"
   ]
  },
  {
   "cell_type": "code",
   "execution_count": 183,
   "metadata": {},
   "outputs": [],
   "source": [
    "train = train.drop([\"PassengerId\"], axis=1)"
   ]
  },
  {
   "cell_type": "code",
   "execution_count": 184,
   "metadata": {},
   "outputs": [],
   "source": [
    "train_data = train.drop(\"Survived\", axis=1)\n",
    "target = train[\"Survived\"]"
   ]
  },
  {
   "cell_type": "code",
   "execution_count": 185,
   "metadata": {},
   "outputs": [
    {
     "name": "stdout",
     "output_type": "stream",
     "text": [
      "(891, 8) (891,)\n"
     ]
    }
   ],
   "source": [
    "print(train_data.shape, target.shape)"
   ]
  },
  {
   "cell_type": "code",
   "execution_count": 186,
   "metadata": {},
   "outputs": [],
   "source": [
    "# train_data.to_csv(\"data/titanic/train_data.csv\", index=False)\n",
    "# target.to_csv(\"data/titanic/target.csv\", index=False)"
   ]
  },
  {
   "cell_type": "code",
   "execution_count": 187,
   "metadata": {},
   "outputs": [],
   "source": [
    "# 이어서 다시 가져오기 \n",
    "\n",
    "# train_data = pd.read_csv(\"data/titanic/train_data.csv\")\n",
    "# target = pd.read_csv(\"data/titanic/target.csv\", header=None)\n",
    "                         "
   ]
  },
  {
   "cell_type": "code",
   "execution_count": 188,
   "metadata": {},
   "outputs": [
    {
     "data": {
      "text/plain": [
       "0    0\n",
       "1    1\n",
       "2    1\n",
       "3    1\n",
       "4    0\n",
       "Name: Survived, dtype: int64"
      ]
     },
     "execution_count": 188,
     "metadata": {},
     "output_type": "execute_result"
    }
   ],
   "source": [
    "train_data.head()\n",
    "target.head()"
   ]
  },
  {
   "cell_type": "markdown",
   "metadata": {},
   "source": [
    "## Modeling\n",
    "    어떤 알고리즘으로 사용할지 정해지지 않았다면\n",
    "    \n",
    "    간단하게 \n",
    "    \n",
    "    - knn\n",
    "    - Decision Tree\n",
    "    - Random Forest\n",
    "    - SVM\n",
    "    - Naive Bayes"
   ]
  },
  {
   "cell_type": "code",
   "execution_count": 189,
   "metadata": {},
   "outputs": [],
   "source": [
    "# 관련 모듈 import 하기\n",
    "from sklearn.neighbors import KNeighborsClassifier\n",
    "from sklearn.tree import DecisionTreeClassifier\n",
    "from sklearn.ensemble import RandomForestClassifier\n",
    "from sklearn.naive_bayes import GaussianNB\n",
    "from sklearn.svm import SVC\n",
    "\n",
    "\n",
    "# 우리가 사용하는 데이터는 연속 데이터이다."
   ]
  },
  {
   "cell_type": "markdown",
   "metadata": {},
   "source": [
    "    테스트를 해봐야하는데 실제로 마지막에 해야하는 작업이다.\n",
    "\n",
    "    이 테스트 데이터는 주관적인 데이터가 아무것도 들어가면 안된다.\n",
    "\n",
    "## k-fold 알고리즘\n",
    "\n",
    "    Cross Validation에서 사용하는 알고리즘\n",
    "\n",
    "    훈련용 데이터를 접어서 테스트용으로 써버리는 것이다.\n",
    "    \n",
    "    k의 숫자를 정하면\n",
    "    \n",
    "    k번 만큼 나누어서 훈련용과 테스트용으로 나누는 것\n",
    "    \n",
    "    자료 찾아볼 것"
   ]
  },
  {
   "cell_type": "code",
   "execution_count": 190,
   "metadata": {},
   "outputs": [],
   "source": [
    "# Cross Validation()    K-fold 알고리즘 사용\n",
    "\n",
    "# 그 이전에 사용해보긴 했는데 \n",
    "# 단독으로 사용해보지는 않고 다른 함수를 쓸 때 옵션으로 사용했다.\n",
    "\n",
    "from sklearn.model_selection import KFold\n",
    "\n",
    "# 성능측정한 평균값이 있을테고 그 중 가장 우수한 것을 찾아야하므로 다음을 사용\n",
    "from sklearn.model_selection import cross_val_score\n",
    "\n",
    "\n",
    "k_fold = KFold(n_splits=10, shuffle=True, random_state=0)\n",
    "\n",
    "#n_splits : 몇개로 나눌 것인지 \n",
    "#shuffle : 데이터 나누기 전에 공정성을 위해 섞을 것인지 여부\n"
   ]
  },
  {
   "cell_type": "code",
   "execution_count": 191,
   "metadata": {},
   "outputs": [],
   "source": [
    "# KNN\n",
    "clf = KNeighborsClassifier(n_neighbors=13)  #이웃의 수\n",
    "score = cross_val_score(clf, train_data, target, cv=k_fold, n_jobs=1, scoring=\"accuracy\")\n",
    "\n",
    "# cv : 어떤 방식으로 할것인가 // 위에서 만들어놓은 k_fold 방식으로 할 것이기 때문에 k_fold\n",
    "# scoring : 측정방식 선택 // 정확도로 할 것이기 때문에 accuracy"
   ]
  },
  {
   "cell_type": "code",
   "execution_count": 192,
   "metadata": {},
   "outputs": [
    {
     "name": "stdout",
     "output_type": "stream",
     "text": [
      "[0.8        0.74157303 0.82022472 0.85393258 0.80898876 0.83146067\n",
      " 0.80898876 0.75280899 0.80898876 0.82022472]\n"
     ]
    },
    {
     "data": {
      "text/plain": [
       "80.47"
      ]
     },
     "execution_count": 192,
     "metadata": {},
     "output_type": "execute_result"
    }
   ],
   "source": [
    "print(score)\n",
    "round(np.mean(score)*100, 2)"
   ]
  },
  {
   "cell_type": "code",
   "execution_count": null,
   "metadata": {},
   "outputs": [],
   "source": []
  },
  {
   "cell_type": "code",
   "execution_count": null,
   "metadata": {},
   "outputs": [],
   "source": []
  },
  {
   "cell_type": "code",
   "execution_count": 193,
   "metadata": {},
   "outputs": [
    {
     "name": "stdout",
     "output_type": "stream",
     "text": [
      "[0.78888889 0.88764045 0.75280899 0.7752809  0.86516854 0.78651685\n",
      " 0.82022472 0.79775281 0.74157303 0.80898876]\n"
     ]
    },
    {
     "data": {
      "text/plain": [
       "80.25"
      ]
     },
     "execution_count": 193,
     "metadata": {},
     "output_type": "execute_result"
    }
   ],
   "source": [
    "# Decision Tree\n",
    "clf = DecisionTreeClassifier()\n",
    "score = cross_val_score(clf, train_data, target, cv=k_fold, n_jobs=1, scoring=\"accuracy\") \n",
    "print(score)\n",
    "round(np.mean(score)*100, 2)"
   ]
  },
  {
   "cell_type": "code",
   "execution_count": 194,
   "metadata": {},
   "outputs": [
    {
     "name": "stdout",
     "output_type": "stream",
     "text": [
      "[0.82222222 0.87640449 0.78651685 0.78651685 0.86516854 0.80898876\n",
      " 0.80898876 0.79775281 0.7752809  0.80898876]\n"
     ]
    },
    {
     "data": {
      "text/plain": [
       "81.37"
      ]
     },
     "execution_count": 194,
     "metadata": {},
     "output_type": "execute_result"
    }
   ],
   "source": [
    "# Random Forest\n",
    "clf = RandomForestClassifier(n_estimators=13)\n",
    "score = cross_val_score(clf, train_data, target, cv=k_fold, n_jobs=1, scoring=\"accuracy\") \n",
    "print(score)\n",
    "round(np.mean(score)*100, 2)"
   ]
  },
  {
   "cell_type": "code",
   "execution_count": 195,
   "metadata": {},
   "outputs": [
    {
     "name": "stdout",
     "output_type": "stream",
     "text": [
      "[0.85555556 0.73033708 0.75280899 0.75280899 0.70786517 0.80898876\n",
      " 0.76404494 0.80898876 0.86516854 0.83146067]\n",
      "[0.81111111 0.78651685 0.83146067 0.82022472 0.84269663 0.82022472\n",
      " 0.83146067 0.84269663 0.84269663 0.86516854]\n"
     ]
    },
    {
     "name": "stderr",
     "output_type": "stream",
     "text": [
      "C:\\Users\\acorn\\Anaconda3\\lib\\site-packages\\sklearn\\svm\\base.py:193: FutureWarning: The default value of gamma will change from 'auto' to 'scale' in version 0.22 to account better for unscaled features. Set gamma explicitly to 'auto' or 'scale' to avoid this warning.\n",
      "  \"avoid this warning.\", FutureWarning)\n",
      "C:\\Users\\acorn\\Anaconda3\\lib\\site-packages\\sklearn\\svm\\base.py:193: FutureWarning: The default value of gamma will change from 'auto' to 'scale' in version 0.22 to account better for unscaled features. Set gamma explicitly to 'auto' or 'scale' to avoid this warning.\n",
      "  \"avoid this warning.\", FutureWarning)\n",
      "C:\\Users\\acorn\\Anaconda3\\lib\\site-packages\\sklearn\\svm\\base.py:193: FutureWarning: The default value of gamma will change from 'auto' to 'scale' in version 0.22 to account better for unscaled features. Set gamma explicitly to 'auto' or 'scale' to avoid this warning.\n",
      "  \"avoid this warning.\", FutureWarning)\n",
      "C:\\Users\\acorn\\Anaconda3\\lib\\site-packages\\sklearn\\svm\\base.py:193: FutureWarning: The default value of gamma will change from 'auto' to 'scale' in version 0.22 to account better for unscaled features. Set gamma explicitly to 'auto' or 'scale' to avoid this warning.\n",
      "  \"avoid this warning.\", FutureWarning)\n",
      "C:\\Users\\acorn\\Anaconda3\\lib\\site-packages\\sklearn\\svm\\base.py:193: FutureWarning: The default value of gamma will change from 'auto' to 'scale' in version 0.22 to account better for unscaled features. Set gamma explicitly to 'auto' or 'scale' to avoid this warning.\n",
      "  \"avoid this warning.\", FutureWarning)\n",
      "C:\\Users\\acorn\\Anaconda3\\lib\\site-packages\\sklearn\\svm\\base.py:193: FutureWarning: The default value of gamma will change from 'auto' to 'scale' in version 0.22 to account better for unscaled features. Set gamma explicitly to 'auto' or 'scale' to avoid this warning.\n",
      "  \"avoid this warning.\", FutureWarning)\n",
      "C:\\Users\\acorn\\Anaconda3\\lib\\site-packages\\sklearn\\svm\\base.py:193: FutureWarning: The default value of gamma will change from 'auto' to 'scale' in version 0.22 to account better for unscaled features. Set gamma explicitly to 'auto' or 'scale' to avoid this warning.\n",
      "  \"avoid this warning.\", FutureWarning)\n",
      "C:\\Users\\acorn\\Anaconda3\\lib\\site-packages\\sklearn\\svm\\base.py:193: FutureWarning: The default value of gamma will change from 'auto' to 'scale' in version 0.22 to account better for unscaled features. Set gamma explicitly to 'auto' or 'scale' to avoid this warning.\n",
      "  \"avoid this warning.\", FutureWarning)\n",
      "C:\\Users\\acorn\\Anaconda3\\lib\\site-packages\\sklearn\\svm\\base.py:193: FutureWarning: The default value of gamma will change from 'auto' to 'scale' in version 0.22 to account better for unscaled features. Set gamma explicitly to 'auto' or 'scale' to avoid this warning.\n",
      "  \"avoid this warning.\", FutureWarning)\n",
      "C:\\Users\\acorn\\Anaconda3\\lib\\site-packages\\sklearn\\svm\\base.py:193: FutureWarning: The default value of gamma will change from 'auto' to 'scale' in version 0.22 to account better for unscaled features. Set gamma explicitly to 'auto' or 'scale' to avoid this warning.\n",
      "  \"avoid this warning.\", FutureWarning)\n"
     ]
    },
    {
     "data": {
      "text/plain": [
       "82.94"
      ]
     },
     "execution_count": 195,
     "metadata": {},
     "output_type": "execute_result"
    }
   ],
   "source": [
    "# Naive Bayes\n",
    "clf = GaussianNB()\n",
    "score = cross_val_score(clf, train_data, target, cv=k_fold, n_jobs=1, scoring=\"accuracy\") \n",
    "print(score)\n",
    "round(np.mean(score)*100, 2)\n",
    "\n",
    "\n",
    "# SVM\n",
    "clf = SVC()\n",
    "score = cross_val_score(clf, train_data, target, cv=k_fold, n_jobs=1, scoring=\"accuracy\") \n",
    "print(score)\n",
    "round(np.mean(score)*100, 2)"
   ]
  },
  {
   "cell_type": "markdown",
   "metadata": {},
   "source": [
    "## Trainning"
   ]
  },
  {
   "cell_type": "code",
   "execution_count": 196,
   "metadata": {},
   "outputs": [
    {
     "data": {
      "text/html": [
       "<div>\n",
       "<style scoped>\n",
       "    .dataframe tbody tr th:only-of-type {\n",
       "        vertical-align: middle;\n",
       "    }\n",
       "\n",
       "    .dataframe tbody tr th {\n",
       "        vertical-align: top;\n",
       "    }\n",
       "\n",
       "    .dataframe thead th {\n",
       "        text-align: right;\n",
       "    }\n",
       "</style>\n",
       "<table border=\"1\" class=\"dataframe\">\n",
       "  <thead>\n",
       "    <tr style=\"text-align: right;\">\n",
       "      <th></th>\n",
       "      <th>PassengerId</th>\n",
       "      <th>Pclass</th>\n",
       "      <th>Sex</th>\n",
       "      <th>Age</th>\n",
       "      <th>Fare</th>\n",
       "      <th>Cabin</th>\n",
       "      <th>Embarked</th>\n",
       "      <th>Title</th>\n",
       "      <th>FamilySize</th>\n",
       "    </tr>\n",
       "  </thead>\n",
       "  <tbody>\n",
       "    <tr>\n",
       "      <td>0</td>\n",
       "      <td>892</td>\n",
       "      <td>3</td>\n",
       "      <td>0</td>\n",
       "      <td>2.0</td>\n",
       "      <td>0.0</td>\n",
       "      <td>2.0</td>\n",
       "      <td>2</td>\n",
       "      <td>0</td>\n",
       "      <td>1.0</td>\n",
       "    </tr>\n",
       "    <tr>\n",
       "      <td>1</td>\n",
       "      <td>893</td>\n",
       "      <td>3</td>\n",
       "      <td>1</td>\n",
       "      <td>3.0</td>\n",
       "      <td>0.0</td>\n",
       "      <td>2.0</td>\n",
       "      <td>0</td>\n",
       "      <td>2</td>\n",
       "      <td>2.0</td>\n",
       "    </tr>\n",
       "    <tr>\n",
       "      <td>2</td>\n",
       "      <td>894</td>\n",
       "      <td>2</td>\n",
       "      <td>0</td>\n",
       "      <td>4.0</td>\n",
       "      <td>0.0</td>\n",
       "      <td>2.0</td>\n",
       "      <td>2</td>\n",
       "      <td>0</td>\n",
       "      <td>1.0</td>\n",
       "    </tr>\n",
       "    <tr>\n",
       "      <td>3</td>\n",
       "      <td>895</td>\n",
       "      <td>3</td>\n",
       "      <td>0</td>\n",
       "      <td>2.0</td>\n",
       "      <td>0.0</td>\n",
       "      <td>2.0</td>\n",
       "      <td>0</td>\n",
       "      <td>0</td>\n",
       "      <td>1.0</td>\n",
       "    </tr>\n",
       "    <tr>\n",
       "      <td>4</td>\n",
       "      <td>896</td>\n",
       "      <td>3</td>\n",
       "      <td>1</td>\n",
       "      <td>1.0</td>\n",
       "      <td>0.0</td>\n",
       "      <td>2.0</td>\n",
       "      <td>0</td>\n",
       "      <td>2</td>\n",
       "      <td>2.0</td>\n",
       "    </tr>\n",
       "  </tbody>\n",
       "</table>\n",
       "</div>"
      ],
      "text/plain": [
       "   PassengerId  Pclass  Sex  Age  Fare  Cabin  Embarked  Title  FamilySize\n",
       "0          892       3    0  2.0   0.0    2.0         2      0         1.0\n",
       "1          893       3    1  3.0   0.0    2.0         0      2         2.0\n",
       "2          894       2    0  4.0   0.0    2.0         2      0         1.0\n",
       "3          895       3    0  2.0   0.0    2.0         0      0         1.0\n",
       "4          896       3    1  1.0   0.0    2.0         0      2         2.0"
      ]
     },
     "execution_count": 196,
     "metadata": {},
     "output_type": "execute_result"
    }
   ],
   "source": [
    "test.head()"
   ]
  },
  {
   "cell_type": "markdown",
   "metadata": {},
   "source": [
    "    PassengerID 는 이제 필요없으니 삭제하도록 한다."
   ]
  },
  {
   "cell_type": "code",
   "execution_count": 201,
   "metadata": {},
   "outputs": [],
   "source": [
    "test_data = test.drop(\"PassengerId\", axis = 1).copy()  #원본 데이터는 놔두고 삭제한 데이터를 test_data로 옮겨두기"
   ]
  },
  {
   "cell_type": "code",
   "execution_count": 202,
   "metadata": {},
   "outputs": [
    {
     "data": {
      "text/html": [
       "<div>\n",
       "<style scoped>\n",
       "    .dataframe tbody tr th:only-of-type {\n",
       "        vertical-align: middle;\n",
       "    }\n",
       "\n",
       "    .dataframe tbody tr th {\n",
       "        vertical-align: top;\n",
       "    }\n",
       "\n",
       "    .dataframe thead th {\n",
       "        text-align: right;\n",
       "    }\n",
       "</style>\n",
       "<table border=\"1\" class=\"dataframe\">\n",
       "  <thead>\n",
       "    <tr style=\"text-align: right;\">\n",
       "      <th></th>\n",
       "      <th>Pclass</th>\n",
       "      <th>Sex</th>\n",
       "      <th>Age</th>\n",
       "      <th>Fare</th>\n",
       "      <th>Cabin</th>\n",
       "      <th>Embarked</th>\n",
       "      <th>Title</th>\n",
       "      <th>FamilySize</th>\n",
       "    </tr>\n",
       "  </thead>\n",
       "  <tbody>\n",
       "    <tr>\n",
       "      <td>0</td>\n",
       "      <td>3</td>\n",
       "      <td>0</td>\n",
       "      <td>2.0</td>\n",
       "      <td>0.0</td>\n",
       "      <td>2.0</td>\n",
       "      <td>2</td>\n",
       "      <td>0</td>\n",
       "      <td>1.0</td>\n",
       "    </tr>\n",
       "    <tr>\n",
       "      <td>1</td>\n",
       "      <td>3</td>\n",
       "      <td>1</td>\n",
       "      <td>3.0</td>\n",
       "      <td>0.0</td>\n",
       "      <td>2.0</td>\n",
       "      <td>0</td>\n",
       "      <td>2</td>\n",
       "      <td>2.0</td>\n",
       "    </tr>\n",
       "    <tr>\n",
       "      <td>2</td>\n",
       "      <td>2</td>\n",
       "      <td>0</td>\n",
       "      <td>4.0</td>\n",
       "      <td>0.0</td>\n",
       "      <td>2.0</td>\n",
       "      <td>2</td>\n",
       "      <td>0</td>\n",
       "      <td>1.0</td>\n",
       "    </tr>\n",
       "    <tr>\n",
       "      <td>3</td>\n",
       "      <td>3</td>\n",
       "      <td>0</td>\n",
       "      <td>2.0</td>\n",
       "      <td>0.0</td>\n",
       "      <td>2.0</td>\n",
       "      <td>0</td>\n",
       "      <td>0</td>\n",
       "      <td>1.0</td>\n",
       "    </tr>\n",
       "    <tr>\n",
       "      <td>4</td>\n",
       "      <td>3</td>\n",
       "      <td>1</td>\n",
       "      <td>1.0</td>\n",
       "      <td>0.0</td>\n",
       "      <td>2.0</td>\n",
       "      <td>0</td>\n",
       "      <td>2</td>\n",
       "      <td>2.0</td>\n",
       "    </tr>\n",
       "  </tbody>\n",
       "</table>\n",
       "</div>"
      ],
      "text/plain": [
       "   Pclass  Sex  Age  Fare  Cabin  Embarked  Title  FamilySize\n",
       "0       3    0  2.0   0.0    2.0         2      0         1.0\n",
       "1       3    1  3.0   0.0    2.0         0      2         2.0\n",
       "2       2    0  4.0   0.0    2.0         2      0         1.0\n",
       "3       3    0  2.0   0.0    2.0         0      0         1.0\n",
       "4       3    1  1.0   0.0    2.0         0      2         2.0"
      ]
     },
     "execution_count": 202,
     "metadata": {},
     "output_type": "execute_result"
    }
   ],
   "source": [
    "test_data.head()"
   ]
  },
  {
   "cell_type": "code",
   "execution_count": 2,
   "metadata": {},
   "outputs": [],
   "source": [
    "# pred = clf.predict(test_data)"
   ]
  },
  {
   "cell_type": "code",
   "execution_count": 1,
   "metadata": {},
   "outputs": [],
   "source": [
    "# submission = pd.DataFrame({\"PassengerId\":test[\"PassengerId\"], \"Survived\":pred})\n",
    "# submission.head()"
   ]
  },
  {
   "cell_type": "markdown",
   "metadata": {},
   "source": [
    "# 인공신경망 (입력과 출력사이의 이뤄지는 것)\n",
    "\n",
    "    \n",
    "\n",
    "    sklearn에서 우리가 굳이 할 필욘없다.\n",
    "    \n",
    "    \n",
    "    입력과 출력 사이에 많은 과정이 있는데 이 부분이 인공신경망\n",
    "    \n",
    "    참고자료 - 인공신경망.pdf \n",
    "    \n",
    "    \n",
    "    1페이지\n",
    "        컴퓨터 처리 구조를 뇌와 비슷하게 만든 것을 기초\n",
    "        사람의 신경 세포\n",
    "    \n",
    "    \n",
    "    2페이지"
   ]
  },
  {
   "cell_type": "markdown",
   "metadata": {},
   "source": [
    "    - 다중 퍼셉트론(Multilayer Perceptron, MLP)\n",
    "    - 비교적 간단한 분류와 회귀에서 사용\n",
    "    - 피드 포워드 신경망, 신경망, 완전 연결 신경망(Full Connected Neural, Network)\n",
    "      라는 여러 단어로 표현되지만 같은 뜻이다."
   ]
  },
  {
   "cell_type": "code",
   "execution_count": 205,
   "metadata": {},
   "outputs": [
    {
     "data": {
      "image/png": "[encoded data removed]",
      "text/plain": [
       "<Figure size 432x288 with 1 Axes>"
      ]
     },
     "metadata": {
      "needs_background": "light"
     },
     "output_type": "display_data"
    }
   ],
   "source": [
    "from sklearn.tree import export_graphviz\n",
    "import os\n",
    "\n",
    "# 환경 변수경로에 추가\n",
    "os.environ[\"PATH\"] += os.pathsep + \"C:/Program Files (x86)/Graphviz2.38/bin\"\n",
    "#os.pathsep : 지금까지의 설정뒤에 세미콜론을 찍어주기 위한 속성\n",
    "\n",
    "#설치확인 그림\n",
    "mglearn.plots.plot_animal_tree()\n",
    "\n",
    "\n"
   ]
  },
  {
   "cell_type": "code",
   "execution_count": 206,
   "metadata": {},
   "outputs": [
    {
     "data": {
      "image/svg+xml": [
       "<?xml version=\"1.0\" encoding=\"UTF-8\" standalone=\"no\"?>\r\n",
       "<!DOCTYPE svg PUBLIC \"-//W3C//DTD SVG 1.1//EN\"\r\n",
       " \"http://www.w3.org/Graphics/SVG/1.1/DTD/svg11.dtd\">\r\n",
       "<!-- Generated by graphviz version 2.38.0 (20140413.2041)\r\n",
       " -->\r\n",
       "<!-- Title: %3 Pages: 1 -->\r\n",
       "<svg width=\"252pt\" height=\"261pt\"\r\n",
       " viewBox=\"0.00 0.00 252.00 261.00\" xmlns=\"http://www.w3.org/2000/svg\" xmlns:xlink=\"http://www.w3.org/1999/xlink\">\r\n",
       "<g id=\"graph0\" class=\"graph\" transform=\"scale(1 1) rotate(0) translate(4 257)\">\r\n",
       "<title>%3</title>\r\n",
       "<polygon fill=\"white\" stroke=\"none\" points=\"-4,4 -4,-257 248,-257 248,4 -4,4\"/>\r\n",
       "<g id=\"clust3\" class=\"cluster\"><title>cluster_2</title>\r\n",
       "<polygon fill=\"none\" stroke=\"white\" points=\"184,-89 184,-164 237,-164 237,-89 184,-89\"/>\r\n",
       "<text text-anchor=\"middle\" x=\"210.5\" y=\"-148.8\" font-family=\"Times New Roman,serif\" font-size=\"14.00\">output</text>\r\n",
       "</g>\r\n",
       "<g id=\"clust1\" class=\"cluster\"><title>cluster_0</title>\r\n",
       "<polygon fill=\"none\" stroke=\"white\" points=\"8,-8 8,-245 60,-245 60,-8 8,-8\"/>\r\n",
       "<text text-anchor=\"middle\" x=\"34\" y=\"-229.8\" font-family=\"Times New Roman,serif\" font-size=\"14.00\">inputs</text>\r\n",
       "</g>\r\n",
       "<g id=\"clust2\" class=\"cluster\"><title>cluster_1</title>\r\n",
       "<polygon fill=\"none\" stroke=\"white\" points=\"80,-35 80,-218 164,-218 164,-35 80,-35\"/>\r\n",
       "<text text-anchor=\"middle\" x=\"122\" y=\"-202.8\" font-family=\"Times New Roman,serif\" font-size=\"14.00\">hidden layer</text>\r\n",
       "</g>\r\n",
       "<!-- x[0] -->\r\n",
       "<g id=\"node1\" class=\"node\"><title>x[0]</title>\r\n",
       "<ellipse fill=\"none\" stroke=\"black\" cx=\"34\" cy=\"-196\" rx=\"18\" ry=\"18\"/>\r\n",
       "<text text-anchor=\"middle\" x=\"34\" y=\"-192.3\" font-family=\"Times New Roman,serif\" font-size=\"14.00\">x[0]</text>\r\n",
       "</g>\r\n",
       "<!-- h0 -->\r\n",
       "<g id=\"node5\" class=\"node\"><title>h0</title>\r\n",
       "<ellipse fill=\"none\" stroke=\"black\" cx=\"122\" cy=\"-61\" rx=\"18\" ry=\"18\"/>\r\n",
       "<text text-anchor=\"middle\" x=\"122\" y=\"-57.3\" font-family=\"Times New Roman,serif\" font-size=\"14.00\">h[0]</text>\r\n",
       "</g>\r\n",
       "<!-- x[0]&#45;&gt;h0 -->\r\n",
       "<g id=\"edge1\" class=\"edge\"><title>x[0]&#45;&gt;h0</title>\r\n",
       "<path fill=\"none\" stroke=\"black\" d=\"M44.5321,-181.037C59.3841,-157.723 88.1768,-112.525 105.882,-84.7317\"/>\r\n",
       "<polygon fill=\"black\" stroke=\"black\" points=\"109.004,-86.3447 111.425,-76.0302 103.1,-82.5838 109.004,-86.3447\"/>\r\n",
       "</g>\r\n",
       "<!-- h1 -->\r\n",
       "<g id=\"node6\" class=\"node\"><title>h1</title>\r\n",
       "<ellipse fill=\"none\" stroke=\"black\" cx=\"122\" cy=\"-169\" rx=\"18\" ry=\"18\"/>\r\n",
       "<text text-anchor=\"middle\" x=\"122\" y=\"-165.3\" font-family=\"Times New Roman,serif\" font-size=\"14.00\">h[1]</text>\r\n",
       "</g>\r\n",
       "<!-- x[0]&#45;&gt;h1 -->\r\n",
       "<g id=\"edge2\" class=\"edge\"><title>x[0]&#45;&gt;h1</title>\r\n",
       "<path fill=\"none\" stroke=\"black\" d=\"M51.5817,-190.794C63.836,-186.947 80.7639,-181.632 94.8355,-177.214\"/>\r\n",
       "<polygon fill=\"black\" stroke=\"black\" points=\"95.9768,-180.525 104.469,-174.19 93.88,-173.846 95.9768,-180.525\"/>\r\n",
       "</g>\r\n",
       "<!-- h2 -->\r\n",
       "<g id=\"node7\" class=\"node\"><title>h2</title>\r\n",
       "<ellipse fill=\"none\" stroke=\"black\" cx=\"122\" cy=\"-115\" rx=\"18\" ry=\"18\"/>\r\n",
       "<text text-anchor=\"middle\" x=\"122\" y=\"-111.3\" font-family=\"Times New Roman,serif\" font-size=\"14.00\">h[2]</text>\r\n",
       "</g>\r\n",
       "<!-- x[0]&#45;&gt;h2 -->\r\n",
       "<g id=\"edge3\" class=\"edge\"><title>x[0]&#45;&gt;h2</title>\r\n",
       "<path fill=\"none\" stroke=\"black\" d=\"M47.6896,-184.048C61.6628,-170.887 84.3244,-149.543 100.757,-134.066\"/>\r\n",
       "<polygon fill=\"black\" stroke=\"black\" points=\"103.379,-136.405 108.258,-127.001 98.5791,-131.309 103.379,-136.405\"/>\r\n",
       "</g>\r\n",
       "<!-- x[1] -->\r\n",
       "<g id=\"node2\" class=\"node\"><title>x[1]</title>\r\n",
       "<ellipse fill=\"none\" stroke=\"black\" cx=\"34\" cy=\"-142\" rx=\"18\" ry=\"18\"/>\r\n",
       "<text text-anchor=\"middle\" x=\"34\" y=\"-138.3\" font-family=\"Times New Roman,serif\" font-size=\"14.00\">x[1]</text>\r\n",
       "</g>\r\n",
       "<!-- x[1]&#45;&gt;h0 -->\r\n",
       "<g id=\"edge4\" class=\"edge\"><title>x[1]&#45;&gt;h0</title>\r\n",
       "<path fill=\"none\" stroke=\"black\" d=\"M47.6896,-130.048C61.6628,-116.887 84.3244,-95.5433 100.757,-80.066\"/>\r\n",
       "<polygon fill=\"black\" stroke=\"black\" points=\"103.379,-82.405 108.258,-73.0009 98.5791,-77.3093 103.379,-82.405\"/>\r\n",
       "</g>\r\n",
       "<!-- x[1]&#45;&gt;h1 -->\r\n",
       "<g id=\"edge5\" class=\"edge\"><title>x[1]&#45;&gt;h1</title>\r\n",
       "<path fill=\"none\" stroke=\"black\" d=\"M51.5817,-147.206C63.836,-151.053 80.7639,-156.368 94.8355,-160.786\"/>\r\n",
       "<polygon fill=\"black\" stroke=\"black\" points=\"93.88,-164.154 104.469,-163.81 95.9768,-157.475 93.88,-164.154\"/>\r\n",
       "</g>\r\n",
       "<!-- x[1]&#45;&gt;h2 -->\r\n",
       "<g id=\"edge6\" class=\"edge\"><title>x[1]&#45;&gt;h2</title>\r\n",
       "<path fill=\"none\" stroke=\"black\" d=\"M51.5817,-136.794C63.836,-132.947 80.7639,-127.632 94.8355,-123.214\"/>\r\n",
       "<polygon fill=\"black\" stroke=\"black\" points=\"95.9768,-126.525 104.469,-120.19 93.88,-119.846 95.9768,-126.525\"/>\r\n",
       "</g>\r\n",
       "<!-- x[2] -->\r\n",
       "<g id=\"node3\" class=\"node\"><title>x[2]</title>\r\n",
       "<ellipse fill=\"none\" stroke=\"black\" cx=\"34\" cy=\"-88\" rx=\"18\" ry=\"18\"/>\r\n",
       "<text text-anchor=\"middle\" x=\"34\" y=\"-84.3\" font-family=\"Times New Roman,serif\" font-size=\"14.00\">x[2]</text>\r\n",
       "</g>\r\n",
       "<!-- x[2]&#45;&gt;h0 -->\r\n",
       "<g id=\"edge7\" class=\"edge\"><title>x[2]&#45;&gt;h0</title>\r\n",
       "<path fill=\"none\" stroke=\"black\" d=\"M51.5817,-82.7941C63.836,-78.9468 80.7639,-73.6323 94.8355,-69.2144\"/>\r\n",
       "<polygon fill=\"black\" stroke=\"black\" points=\"95.9768,-72.5246 104.469,-66.1899 93.88,-65.846 95.9768,-72.5246\"/>\r\n",
       "</g>\r\n",
       "<!-- x[2]&#45;&gt;h1 -->\r\n",
       "<g id=\"edge8\" class=\"edge\"><title>x[2]&#45;&gt;h1</title>\r\n",
       "<path fill=\"none\" stroke=\"black\" d=\"M47.6896,-99.9518C61.6628,-113.113 84.3244,-134.457 100.757,-149.934\"/>\r\n",
       "<polygon fill=\"black\" stroke=\"black\" points=\"98.5791,-152.691 108.258,-156.999 103.379,-147.595 98.5791,-152.691\"/>\r\n",
       "</g>\r\n",
       "<!-- x[2]&#45;&gt;h2 -->\r\n",
       "<g id=\"edge9\" class=\"edge\"><title>x[2]&#45;&gt;h2</title>\r\n",
       "<path fill=\"none\" stroke=\"black\" d=\"M51.5817,-93.2059C63.836,-97.0532 80.7639,-102.368 94.8355,-106.786\"/>\r\n",
       "<polygon fill=\"black\" stroke=\"black\" points=\"93.88,-110.154 104.469,-109.81 95.9768,-103.475 93.88,-110.154\"/>\r\n",
       "</g>\r\n",
       "<!-- x[3] -->\r\n",
       "<g id=\"node4\" class=\"node\"><title>x[3]</title>\r\n",
       "<ellipse fill=\"none\" stroke=\"black\" cx=\"34\" cy=\"-34\" rx=\"18\" ry=\"18\"/>\r\n",
       "<text text-anchor=\"middle\" x=\"34\" y=\"-30.3\" font-family=\"Times New Roman,serif\" font-size=\"14.00\">x[3]</text>\r\n",
       "</g>\r\n",
       "<!-- x[3]&#45;&gt;h0 -->\r\n",
       "<g id=\"edge10\" class=\"edge\"><title>x[3]&#45;&gt;h0</title>\r\n",
       "<path fill=\"none\" stroke=\"black\" d=\"M51.5817,-39.2059C63.836,-43.0532 80.7639,-48.3677 94.8355,-52.7856\"/>\r\n",
       "<polygon fill=\"black\" stroke=\"black\" points=\"93.88,-56.154 104.469,-55.8101 95.9768,-49.4754 93.88,-56.154\"/>\r\n",
       "</g>\r\n",
       "<!-- x[3]&#45;&gt;h1 -->\r\n",
       "<g id=\"edge11\" class=\"edge\"><title>x[3]&#45;&gt;h1</title>\r\n",
       "<path fill=\"none\" stroke=\"black\" d=\"M44.5321,-48.9632C59.3841,-72.2774 88.1768,-117.475 105.882,-145.268\"/>\r\n",
       "<polygon fill=\"black\" stroke=\"black\" points=\"103.1,-147.416 111.425,-153.97 109.004,-143.655 103.1,-147.416\"/>\r\n",
       "</g>\r\n",
       "<!-- x[3]&#45;&gt;h2 -->\r\n",
       "<g id=\"edge12\" class=\"edge\"><title>x[3]&#45;&gt;h2</title>\r\n",
       "<path fill=\"none\" stroke=\"black\" d=\"M47.6896,-45.9518C61.6628,-59.1126 84.3244,-80.4567 100.757,-95.934\"/>\r\n",
       "<polygon fill=\"black\" stroke=\"black\" points=\"98.5791,-98.6907 108.258,-102.999 103.379,-93.595 98.5791,-98.6907\"/>\r\n",
       "</g>\r\n",
       "<!-- y -->\r\n",
       "<g id=\"node8\" class=\"node\"><title>y</title>\r\n",
       "<ellipse fill=\"none\" stroke=\"black\" cx=\"210\" cy=\"-115\" rx=\"18\" ry=\"18\"/>\r\n",
       "<text text-anchor=\"middle\" x=\"210\" y=\"-111.3\" font-family=\"Times New Roman,serif\" font-size=\"14.00\">y</text>\r\n",
       "</g>\r\n",
       "<!-- h0&#45;&gt;y -->\r\n",
       "<g id=\"edge13\" class=\"edge\"><title>h0&#45;&gt;y</title>\r\n",
       "<path fill=\"none\" stroke=\"black\" d=\"M137.589,-70.1604C150.685,-78.3836 170.145,-90.6029 185.445,-100.21\"/>\r\n",
       "<polygon fill=\"black\" stroke=\"black\" points=\"184.01,-103.441 194.34,-105.795 187.732,-97.5129 184.01,-103.441\"/>\r\n",
       "</g>\r\n",
       "<!-- h1&#45;&gt;y -->\r\n",
       "<g id=\"edge14\" class=\"edge\"><title>h1&#45;&gt;y</title>\r\n",
       "<path fill=\"none\" stroke=\"black\" d=\"M137.589,-159.84C150.685,-151.616 170.145,-139.397 185.445,-129.79\"/>\r\n",
       "<polygon fill=\"black\" stroke=\"black\" points=\"187.732,-132.487 194.34,-124.205 184.01,-126.559 187.732,-132.487\"/>\r\n",
       "</g>\r\n",
       "<!-- h2&#45;&gt;y -->\r\n",
       "<g id=\"edge15\" class=\"edge\"><title>h2&#45;&gt;y</title>\r\n",
       "<path fill=\"none\" stroke=\"black\" d=\"M140.403,-115C152.254,-115 168.183,-115 181.708,-115\"/>\r\n",
       "<polygon fill=\"black\" stroke=\"black\" points=\"181.916,-118.5 191.916,-115 181.916,-111.5 181.916,-118.5\"/>\r\n",
       "</g>\r\n",
       "</g>\r\n",
       "</svg>\r\n"
      ],
      "text/plain": [
       "<graphviz.dot.Digraph at 0x1e13331c5c8>"
      ]
     },
     "execution_count": 206,
     "metadata": {},
     "output_type": "execute_result"
    }
   ],
   "source": [
    "mglearn.plots.plot_single_hidden_layer_graph()"
   ]
  },
  {
   "cell_type": "markdown",
   "metadata": {},
   "source": [
    "    w값을 일일이 연결해서 해줘야하는 계층이 생긴다.\n",
    "    \n",
    "    다양한 상황을 계산하기 때문에 \n",
    "    \n",
    "    예를들어\n",
    "    알람이 울렸다 -> 끈다.\n",
    "                  -> 일어난다.  \n",
    "          \n",
    "          이렇게 내가 상황에 따라 다르게 될 수 있을 때\n",
    "          이것을 히든 계층에서 해준다.\n",
    "          \n",
    "      "
   ]
  },
  {
   "cell_type": "code",
   "execution_count": 207,
   "metadata": {},
   "outputs": [
    {
     "data": {
      "image/svg+xml": [
       "<?xml version=\"1.0\" encoding=\"UTF-8\" standalone=\"no\"?>\r\n",
       "<!DOCTYPE svg PUBLIC \"-//W3C//DTD SVG 1.1//EN\"\r\n",
       " \"http://www.w3.org/Graphics/SVG/1.1/DTD/svg11.dtd\">\r\n",
       "<!-- Generated by graphviz version 2.38.0 (20140413.2041)\r\n",
       " -->\r\n",
       "<!-- Title: %3 Pages: 1 -->\r\n",
       "<svg width=\"378pt\" height=\"261pt\"\r\n",
       " viewBox=\"0.00 0.00 378.00 261.00\" xmlns=\"http://www.w3.org/2000/svg\" xmlns:xlink=\"http://www.w3.org/1999/xlink\">\r\n",
       "<g id=\"graph0\" class=\"graph\" transform=\"scale(1 1) rotate(0) translate(4 257)\">\r\n",
       "<title>%3</title>\r\n",
       "<polygon fill=\"white\" stroke=\"none\" points=\"-4,4 -4,-257 374,-257 374,4 -4,4\"/>\r\n",
       "<g id=\"clust3\" class=\"cluster\"><title>cluster_2</title>\r\n",
       "<polygon fill=\"none\" stroke=\"white\" points=\"195,-35 195,-218 290,-218 290,-35 195,-35\"/>\r\n",
       "<text text-anchor=\"middle\" x=\"242.5\" y=\"-202.8\" font-family=\"Times New Roman,serif\" font-size=\"14.00\">hidden layer 2</text>\r\n",
       "</g>\r\n",
       "<g id=\"clust2\" class=\"cluster\"><title>cluster_1</title>\r\n",
       "<polygon fill=\"none\" stroke=\"white\" points=\"80,-35 80,-218 175,-218 175,-35 80,-35\"/>\r\n",
       "<text text-anchor=\"middle\" x=\"127.5\" y=\"-202.8\" font-family=\"Times New Roman,serif\" font-size=\"14.00\">hidden layer 1</text>\r\n",
       "</g>\r\n",
       "<g id=\"clust1\" class=\"cluster\"><title>cluster_0</title>\r\n",
       "<polygon fill=\"none\" stroke=\"white\" points=\"8,-8 8,-245 60,-245 60,-8 8,-8\"/>\r\n",
       "<text text-anchor=\"middle\" x=\"34\" y=\"-229.8\" font-family=\"Times New Roman,serif\" font-size=\"14.00\">inputs</text>\r\n",
       "</g>\r\n",
       "<g id=\"clust4\" class=\"cluster\"><title>cluster_3</title>\r\n",
       "<polygon fill=\"none\" stroke=\"white\" points=\"310,-89 310,-164 363,-164 363,-89 310,-89\"/>\r\n",
       "<text text-anchor=\"middle\" x=\"336.5\" y=\"-148.8\" font-family=\"Times New Roman,serif\" font-size=\"14.00\">output</text>\r\n",
       "</g>\r\n",
       "<!-- x[0] -->\r\n",
       "<g id=\"node1\" class=\"node\"><title>x[0]</title>\r\n",
       "<ellipse fill=\"none\" stroke=\"black\" cx=\"34\" cy=\"-196\" rx=\"18\" ry=\"18\"/>\r\n",
       "<text text-anchor=\"middle\" x=\"34\" y=\"-192.3\" font-family=\"Times New Roman,serif\" font-size=\"14.00\">x[0]</text>\r\n",
       "</g>\r\n",
       "<!-- h1[0] -->\r\n",
       "<g id=\"node5\" class=\"node\"><title>h1[0]</title>\r\n",
       "<ellipse fill=\"none\" stroke=\"black\" cx=\"127\" cy=\"-115\" rx=\"18\" ry=\"18\"/>\r\n",
       "<text text-anchor=\"middle\" x=\"127\" y=\"-111.3\" font-family=\"Times New Roman,serif\" font-size=\"14.00\">h1[0]</text>\r\n",
       "</g>\r\n",
       "<!-- x[0]&#45;&gt;h1[0] -->\r\n",
       "<g id=\"edge1\" class=\"edge\"><title>x[0]&#45;&gt;h1[0]</title>\r\n",
       "<path fill=\"none\" stroke=\"black\" d=\"M48.0381,-184.395C63.0396,-171.042 87.8647,-148.945 105.468,-133.276\"/>\r\n",
       "<polygon fill=\"black\" stroke=\"black\" points=\"107.844,-135.847 112.986,-126.584 103.189,-130.618 107.844,-135.847\"/>\r\n",
       "</g>\r\n",
       "<!-- h1[1] -->\r\n",
       "<g id=\"node6\" class=\"node\"><title>h1[1]</title>\r\n",
       "<ellipse fill=\"none\" stroke=\"black\" cx=\"127\" cy=\"-61\" rx=\"18\" ry=\"18\"/>\r\n",
       "<text text-anchor=\"middle\" x=\"127\" y=\"-57.3\" font-family=\"Times New Roman,serif\" font-size=\"14.00\">h1[1]</text>\r\n",
       "</g>\r\n",
       "<!-- x[0]&#45;&gt;h1[1] -->\r\n",
       "<g id=\"edge2\" class=\"edge\"><title>x[0]&#45;&gt;h1[1]</title>\r\n",
       "<path fill=\"none\" stroke=\"black\" d=\"M44.7386,-181.553C60.4603,-158.229 91.5706,-112.077 110.406,-84.1334\"/>\r\n",
       "<polygon fill=\"black\" stroke=\"black\" points=\"113.368,-86.0011 116.056,-75.7527 107.564,-82.0885 113.368,-86.0011\"/>\r\n",
       "</g>\r\n",
       "<!-- h1[2] -->\r\n",
       "<g id=\"node7\" class=\"node\"><title>h1[2]</title>\r\n",
       "<ellipse fill=\"none\" stroke=\"black\" cx=\"127\" cy=\"-169\" rx=\"18\" ry=\"18\"/>\r\n",
       "<text text-anchor=\"middle\" x=\"127\" y=\"-165.3\" font-family=\"Times New Roman,serif\" font-size=\"14.00\">h1[2]</text>\r\n",
       "</g>\r\n",
       "<!-- x[0]&#45;&gt;h1[2] -->\r\n",
       "<g id=\"edge3\" class=\"edge\"><title>x[0]&#45;&gt;h1[2]</title>\r\n",
       "<path fill=\"none\" stroke=\"black\" d=\"M51.6908,-191.048C65.0315,-187.09 83.9854,-181.466 99.4114,-176.889\"/>\r\n",
       "<polygon fill=\"black\" stroke=\"black\" points=\"100.824,-180.121 109.415,-173.921 98.8325,-173.41 100.824,-180.121\"/>\r\n",
       "</g>\r\n",
       "<!-- x[1] -->\r\n",
       "<g id=\"node2\" class=\"node\"><title>x[1]</title>\r\n",
       "<ellipse fill=\"none\" stroke=\"black\" cx=\"34\" cy=\"-142\" rx=\"18\" ry=\"18\"/>\r\n",
       "<text text-anchor=\"middle\" x=\"34\" y=\"-138.3\" font-family=\"Times New Roman,serif\" font-size=\"14.00\">x[1]</text>\r\n",
       "</g>\r\n",
       "<!-- x[1]&#45;&gt;h1[0] -->\r\n",
       "<g id=\"edge4\" class=\"edge\"><title>x[1]&#45;&gt;h1[0]</title>\r\n",
       "<path fill=\"none\" stroke=\"black\" d=\"M51.6908,-137.048C65.0315,-133.09 83.9854,-127.466 99.4114,-122.889\"/>\r\n",
       "<polygon fill=\"black\" stroke=\"black\" points=\"100.824,-126.121 109.415,-119.921 98.8325,-119.41 100.824,-126.121\"/>\r\n",
       "</g>\r\n",
       "<!-- x[1]&#45;&gt;h1[1] -->\r\n",
       "<g id=\"edge5\" class=\"edge\"><title>x[1]&#45;&gt;h1[1]</title>\r\n",
       "<path fill=\"none\" stroke=\"black\" d=\"M48.0381,-130.395C63.0396,-117.042 87.8647,-94.9446 105.468,-79.276\"/>\r\n",
       "<polygon fill=\"black\" stroke=\"black\" points=\"107.844,-81.8469 112.986,-72.5838 103.189,-76.6182 107.844,-81.8469\"/>\r\n",
       "</g>\r\n",
       "<!-- x[1]&#45;&gt;h1[2] -->\r\n",
       "<g id=\"edge6\" class=\"edge\"><title>x[1]&#45;&gt;h1[2]</title>\r\n",
       "<path fill=\"none\" stroke=\"black\" d=\"M51.6908,-146.952C65.0315,-150.91 83.9854,-156.534 99.4114,-161.111\"/>\r\n",
       "<polygon fill=\"black\" stroke=\"black\" points=\"98.8325,-164.59 109.415,-164.079 100.824,-157.879 98.8325,-164.59\"/>\r\n",
       "</g>\r\n",
       "<!-- x[2] -->\r\n",
       "<g id=\"node3\" class=\"node\"><title>x[2]</title>\r\n",
       "<ellipse fill=\"none\" stroke=\"black\" cx=\"34\" cy=\"-88\" rx=\"18\" ry=\"18\"/>\r\n",
       "<text text-anchor=\"middle\" x=\"34\" y=\"-84.3\" font-family=\"Times New Roman,serif\" font-size=\"14.00\">x[2]</text>\r\n",
       "</g>\r\n",
       "<!-- x[2]&#45;&gt;h1[0] -->\r\n",
       "<g id=\"edge7\" class=\"edge\"><title>x[2]&#45;&gt;h1[0]</title>\r\n",
       "<path fill=\"none\" stroke=\"black\" d=\"M51.6908,-92.9522C65.0315,-96.9104 83.9854,-102.534 99.4114,-107.111\"/>\r\n",
       "<polygon fill=\"black\" stroke=\"black\" points=\"98.8325,-110.59 109.415,-110.079 100.824,-103.879 98.8325,-110.59\"/>\r\n",
       "</g>\r\n",
       "<!-- x[2]&#45;&gt;h1[1] -->\r\n",
       "<g id=\"edge8\" class=\"edge\"><title>x[2]&#45;&gt;h1[1]</title>\r\n",
       "<path fill=\"none\" stroke=\"black\" d=\"M51.6908,-83.0478C65.0315,-79.0896 83.9854,-73.4659 99.4114,-68.8889\"/>\r\n",
       "<polygon fill=\"black\" stroke=\"black\" points=\"100.824,-72.1208 109.415,-65.9208 98.8325,-65.4099 100.824,-72.1208\"/>\r\n",
       "</g>\r\n",
       "<!-- x[2]&#45;&gt;h1[2] -->\r\n",
       "<g id=\"edge9\" class=\"edge\"><title>x[2]&#45;&gt;h1[2]</title>\r\n",
       "<path fill=\"none\" stroke=\"black\" d=\"M48.0381,-99.6053C63.0396,-112.958 87.8647,-135.055 105.468,-150.724\"/>\r\n",
       "<polygon fill=\"black\" stroke=\"black\" points=\"103.189,-153.382 112.986,-157.416 107.844,-148.153 103.189,-153.382\"/>\r\n",
       "</g>\r\n",
       "<!-- x[3] -->\r\n",
       "<g id=\"node4\" class=\"node\"><title>x[3]</title>\r\n",
       "<ellipse fill=\"none\" stroke=\"black\" cx=\"34\" cy=\"-34\" rx=\"18\" ry=\"18\"/>\r\n",
       "<text text-anchor=\"middle\" x=\"34\" y=\"-30.3\" font-family=\"Times New Roman,serif\" font-size=\"14.00\">x[3]</text>\r\n",
       "</g>\r\n",
       "<!-- x[3]&#45;&gt;h1[0] -->\r\n",
       "<g id=\"edge10\" class=\"edge\"><title>x[3]&#45;&gt;h1[0]</title>\r\n",
       "<path fill=\"none\" stroke=\"black\" d=\"M48.0381,-45.6053C63.0396,-58.9584 87.8647,-81.0554 105.468,-96.724\"/>\r\n",
       "<polygon fill=\"black\" stroke=\"black\" points=\"103.189,-99.3818 112.986,-103.416 107.844,-94.1531 103.189,-99.3818\"/>\r\n",
       "</g>\r\n",
       "<!-- x[3]&#45;&gt;h1[1] -->\r\n",
       "<g id=\"edge11\" class=\"edge\"><title>x[3]&#45;&gt;h1[1]</title>\r\n",
       "<path fill=\"none\" stroke=\"black\" d=\"M51.6908,-38.9522C65.0315,-42.9104 83.9854,-48.5341 99.4114,-53.1111\"/>\r\n",
       "<polygon fill=\"black\" stroke=\"black\" points=\"98.8325,-56.5901 109.415,-56.0792 100.824,-49.8792 98.8325,-56.5901\"/>\r\n",
       "</g>\r\n",
       "<!-- x[3]&#45;&gt;h1[2] -->\r\n",
       "<g id=\"edge12\" class=\"edge\"><title>x[3]&#45;&gt;h1[2]</title>\r\n",
       "<path fill=\"none\" stroke=\"black\" d=\"M44.7386,-48.4474C60.4603,-71.7708 91.5706,-117.923 110.406,-145.867\"/>\r\n",
       "<polygon fill=\"black\" stroke=\"black\" points=\"107.564,-147.912 116.056,-154.247 113.368,-143.999 107.564,-147.912\"/>\r\n",
       "</g>\r\n",
       "<!-- h2[0] -->\r\n",
       "<g id=\"node8\" class=\"node\"><title>h2[0]</title>\r\n",
       "<ellipse fill=\"none\" stroke=\"black\" cx=\"242\" cy=\"-115\" rx=\"18\" ry=\"18\"/>\r\n",
       "<text text-anchor=\"middle\" x=\"242\" y=\"-111.3\" font-family=\"Times New Roman,serif\" font-size=\"14.00\">h2[0]</text>\r\n",
       "</g>\r\n",
       "<!-- h1[0]&#45;&gt;h2[0] -->\r\n",
       "<g id=\"edge13\" class=\"edge\"><title>h1[0]&#45;&gt;h2[0]</title>\r\n",
       "<path fill=\"none\" stroke=\"black\" d=\"M145.162,-115C163.331,-115 192.275,-115 213.606,-115\"/>\r\n",
       "<polygon fill=\"black\" stroke=\"black\" points=\"213.676,-118.5 223.676,-115 213.676,-111.5 213.676,-118.5\"/>\r\n",
       "</g>\r\n",
       "<!-- h2[1] -->\r\n",
       "<g id=\"node9\" class=\"node\"><title>h2[1]</title>\r\n",
       "<ellipse fill=\"none\" stroke=\"black\" cx=\"242\" cy=\"-61\" rx=\"18\" ry=\"18\"/>\r\n",
       "<text text-anchor=\"middle\" x=\"242\" y=\"-57.3\" font-family=\"Times New Roman,serif\" font-size=\"14.00\">h2[1]</text>\r\n",
       "</g>\r\n",
       "<!-- h1[0]&#45;&gt;h2[1] -->\r\n",
       "<g id=\"edge14\" class=\"edge\"><title>h1[0]&#45;&gt;h2[1]</title>\r\n",
       "<path fill=\"none\" stroke=\"black\" d=\"M143.712,-107.492C162.518,-98.5046 194.233,-83.3486 216.321,-72.7935\"/>\r\n",
       "<polygon fill=\"black\" stroke=\"black\" points=\"217.908,-75.9144 225.421,-68.4447 214.889,-69.5985 217.908,-75.9144\"/>\r\n",
       "</g>\r\n",
       "<!-- h2[2] -->\r\n",
       "<g id=\"node10\" class=\"node\"><title>h2[2]</title>\r\n",
       "<ellipse fill=\"none\" stroke=\"black\" cx=\"242\" cy=\"-169\" rx=\"18\" ry=\"18\"/>\r\n",
       "<text text-anchor=\"middle\" x=\"242\" y=\"-165.3\" font-family=\"Times New Roman,serif\" font-size=\"14.00\">h2[2]</text>\r\n",
       "</g>\r\n",
       "<!-- h1[0]&#45;&gt;h2[2] -->\r\n",
       "<g id=\"edge15\" class=\"edge\"><title>h1[0]&#45;&gt;h2[2]</title>\r\n",
       "<path fill=\"none\" stroke=\"black\" d=\"M143.712,-122.508C162.518,-131.495 194.233,-146.651 216.321,-157.207\"/>\r\n",
       "<polygon fill=\"black\" stroke=\"black\" points=\"214.889,-160.401 225.421,-161.555 217.908,-154.086 214.889,-160.401\"/>\r\n",
       "</g>\r\n",
       "<!-- h1[1]&#45;&gt;h2[0] -->\r\n",
       "<g id=\"edge16\" class=\"edge\"><title>h1[1]&#45;&gt;h2[0]</title>\r\n",
       "<path fill=\"none\" stroke=\"black\" d=\"M143.712,-68.5085C162.518,-77.4954 194.233,-92.6514 216.321,-103.207\"/>\r\n",
       "<polygon fill=\"black\" stroke=\"black\" points=\"214.889,-106.401 225.421,-107.555 217.908,-100.086 214.889,-106.401\"/>\r\n",
       "</g>\r\n",
       "<!-- h1[1]&#45;&gt;h2[1] -->\r\n",
       "<g id=\"edge17\" class=\"edge\"><title>h1[1]&#45;&gt;h2[1]</title>\r\n",
       "<path fill=\"none\" stroke=\"black\" d=\"M145.162,-61C163.331,-61 192.275,-61 213.606,-61\"/>\r\n",
       "<polygon fill=\"black\" stroke=\"black\" points=\"213.676,-64.5001 223.676,-61 213.676,-57.5001 213.676,-64.5001\"/>\r\n",
       "</g>\r\n",
       "<!-- h1[1]&#45;&gt;h2[2] -->\r\n",
       "<g id=\"edge18\" class=\"edge\"><title>h1[1]&#45;&gt;h2[2]</title>\r\n",
       "<path fill=\"none\" stroke=\"black\" d=\"M140.525,-72.9705C160.04,-91.6219 197.872,-127.78 221.136,-150.015\"/>\r\n",
       "<polygon fill=\"black\" stroke=\"black\" points=\"218.772,-152.597 228.419,-156.976 223.608,-147.536 218.772,-152.597\"/>\r\n",
       "</g>\r\n",
       "<!-- h1[2]&#45;&gt;h2[0] -->\r\n",
       "<g id=\"edge19\" class=\"edge\"><title>h1[2]&#45;&gt;h2[0]</title>\r\n",
       "<path fill=\"none\" stroke=\"black\" d=\"M143.712,-161.492C162.518,-152.505 194.233,-137.349 216.321,-126.793\"/>\r\n",
       "<polygon fill=\"black\" stroke=\"black\" points=\"217.908,-129.914 225.421,-122.445 214.889,-123.599 217.908,-129.914\"/>\r\n",
       "</g>\r\n",
       "<!-- h1[2]&#45;&gt;h2[1] -->\r\n",
       "<g id=\"edge20\" class=\"edge\"><title>h1[2]&#45;&gt;h2[1]</title>\r\n",
       "<path fill=\"none\" stroke=\"black\" d=\"M140.525,-157.029C160.04,-138.378 197.872,-102.22 221.136,-79.9854\"/>\r\n",
       "<polygon fill=\"black\" stroke=\"black\" points=\"223.608,-82.4637 228.419,-73.0242 218.772,-77.4033 223.608,-82.4637\"/>\r\n",
       "</g>\r\n",
       "<!-- h1[2]&#45;&gt;h2[2] -->\r\n",
       "<g id=\"edge21\" class=\"edge\"><title>h1[2]&#45;&gt;h2[2]</title>\r\n",
       "<path fill=\"none\" stroke=\"black\" d=\"M145.162,-169C163.331,-169 192.275,-169 213.606,-169\"/>\r\n",
       "<polygon fill=\"black\" stroke=\"black\" points=\"213.676,-172.5 223.676,-169 213.676,-165.5 213.676,-172.5\"/>\r\n",
       "</g>\r\n",
       "<!-- y -->\r\n",
       "<g id=\"node11\" class=\"node\"><title>y</title>\r\n",
       "<ellipse fill=\"none\" stroke=\"black\" cx=\"336\" cy=\"-115\" rx=\"18\" ry=\"18\"/>\r\n",
       "<text text-anchor=\"middle\" x=\"336\" y=\"-111.3\" font-family=\"Times New Roman,serif\" font-size=\"14.00\">y</text>\r\n",
       "</g>\r\n",
       "<!-- h2[0]&#45;&gt;y -->\r\n",
       "<g id=\"edge22\" class=\"edge\"><title>h2[0]&#45;&gt;y</title>\r\n",
       "<path fill=\"none\" stroke=\"black\" d=\"M260.304,-115C273.54,-115 292.053,-115 307.337,-115\"/>\r\n",
       "<polygon fill=\"black\" stroke=\"black\" points=\"307.773,-118.5 317.773,-115 307.773,-111.5 307.773,-118.5\"/>\r\n",
       "</g>\r\n",
       "<!-- h2[1]&#45;&gt;y -->\r\n",
       "<g id=\"edge23\" class=\"edge\"><title>h2[1]&#45;&gt;y</title>\r\n",
       "<path fill=\"none\" stroke=\"black\" d=\"M257.781,-69.676C272.181,-78.1282 294.309,-91.1164 311.192,-101.026\"/>\r\n",
       "<polygon fill=\"black\" stroke=\"black\" points=\"309.554,-104.123 319.95,-106.166 313.097,-98.0856 309.554,-104.123\"/>\r\n",
       "</g>\r\n",
       "<!-- h2[2]&#45;&gt;y -->\r\n",
       "<g id=\"edge24\" class=\"edge\"><title>h2[2]&#45;&gt;y</title>\r\n",
       "<path fill=\"none\" stroke=\"black\" d=\"M257.781,-160.324C272.181,-151.872 294.309,-138.884 311.192,-128.974\"/>\r\n",
       "<polygon fill=\"black\" stroke=\"black\" points=\"313.097,-131.914 319.95,-123.834 309.554,-125.877 313.097,-131.914\"/>\r\n",
       "</g>\r\n",
       "</g>\r\n",
       "</svg>\r\n"
      ],
      "text/plain": [
       "<graphviz.dot.Digraph at 0x1e131b63fc8>"
      ]
     },
     "execution_count": 207,
     "metadata": {},
     "output_type": "execute_result"
    }
   ],
   "source": [
    "mglearn.plots.plot_two_hidden_layer_graph()"
   ]
  },
  {
   "cell_type": "markdown",
   "metadata": {},
   "source": [
    "    계층이 두개 더 늘어났다.\n",
    "    이로 인해 계산이 천문학적으로 늘어나기 때문에\n",
    "    \n",
    "    좀 더 다양한 경우를 처리할 수 있다.\n",
    "    \n",
    "    \n",
    "    "
   ]
  },
  {
   "cell_type": "code",
   "execution_count": null,
   "metadata": {},
   "outputs": [],
   "source": []
  },
  {
   "cell_type": "code",
   "execution_count": null,
   "metadata": {},
   "outputs": [],
   "source": []
  }
 ],
 "metadata": {
  "kernelspec": {
   "display_name": "Python 3",
   "language": "python",
   "name": "python3"
  },
  "language_info": {
   "codemirror_mode": {
    "name": "ipython",
    "version": 3
   },
   "file_extension": ".py",
   "mimetype": "text/x-python",
   "name": "python",
   "nbconvert_exporter": "python",
   "pygments_lexer": "ipython3",
   "version": "3.7.6"
  }
 },
 "nbformat": 4,
 "nbformat_minor": 2
}

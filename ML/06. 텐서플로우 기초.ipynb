{
 "cells": [
  {
   "cell_type": "markdown",
   "metadata": {},
   "source": [
    "# 텐서플로우\n",
    "\n",
    "    - 구글에서 만든 오픈소스 머신러닝 프레임워크\n",
    "    - 다양한 언어를 제공하며 파이썬이 가장 많이 쓰임\n",
    "    \n",
    "    - 기본적으로 텐서를 활용한 그래프 수치 연산을 하는 도구\n",
    "        tensorflow.org\n",
    "        \n",
    "    \n",
    "    - 설치  v1.0 \n",
    "        pip install tensorflow\n",
    "        pip install tensorflow==1.15.0   # 1.15버전 \n",
    "        \n",
    "        설치가 안되면 콘다로 설치하는 것이 좋다.\n",
    "        conda install tensorflow==1.15.0\n",
    "        \n",
    "    - 설치 v2.0\n",
    "        이렇게 하면 기존의 것을 삭제해야되느냐? 아니다. \n",
    "        \n",
    "        가상의 환경에 맞게 설치하면 된다.\n",
    "        \n",
    "    - 가상환경 준비\n",
    "        하기전 conda update해준다.\n",
    "        conda update --all\n",
    "        \n",
    "        \n",
    "        conda create -n 가상환경이름 anaconda\n",
    "            만약 다른 버전일 때\n",
    "            conda create -n tf1 python=3.8 anaconda\n",
    "    \n",
    "    - 가상환경 들어가기\n",
    "        activate tf1\n",
    "        \n",
    "        (tf1) 이 붙은 모습이 된다.\n",
    "        \n",
    "    - 가상환경 나오기\n",
    "        deactivate\n",
    "        \n",
    "    - tensorflow 설치\n",
    "        (tf1) conda install tensorflow==1.150\n",
    "        \n",
    "        \n",
    "    - 가상환경에서 jupyter 실행\n",
    "        (tf1) jupyter notebook\n",
    "    \n",
    "    - 머신러닝 프레임워크 종류들\n",
    "    \n",
    "        Theano\n",
    "        Pythorch\n",
    "        Torch\n",
    "        Keras [현재 대세]\n",
    "        ..\n",
    "        \n",
    "    \n",
    "        "
   ]
  },
  {
   "cell_type": "markdown",
   "metadata": {},
   "source": [
    "### 다음 환경은 conda 가상머신에서 작업한 것"
   ]
  },
  {
   "cell_type": "code",
   "execution_count": 3,
   "metadata": {},
   "outputs": [
    {
     "name": "stdout",
     "output_type": "stream",
     "text": [
      "1.15.0\n",
      "3.7.6 (default, Jan  8 2020, 20:23:39) [MSC v.1916 64 bit (AMD64)]\n"
     ]
    }
   ],
   "source": [
    "import tensorflow as tf\n",
    "import numpy as np\n",
    "\n",
    "print(tf.__version__)\n",
    "\n",
    "import sys\n",
    "print(sys.version)"
   ]
  },
  {
   "cell_type": "markdown",
   "metadata": {},
   "source": [
    "    참고 사이트\n",
    "        http://hunkim.github.io/ml/\n",
    "        \n",
    "        -> 딥러닝의 기본 개념과, 문제, 그리고 해결 강의 (슬라이드)\n",
    "\n",
    "    4페이지 \n",
    "        가중치가 학습되어서 무언가 증폭시킬 때 중간 함수를\n",
    "        \n",
    "        활성화함수(Activation Function)라고 한다.\n",
    "        \n",
    "        입력받은 데이터를 출력으로 바로 보내는게 아니라 활성화 함수로 \n",
    "        출력을 할건지 어떤 값으로 출력할건지를 결정한다.\n",
    "        \n",
    "        그리고 이 출력값을 그 다음 세포로 전달한다.\n",
    "        \n",
    "        \n",
    "    \n",
    "    \n",
    "    딥러닝 시작할 때\n",
    "        데이터를 많이 준비하자 - 값을 최대로 쓰기 위함?\n",
    "        초기 가중치 값을 잘 설정하자.\n",
    "        \n",
    "        \n",
    "    요즘엔 케라스를 많이 쓴다고 한다.\n",
    "        \n",
    "        "
   ]
  },
  {
   "cell_type": "markdown",
   "metadata": {},
   "source": [
    "## 용어\n",
    "    - 그래프 : 수학적인 의미에서의 노드와 엣지로 구성된 기하 모형\n",
    "        동그라미와 선으로 이루어진 모습인데 흔히 딥러닝할 때 보여주는 노드 모습이다. \n",
    "    - 노드(node) : 연산 및 데이터를 정의\n",
    "    \n",
    "    - 엣지(edge) : 노드를 연결하는 선(데이터의 흐름)\n",
    "    \n",
    "    - 텐서(tensor) : 다차원 데이터 배열\n",
    "    \n",
    "    - 세션(session) : 그래프를 실행시키기 위해서 필요한 객체\n",
    "    \n",
    "    \n",
    "    \n",
    "    "
   ]
  },
  {
   "cell_type": "markdown",
   "metadata": {},
   "source": [
    "## 텐서\n"
   ]
  },
  {
   "cell_type": "code",
   "execution_count": 4,
   "metadata": {},
   "outputs": [
    {
     "data": {
      "text/plain": [
       "0"
      ]
     },
     "execution_count": 4,
     "metadata": {},
     "output_type": "execute_result"
    }
   ],
   "source": [
    "# 스칼라(0차원 텐서, 0D 텐서)\n",
    "x = np.array(10)\n",
    "x.ndim\n"
   ]
  },
  {
   "cell_type": "code",
   "execution_count": 8,
   "metadata": {},
   "outputs": [
    {
     "data": {
      "text/plain": [
       "1"
      ]
     },
     "execution_count": 8,
     "metadata": {},
     "output_type": "execute_result"
    }
   ],
   "source": [
    "# 벡터 1차원 (1차원 텐서, 1D 텐서)\n",
    "x = np.array([10, 2, 7, 9, 21])\n",
    "x.ndim"
   ]
  },
  {
   "cell_type": "code",
   "execution_count": 10,
   "metadata": {},
   "outputs": [
    {
     "data": {
      "text/plain": [
       "2"
      ]
     },
     "execution_count": 10,
     "metadata": {},
     "output_type": "execute_result"
    }
   ],
   "source": [
    "# 행렬 (2D 텐서)\n",
    "x = np.array([[1,2,3,4], [5,6,7,8], [9,10,11,12]])\n",
    "x.ndim\n",
    "# x.dtype"
   ]
  },
  {
   "cell_type": "markdown",
   "metadata": {},
   "source": [
    "    딥러닝에서는 0차원부터 4차원텐서까지 주로 사용\n",
    "    \n",
    "    4차원은 주로 이미지에 이용한다. (폭, 너비, 이미지갯수, 색상수)\n",
    "    \n",
    "    5차원은 영상 (이미지에 한차원이 더해진다, 프레임이 추가됨)\n",
    "    \n",
    "    \n",
    "    핵심속성\n",
    "        1. 축의 개수(rank) : ndim\n",
    "        2. 크기 : shape\n",
    "        3. 타입 : dtype \n",
    "        "
   ]
  },
  {
   "cell_type": "markdown",
   "metadata": {},
   "source": [
    "### 텐서플로우의 가장 기본적인 3가지 구성요소\n",
    "\n",
    "    - placeholder() : 함수이다.\n",
    "    \n",
    "    - constant()    : 함수이다. (상수) \n",
    "        \n",
    "        tf.constant(\n",
    "            value,\n",
    "            dtype=None,\n",
    "            shape=None,\n",
    "            name='Const'\n",
    "            verify_shape = False\n",
    "        )\n",
    "    \n",
    "    \n",
    "    - Variable()   : 클래스이다.\n",
    "    \n",
    "    "
   ]
  },
  {
   "cell_type": "markdown",
   "metadata": {},
   "source": [
    "### constant : 상수"
   ]
  },
  {
   "cell_type": "code",
   "execution_count": 18,
   "metadata": {},
   "outputs": [
    {
     "name": "stdout",
     "output_type": "stream",
     "text": [
      "Tensor(\"Const_3:0\", shape=(), dtype=int32)\n",
      "Tensor(\"Const_4:0\", shape=(), dtype=int32)\n",
      "Tensor(\"Add:0\", shape=(), dtype=int32)\n"
     ]
    }
   ],
   "source": [
    "# 상수\n",
    "\n",
    "a = tf.constant(10)   # 10을 저장하는게 아니다. 준비만 한 것\n",
    "print(a)\n",
    "\n",
    "\n",
    "# b에다가  20을 담을 준비를 해라\n",
    "b = tf.constant(20)\n",
    "print(b)\n",
    "\n",
    "\n",
    "# a텐서, b텐서를 더한 값을 담을 준비만 해라 \n",
    "c = tf.add(a, b)\n",
    "print(c)"
   ]
  },
  {
   "cell_type": "markdown",
   "metadata": {},
   "source": [
    "    이걸 그림으로 그리면 \n",
    "      ----\n",
    "     | 10 |-------\n",
    "      ----        |\n",
    "                  |\n",
    "                 -----\n",
    "                |  +  |   =   30 \n",
    "                 -----\n",
    "                  |\n",
    "      ----        |\n",
    "     | 20 |-------\n",
    "      ----\n",
    "        \n",
    "    이렇게 준비한다는 것이다."
   ]
  },
  {
   "cell_type": "code",
   "execution_count": 19,
   "metadata": {},
   "outputs": [
    {
     "data": {
      "text/plain": [
       "30"
      ]
     },
     "execution_count": 19,
     "metadata": {},
     "output_type": "execute_result"
    }
   ],
   "source": [
    "# 실현하는 곳\n",
    "sess = tf.Session() \n",
    "sess.run(a)\n",
    "sess.run(b)\n",
    "sess.run(c)"
   ]
  },
  {
   "cell_type": "markdown",
   "metadata": {},
   "source": [
    "    아까 구현을 했으면 Session에 담는다.\n",
    "    \n",
    "    그래서 Session을 구현 시키면 그제서야 발동이된다.\n",
    "    \n",
    "    \n",
    "    \n",
    "    그런데 왜이렇게 불편하게 할까?  바로 실행시키는 것이 좋지 않을까?\n",
    "    \n",
    "    이건 딥러닝을 효과적으로 사용하기 위한 하나의 방법이기 때문\n",
    "    \n",
    "    \n",
    "    a, b를 실행시키고 c를 실행시켜야 하는건가?\n",
    "    아니다 a, b 그래프에 흐름에 c가 되기 때문에\n",
    "    그냥 c만 실행시켜도 a,b가 자동으로 실행이 된다. \n",
    "    "
   ]
  },
  {
   "cell_type": "code",
   "execution_count": 21,
   "metadata": {},
   "outputs": [
    {
     "data": {
      "text/plain": [
       "<tensorflow.python.summary.writer.writer.FileWriter at 0x297778f8c08>"
      ]
     },
     "execution_count": 21,
     "metadata": {},
     "output_type": "execute_result"
    }
   ],
   "source": [
    "# TensorBoard 텐서보드\n",
    "# 세션이라는 공간을 저장해놔야한다.\n",
    "# 보드(칠판)라는 개념으로 칠판에 그려둔다는 느낌\n",
    "    \n",
    "tf.summary.FileWriter(\"log_dir\", graph=sess.graph)"
   ]
  },
  {
   "cell_type": "markdown",
   "metadata": {},
   "source": [
    "    현재 작업 위치에 가보면 log_dir폴더가 생성되면서 파일이 저장되어 있는데 \n",
    "    \n",
    "    가상 웹서버가 웹브라우저로 보여줄 수 있다.\n",
    "    \n",
    "    cmd로 위 폴더로 가보자. tf1 가상환경으로 접속\n",
    "    \n",
    "        > (tf1) tensorboard --logdir=log_dir\n",
    "        \n",
    "        http://localhost:6006/  결과가 뜬 주소로 가본다.\n",
    "        \n",
    "        \n",
    "        가보면 그래프가 그려진걸 볼 수 있을 것이다. \n",
    "    "
   ]
  },
  {
   "cell_type": "code",
   "execution_count": 28,
   "metadata": {},
   "outputs": [],
   "source": [
    "# 이것도 객체를 다 쓰면 닫아줘야함.\n",
    "sess.close()"
   ]
  },
  {
   "cell_type": "code",
   "execution_count": 29,
   "metadata": {},
   "outputs": [],
   "source": [
    "# 다른 것으로 생성해보기 \n",
    "# (5+2)*3  그리기\n",
    "\n",
    "\n",
    "#constant 생성\n",
    "\n",
    "a = tf.constant([5])\n",
    "b = tf.constant([2])\n",
    "c = tf.constant([3])\n",
    "\n",
    "d = tf.add(a, b)\n",
    "e = tf.multiply(d, c)"
   ]
  },
  {
   "cell_type": "code",
   "execution_count": 30,
   "metadata": {},
   "outputs": [
    {
     "data": {
      "text/plain": [
       "array([21])"
      ]
     },
     "execution_count": 30,
     "metadata": {},
     "output_type": "execute_result"
    }
   ],
   "source": [
    "# 세션 생성\n",
    "sess = tf.Session() \n",
    "sess.run(d)\n",
    "sess.run(e)"
   ]
  },
  {
   "cell_type": "code",
   "execution_count": 31,
   "metadata": {},
   "outputs": [
    {
     "data": {
      "text/plain": [
       "<tensorflow.python.summary.writer.writer.FileWriter at 0x2977b828048>"
      ]
     },
     "execution_count": 31,
     "metadata": {},
     "output_type": "execute_result"
    }
   ],
   "source": [
    "# 텐서보드에 그리기\n",
    "tf.summary.FileWriter(\"log_dir\", graph=sess.graph)"
   ]
  },
  {
   "cell_type": "markdown",
   "metadata": {},
   "source": [
    "        tf.constant(\n",
    "            value,\n",
    "            dtype=None,\n",
    "            shape=None,\n",
    "            name='Const'\n",
    "            verify_shape = False\n",
    "        )\n",
    "        \n",
    "        우리가 constant 함수에서 사용해본 것은 \n",
    "        \n",
    "        value 뿐이였다.  처음 값이기 때문에  매개변수명을 안 적긴 했지만,\n",
    "        적어줘서 혼동을 줄이자.\n",
    "        \n",
    "        \n",
    "        "
   ]
  },
  {
   "cell_type": "markdown",
   "metadata": {},
   "source": [
    "### Variable : 변수(클래스)\n",
    "    \n",
    "    - 객체로 정의되어 있다.\n",
    "    - 주로 가중치(w)를 저장할 때 사용한다. \n",
    "    - 사용 전 반드시 초기화를 해야한다.  - 초기화 함수는 initailize_all_variables()\n",
    "    - 변수니까 우리가 평소 쓰는 변수와 같느냐? 아니다. \n",
    "            텐서플로우가 자기가 필요할때 쓰는 변수이지\n",
    "            우리가 쓸 변수가 아니란 것.\n",
    "            \n",
    "\n",
    "    클래스를 생성할 때 참조해야할 것은 생성자 부분이다.  \n",
    "    api에 나와있는 내용을 살펴보면\n",
    "    \n",
    "    __init__(\n",
    "        initial_value=None,\n",
    "        trainable=None,\n",
    "        validate_shape=True,\n",
    "        caching_device=None,\n",
    "        name=None,\n",
    "        variable_def=None,\n",
    "        dtype=None,\n",
    "        import_scope=None,\n",
    "        constraint=None,\n",
    "        synchronization=tf.VariableSynchronization.AUTO,\n",
    "        aggregation=tf.compat.v1.VariableAggregation.NONE,\n",
    "        shape=None\n",
    "    )\n",
    "    \n",
    "    \n",
    "    모든게 default값이므로  Variable()로 바로 생성할 수 있는 것."
   ]
  },
  {
   "cell_type": "code",
   "execution_count": 32,
   "metadata": {},
   "outputs": [
    {
     "name": "stdout",
     "output_type": "stream",
     "text": [
      "Tensor(\"add_5:0\", shape=(1,), dtype=int32)\n"
     ]
    }
   ],
   "source": [
    "# 객체 생성\n",
    "# a = tf.Variable()  \n",
    "\n",
    "# 초기값이 생략이 되어있는데 우리가 넣어줘도 됨.\n",
    "\n",
    "v1 = tf.Variable(initial_value=[5])\n",
    "v2 = tf.Variable([3])\n",
    "v3 = tf.Variable([2])\n",
    "\n",
    "v4 = v1 + v2 + v3\n",
    "print(v4)"
   ]
  },
  {
   "cell_type": "markdown",
   "metadata": {},
   "source": [
    "    Variable도 constant같이 계산이 되는게 아니라 담아 놓을 준비만 한 것이였다. \n",
    "    "
   ]
  },
  {
   "cell_type": "code",
   "execution_count": 36,
   "metadata": {},
   "outputs": [
    {
     "data": {
      "text/plain": [
       "<tensorflow.python.summary.writer.writer.FileWriter at 0x2977bea8708>"
      ]
     },
     "execution_count": 36,
     "metadata": {},
     "output_type": "execute_result"
    }
   ],
   "source": [
    "sess = tf.Session()\n",
    "# 초기화\n",
    "sess.run(tf.initialize_all_variables())\n",
    "sess.run(v4)\n",
    "tf.summary.FileWriter(\"log_dir\", graph=sess.graph)"
   ]
  },
  {
   "cell_type": "markdown",
   "metadata": {},
   "source": [
    "### place holder\n",
    "\n",
    "    어떤 값이 들어올지 잘 모르겠을 때 예약하는 시스템\n",
    "    \n",
    "    위와 같이 \n",
    "    - 그래프를 만들지 않는다\n",
    "    - 입력된 데이터를 텐서와 Mapping 하는 역할\n",
    "    "
   ]
  },
  {
   "cell_type": "code",
   "execution_count": 37,
   "metadata": {},
   "outputs": [
    {
     "data": {
      "text/plain": [
       "10.0"
      ]
     },
     "execution_count": 37,
     "metadata": {},
     "output_type": "execute_result"
    }
   ],
   "source": [
    "# v1에는 무슨값인지 모른다고 가정해보자\n",
    "v1 = 5\n",
    "\n",
    "# v2도 마찬가지로 모름\n",
    "v2 = 3\n",
    "\n",
    "# v3도\n",
    "v3 = 2\n",
    "\n",
    "\n",
    "p1 = tf.placeholder(dtype=tf.float32)  # 어떤 값이 들어오는지는 모르지만 타입은 알고 있으니 정해준다.\n",
    "p2 = tf.placeholder(dtype=tf.float32)\n",
    "p3 = tf.placeholder(dtype=tf.float32)\n",
    "\n",
    "#의미없는 덧셈  p1, p2, p3의 값이 없으므로\n",
    "result = p1 + p2 + p3\n",
    "\n",
    "# 실행\n",
    "sess = tf.Session()\n",
    "# sess.run(result)  # 빈 깡통인데  이게 어떻게 실행되느냐\n",
    "\n",
    "sess.run(result, feed_dict={p1:v1, p2:v2, p3:v3})  \n",
    "# 그래서 feed_dict 변수로 이때 값을 넘겨주는 것이다."
   ]
  },
  {
   "cell_type": "markdown",
   "metadata": {},
   "source": [
    "    예시가 그렇게 간단하지는 않다.\n",
    "    \n",
    "    미리 값을 정해두지 않고 나중에 계산이 필요할 때 던질 때 많이 쓰인다. "
   ]
  },
  {
   "cell_type": "code",
   "execution_count": 39,
   "metadata": {},
   "outputs": [],
   "source": [
    "# 구구단 프로그램 (텐서플로우로)\n",
    "\n",
    "def gugu(dan) :\n",
    "    left = tf.placeholder(dtype=tf.int32)  # 어떤 값이 들어오는지는 모르지만 타입은 알고 있으니 정해준다.\n",
    "    right = tf.placeholder(dtype=tf.int32)\n",
    "    calc = tf.multiply(left, right)\n",
    "    \n",
    "    with tf.Session() as sess :\n",
    "        for i in range(1, 10) :\n",
    "            result = sess.run(calc, feed_dict={left:dan, right:i})\n",
    "            print(\"{} * {} = {}\".format(dan, i, result))"
   ]
  },
  {
   "cell_type": "code",
   "execution_count": 41,
   "metadata": {},
   "outputs": [
    {
     "name": "stdout",
     "output_type": "stream",
     "text": [
      "7 * 1 = 7\n",
      "7 * 2 = 14\n",
      "7 * 3 = 21\n",
      "7 * 4 = 28\n",
      "7 * 5 = 35\n",
      "7 * 6 = 42\n",
      "7 * 7 = 49\n",
      "7 * 8 = 56\n",
      "7 * 9 = 63\n"
     ]
    }
   ],
   "source": [
    "gugu(7)"
   ]
  },
  {
   "cell_type": "code",
   "execution_count": null,
   "metadata": {},
   "outputs": [],
   "source": []
  }
 ],
 "metadata": {
  "kernelspec": {
   "display_name": "Python 3",
   "language": "python",
   "name": "python3"
  },
  "language_info": {
   "codemirror_mode": {
    "name": "ipython",
    "version": 3
   },
   "file_extension": ".py",
   "mimetype": "text/x-python",
   "name": "python",
   "nbconvert_exporter": "python",
   "pygments_lexer": "ipython3",
   "version": "3.7.6"
  }
 },
 "nbformat": 4,
 "nbformat_minor": 2
}

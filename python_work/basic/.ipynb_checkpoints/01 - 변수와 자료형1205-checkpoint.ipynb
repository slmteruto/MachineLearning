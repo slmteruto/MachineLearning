{
 "cells": [
  {
   "cell_type": "markdown",
   "metadata": {},
   "source": [
    "# 1.변수 (Variable)\n",
    "\n",
    "    + 별도의 절차없이 사용가능\n",
    "    + 데이터 타입을 가리지않음(dynamic 할당방식)\n",
    "    + 변수는 값을 수정할 수 없다."
   ]
  },
  {
   "cell_type": "code",
   "execution_count": 1,
   "metadata": {},
   "outputs": [
    {
     "data": {
      "text/plain": [
       "5"
      ]
     },
     "execution_count": 1,
     "metadata": {},
     "output_type": "execute_result"
    }
   ],
   "source": [
    "# 별도의 절차없이 변수를 사용\n",
    "2+3"
   ]
  },
  {
   "cell_type": "code",
   "execution_count": 2,
   "metadata": {},
   "outputs": [],
   "source": [
    "a = 2+3"
   ]
  },
  {
   "cell_type": "code",
   "execution_count": 3,
   "metadata": {},
   "outputs": [
    {
     "name": "stdout",
     "output_type": "stream",
     "text": [
      "5\n"
     ]
    }
   ],
   "source": [
    "print(a)"
   ]
  },
  {
   "cell_type": "code",
   "execution_count": 5,
   "metadata": {},
   "outputs": [
    {
     "name": "stdout",
     "output_type": "stream",
     "text": [
      "3.14\n",
      "10\n",
      "홍길동\n"
     ]
    }
   ],
   "source": [
    "# type을 가리지않음\n",
    "# print = 프린트함수\n",
    "a = 3.14\n",
    "print(a)\n",
    "\n",
    "a = 10\n",
    "print(a)\n",
    "\n",
    "a = \"홍길동\"\n",
    "print(a)\n"
   ]
  },
  {
   "cell_type": "code",
   "execution_count": 7,
   "metadata": {},
   "outputs": [
    {
     "name": "stdout",
     "output_type": "stream",
     "text": [
      "<class 'str'>\n"
     ]
    }
   ],
   "source": [
    "# a = 10\n",
    "# a = \"10\" 구별이 안됨\n",
    "# print(type(a))\n",
    "\n",
    "a = \"10\"\n",
    "\n",
    "print(type(a))"
   ]
  },
  {
   "cell_type": "code",
   "execution_count": 8,
   "metadata": {},
   "outputs": [
    {
     "name": "stdout",
     "output_type": "stream",
     "text": [
      "8791229768368\n",
      "8791229768208\n"
     ]
    }
   ],
   "source": [
    "# 수정불가\n",
    "a = 10\n",
    "print(id(a))\n",
    "\n",
    "# 파이선은 변수 저장이 heap에 저장됨 \n",
    "\n",
    "a = 5\n",
    "print(id(a))\n",
    "\n",
    "# 이때 heap영역에 5가 또 할당되고 a는 5를 가리키는 주소값으로만 변경됨.(변수가 바뀐건 아님)\n",
    "\n",
    "# id는 주소 출력 함수"
   ]
  },
  {
   "cell_type": "markdown",
   "metadata": {},
   "source": [
    "# 2. 자료형 (Data Type)\n",
    "\n",
    "    + 종류\n",
    "        - 기본자료형 : int, float, str, complex, function\n",
    "                        값을 하나만 저장할 수 있음. 같은 타입 , str은 사실상 java와 같이 집합자료형의 성질도 가지고 있음\n",
    "                        한줄 요약 : 같은 타입만 저장할 수 있음. \n",
    "        - 집합자료형 : list, tuple, set, dict\n",
    "        \n",
    "        \n",
    "    + 수정 가능성 분류\n",
    "        - 수정불가능 : int, float, str, tuple, bool, complex\n",
    "        - 수정 가능  : list, dict, set\n",
    "        "
   ]
  },
  {
   "cell_type": "code",
   "execution_count": 14,
   "metadata": {},
   "outputs": [
    {
     "name": "stdout",
     "output_type": "stream",
     "text": [
      "abc\n"
     ]
    }
   ],
   "source": [
    "# 문자열 str\n",
    "\n",
    "# ' \"  파이썬은 구별안함\n",
    "a = \"a\"\n",
    "a = \"ab\"\n",
    "a = \"abc\"\n",
    "\n",
    "# a = '10' + 10\n",
    "# 위는 타입에러 발생함\n",
    "\n",
    "print(a)"
   ]
  },
  {
   "cell_type": "code",
   "execution_count": 17,
   "metadata": {},
   "outputs": [
    {
     "name": "stdout",
     "output_type": "stream",
     "text": [
      "이렇게하면\n",
      "여러줄 문자열\n",
      "    사용 가능\n"
     ]
    }
   ],
   "source": [
    "# 여러줄 저장방법 '\" 구별 안함\n",
    "\n",
    "a =\"\"\"이렇게하면\n",
    "여러줄 문자열\n",
    "    사용 가능\"\"\"\n",
    "\n",
    "print(a)"
   ]
  },
  {
   "cell_type": "code",
   "execution_count": 24,
   "metadata": {},
   "outputs": [
    {
     "name": "stdout",
     "output_type": "stream",
     "text": [
      "aaa\t dbd\n"
     ]
    }
   ],
   "source": [
    "#특수문자 (제어문자) \\문자   \\n 개행, \\t 탭, p25 참고\n",
    "\n",
    "a = \"aaa\\t dbd\"\n",
    "print(a)"
   ]
  },
  {
   "cell_type": "code",
   "execution_count": 34,
   "metadata": {},
   "outputs": [
    {
     "name": "stdout",
     "output_type": "stream",
     "text": [
      "\\n은 줄바꿈\n",
      "\"안녕\"\n",
      "\\n은 줄바꿈\n"
     ]
    }
   ],
   "source": [
    "# escape : \\\n",
    "\n",
    "print(\"\\\\n은 줄바꿈\")\n",
    "\n",
    "print(\"\\\"안녕\\\"\")\n",
    "\n",
    "# 방법 2 raw라는 뜻\n",
    "print(r\"\\n은 줄바꿈\")"
   ]
  },
  {
   "cell_type": "code",
   "execution_count": 36,
   "metadata": {},
   "outputs": [
    {
     "name": "stdout",
     "output_type": "stream",
     "text": [
      "60\n"
     ]
    }
   ],
   "source": [
    "# \\ 의 기능  1. 코드를 다음줄로 작성할 때\n",
    "#           2. escape\n",
    "\n",
    "var1 = 10 + 20\\\n",
    " +30\n",
    "\n",
    "print(var1)"
   ]
  },
  {
   "cell_type": "code",
   "execution_count": 14,
   "metadata": {},
   "outputs": [
    {
     "name": "stdout",
     "output_type": "stream",
     "text": [
      "Python is fun\n",
      "Python is fun100\n",
      "('Python', ' is fun', 100)\n",
      "Python  is fun 100\n",
      "PythonPythonPython\n"
     ]
    }
   ],
   "source": [
    "# 문자열 연결\n",
    "\n",
    "head = \"Python\"\n",
    "tail = \" is fun\"\n",
    "num = 100\n",
    "\n",
    "#1\n",
    "print(head+tail)\n",
    "#print(head+tail+num) 은 타입에러 발생\n",
    "#형변환\n",
    "print(head+tail+str(num))\n",
    "\n",
    "\n",
    "#2\n",
    "str1 = head, tail, num\n",
    "print(str1)\n",
    "print(head,tail,num)\n",
    "\n",
    "#3\n",
    "print(head*3)\n"
   ]
  },
  {
   "cell_type": "code",
   "execution_count": 31,
   "metadata": {},
   "outputs": [
    {
     "name": "stdout",
     "output_type": "stream",
     "text": [
      "o\n",
      "n\n",
      "34\n",
      "n\n",
      "too\n",
      "Life is to\n",
      "Life i\n",
      "s too short, You need python\n",
      "Life is too short, You need python\n",
      " pytho\n"
     ]
    }
   ],
   "source": [
    "#indexing, 위치 접근방식\n",
    "\n",
    "str1 = \"Life is too short, You need python\"\n",
    "\n",
    "#맨 앞에서부터\n",
    "print(str1[10])\n",
    "\n",
    "#맨 뒤에서부터\n",
    "print(str1[-1])\n",
    "\n",
    "#0~33까지 총 34개\n",
    "print(len(str1))\n",
    "print(str1[33])\n",
    "\n",
    "#이건 너무 불편\n",
    "print(str1[8]+str1[9]+str1[10])\n",
    "\n",
    "#Slicing 이라는걸 쓴다.  :\n",
    "print(str1[0:10])\n",
    "\n",
    "#처음부터~ 6\n",
    "print(str1[:6])\n",
    "\n",
    "#6부터 ~ 끝\n",
    "print(str1[6:])\n",
    "\n",
    "#전체\n",
    "print(str1[:])\n",
    "\n",
    "print(str1[-7:-1])"
   ]
  },
  {
   "cell_type": "code",
   "execution_count": 102,
   "metadata": {},
   "outputs": [
    {
     "name": "stdout",
     "output_type": "stream",
     "text": [
      "a,,b,,c,,d,,e,,f,,g\n",
      ",abcdefg,\n",
      "====================\n",
      "['Life', 'is', 'too', 'short']\n",
      "['홍길동', ' 홍경래', ' 임경업', ' 임꺽정']\n",
      "['', '길동, ', '경래, 임경업, 임꺽정']\n",
      "====================\n",
      "2\n",
      "18\n",
      "1\n",
      "-1\n",
      "python      \n",
      "      python\n",
      "python\n",
      "python\n",
      "Hi, World\n",
      "Heaao, Woraa\n"
     ]
    }
   ],
   "source": [
    "# count(), find(), index(), join(), split() .....\n",
    "\n",
    "#join\n",
    "str1 = \",,\"\n",
    "str2 = \"abcdefg\"\n",
    "\n",
    "#str2에 조인을 한다.\n",
    "str3 = str1.join(str2)\n",
    "#str1에 조인을 한다.\n",
    "str4 = str2.join(str1)\n",
    "\n",
    "print(str3)\n",
    "print(str4)\n",
    "\n",
    "print( '='*20)\n",
    "\n",
    "\n",
    "#split  \n",
    "\n",
    "#공백을 기준으로 분리\n",
    "str1 = \"Life is too short\"\n",
    "print(str1.split())\n",
    "\n",
    "\n",
    "#,을 기준으로 분리\n",
    "str1 = \"홍길동, 홍경래, 임경업, 임꺽정\"\n",
    "print(str1.split(','))\n",
    "\n",
    "# 단어를 기준으로 분리\n",
    "print(str1.split('홍'))\n",
    "\n",
    "print( '=' * 20)\n",
    "\n",
    "#count  \n",
    "print(str1.count(\"홍\"))\n",
    "\n",
    "\n",
    "#len  길이\n",
    "print(len(str1))\n",
    "\n",
    "\n",
    "#index  단어위치 찾기, 찾는 문자가 없으면 에러가 남\n",
    "print(str1.index(\"길\"))\n",
    "\n",
    "\n",
    "#find   단어위치 찾기, 찾는 문자가 없으면 -1을 반환\n",
    "print(str1.find(\"김\"))\n",
    "\n",
    "\n",
    "#공백제거 lstrip(), rstrip(), strip()\n",
    "str1 = \"      python      \"\n",
    "\n",
    "print(str1.lstrip())\n",
    "print(str1.rstrip())\n",
    "print(str1.strip())\n",
    "\n",
    "#특정문자 제거\n",
    "str1 = \"...python\"\n",
    "print(str1.strip(\".\"))\n",
    "\n",
    "#바꾸기  replace(), maketrans(), translate()\n",
    "str1 = \"Hello, World\"\n",
    "print(str1.replace(\"ello\",\"i\"))\n",
    "\n",
    "# 같은 길이로만 바꿀수 있다.\n",
    "print(str1.translate(str.maketrans(\"ld\", \"aa\")))\n",
    "\n"
   ]
  },
  {
   "cell_type": "code",
   "execution_count": 125,
   "metadata": {},
   "outputs": [
    {
     "name": "stdout",
     "output_type": "stream",
     "text": [
      "덧셈결과 3+4=7 입니다 \n",
      "덧셈결과가 맞습니까?\n",
      "덧셈결과: 3+4+=7\n"
     ]
    }
   ],
   "source": [
    "# format  문자열의 출력 방식을 바꿀때\n",
    "\n",
    "a = 3\n",
    "b = 4\n",
    "\n",
    "# 순서를 정할 수도 있고 숫자를 없애면 차례대로 입력받아짐\n",
    "print(\"{3}결과 {0}+{1}={2} 입니다 \\n{3}결과가 맞습니까?\".format(a,b,a+b,\"덧셈\"))\n",
    "\n",
    "# %\n",
    "print(\"%s결과: %d+%d+=%d\"%(\"덧셈\",a,b,a+b))"
   ]
  },
  {
   "cell_type": "markdown",
   "metadata": {},
   "source": [
    "\n",
    "------\n",
    "\n",
    "\n",
    "### List\n",
    "    + 임의의 객체를 순차적으로 저장하는 집합적 자료형\n",
    "    + 각값에 대해서 인덱스가 부여\n",
    "    + 변경 가능\n",
    "    + [] 이용\n"
   ]
  },
  {
   "cell_type": "code",
   "execution_count": 146,
   "metadata": {},
   "outputs": [
    {
     "name": "stdout",
     "output_type": "stream",
     "text": [
      "James\n",
      "178\n",
      "90.0\n",
      "True\n",
      "['James', 178, 90.0, True]\n",
      "<class 'list'>\n",
      "82604872\n",
      "['James', 180, 90.0, True]\n",
      "82604872\n"
     ]
    }
   ],
   "source": [
    "a = 10\n",
    "b = 22\n",
    "c = 34\n",
    "\n",
    "a = [\"James\", 178, 90.0, True]\n",
    "\n",
    "for i in range(len(a)):\n",
    "    print(a[i])\n",
    "    \n",
    "print(a)\n",
    "print(type(a))\n",
    "print(id(a))\n",
    "\n",
    "a[1] = 180\n",
    "print(a)\n",
    "print(id(a))\n",
    "\n",
    "# 값을 수정해도 주소값이 안바뀌는 특징"
   ]
  },
  {
   "cell_type": "code",
   "execution_count": 148,
   "metadata": {},
   "outputs": [
    {
     "name": "stdout",
     "output_type": "stream",
     "text": [
      "b\n"
     ]
    }
   ],
   "source": [
    "a = [1,2,3,\"가\", 3.14, [\"a\", \"b\", \"c\"]]\n",
    "\n",
    "\n",
    "print(a[5][1])"
   ]
  },
  {
   "cell_type": "code",
   "execution_count": 154,
   "metadata": {},
   "outputs": [
    {
     "name": "stdout",
     "output_type": "stream",
     "text": [
      "[1, 2, 3, 4, 5]\n",
      "[10, 2, 3, 4, 5]\n",
      "[10, 2, 3, 4, 5]\n",
      "84851272\n",
      "84851272\n",
      "--------------------\n",
      "--------------------\n",
      "[1, 2, 3, 4, 5]\n",
      "[1, 2, 3, 4, 5]\n",
      "84823368\n",
      "84851592\n"
     ]
    }
   ],
   "source": [
    "# 복사(얕은 복사, 깊은 복사)\n",
    "# swallow, deep\n",
    "\n",
    "\n",
    "a = [1,2,3,4,5]\n",
    "print(a)\n",
    "\n",
    "#복사 얕은복사 = 주소 복사\n",
    "b = a\n",
    "b[0] = 10\n",
    "print(a)\n",
    "print(b)\n",
    "\n",
    "print(id(a))\n",
    "print(id(b))\n",
    "\n",
    "print(\"-\"*20)\n",
    "print(\"-\"*20)\n",
    "\n",
    "\n",
    "#깊은복사 = 데이터를 복사\n",
    "a = [1,2,3,4,5]\n",
    "b = a[:]\n",
    "\n",
    "print(a)\n",
    "print(b)\n",
    "\n",
    "print(id(a))\n",
    "print(id(b))\n"
   ]
  },
  {
   "cell_type": "code",
   "execution_count": 166,
   "metadata": {},
   "outputs": [
    {
     "name": "stdout",
     "output_type": "stream",
     "text": [
      "[1, 2, 3, 4, 5, 6, 7, 8, 9, 10]\n",
      "[17, 16, 15, 14, 13]\n"
     ]
    }
   ],
   "source": [
    "# 리스트만들기\n",
    "\n",
    "#1. 우선 선언\n",
    "a = []\n",
    "\n",
    "#2. 리스트 함수 선언\n",
    "b = list()\n",
    "\n",
    "#3. 범위만큼 생성\n",
    "c = list(range(10))\n",
    "d = list(range(5, 12, 2))\n",
    "d = list(range(17, 12, -1))\n",
    "\n",
    "for i in range(len(c)):\n",
    "    c[i] = i+1\n",
    "\n",
    "print(c)\n",
    "print(d)"
   ]
  },
  {
   "cell_type": "code",
   "execution_count": 171,
   "metadata": {},
   "outputs": [
    {
     "name": "stdout",
     "output_type": "stream",
     "text": [
      "[1, 2, 3, 4, 5, 6]\n",
      "[1, 2, 3, 1, 2, 3, 1, 2, 3]\n",
      "2hi\n"
     ]
    }
   ],
   "source": [
    "# 리스트 연산\n",
    "a = [1, 2, 3]\n",
    "b = [4, 5, 6]\n",
    "\n",
    "print(a+b)\n",
    "print(a*3)\n",
    "print(str(a[1]) + \"hi\")"
   ]
  },
  {
   "cell_type": "code",
   "execution_count": 181,
   "metadata": {},
   "outputs": [
    {
     "name": "stdout",
     "output_type": "stream",
     "text": [
      "['a', 'b', 'c']\n",
      "<class 'list'>\n"
     ]
    }
   ],
   "source": [
    "#형식 리스트\n",
    "a = list()\n",
    "b = str()\n",
    "c = int()\n",
    "d = float()\n",
    "\n",
    "\n",
    "e = 'a', 'b', 'c'\n",
    "f = list(e)\n",
    "print(f)\n",
    "print(type(f))\n"
   ]
  },
  {
   "cell_type": "code",
   "execution_count": 200,
   "metadata": {},
   "outputs": [
    {
     "name": "stdout",
     "output_type": "stream",
     "text": [
      "[0, 1, 2, 3]\n",
      "[0, 1, 8, 2, 3]\n",
      "[0, 1, 8, 2, 3, 4]\n",
      "[0, 1, 8, 2, 3, 4, [88, 22]]\n",
      "[0, 1, 8, 2, 3, 4, [88, 22], 5, 20, 3]\n"
     ]
    }
   ],
   "source": [
    "# 추가\n",
    "# 추가 insert(). append(), extend()\n",
    "\n",
    "a = [1, 2, 3]\n",
    "\n",
    "#insert  원하는 위치에 값을 넣을 수 있음.\n",
    "a.insert(0,0)\n",
    "print(a)\n",
    "\n",
    "a.insert(2, 8)\n",
    "print(a)\n",
    "\n",
    "#append, extend는 위치지정 불가, 마지막에만 붙는다.\n",
    "#append는 하나만 추가됨\n",
    "a.append(4)\n",
    "print(a)\n",
    "\n",
    "a.append([88,22])\n",
    "print(a)\n",
    "\n",
    "#extend는 확장\n",
    "a.extend([5,20,3])\n",
    "print(a)\n",
    "\n",
    "# a+[5,20,3] 이랑 같다.\n",
    "\n"
   ]
  },
  {
   "cell_type": "code",
   "execution_count": 218,
   "metadata": {},
   "outputs": [
    {
     "name": "stdout",
     "output_type": "stream",
     "text": [
      "[1, 2, 3]\n",
      "[1, 3, 1, 2, 3]\n",
      "[1, 2, 3, 2, 3]\n",
      "[1, 2]\n"
     ]
    }
   ],
   "source": [
    "# 삭제, 제거\n",
    "a = [1, 2, 3, 1, 2, 3]\n",
    "\n",
    "\n",
    "#1. 삭제 범위 지정\n",
    "a[3:6] = []\n",
    "print(a)\n",
    "\n",
    "# remove 사용, 삭제할 값을 파라미터로 사용\n",
    "# 파라미터 중 첫번재 값이 삭제가 됨\n",
    "a = [1, 2, 3, 1, 2, 3]\n",
    "a.remove(2)\n",
    "print(a)\n",
    "\n",
    "\n",
    "# del 사용, 해당 인덱스의 값 삭제\n",
    "a = [1, 2, 3, 1, 2, 3]\n",
    "del a[3]\n",
    "print(a)\n",
    "\n",
    "#전체삭제는 del a\n",
    "\n",
    "\n",
    "a = [1,2,3]\n",
    "a.pop()\n",
    "print(a)"
   ]
  },
  {
   "cell_type": "code",
   "execution_count": 221,
   "metadata": {},
   "outputs": [
    {
     "name": "stdout",
     "output_type": "stream",
     "text": [
      "True\n",
      "False\n"
     ]
    }
   ],
   "source": [
    "# 포함 여부 판단\n",
    "\n",
    "a = [1, 2, 3, 4, 5]\n",
    "print(2 in a)\n",
    "print(5 not in a)"
   ]
  },
  {
   "cell_type": "code",
   "execution_count": 222,
   "metadata": {},
   "outputs": [
    {
     "name": "stdout",
     "output_type": "stream",
     "text": [
      "[1, 2, 3, 4]\n",
      "[4, 3, 2, 1]\n"
     ]
    }
   ],
   "source": [
    "#정렬\n",
    "\n",
    "a = [1,4,3,2]\n",
    "a.sort()\n",
    "print(a)\n",
    "\n",
    "#내림차순으로 정렬하려면 한번은 오름차순으로 정렬해놔야함\n",
    "a.reverse()\n",
    "print(a)"
   ]
  },
  {
   "cell_type": "markdown",
   "metadata": {},
   "source": [
    "### Tuple\n",
    "    + list와 거의 동일\n",
    "    + list는 [ ], tuple은 ( )\n",
    "    + 변경 불가\n",
    "    + 변경이 불가능하기 때문에 처리속도가 빠름"
   ]
  },
  {
   "cell_type": "code",
   "execution_count": 232,
   "metadata": {},
   "outputs": [
    {
     "name": "stdout",
     "output_type": "stream",
     "text": [
      "('a', 'b', 'c', 'd')\n",
      "<class 'tuple'>\n",
      "4\n",
      "c의 갯수는 : 1\n",
      "c의 위치는 : 2\n"
     ]
    }
   ],
   "source": [
    "a = 'a', 'b', 'c', 'd'\n",
    "# 같은 뜻 a = ('a', 'b', 'c', 'd')\n",
    "print(a)\n",
    "\n",
    "print(type(a))\n",
    "print(len(a))\n",
    "print(\"c의 갯수는 : {}\".format(a.count('c')))\n",
    "print(\"c의 위치는 : {}\".format(a.index('c')))"
   ]
  },
  {
   "cell_type": "code",
   "execution_count": 236,
   "metadata": {},
   "outputs": [
    {
     "name": "stdout",
     "output_type": "stream",
     "text": [
      "<class 'list'>\n",
      "['a', 10, 'c', 'd']\n",
      "<class 'tuple'>\n",
      "('a', 10, 'c', 'd')\n"
     ]
    }
   ],
   "source": [
    "# a[1]=10 불가능하다. \n",
    "#이유는 tuple은 수정이 불가능\n",
    "\n",
    "b = list(a)\n",
    "print(type(b))\n",
    "\n",
    "b[1] = 10\n",
    "print(b)\n",
    "#이 경우는 b는 list타입이 되었으므로 수정이 가능한것.\n",
    "\n",
    "c = tuple(b)\n",
    "print(type(c))\n",
    "print(c)"
   ]
  },
  {
   "cell_type": "code",
   "execution_count": 241,
   "metadata": {},
   "outputs": [
    {
     "name": "stdout",
     "output_type": "stream",
     "text": [
      "10 20 30\n"
     ]
    }
   ],
   "source": [
    "a, b, c = (10, 20, 30)\n",
    "# a,b,c = 10, 20, 30 같음\n",
    "a = (10, 20, 30)\n",
    "#여러 데이터를 하나로 모으는 것을 packing 이라고 함\n",
    "\n",
    "a1, a2, a3 = a\n",
    "#이렇게 데이터를 풀어놓는것을 unpacking 이라고 함\n",
    "\n",
    "print(a1,a2,a3)"
   ]
  },
  {
   "cell_type": "code",
   "execution_count": null,
   "metadata": {},
   "outputs": [],
   "source": []
  },
  {
   "cell_type": "code",
   "execution_count": null,
   "metadata": {},
   "outputs": [],
   "source": []
  },
  {
   "cell_type": "markdown",
   "metadata": {},
   "source": [
    "### dict (dictionary)\n",
    "    + 순서가 없음 (내가 차례대로 넣어도 무작위로 저장)\n",
    "    + {키:값}\n",
    "    + 키를 이용해서 값을 조회"
   ]
  },
  {
   "cell_type": "code",
   "execution_count": 265,
   "metadata": {},
   "outputs": [
    {
     "name": "stdout",
     "output_type": "stream",
     "text": [
      "{'name': '홍귈동', 'phone': '111-1111', 'age': 34}\n",
      "<class 'dict'>\n"
     ]
    }
   ],
   "source": [
    "a = {\"name\":\"홍귈동\", \"phone\":\"111-1111\", \"age\":34}\n",
    "print(a)\n",
    "print(type(a))"
   ]
  },
  {
   "cell_type": "code",
   "execution_count": 266,
   "metadata": {},
   "outputs": [
    {
     "name": "stdout",
     "output_type": "stream",
     "text": [
      "홍귈동 111-1111\n",
      "홍귈동 34\n"
     ]
    }
   ],
   "source": [
    "#출력방법\n",
    "print(a[\"name\"], a[\"phone\"])\n",
    "print(a.get(\"name\"), a.get(\"age\"))"
   ]
  },
  {
   "cell_type": "code",
   "execution_count": 267,
   "metadata": {},
   "outputs": [
    {
     "name": "stdout",
     "output_type": "stream",
     "text": [
      "dict_keys(['name', 'phone', 'age'])\n",
      "dict_values(['홍귈동', '111-1111', 34])\n",
      "dict_items([('name', '홍귈동'), ('phone', '111-1111'), ('age', 34)])\n"
     ]
    }
   ],
   "source": [
    "#키값만 출력 (list로 출력)\n",
    "print(a.keys())\n",
    "#값만 출력\n",
    "print(a.values())\n",
    "#전체 (Tuple로 가져와서 list로 뿌려준다구?)\n",
    "print(a.items())"
   ]
  },
  {
   "cell_type": "code",
   "execution_count": 268,
   "metadata": {},
   "outputs": [
    {
     "name": "stdout",
     "output_type": "stream",
     "text": [
      "<class 'dict_items'>\n"
     ]
    }
   ],
   "source": [
    "# items는 새로운 자료형이 됨?\n",
    "b = a.items()\n",
    "print(type(b))"
   ]
  },
  {
   "cell_type": "code",
   "execution_count": 269,
   "metadata": {},
   "outputs": [
    {
     "name": "stdout",
     "output_type": "stream",
     "text": [
      "<class 'list'>\n",
      "('name', '홍귈동')\n"
     ]
    }
   ],
   "source": [
    "# 사용할 땐 형변환해서 쓴다.\n",
    "b = list(a.items())\n",
    "print(type(b))\n",
    "\n",
    "print(b[0])"
   ]
  },
  {
   "cell_type": "code",
   "execution_count": 260,
   "metadata": {},
   "outputs": [
    {
     "name": "stdout",
     "output_type": "stream",
     "text": [
      "{'name': '임꺽정', 'phone': '111-1111', 'age': 34}\n"
     ]
    }
   ],
   "source": [
    "# list 변경\n",
    "a[\"name\"] = \"임꺽정\"\n",
    "print(a)"
   ]
  },
  {
   "cell_type": "code",
   "execution_count": 261,
   "metadata": {},
   "outputs": [
    {
     "name": "stdout",
     "output_type": "stream",
     "text": [
      "{'name': '임꺽정', 'phone': '111-1111'}\n"
     ]
    }
   ],
   "source": [
    "del a[\"age\"]\n",
    "print(a)"
   ]
  },
  {
   "cell_type": "code",
   "execution_count": 263,
   "metadata": {},
   "outputs": [
    {
     "name": "stdout",
     "output_type": "stream",
     "text": [
      "{}\n"
     ]
    }
   ],
   "source": [
    "## 풀 삭제\n",
    "a.clear()\n",
    "print(a)"
   ]
  },
  {
   "cell_type": "code",
   "execution_count": 271,
   "metadata": {},
   "outputs": [
    {
     "name": "stdout",
     "output_type": "stream",
     "text": [
      "{'name': '홍길동', 'phone': '111-1111', 'age': 20}\n"
     ]
    }
   ],
   "source": [
    "a = dict(name=\"홍길동\", phone = \"111-1111\", age = 20)\n",
    "print(a)"
   ]
  },
  {
   "cell_type": "markdown",
   "metadata": {},
   "source": [
    "### Set\n",
    "    + { } 사용 (dict랑 같음, 모양만 같음) // {'a', 'b', 'c', 'd'} 이런 형태\n",
    "    + 키:값이 아니고 하나의 데이터임   \n",
    "    + 다만 순서가 없다.\n",
    "    + 근데 왜 쓰냐,  중복이 안된다. -> 중복된 데이터는 알아서 걸러버림"
   ]
  },
  {
   "cell_type": "code",
   "execution_count": 278,
   "metadata": {},
   "outputs": [
    {
     "name": "stdout",
     "output_type": "stream",
     "text": [
      "{1, 2, 3, 4, 5}\n",
      "5\n"
     ]
    }
   ],
   "source": [
    "a = {1,3, 5,4, 2,1}\n",
    "print(a)\n",
    "print(len(a))\n",
    "\n",
    "# print(a[1]) 순서가 없으므로 인덱스를 쓸 수 없다. 쓰려면 list로 변환 후 사용"
   ]
  },
  {
   "cell_type": "code",
   "execution_count": 282,
   "metadata": {},
   "outputs": [
    {
     "name": "stdout",
     "output_type": "stream",
     "text": [
      "{1, 2, 3, 4, 5, 6, 7, 8, 9}\n",
      "{4, 5, 6}\n",
      "{1, 2, 3}\n"
     ]
    }
   ],
   "source": [
    "s1 = {1,2,3,4,5,6}\n",
    "s2 = {4,5,6,7,8,9}\n",
    "\n",
    "#합집합  set에서만 사용\n",
    "print(s1.union(s2))\n",
    "\n",
    "#교집합\n",
    "print(s1.intersection(s2))\n",
    "\n",
    "#차집합\n",
    "print(s1.difference(s2))"
   ]
  },
  {
   "cell_type": "code",
   "execution_count": 294,
   "metadata": {},
   "outputs": [
    {
     "name": "stdout",
     "output_type": "stream",
     "text": [
      "{1, 2, 3, 4, 5, 6, 7, 8}\n",
      "{1, 2, 3, 4, 5, 6, 9}\n",
      "{1, 2, 3, 4, 5, 6}\n",
      "{1, 2, 3, 4, 5, 6}\n"
     ]
    }
   ],
   "source": [
    "#여러개 동시 추가 update\n",
    "s1 = {1,2,3,4,5,6}\n",
    "s1.update([7,8])\n",
    "print(s1)\n",
    "\n",
    "#한개만 추가  add\n",
    "s1 = {1,2,3,4,5,6}\n",
    "s1.add(9)\n",
    "print(s1)\n",
    "\n",
    "#데이터 삭제 remove, discard\n",
    "#차이점은 해당 값이 없으면 remove는 에러, discard 그냥 수행\n",
    "s1.remove(9)\n",
    "print(s1)\n",
    "\n",
    "s1.discard(7)\n",
    "print(s1)"
   ]
  },
  {
   "cell_type": "code",
   "execution_count": 298,
   "metadata": {},
   "outputs": [
    {
     "name": "stdout",
     "output_type": "stream",
     "text": [
      "[1, 2, 3, 4]\n"
     ]
    }
   ],
   "source": [
    "#중복 데이터 제거 활용\n",
    "a = [1,2,3,4,4,2]\n",
    "b = set(a)\n",
    "a = list(b)\n",
    "print(a)"
   ]
  },
  {
   "cell_type": "markdown",
   "metadata": {},
   "source": [
    "# 3. 연산자\n",
    "\n",
    "### 1) 산술연산자 \n",
    "    +, -, *, /, %, //(몫을 정수만 표시), **(거듭제곱)\n",
    "    \n",
    "### 2) 비교연산자 (결과 True/False)\n",
    "    >, <, >=, <=, ==, !=\n",
    "\n",
    "### 3) 논리연산자 (결과 True/False)   //  단락회로\n",
    "    and, or, not(단항연산자)\n",
    "    \n",
    "    and 일시  xx and xx and xx and.... 일때 하나만 false만 나오면 바로 뒤 연산을 다 막아버림(그래서 단락회로), \n",
    "              그래서 간혹 이경우가 비트연산자보다 빠를 경우도 있음\n",
    "\n",
    "### 4) 대입(치환,할당)연산자\n",
    "    대입연산자  : =\n",
    "    복합대입연산자  : +=, -=, *=, /=  ...\n",
    "    \n",
    "==========================================\n",
    "### 5) 포함여부 연산자\n",
    "    in, not in\n",
    "    \n",
    "### 6) 비트 연산자\n",
    "    <<, >>, &, |, ^(XOR), ~ ...\n",
    "    \n",
    "    \n",
    "    ********************************    \n",
    "    a   b  *    a&b     a|b     a^b\n",
    "    ********************************\n",
    "    T   T  *     T       T       F\n",
    "    T   F  *     F       T       T\n",
    "    F   T  *     F       T       T\n",
    "    F   F  *     F       F       F\n",
    "    \n",
    "    *XOR은 암호화 복호화 하는데 사용할 수도 있다."
   ]
  },
  {
   "cell_type": "code",
   "execution_count": 302,
   "metadata": {},
   "outputs": [
    {
     "name": "stdout",
     "output_type": "stream",
     "text": [
      "2\n",
      "1.6666666666666667\n",
      "1\n",
      "1024\n"
     ]
    }
   ],
   "source": [
    "#산술연산자\n",
    "print(5%3)\n",
    "print(5/3)\n",
    "print(5//3)\n",
    "print(2**10) # 2^10"
   ]
  },
  {
   "cell_type": "code",
   "execution_count": 305,
   "metadata": {},
   "outputs": [
    {
     "name": "stdout",
     "output_type": "stream",
     "text": [
      "True\n",
      "False\n",
      "False\n",
      "True\n"
     ]
    }
   ],
   "source": [
    "#비교연산자\n",
    "a = 3\n",
    "b = 3\n",
    "c = 10\n",
    "\n",
    "print(a==b)\n",
    "print(a==c)\n",
    "print(a>b)\n",
    "print(a!=c)"
   ]
  },
  {
   "cell_type": "code",
   "execution_count": 315,
   "metadata": {},
   "outputs": [
    {
     "name": "stdout",
     "output_type": "stream",
     "text": [
      "False\n",
      "True\n"
     ]
    }
   ],
   "source": [
    "#논리연산자\n",
    "print(1<5 and 6>7)\n",
    "\n",
    "print(1<5 or 6>7)"
   ]
  },
  {
   "cell_type": "code",
   "execution_count": 308,
   "metadata": {},
   "outputs": [
    {
     "name": "stdout",
     "output_type": "stream",
     "text": [
      "3\n",
      "9\n"
     ]
    }
   ],
   "source": [
    "#대입연산자\n",
    "a = 1\n",
    "a = 5\n",
    "a = 3\n",
    "print(a)\n",
    "\n",
    "a = 1\n",
    "a += 5\n",
    "a += 3\n",
    "print(a)"
   ]
  },
  {
   "cell_type": "code",
   "execution_count": 313,
   "metadata": {},
   "outputs": [
    {
     "name": "stdout",
     "output_type": "stream",
     "text": [
      "True\n",
      "True\n",
      "4\n"
     ]
    }
   ],
   "source": [
    "#비트연산자1\n",
    "print(12>5 and 6>2)\n",
    "print(12>5 & 6>2)\n",
    "print(12 & 6)\n",
    "\n",
    "#00001100 12\n",
    "#00000110  6\n",
    "#00000100  4\n"
   ]
  },
  {
   "cell_type": "code",
   "execution_count": 317,
   "metadata": {},
   "outputs": [
    {
     "name": "stdout",
     "output_type": "stream",
     "text": [
      "460322\n",
      "920339\n"
     ]
    }
   ],
   "source": [
    "#비트연산자2\n",
    "password = 920339\n",
    "key = 593201\n",
    "\n",
    "#암호화\n",
    "cryt = password^key\n",
    "\n",
    "print(cryt)\n",
    "\n",
    "\n",
    "#복호화\n",
    "print(cryt^key)"
   ]
  },
  {
   "cell_type": "code",
   "execution_count": 330,
   "metadata": {},
   "outputs": [
    {
     "name": "stdout",
     "output_type": "stream",
     "text": [
      "True True False True False False\n",
      "False\n",
      "None\n"
     ]
    }
   ],
   "source": [
    "#bool  : 기본적으로 값이 있으면 true, 없으면 false\n",
    "\n",
    "print(bool(\"Hi\"), bool(10), bool(\"\"), bool(\" \"), bool(), bool([]))\n",
    "\n",
    "# 파이썬에서는 null 대신 none을 씀\n",
    "\n",
    "print(bool(None))\n",
    "a = None\n",
    "print(a)"
   ]
  },
  {
   "cell_type": "markdown",
   "metadata": {},
   "source": [
    "# 5. 입력 기능\n",
    "\n",
    "    input(\"당신의이름은\")"
   ]
  },
  {
   "cell_type": "code",
   "execution_count": 333,
   "metadata": {},
   "outputs": [
    {
     "name": "stdout",
     "output_type": "stream",
     "text": [
      "당신의 이름은ㅇㅎㅅ\n",
      "안녕하세요ㅇㅎㅅ님\n"
     ]
    }
   ],
   "source": [
    "name = input(\"당신의 이름은\")\n",
    "\n",
    "print(\"안녕하세요\"+name+\"님\")"
   ]
  },
  {
   "cell_type": "code",
   "execution_count": 345,
   "metadata": {},
   "outputs": [
    {
     "name": "stdout",
     "output_type": "stream",
     "text": [
      "첫번째 숫자2\n",
      "두번째 숫자9\n",
      "결과는 11\n"
     ]
    }
   ],
   "source": [
    "num1 = int(input(\"첫번째 숫자\"))\n",
    "num2 = int(input(\"두번째 숫자\"))\n",
    "\n",
    "print(\"결과는 {}\".format(num1+num2))"
   ]
  },
  {
   "cell_type": "code",
   "execution_count": 10,
   "metadata": {},
   "outputs": [
    {
     "name": "stdout",
     "output_type": "stream",
     "text": [
      "교환할 돈은 얼마입니까1111\n",
      "결과:\n",
      "500원짜리 2개\n",
      "100원짜리 1개\n",
      "50원짜리 0개\n",
      "10원짜리 1개\n",
      "바꾸지 못한 금액은 1원\n",
      "교환할 금액은2763\n",
      "500원 = 5개\n",
      "100원 = 2개\n",
      "50원 = 1개\n",
      "10원 = 1개\n",
      "나머지 3\n"
     ]
    }
   ],
   "source": [
    "#----\n",
    "#동전 교환 프로그램\n",
    "\n",
    "#ex) 교환할 돈은 얼마입니까 2760 엔터\n",
    "# 결과 500원짜리 x개, 100 x개, 50원짜리 x개, 10원짜리 x개, 나머지 바꾸지 못한 잔돈 x원\n",
    "\n",
    "money, coin = 0, 0\n",
    "\n",
    "money = int(input(\"교환할 돈은 얼마입니까\"))  #외부장치로 받는 데이터는 다 문자열이다.\n",
    "print(\"결과:\")\n",
    "coin = int(money//500)\n",
    "money = int(money%500)\n",
    "print(\"500원짜리 {}개\".format(coin))\n",
    "coin = int(money//100)\n",
    "money = int(money%100)\n",
    "print(\"100원짜리 {}개\".format(coin))\n",
    "coin = int(money//50)\n",
    "money = int(money%50)\n",
    "print(\"50원짜리 {}개\".format(coin))\n",
    "coin = int(money//10)\n",
    "money = int(money%10)\n",
    "print(\"10원짜리 {}개\".format(coin))\n",
    "print(\"바꾸지 못한 금액은 {}원\".format(money))"
   ]
  },
  {
   "cell_type": "code",
   "execution_count": 11,
   "metadata": {},
   "outputs": [
    {
     "name": "stdout",
     "output_type": "stream",
     "text": [
      "교환할 금액은2466\n",
      "500원 = 4개\n",
      "100원 = 4개\n",
      "50원 = 1개\n",
      "10원 = 1개\n",
      "나머지 6\n"
     ]
    }
   ],
   "source": [
    "#강사님코드\n",
    "money, c500, c100, c50, c10 = 0, 0, 0, 0, 0\n",
    "\n",
    "money = int(input(\"교환할 금액은\"))\n",
    "\n",
    "c500 = money//500\n",
    "money %= 500\n",
    "\n",
    "c100 = money//100\n",
    "money %= 100\n",
    "\n",
    "c50 = money//50\n",
    "money %= 50\n",
    "\n",
    "c10 = money//10\n",
    "money %= 10\n",
    "\n",
    "print(\"500원 = {}개\".format(c500))\n",
    "print(\"100원 = {}개\".format(c100))\n",
    "print(\"50원 = {}개\".format(c50))\n",
    "print(\"10원 = {}개\".format(c10))\n",
    "print(\"나머지 %d\"%(money))"
   ]
  }
 ],
 "metadata": {
  "kernelspec": {
   "display_name": "Python 3",
   "language": "python",
   "name": "python3"
  },
  "language_info": {
   "codemirror_mode": {
    "name": "ipython",
    "version": 3
   },
   "file_extension": ".py",
   "mimetype": "text/x-python",
   "name": "python",
   "nbconvert_exporter": "python",
   "pygments_lexer": "ipython3",
   "version": "3.7.4"
  }
 },
 "nbformat": 4,
 "nbformat_minor": 2
}

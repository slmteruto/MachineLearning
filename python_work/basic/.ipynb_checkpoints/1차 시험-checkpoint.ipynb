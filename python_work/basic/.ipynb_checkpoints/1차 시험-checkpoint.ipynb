{
 "cells": [
  {
   "cell_type": "code",
   "execution_count": 4,
   "metadata": {},
   "outputs": [
    {
     "name": "stdout",
     "output_type": "stream",
     "text": [
      "연도를 입력 : 2019\n",
      "윤년이 아닙니다.\n"
     ]
    }
   ],
   "source": [
    "year = int(input(\"연도를 입력 : \"))\n",
    "\n",
    "if ((year%4 == 0)and(year%100 != 0)) or (year %400 == 0) :\n",
    "    print(\"윤년입니다.\")\n",
    "else :\n",
    "    print(\"윤년이 아닙니다.\")"
   ]
  },
  {
   "cell_type": "code",
   "execution_count": 8,
   "metadata": {},
   "outputs": [
    {
     "name": "stdout",
     "output_type": "stream",
     "text": [
      "    *\n",
      "   ***\n",
      "  *****\n",
      " *******\n",
      "*********\n"
     ]
    }
   ],
   "source": [
    "for i in range(5) :\n",
    "    print(\" \"*(5-i-1), end = \"\")\n",
    "    for j in range((4-i),(5+i)) :\n",
    "        print(\"*\", end = \"\")\n",
    "    print()"
   ]
  },
  {
   "cell_type": "code",
   "execution_count": 61,
   "metadata": {},
   "outputs": [],
   "source": [
    "class Employee :\n",
    "    count = 0\n",
    "    \n",
    "    def __init__(self, no, name, sal, hobby) :\n",
    "        Employee.count += 1\n",
    "        self.no = no\n",
    "        self.name = name\n",
    "        self.sal = sal\n",
    "        self.hobby = hobby\n",
    "    \n",
    "    def display(self) :\n",
    "        print(\"사번 : %d\"%self.no)\n",
    "        print(\"이름 : %s\"%self.name)\n",
    "        print(\"급여 : %d\"%self.sal)\n",
    "        print(\"취미 : \", end = \"\")\n",
    "        for i in range(len(self.hobby)) :\n",
    "            if i < len(self.hobby)-1 : print(self.hobby[i], end = \",\")\n",
    "            else : print(self.hobby[i])\n",
    "\n",
    "    @staticmethod\n",
    "    def getCount() :\n",
    "        count = Employee.count\n",
    "        return count\n",
    "    \n",
    "    def setSalary(self, sal) :\n",
    "        self.sal = sal\n",
    "    \n",
    "    \n",
    "    def appendHobby(self, hobby) :\n",
    "        self.hobby.extend(hobby)"
   ]
  },
  {
   "cell_type": "code",
   "execution_count": 62,
   "metadata": {},
   "outputs": [
    {
     "name": "stdout",
     "output_type": "stream",
     "text": [
      "사번 : 1111\n",
      "이름 : 홍길동\n",
      "급여 : 1000000\n",
      "취미 : 여행,낚시,운동\n"
     ]
    }
   ],
   "source": [
    "e1 = Employee(1111,\"홍길동\", 1000000, [\"여행\", \"낚시\", \"운동\"])\n",
    "e1.display()"
   ]
  },
  {
   "cell_type": "code",
   "execution_count": 63,
   "metadata": {},
   "outputs": [
    {
     "name": "stdout",
     "output_type": "stream",
     "text": [
      "총 인원수 :  3\n"
     ]
    }
   ],
   "source": [
    "e2 = Employee(1112,\"임꺽정\", 1200000, [\"자전거\", \"볼링\"])\n",
    "e3 = Employee(1113,\"신돌석\", 1000000, [\"독서\"])\n",
    "\n",
    "total = Employee.getCount()\n",
    "print(\"총 인원수 : \", total)\n",
    "\n"
   ]
  },
  {
   "cell_type": "code",
   "execution_count": 64,
   "metadata": {},
   "outputs": [
    {
     "name": "stdout",
     "output_type": "stream",
     "text": [
      "사번 : 1113\n",
      "이름 : 신돌석\n",
      "급여 : 2500000\n",
      "취미 : 독서,피아노,드론\n"
     ]
    }
   ],
   "source": [
    "e3.setSalary(2500000)\n",
    "e3.appendHobby([\"피아노\", \"드론\"])\n",
    "e3.display()"
   ]
  },
  {
   "cell_type": "code",
   "execution_count": 73,
   "metadata": {},
   "outputs": [
    {
     "name": "stdout",
     "output_type": "stream",
     "text": [
      "(가위,바위,보)중에서 하나를 선택 : 바위\n",
      "비겼습니다.\n",
      "(가위,바위,보)중에서 하나를 선택 : 보\n",
      "사용자가 이겼습니다.\n",
      "(가위,바위,보)중에서 하나를 선택 : 끝\n",
      "종료\n"
     ]
    }
   ],
   "source": [
    "import random\n",
    "\n",
    "class RSP_game :       \n",
    "        \n",
    "    def rsp_func(self, user, cpt) :\n",
    "        if user == \"가위\" :\n",
    "            if cpt == \"가위\" :\n",
    "                print(\"비겼습니다.\")\n",
    "            elif cpt == \"바위\" :\n",
    "                print(\"사용자가 졌습니다.\")\n",
    "            else :\n",
    "                print(\"사용자가 이겼습니다.\")\n",
    "\n",
    "        elif user == \"바위\" :\n",
    "            if cpt == \"가위\" :\n",
    "                print(\"사용자가 이겼습니다.\")\n",
    "            elif cpt == \"바위\" :\n",
    "                print(\"비겼습니다.\")\n",
    "            else :\n",
    "                print(\"사용자가 졌습니다.\")\n",
    "\n",
    "        elif user == \"보\" :\n",
    "            if cpt == \"가위\" :\n",
    "                print(\"사용자가 졌습니다.\")\n",
    "            elif cpt == \"바위\" :\n",
    "                print(\"사용자가 이겼습니다.\")\n",
    "            else :\n",
    "                print(\"비겼습니다.\")\n",
    "    \n",
    "    \n",
    "while True :\n",
    "    rsp_list = [\"가위\", \"바위\", \"보\"]\n",
    "    \n",
    "    user = input(\"(가위,바위,보)중에서 하나를 선택 : \")\n",
    "    cpt = rsp_list[random.randint(0,2)]\n",
    "    \n",
    "    rsp = RSP_game()\n",
    "    \n",
    "    if (user == \"끝\") or (user == \"종료\") :\n",
    "        print(\"종료\")\n",
    "        break\n",
    "    elif user in rsp_list :\n",
    "        rsp.rsp_func(user, cpt)\n",
    "    else : \n",
    "        print(\"잘못입력하셨습니다.\")"
   ]
  },
  {
   "cell_type": "code",
   "execution_count": 80,
   "metadata": {},
   "outputs": [
    {
     "name": "stdout",
     "output_type": "stream",
     "text": [
      "연산자 입력 : +\n"
     ]
    },
    {
     "ename": "NameError",
     "evalue": "name 'chk' is not defined",
     "output_type": "error",
     "traceback": [
      "\u001b[1;31m---------------------------------------------------------------------------\u001b[0m",
      "\u001b[1;31mNameError\u001b[0m                                 Traceback (most recent call last)",
      "\u001b[1;32m<ipython-input-80-ce6ed7619345>\u001b[0m in \u001b[0;36m<module>\u001b[1;34m\u001b[0m\n\u001b[0;32m     62\u001b[0m         \u001b[1;32mbreak\u001b[0m\u001b[1;33m\u001b[0m\u001b[1;33m\u001b[0m\u001b[0m\n\u001b[0;32m     63\u001b[0m     \u001b[1;32melif\u001b[0m \u001b[0mfunc\u001b[0m \u001b[1;32min\u001b[0m \u001b[0mfunc_list\u001b[0m \u001b[1;33m:\u001b[0m\u001b[1;33m\u001b[0m\u001b[1;33m\u001b[0m\u001b[0m\n\u001b[1;32m---> 64\u001b[1;33m         \u001b[0mchk\u001b[0m\u001b[1;33m.\u001b[0m\u001b[0mnumCheck\u001b[0m\u001b[1;33m(\u001b[0m\u001b[0mfunc\u001b[0m\u001b[1;33m)\u001b[0m  \u001b[1;31m##숫자체크\u001b[0m\u001b[1;33m\u001b[0m\u001b[1;33m\u001b[0m\u001b[0m\n\u001b[0m\u001b[0;32m     65\u001b[0m         \u001b[0mcal\u001b[0m \u001b[1;33m=\u001b[0m \u001b[0mCal_clss\u001b[0m\u001b[1;33m(\u001b[0m\u001b[0mnum1\u001b[0m\u001b[1;33m,\u001b[0m \u001b[0mnum2\u001b[0m\u001b[1;33m)\u001b[0m       \u001b[1;31m##계산기 클래스 선언 (생성자값 위에서 체크한 num1,num2 부여)\u001b[0m\u001b[1;33m\u001b[0m\u001b[1;33m\u001b[0m\u001b[0m\n\u001b[0;32m     66\u001b[0m         \u001b[0mcal\u001b[0m\u001b[1;33m.\u001b[0m\u001b[0mcal_func\u001b[0m\u001b[1;33m(\u001b[0m\u001b[0mfunc\u001b[0m\u001b[1;33m)\u001b[0m\u001b[1;33m\u001b[0m\u001b[1;33m\u001b[0m\u001b[0m\n",
      "\u001b[1;31mNameError\u001b[0m: name 'chk' is not defined"
     ]
    }
   ],
   "source": [
    "class Calc :\n",
    "\n",
    "    def isNum(self, f) :\n",
    "        try :\n",
    "            float(s)\n",
    "            return True\n",
    "        except ValueError :\n",
    "            return False\n",
    "        \n",
    "    def numCheck(self, func) :\n",
    "        while True :\n",
    "            num1 = input(\"첫번째 숫자 입력\")\n",
    "            \n",
    "            #숫자인지 아닌지 판단\n",
    "            if self.isNumber(num1) :  \n",
    "                if func == \"/\" :\n",
    "                    while True :\n",
    "                        num2 = input(\"두번째 숫자 입력(0불가)\")\n",
    "                        if num2 == \"0\" :\n",
    "                            print(\"경고!! 0이 아닌 정수만 입력해주세요\")\n",
    "                        elif self.isNumber(num2) :\n",
    "                            break\n",
    "                        else :\n",
    "                            print(\"경고!! 0이 아닌 정수만 입력해주세요\")\n",
    "                    break \n",
    "                else :\n",
    "                    while True :\n",
    "                        num2 = input(\"두번째 숫자 입력\")\n",
    "                        if self.isNumber(num2) :\n",
    "                            break\n",
    "                        else :\n",
    "                            print(\"경고!  정수만 입력해주세요\")\n",
    "                    break\n",
    "\n",
    "            else :\n",
    "                print(\"경고!  정수만 입력해주세요\")\n",
    "\n",
    "            \n",
    "        return int(num1), int(num2)\n",
    "    \n",
    "    def sum(self, num1, num2) :\n",
    "        result = num1 + num2\n",
    "        print(\"{} + {} = {}입니다\".format(num1,num2,result))\n",
    "    \n",
    "    def min(self, num1, num2) :\n",
    "        print(\"{} - {} = {}입니다\".format(num1,num2,result))\n",
    "    \n",
    "    def mul(self, num1, num2) :\n",
    "        print(\"{} * {} = {}입니다\".format(num1,num2,result))\n",
    "    \n",
    "    def div(self, num1, num2) :\n",
    "        print(\"{} / {} = {}입니다\".format(num1,num2,result))\n",
    "    \n",
    "\n",
    "while True :\n",
    "    func_list = [\"+\", \"-\", \"*\", \"/\"]\n",
    "    func = input(\"연산자 입력 : \")\n",
    "    calc = Calc()\n",
    "\n",
    "    if func == \"x\" :\n",
    "        print(\"종료\")\n",
    "        break\n",
    "    elif func in func_list :\n",
    "        calc.numCheck(func)  ##숫자체크\n",
    "        calc = Cal_clss(num1, num2)       ##계산기 클래스 선언 (생성자값 위에서 체크한 num1,num2 부여)\n",
    "        calc.cal_func(func)   \n",
    "    else :\n",
    "        print(\"잘못 입력\")\n",
    "        \n",
    "\n",
    "    "
   ]
  },
  {
   "cell_type": "code",
   "execution_count": null,
   "metadata": {},
   "outputs": [],
   "source": []
  },
  {
   "cell_type": "code",
   "execution_count": null,
   "metadata": {},
   "outputs": [],
   "source": []
  }
 ],
 "metadata": {
  "kernelspec": {
   "display_name": "Python 3",
   "language": "python",
   "name": "python3"
  },
  "language_info": {
   "codemirror_mode": {
    "name": "ipython",
    "version": 3
   },
   "file_extension": ".py",
   "mimetype": "text/x-python",
   "name": "python",
   "nbconvert_exporter": "python",
   "pygments_lexer": "ipython3",
   "version": "3.7.4"
  }
 },
 "nbformat": 4,
 "nbformat_minor": 2
}

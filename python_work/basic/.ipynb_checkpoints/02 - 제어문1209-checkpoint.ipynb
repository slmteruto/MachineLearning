{
 "cells": [
  {
   "cell_type": "markdown",
   "metadata": {},
   "source": [
    "Control statement\n",
    "\n",
    "# 제어문\n",
    "\n",
    "    1) 조건문\n",
    "        if\n",
    "        \n",
    "    2) 반복문\n",
    "        while, for\n"
   ]
  },
  {
   "cell_type": "markdown",
   "metadata": {},
   "source": [
    "### 조건문 : if \n",
    "\n",
    "   1) if 조건식 : \n",
    "        문장\n",
    "        문장\n",
    "        .....\n",
    "     '조건식' 이 참일경우에 '문장' 실행 (여러문장일 수도 있음)\n",
    "     \n",
    "         if 조건식 : 문장\n",
    "         if 조건식 : 문장; 문장; 문장\n",
    "         if 조건식 : \n",
    "             문장\n",
    "             문장\n",
    "             \n",
    "   2) if 조건식 :\n",
    "          문장\n",
    "      else :\n",
    "          문장\n",
    "          \n",
    "      단점 : 조건식이 하나 뿐이다.\n",
    "      \n",
    "  3) if 조건식 :\n",
    "         문장\n",
    "     elif 조건식 :\n",
    "         문장\n",
    "     elif 조건식 :\n",
    "         문장\n",
    "     else :\n",
    "         문장"
   ]
  },
  {
   "cell_type": "code",
   "execution_count": 4,
   "metadata": {},
   "outputs": [
    {
     "name": "stdout",
     "output_type": "stream",
     "text": [
      "숫자를 입력하십시오55\n",
      "홀수입니다.\n"
     ]
    }
   ],
   "source": [
    "# 입력받은 숫자가 짝수, 홀수 구별하는 프로그램\n",
    "\n",
    "num1 = 0\n",
    "num1 = int(input(\"숫자를 입력하십시오\"))\n",
    "\n",
    "if num1%2 == 0 :\n",
    "    print(\"짝수입니다.\")\n",
    "else :\n",
    "    print(\"홀수입니다.\")"
   ]
  },
  {
   "cell_type": "code",
   "execution_count": 21,
   "metadata": {},
   "outputs": [
    {
     "name": "stdout",
     "output_type": "stream",
     "text": [
      "값을 입력 : e\n",
      "오답\n"
     ]
    }
   ],
   "source": [
    "# 입력받은 값이  a, b, c, d이면 \"정답\"이라고 출력하고 그렇지 않으면 \"오답\"이라고 출력\n",
    "\n",
    "ans = input(\"값을 입력 : \")\n",
    "\n",
    "anslist = ['a', 'b', 'c', 'd']\n",
    "\n",
    "#if ans == \"a\" or ans ==\"b\" or ans == \"c\" or ans == \"d\":\n",
    "if ans in anslist :\n",
    "    print(\"정답\")\n",
    "else :\n",
    "    print(\"오답\")"
   ]
  },
  {
   "cell_type": "code",
   "execution_count": 22,
   "metadata": {},
   "outputs": [
    {
     "name": "stdout",
     "output_type": "stream",
     "text": [
      "입력ㅁ\n",
      "오답\n"
     ]
    }
   ],
   "source": [
    "#강사님\n",
    "data = input(\"입력\")\n",
    "correct = ('a', 'b', 'c', 'd')\n",
    "\n",
    "#입력받은 값의 갯수를 세어서 0이냐 아니냐로 구별\n",
    "if correct.count(data) > 0:\n",
    "    print(\"정답\")\n",
    "else :\n",
    "    print(\"오답\")\n"
   ]
  },
  {
   "cell_type": "code",
   "execution_count": 4,
   "metadata": {},
   "outputs": [
    {
     "name": "stdout",
     "output_type": "stream",
     "text": [
      "입력b\n",
      "정답\n"
     ]
    }
   ],
   "source": [
    "#ASCII 코드 이용\n",
    "data2 = input(\"입력\")\n",
    "\n",
    "if 'a'<= data2 <= 'd' :\n",
    "    print(\"정답\")\n",
    "else :\n",
    "    print(\"오답\")"
   ]
  },
  {
   "cell_type": "code",
   "execution_count": 6,
   "metadata": {},
   "outputs": [
    {
     "name": "stdout",
     "output_type": "stream",
     "text": [
      "65 97\n",
      "A b\n"
     ]
    }
   ],
   "source": [
    "#ASCII 코드 변환\n",
    "\n",
    "print(ord(\"A\"), ord(\"a\"))\n",
    "print(chr(65), chr(98))"
   ]
  },
  {
   "cell_type": "code",
   "execution_count": 20,
   "metadata": {},
   "outputs": [
    {
     "name": "stdout",
     "output_type": "stream",
     "text": [
      "연도 입력2019\n",
      "평년\n"
     ]
    }
   ],
   "source": [
    "#윤년 계산 프로그램\n",
    "\n",
    "#1) 기원 연수가 4로 나누어 떨어지는 해는 윤년으로 한다.\n",
    "#2) 그 중에서 100으로 나누어 떨어지는 해는 평년으로 한다.\n",
    "#3) 다만 400으로 나누어 떨어지는 해는 다시 윤년으로 정한다.\n",
    "\n",
    "# 연도를 입력 : 2019\n",
    "# 결과 : 윤년입니다. 또는 윤년이 아닙니다.\n",
    "\n",
    "\n",
    "year = 0\n",
    "\n",
    "year = int(input(\"연도 입력\"))\n",
    "\n",
    "if year % 4 == 0 :\n",
    "    if year % 100 ==0 :\n",
    "        print(\"평년\")\n",
    "    else :\n",
    "        print(\"윤년\")\n",
    "else :\n",
    "    print(\"평년\")\n"
   ]
  },
  {
   "cell_type": "code",
   "execution_count": 24,
   "metadata": {},
   "outputs": [
    {
     "name": "stdout",
     "output_type": "stream",
     "text": [
      "당신의 학점은 F학점\n"
     ]
    }
   ],
   "source": [
    "# 다중 조건문\n",
    "\n",
    "avg = 58\n",
    "grade = None\n",
    "\n",
    "if avg >= 90 :\n",
    "    grade = \"A학점\"\n",
    "elif avg >= 80 :\n",
    "    grade = \"B학점\"\n",
    "elif avg >= 70 :\n",
    "    grade = \"C학점\"\n",
    "elif avg >= 60 :\n",
    "    grade = \"D학점\"\n",
    "else :\n",
    "    grade = \"F학점\"\n",
    "    \n",
    "print(\"당신의 학점은 %s\"%grade)"
   ]
  },
  {
   "cell_type": "code",
   "execution_count": 31,
   "metadata": {},
   "outputs": [
    {
     "name": "stdout",
     "output_type": "stream",
     "text": [
      "연산자 입력 (+,-,*,/)/\n",
      "숫자입력1 : 50\n",
      "숫자입력2 (0불가) : 30\n",
      "50 / 30 = 1 입니다.\n"
     ]
    }
   ],
   "source": [
    "#간단한 계산기(4칙연산만)\n",
    "# 1) 연산자 입력  예) +\n",
    "# 2) 숫자1 입력 \n",
    "# 3) 숫자2 입력\n",
    "# 4) 결과 : 숫자1 + 숫자2 = 결과\n",
    "\n",
    "\n",
    "result = 0\n",
    "func = \"\"\n",
    "num1 = 0\n",
    "num2 = 0\n",
    "\n",
    "func = input(\"연산자 입력 (+,-,*,/)\")\n",
    "num1 = int(input(\"숫자입력1 : \"))\n",
    "\n",
    "if func == \"/\" :\n",
    "    num2 = int(input(\"숫자입력2 (0불가) : \"))\n",
    "else :\n",
    "    num2 = int(input(\"숫자입력2 : \"))\n",
    "\n",
    "if func == \"+\" :\n",
    "    print(\"%d %s %d = %d 입니다.\"%(num1, func, num2, num1+num2))\n",
    "elif func == \"-\" :\n",
    "    print(\"%d %s %d = %d 입니다.\"%(num1, func, num2, num1-num2))\n",
    "elif func == \"*\" :\n",
    "    print(\"%d %s %d = %d 입니다.\"%(num1, func, num2, num1*num2))\n",
    "elif func == \"/\" :\n",
    "    print(\"%d %s %d = %d 입니다.\"%(num1, func, num2, num1/num2))\n",
    "    "
   ]
  },
  {
   "cell_type": "markdown",
   "metadata": {},
   "source": [
    "### 조건문의 중첩(Nested)\n",
    "\n",
    "    if 조건식 :\n",
    "        문장\n",
    "        ...\n",
    "        if 조건식 :\n",
    "            문장\n",
    "            ...\n",
    "    else :\n",
    "        문장\n",
    "        ...\n",
    "        if 조건식 :\n",
    "            문장\n",
    "        \n",
    "        "
   ]
  },
  {
   "cell_type": "code",
   "execution_count": 39,
   "metadata": {},
   "outputs": [
    {
     "name": "stdout",
     "output_type": "stream",
     "text": [
      "b가 가장크다\n"
     ]
    }
   ],
   "source": [
    "# 예제1\n",
    "\n",
    "a, b, c = 8, 10, 1\n",
    "\n",
    "if a > b :\n",
    "    if a > c :\n",
    "        print(\"a가 가장크다\")\n",
    "    else :\n",
    "        print(\"c가 가장크다\")\n",
    "else :\n",
    "    if b > c :\n",
    "        print(\"b가 가장크다\")\n",
    "    else :\n",
    "        print(\"c가 가장크다\")"
   ]
  },
  {
   "cell_type": "code",
   "execution_count": 45,
   "metadata": {},
   "outputs": [
    {
     "name": "stdout",
     "output_type": "stream",
     "text": [
      "아이디 : sam\n",
      "패스워드 : 333\n",
      "아이디가 올바르지 않습니다.\n"
     ]
    }
   ],
   "source": [
    "# 예제 2   ID, PW 인증 \n",
    "\n",
    "# ID = tom, PW = 1234\n",
    "\n",
    "\n",
    "user = \"tom\"\n",
    "password = 1234\n",
    "\n",
    "id = input(\"아이디 : \")\n",
    "pw = int(input(\"패스워드 : \"))\n",
    "\n",
    "if user == id :\n",
    "    if password == pw :\n",
    "        print(\"로그인 성공\")\n",
    "    else :\n",
    "        print(\"비밀번호가 올바르지 않습니다.\")\n",
    "else :\n",
    "    print(\"아이디가 올바르지 않습니다.\")"
   ]
  },
  {
   "cell_type": "code",
   "execution_count": 75,
   "metadata": {},
   "outputs": [
    {
     "name": "stdout",
     "output_type": "stream",
     "text": [
      "무엇을 내시겠습니까(가위, 바위, 보 중) : 보\n",
      "컴퓨터는 가위\n",
      "졌지만 잘 싸웠습니다.\n"
     ]
    }
   ],
   "source": [
    "# 예제 3  가위바위보\n",
    "\n",
    "# 1) 가위,바위, 보 입력받음  : 바위\n",
    "# 2) 결과 : 사용자가 이겼습니다. 또는 졌습니다., 비겼습니다.\n",
    "\n",
    "# random.randint(0,10) 0부터 10까지 \n",
    "import random\n",
    "\n",
    "#가위 = 1\n",
    "#바위 = 2\n",
    "#보   = 3\n",
    "\n",
    "user = \"\"\n",
    "cpt = random.randint(1,3)\n",
    "\n",
    "user = input(\"무엇을 내시겠습니까(가위, 바위, 보 중) : \")\n",
    "\n",
    "if user == \"가위\" :\n",
    "        user = int(1)\n",
    "elif user == \"바위\" :\n",
    "        user = int(2)\n",
    "elif user == \"보\" :\n",
    "        user = int(3)\n",
    "else : \n",
    "       print(\"다시 입력하세요\")\n",
    "\n",
    "\n",
    "if cpt == 1 :\n",
    "    print(\"컴퓨터는 가위\")\n",
    "elif cpt == 2 :\n",
    "    print(\"컴퓨터는 바위\")\n",
    "elif cpt == 3 :\n",
    "    print(\"컴퓨터는 보\")\n",
    "\n",
    "if user == 1 :\n",
    "    if cpt == 2 :\n",
    "        print(\"졌지만 잘 싸웠습니다.\")\n",
    "    elif cpt == 3 :\n",
    "        print(\"승리\")\n",
    "    else :\n",
    "        print(\"비겼습니다.\")\n",
    "elif user == 2 :\n",
    "    if cpt == 3 :\n",
    "        print(\"졌지만 잘 싸웠습니다.\")\n",
    "    elif cpt == 1 :\n",
    "        print(\"승리\")\n",
    "    else :\n",
    "        print(\"비겼습니다.\")\n",
    "elif user == 3 :\n",
    "    if cpt == 1 :\n",
    "        print(\"졌지만 잘 싸웠습니다.\")\n",
    "    elif cpt == 2 :\n",
    "        print(\"승리\")\n",
    "    else :\n",
    "        print(\"비겼습니다.\")"
   ]
  },
  {
   "cell_type": "markdown",
   "metadata": {},
   "source": [
    "### 반복문 : while\n",
    "\n",
    "    while 조건식 : \n",
    "        문장"
   ]
  },
  {
   "cell_type": "code",
   "execution_count": 71,
   "metadata": {},
   "outputs": [
    {
     "name": "stdout",
     "output_type": "stream",
     "text": [
      "**********\n",
      "**********\n",
      "**********"
     ]
    }
   ],
   "source": [
    "print(\"**********\")\n",
    "\n",
    "print(\"*\"*10)\n",
    "\n",
    "cnt = 0\n",
    "while cnt < 10 : \n",
    "    print(\"*\", end = \"\")  #end는 끝처리, 기본이 엔터이기 때문에 이렇게 하면 엔터말고 다른걸 해줄 수 있음.\n",
    "    cnt += 1"
   ]
  },
  {
   "cell_type": "code",
   "execution_count": 78,
   "metadata": {},
   "outputs": [
    {
     "name": "stdout",
     "output_type": "stream",
     "text": [
      "합계는 55\n"
     ]
    }
   ],
   "source": [
    "# 예제   1 ~ 10까지의 합계\n",
    "\n",
    "num = 0\n",
    "cnt = 0\n",
    "\n",
    "while cnt <= 10 :\n",
    "    num += cnt\n",
    "    cnt += 1\n",
    "    \n",
    "print(\"합계는 %d\"%num)"
   ]
  },
  {
   "cell_type": "code",
   "execution_count": 80,
   "metadata": {},
   "outputs": [
    {
     "name": "stdout",
     "output_type": "stream",
     "text": [
      "1024\n"
     ]
    }
   ],
   "source": [
    "# 예제   2의 10승 구하기 \n",
    "\n",
    "num = 1\n",
    "cnt = 0\n",
    "\n",
    "while cnt < 10 :\n",
    "    num *= 2\n",
    "    cnt += 1\n",
    "    \n",
    "print(num)"
   ]
  },
  {
   "cell_type": "markdown",
   "metadata": {},
   "source": [
    "### 반복문 : for\n",
    "\n",
    "    *집합자료형 갯수만큼 반복, 변수에다 하나씩 담아서 진행\n",
    "    \n",
    "    for 변수 in 집합 자료형 :\n",
    "        문장\n",
    "        ...\n",
    "        "
   ]
  },
  {
   "cell_type": "code",
   "execution_count": 2,
   "metadata": {},
   "outputs": [
    {
     "name": "stdout",
     "output_type": "stream",
     "text": [
      "10\n",
      "20\n",
      "30\n",
      "40\n",
      "50\n",
      "호날두\n",
      "3.14\n",
      "True\n"
     ]
    }
   ],
   "source": [
    "# 예제 1\n",
    "\n",
    "var1 = [10, 20, 30, 40, 50, \"호날두\", 3.14, True]\n",
    "\n",
    "\n",
    "# while 방법\n",
    "\n",
    "cnt = 0\n",
    "while cnt < len(var1) :\n",
    "    print(var1[cnt])\n",
    "    cnt += 1"
   ]
  },
  {
   "cell_type": "code",
   "execution_count": 3,
   "metadata": {},
   "outputs": [
    {
     "name": "stdout",
     "output_type": "stream",
     "text": [
      "10\n",
      "20\n",
      "30\n",
      "40\n",
      "50\n",
      "호날두\n",
      "3.14\n",
      "True\n"
     ]
    }
   ],
   "source": [
    "# for 방법\n",
    "\n",
    "for i in var1 :\n",
    "    print(i)\n",
    "    \n",
    "# i = var1[0]~ var1[끝]  까지 차례로 담기는 것"
   ]
  },
  {
   "cell_type": "code",
   "execution_count": 14,
   "metadata": {},
   "outputs": [
    {
     "name": "stdout",
     "output_type": "stream",
     "text": [
      "**********"
     ]
    }
   ],
   "source": [
    "# * 10개 찍기\n",
    "\n",
    "for i in range(10) :\n",
    "    print(\"*\", end = \"\")\n"
   ]
  },
  {
   "cell_type": "code",
   "execution_count": 15,
   "metadata": {},
   "outputs": [
    {
     "name": "stdout",
     "output_type": "stream",
     "text": [
      "55\n"
     ]
    }
   ],
   "source": [
    "# 1~10까지 합계\n",
    "\n",
    "sum = 0\n",
    "for i in range(11) :\n",
    "    sum += i\n",
    "\n",
    "print(sum)"
   ]
  },
  {
   "cell_type": "code",
   "execution_count": 19,
   "metadata": {},
   "outputs": [
    {
     "name": "stdout",
     "output_type": "stream",
     "text": [
      "1024\n"
     ]
    }
   ],
   "source": [
    "# 2의 10승 구하기 \n",
    "\n",
    "anw = 1\n",
    "for i in range(10) :\n",
    "    anw *= 2\n",
    "\n",
    "print(anw)"
   ]
  },
  {
   "cell_type": "markdown",
   "metadata": {},
   "source": [
    "### 강제 종료\n",
    "\n",
    "    - break  :  완전 종료\n",
    "    \n",
    "    - continue  :  일시 종료"
   ]
  },
  {
   "cell_type": "code",
   "execution_count": 28,
   "metadata": {},
   "outputs": [
    {
     "name": "stdout",
     "output_type": "stream",
     "text": [
      "0 1 2 3 4 "
     ]
    }
   ],
   "source": [
    "## break\n",
    "\n",
    "for i in range(10) :\n",
    "    if i == 5 :\n",
    "        break\n",
    "        #continue\n",
    "    print(i,end = \" \")"
   ]
  },
  {
   "cell_type": "code",
   "execution_count": 27,
   "metadata": {},
   "outputs": [
    {
     "name": "stdout",
     "output_type": "stream",
     "text": [
      "0 1 2 3 4 6 7 8 9 "
     ]
    }
   ],
   "source": [
    "# continue\n",
    "\n",
    "for i in range(10) :\n",
    "    if i == 5 :\n",
    "        #break\n",
    "        continue\n",
    "    print(i,end = \" \")"
   ]
  },
  {
   "cell_type": "code",
   "execution_count": null,
   "metadata": {},
   "outputs": [
    {
     "name": "stdout",
     "output_type": "stream",
     "text": [
      "연산자 입력 (+,-,*,/), x를 누르면 종료됩니다./\n",
      "숫자입력1 : 10\n",
      "숫자입력2 (0불가) : 0\n",
      "0으로 나누는 계산은 불가능합니다.\n",
      "연산자 입력 (+,-,*,/), x를 누르면 종료됩니다.+\n",
      "숫자입력1 : 1\n",
      "숫자입력2 : 5\n",
      "1 + 5 = 6 입니다.\n"
     ]
    }
   ],
   "source": [
    "#간단한 계산기(4칙연산만)\n",
    "# 1) 연산자 입력  예) +\n",
    "# 2) 숫자1 입력 \n",
    "# 3) 숫자2 입력\n",
    "# 4) 결과 : 숫자1 + 숫자2 = 결과\n",
    "\n",
    "# 5) for문 추가해서 계속 사용 가능하게\n",
    "\n",
    "\n",
    "while True :\n",
    "    result = 0\n",
    "    func = \"\"\n",
    "    funclist = [\"+\", \"-\", \"*\", \"/\"]\n",
    "    num1 = 0\n",
    "    num2 = 0\n",
    "    \n",
    "    func = input(\"연산자 입력 (+,-,*,/), x를 누르면 종료됩니다.\")\n",
    "    if func == \"x\" or func == \"X\" :\n",
    "        break\n",
    "    elif func not in funclist :\n",
    "        print(\"잘 못 누르셨습니다.\")\n",
    "        continue\n",
    "        \n",
    "    \n",
    "    num1 = int(input(\"숫자입력1 : \"))\n",
    "    if func == \"/\" :\n",
    "        num2 = int(input(\"숫자입력2 (0불가) : \"))\n",
    "        if num2 == 0 :\n",
    "            print(\"0으로 나누는 계산은 불가능합니다.\")\n",
    "            continue\n",
    "    else :\n",
    "        num2 = int(input(\"숫자입력2 : \"))\n",
    "\n",
    "    if func == \"+\" :\n",
    "        print(\"%d %s %d = %d 입니다.\"%(num1, func, num2, num1+num2))\n",
    "    elif func == \"-\" :\n",
    "        print(\"%d %s %d = %d 입니다.\"%(num1, func, num2, num1-num2))\n",
    "    elif func == \"*\" :\n",
    "        print(\"%d %s %d = %d 입니다.\"%(num1, func, num2, num1*num2))\n",
    "    elif func == \"/\" :\n",
    "        print(\"%d %s %d = %d 입니다.\"%(num1, func, num2, num1/num2))\n",
    "    else :\n",
    "        break;"
   ]
  },
  {
   "cell_type": "code",
   "execution_count": 1,
   "metadata": {},
   "outputs": [
    {
     "name": "stdout",
     "output_type": "stream",
     "text": [
      "무엇을 내시겠습니까(가위, 바위, 보 중), (종료는 x나 q를 입력해주세요) : 보\n",
      "사용자는 보\n",
      "컴퓨터는 보\n",
      "비겼습니다.\n",
      "********************\n",
      "0승, 0패, 1무\n",
      "********************\n",
      "무엇을 내시겠습니까(가위, 바위, 보 중), (종료는 x나 q를 입력해주세요) : 가위\n",
      "사용자는 가위\n",
      "컴퓨터는 바위\n",
      "졌지만 잘 싸웠습니다.\n",
      "********************\n",
      "0승, 1패, 1무\n",
      "********************\n",
      "무엇을 내시겠습니까(가위, 바위, 보 중), (종료는 x나 q를 입력해주세요) : 바위\n",
      "사용자는 바위\n",
      "컴퓨터는 보\n",
      "졌지만 잘 싸웠습니다.\n",
      "********************\n",
      "0승, 2패, 1무\n",
      "********************\n",
      "무엇을 내시겠습니까(가위, 바위, 보 중), (종료는 x나 q를 입력해주세요) : q\n",
      "종료\n"
     ]
    }
   ],
   "source": [
    "# 가위바위보 업그레이드\n",
    "# 반복문\n",
    "# 결과에 승패 출력\n",
    "# 종료는 x나 q\n",
    "\n",
    "\n",
    "import random\n",
    "\n",
    "#가위 = 1\n",
    "#바위 = 2\n",
    "#보   = 3\n",
    "\n",
    "win_cnt = 0    #이긴 횟수\n",
    "lose_cnt = 0   # 진 횟수\n",
    "same_cnt = 0   #비긴 횟수\n",
    "\n",
    "\n",
    "while True :  \n",
    "    user = \"\"                                 ## 유저가 낸 것    \n",
    "    cpt = random.randint(1,3)                 ## 컴퓨터가 낸 것\n",
    "\n",
    "    \n",
    "    user = input(\"무엇을 내시겠습니까(가위, 바위, 보 중), (종료는 x나 q를 입력해주세요) : \")   \n",
    "    \n",
    "    if user == \"가위\" :\n",
    "            print(\"사용자는 %s\"%user)\n",
    "            user = int(1)\n",
    "    elif user == \"바위\" :\n",
    "            print(\"사용자는 %s\"%user)\n",
    "            user = int(2)\n",
    "    elif user == \"보\" :\n",
    "            print(\"사용자는 %s\"%user)\n",
    "            user = int(3)\n",
    "    elif user == \"x\" or user == \"q\" :\n",
    "        print(\"종료\")\n",
    "        break\n",
    "    else : \n",
    "           print(\"다시 입력하세요\")\n",
    "    \n",
    "\n",
    "\n",
    "    if cpt == 1 :\n",
    "        print(\"컴퓨터는 가위\")\n",
    "    elif cpt == 2 :\n",
    "        print(\"컴퓨터는 바위\")        \n",
    "    elif cpt == 3 :\n",
    "        print(\"컴퓨터는 보\")        \n",
    "\n",
    "    if user == 1 :\n",
    "        if cpt == 2 :\n",
    "            print(\"졌지만 잘 싸웠습니다.\")\n",
    "            lose_cnt += 1\n",
    "            print(\"*\"*20)\n",
    "            print(\"%d승, %d패, %d무\"%(win_cnt, lose_cnt, same_cnt))\n",
    "            print(\"*\"*20)\n",
    "        elif cpt == 3 :\n",
    "            print(\"승리\")\n",
    "            win_cnt += 1\n",
    "            print(\"*\"*20)\n",
    "            print(\"%d승, %d패, %d무\"%(win_cnt, lose_cnt, same_cnt))\n",
    "            print(\"*\"*20)\n",
    "        else :\n",
    "            print(\"비겼습니다.\")\n",
    "            same_cnt +=1\n",
    "            print(\"*\"*20)\n",
    "            print(\"%d승, %d패, %d무\"%(win_cnt, lose_cnt, same_cnt))\n",
    "            print(\"*\"*20)\n",
    "    elif user == 2 :\n",
    "        if cpt == 3 :\n",
    "            print(\"졌지만 잘 싸웠습니다.\")\n",
    "            lose_cnt += 1\n",
    "            print(\"*\"*20)\n",
    "            print(\"%d승, %d패, %d무\"%(win_cnt, lose_cnt, same_cnt))\n",
    "            print(\"*\"*20)\n",
    "        elif cpt == 1 :\n",
    "            print(\"승리\")\n",
    "            win_cnt += 1\n",
    "            print(\"*\"*20)\n",
    "            print(\"%d승, %d패, %d무\"%(win_cnt, lose_cnt, same_cnt))\n",
    "            print(\"*\"*20)\n",
    "        else :\n",
    "            print(\"비겼습니다.\")\n",
    "            same_cnt +=1\n",
    "            print(\"*\"*20)\n",
    "            print(\"%d승, %d패, %d무\"%(win_cnt, lose_cnt, same_cnt))\n",
    "            print(\"*\"*20)\n",
    "    elif user == 3 :\n",
    "        if cpt == 1 :\n",
    "            print(\"졌지만 잘 싸웠습니다.\")\n",
    "            lose_cnt += 1\n",
    "            print(\"*\"*20)\n",
    "            print(\"%d승, %d패, %d무\"%(win_cnt, lose_cnt, same_cnt))\n",
    "            print(\"*\"*20)\n",
    "        elif cpt == 2 :\n",
    "            print(\"승리\")\n",
    "            win_cnt += 1\n",
    "            print(\"*\"*20)\n",
    "            print(\"%d승, %d패, %d무\"%(win_cnt, lose_cnt, same_cnt))\n",
    "            print(\"*\"*20)\n",
    "        else :\n",
    "            print(\"비겼습니다.\")\n",
    "            same_cnt +=1\n",
    "            print(\"*\"*20)\n",
    "            print(\"%d승, %d패, %d무\"%(win_cnt, lose_cnt, same_cnt))\n",
    "            print(\"*\"*20)"
   ]
  },
  {
   "cell_type": "code",
   "execution_count": 1,
   "metadata": {},
   "outputs": [
    {
     "name": "stdout",
     "output_type": "stream",
     "text": [
      "숫자 입력 : 1\n",
      "1\n",
      "[1]\n",
      "홀수의 합은 1 입니다.\n",
      "짝수의 합은 0 입니다.\n",
      "********************\n",
      "숫자 입력 : 2\n",
      "2\n",
      "[1, 2]\n",
      "홀수의 합은 1 입니다.\n",
      "짝수의 합은 2 입니다.\n",
      "********************\n",
      "숫자 입력 : 3\n",
      "3\n",
      "[1, 2, 3]\n",
      "홀수의 합은 4 입니다.\n",
      "짝수의 합은 2 입니다.\n",
      "********************\n",
      "숫자 입력 : 1\n",
      "1\n",
      "[1]\n",
      "홀수의 합은 1 입니다.\n",
      "짝수의 합은 0 입니다.\n",
      "********************\n",
      "숫자 입력 : 0\n",
      "종료\n"
     ]
    }
   ],
   "source": [
    "# 숫자를 입력 받아서 짝수의 합과 홀수의 합을 구하라\n",
    "# 0입력하면 종료\n",
    "\n",
    "\n",
    "\n",
    "while True :\n",
    "    num = 0\n",
    "    i = 0\n",
    "    cnt = 0\n",
    "    odd_num = 0\n",
    "    even_num = 0\n",
    "\n",
    "    num = int(input(\"숫자 입력(0은 종료) : \"))\n",
    "    if num == 0 :\n",
    "        print(\"종료\")\n",
    "        break\n",
    "\n",
    "    print(num)\n",
    "    arr = list(range(num))\n",
    "    \n",
    "    for i in range(num) :\n",
    "        arr[i] = i+1\n",
    "        \n",
    "    print(arr)\n",
    "    \n",
    "    for i in arr :\n",
    "        if i % 2 != 0 :\n",
    "            odd_num += i\n",
    "        else :\n",
    "            even_num += i\n",
    "    \n",
    "    print(\"홀수의 합은 %d 입니다.\"%odd_num)\n",
    "    print(\"짝수의 합은 %d 입니다.\"%even_num)\n",
    "    print(\"*\"*20)"
   ]
  },
  {
   "cell_type": "code",
   "execution_count": 2,
   "metadata": {},
   "outputs": [
    {
     "name": "stdout",
     "output_type": "stream",
     "text": [
      "친구관리 프로그램\n",
      "1. 친구 리스트\n",
      "2. 친구 추가\n",
      "3. 친구 삭제\n",
      "4. 이름 변경\n",
      "9. 종료\n",
      "메뉴 선택 : 4\n",
      "********************\n",
      "<<<<<이름 변경>>>>>\n",
      "********************\n",
      "\n",
      "----친구목록 [0 명]----\n",
      "[]\n",
      "\n",
      "\n",
      "\n",
      "이름변경할 친구목록이 없습니다.\n",
      "\n",
      "\n",
      "메뉴 선택 : \n",
      "\n",
      "\n",
      "잘못된 입력입니다.\n",
      "\n",
      "\n",
      "메뉴 선택 : 9\n",
      "\n",
      "\n",
      "종료\n",
      "\n",
      "\n"
     ]
    }
   ],
   "source": [
    "# 친구관리 프로그램(반복)\n",
    "\n",
    "# 1. 친구 리스트 출력\n",
    "# 2. 친구 추가\n",
    "# 3. 친구 삭제\n",
    "# 4. 이름 변경\n",
    "# 9. 종료\n",
    "\n",
    "# 메뉴를 선택 : 2\n",
    "# 이름을 입력 : 홍길동\n",
    "\n",
    "# 1. 친구 리스트 출력\n",
    "# 2. 친구 추가\n",
    "# 3. 친구 삭제\n",
    "# 4. 이름 변경\n",
    "# 9. 종료\n",
    "\n",
    "# 메뉴를 선택 : 2\n",
    "# 이름을 입력 : 임꺽정\n",
    "#--------------------------\n",
    "\n",
    "# 1.선택시    [\"홍길동\",\"임꺽정\"]\n",
    "\n",
    "\n",
    "arr = list()\n",
    "\n",
    "print(\"친구관리 프로그램\")\n",
    "print(\"1. 친구 리스트\")\n",
    "print(\"2. 친구 추가\")\n",
    "print(\"3. 친구 삭제\")\n",
    "print(\"4. 이름 변경\")\n",
    "print(\"9. 종료\")\n",
    "\n",
    "while True :\n",
    "    buttonList = ['1','2','3','4','9']\n",
    "    \n",
    "    button = input(\"메뉴 선택 : \")\n",
    "    \n",
    "    \n",
    "    ##종료\n",
    "    if button == '9' :\n",
    "        print(\"\")\n",
    "        print(\"\")\n",
    "        print(\"종료\")\n",
    "        print(\"\")\n",
    "        print(\"\")\n",
    "        break\n",
    "        \n",
    "    ##목록    \n",
    "    elif button == '1':  \n",
    "        print(\"*\"*20)\n",
    "        print(\"<<<<<친구 리스트>>>>>\")\n",
    "        print(\"*\"*20)\n",
    "        if len(arr) == 0 :\n",
    "            print(\"\")\n",
    "            print(\"\")\n",
    "            print(\"친구가 없습니다.\")\n",
    "            print(\"\")\n",
    "            print(\"\")\n",
    "        else :\n",
    "            print(\"----친구목록 [%d 명]----\"%len(arr))\n",
    "            print(\"\")\n",
    "            print(\"\")\n",
    "            print(arr)\n",
    "            print(\"\")\n",
    "            print(\"\")\n",
    "            \n",
    "    ##추가         \n",
    "    elif button == '2':  \n",
    "        print(\"*\"*20)\n",
    "        print(\"<<<<<친구 추가>>>>>\")\n",
    "        print(\"*\"*20)\n",
    "        print(\"\")\n",
    "        frd_name = input(\"추가할 친구 이름 : \")\n",
    "        arr.append(frd_name)\n",
    "        print(\"\")\n",
    "        print(\"\")\n",
    "        print(\"추가되었습니다.\")        \n",
    "        print(\"\")\n",
    "        print(\"\")\n",
    "        \n",
    "        \n",
    "    ##삭제\n",
    "    elif button == '3':\n",
    "        while True :\n",
    "            if len(arr) != 0 :\n",
    "                print(\"*\"*20)\n",
    "                print(\"<<<<<친구 삭제>>>>>\")\n",
    "                print(\"*\"*20)\n",
    "                print(\"\")\n",
    "                print(\"----친구목록 [%d 명]----\"%len(arr))\n",
    "                print(\"\")\n",
    "                print(\"\")\n",
    "                print(arr)\n",
    "                print(\"\")\n",
    "                frd_name = input(\"삭제할 친구 이름(q는 뒤로/전체삭제는 ALL) : \")\n",
    "                \n",
    "                if frd_name == 'q' :\n",
    "                    print(\"\")\n",
    "                    print(\"\")\n",
    "                    break\n",
    "                    \n",
    "                elif frd_name == \"ALL\" :\n",
    "                    arr = []\n",
    "                    print(\"\")\n",
    "                    print(\"\")\n",
    "                    print(\"전체 삭제 되었습니다.\")\n",
    "                    print(\"\")\n",
    "                    print(\"\")\n",
    "                    break\n",
    "                    \n",
    "                elif frd_name not in arr :\n",
    "                    print(\"\")\n",
    "                    print(\"\")\n",
    "                    print(\"없는 이름입니다.\")\n",
    "                    print(\"\")\n",
    "                    print(\"\")\n",
    "                    \n",
    "                    \n",
    "                else :\n",
    "                    arr.remove(frd_name)\n",
    "                    print(\"\")\n",
    "                    print(\"\")\n",
    "                    print(\"삭제되었습니다.\")\n",
    "                    print(\"\")\n",
    "                    print(\"\")\n",
    "                    break\n",
    "            else :\n",
    "                print(\"\")\n",
    "                print(\"\")\n",
    "                print(\"삭제할 친구가 없습니다.\")\n",
    "                print(\"\")\n",
    "                print(\"\")\n",
    "                break\n",
    "        \n",
    "    ##변경    \n",
    "    elif button == '4':\n",
    "        print(\"*\"*20)\n",
    "        print(\"<<<<<이름 변경>>>>>\")\n",
    "        print(\"*\"*20)\n",
    "        print(\"\")\n",
    "        print(\"----친구목록 [%d 명]----\"%len(arr))\n",
    "        print(arr)\n",
    "        print(\"\")\n",
    "        if len(arr) != 0 :\n",
    "            frd_name = input(\"변경할 친구 이름 : \")\n",
    "            chg_name = input(\"어떤 이름으로 변경하시겠습니까?\")\n",
    "            arr[arr.index(frd_name)] = chg_name\n",
    "            print(\"변경완료\")\n",
    "            print(\"\")\n",
    "            print(\"\")\n",
    "            print(\"----친구목록 [%d 명]----\"%len(arr))\n",
    "            print(arr)\n",
    "        else :\n",
    "            print(\"\")\n",
    "            print(\"\")\n",
    "            print(\"이름변경할 친구목록이 없습니다.\")\n",
    "            print(\"\")\n",
    "            print(\"\")\n",
    "            \n",
    "    ## 잘못입력시\n",
    "    elif button not in buttonList :\n",
    "        print(\"\")\n",
    "        print(\"\")\n",
    "        print(\"잘못된 입력입니다.\")\n",
    "        print(\"\")\n",
    "        print(\"\")\n",
    "        \n",
    "    ## 잘못입력시    \n",
    "    else :\n",
    "        print(\"\")\n",
    "        print(\"\")\n",
    "        print(\"잘못된 입력입니다.\")\n",
    "        print(\"\")\n",
    "        print(\"\")\n",
    "        \n"
   ]
  },
  {
   "cell_type": "code",
   "execution_count": 15,
   "metadata": {},
   "outputs": [
    {
     "name": "stdout",
     "output_type": "stream",
     "text": [
      "정수 입력(0은 종료)5\n",
      "결과는 : 120\n",
      "********************\n",
      "정수 입력(0은 종료)3\n",
      "결과는 : 6\n",
      "********************\n",
      "정수 입력(0은 종료)2\n",
      "결과는 : 2\n",
      "********************\n",
      "정수 입력(0은 종료)1\n",
      "결과는 : 1\n",
      "********************\n",
      "정수 입력(0은 종료)0\n",
      "종료\n"
     ]
    }
   ],
   "source": [
    "# 팩토리얼 계산  \n",
    "# 숫자 입력하면  x!\n",
    "\n",
    "# x, x-1, x-2 ....1 까지의 곱\n",
    "\n",
    "# 정수 입력 : 3\n",
    "# 결과 : 6\n",
    "\n",
    "\n",
    "while True :\n",
    "    num = 0;\n",
    "    result = 1;\n",
    "    \n",
    "    num = int(input(\"정수 입력(0은 종료)\"))\n",
    "    \n",
    "    \n",
    "    if num == 0 :\n",
    "        print(\"종료\")\n",
    "        break\n",
    "\n",
    "    cnt = num\n",
    "    while cnt >= 1 :\n",
    "        result *= cnt\n",
    "        cnt -= 1\n",
    "    \n",
    "    print(\"결과는 : %d\"%result)\n",
    "    print(\"*\"*20)\n",
    "    "
   ]
  },
  {
   "cell_type": "code",
   "execution_count": 1,
   "metadata": {},
   "outputs": [
    {
     "name": "stdout",
     "output_type": "stream",
     "text": [
      "정수 입력(0은 종료) : 10\n",
      "결과는 1 입니다.\n",
      "정수 입력(0은 종료) : 0\n",
      "**********\n",
      "*  종료  *\n",
      "**********\n"
     ]
    }
   ],
   "source": [
    "#자리수의 합\n",
    "# 예를 들어 123 입력시 1+2+3을 계산하는 프로그램\n",
    "\n",
    "while True :\n",
    "    num1 = \"\"\n",
    "    sum = 0\n",
    "    arr = list()\n",
    "    \n",
    "    num1 = str(input(\"정수 입력(0은 종료) : \"))\n",
    "    if num1 == '0' :\n",
    "        print(\"*\"*10)\n",
    "        print(\"*  종료  *\")\n",
    "        print(\"*\"*10)\n",
    "        break\n",
    "    \n",
    "    arr = list(num1)\n",
    "    \n",
    "    for i in arr :\n",
    "        sum += int(i)\n",
    "\n",
    "        \n",
    "    print(\"결과는 {} 입니다.\".format(sum))"
   ]
  },
  {
   "cell_type": "code",
   "execution_count": 5,
   "metadata": {},
   "outputs": [
    {
     "name": "stdout",
     "output_type": "stream",
     "text": [
      "숫자를 입력하세요(0은 종료) : 0\n",
      "종료\n"
     ]
    }
   ],
   "source": [
    "#숫자 맞추기 게임\n",
    "# 1. 1부터 100 사이의 숫자를 맞추기\n",
    "# 2. 숫자입력 : 30\n",
    "# 3. 결과 : 업, 숫자입력 : 50\n",
    "# 4. 결과 : 다운, 숫자입력 : 44\n",
    "# 5. 정답. (시도횟수는 x번 입니다.)\n",
    "import random\n",
    "\n",
    "num = 0\n",
    "cnt = 0\n",
    "ans = random.randint(1,100) \n",
    "    \n",
    "while True :\n",
    "    num = int(input(\"숫자를 입력하세요(0은 종료) : \"))\n",
    "    if num == ans :\n",
    "        cnt += 1\n",
    "        print(\"정답입니다.\")\n",
    "        print(\"시도 횟수는 : {}번\".format(cnt))\n",
    "        break\n",
    "    elif num == 0 :\n",
    "        print(\"종료\")\n",
    "        break\n",
    "    elif num < ans :\n",
    "        print(\"업\")\n",
    "        cnt += 1 \n",
    "    elif num > ans :\n",
    "        print(\"다운\")\n",
    "        cnt += 1\n",
    "\n",
    "        \n",
    "        \n",
    "    if cnt == 3 :\n",
    "        print(\"\")\n",
    "        print(\"*\"*10)\n",
    "        print(\"힘내세요!\")\n",
    "        print(\"*\"*10)\n",
    "        print(\"\")\n",
    "        \n",
    "    \n",
    "   # 업 다운 반대로 할 시 코멘트"
   ]
  },
  {
   "cell_type": "markdown",
   "metadata": {},
   "source": [
    "### 반복문의 중첩"
   ]
  },
  {
   "cell_type": "code",
   "execution_count": 16,
   "metadata": {},
   "outputs": [
    {
     "name": "stdout",
     "output_type": "stream",
     "text": [
      "**********"
     ]
    }
   ],
   "source": [
    "# 한줄\n",
    "for v1 in range(10) :\n",
    "    print(\"*\", end = \"\")"
   ]
  },
  {
   "cell_type": "code",
   "execution_count": 17,
   "metadata": {},
   "outputs": [
    {
     "name": "stdout",
     "output_type": "stream",
     "text": [
      "**********\n",
      "**********\n",
      "**********\n"
     ]
    }
   ],
   "source": [
    "# 여러줄\n",
    "for v1 in range(3) :  #행의 반복\n",
    "    for v2 in range(10) : #열의 반복\n",
    "        print(\"*\", end = \"\")\n",
    "    print()"
   ]
  },
  {
   "cell_type": "code",
   "execution_count": 12,
   "metadata": {},
   "outputs": [
    {
     "name": "stdout",
     "output_type": "stream",
     "text": [
      "\n",
      "*\n",
      "**\n",
      "***\n",
      "****\n",
      "\n",
      "*\n",
      "**\n",
      "***\n",
      "****\n",
      "*****\n",
      "******\n",
      "*******\n",
      "********\n",
      "*********\n",
      "**********\n"
     ]
    }
   ],
   "source": [
    "# 별 찍기\n",
    "\n",
    "#*\n",
    "#**\n",
    "#***\n",
    "#****\n",
    "#*****\n",
    "\n",
    "def star_tri1(num) :\n",
    "    for v1 in range(num+1) :  #행의 반복\n",
    "        for v2 in range(v1) : #열의 반복\n",
    "            print(\"*\", end = \"\")\n",
    "        print()\n",
    "    return\n",
    "\n",
    "def star_tri2(num) :\n",
    "    for v2 in range(num+1) :\n",
    "        print(\"*\"*v2)\n",
    "    return\n",
    "\n",
    "star_tri1(4)\n",
    "star_tri2(10)"
   ]
  },
  {
   "cell_type": "code",
   "execution_count": 14,
   "metadata": {},
   "outputs": [
    {
     "name": "stdout",
     "output_type": "stream",
     "text": [
      "    *\n",
      "   ***\n",
      "  *****\n",
      " *******\n",
      "*********\n"
     ]
    }
   ],
   "source": [
    "## 정삼각형 별\n",
    "\n",
    "#      *       4~4  0\n",
    "#     ***      3~5  1\n",
    "#    *****     2~6  2\n",
    "#   *******    1~7  3\n",
    "#  *********   0~8  4\n",
    "\n",
    "\n",
    "for v1 in range(5) :\n",
    "    print(\" \"*(4-v1), end = \"\")\n",
    "    for v2 in range((4-v1),(5+v1)) :\n",
    "        print(\"*\", end = \"\")\n",
    "    print()\n"
   ]
  },
  {
   "cell_type": "code",
   "execution_count": null,
   "metadata": {},
   "outputs": [],
   "source": []
  }
 ],
 "metadata": {
  "kernelspec": {
   "display_name": "Python 3",
   "language": "python",
   "name": "python3"
  },
  "language_info": {
   "codemirror_mode": {
    "name": "ipython",
    "version": 3
   },
   "file_extension": ".py",
   "mimetype": "text/x-python",
   "name": "python",
   "nbconvert_exporter": "python",
   "pygments_lexer": "ipython3",
   "version": "3.7.4"
  }
 },
 "nbformat": 4,
 "nbformat_minor": 2
}

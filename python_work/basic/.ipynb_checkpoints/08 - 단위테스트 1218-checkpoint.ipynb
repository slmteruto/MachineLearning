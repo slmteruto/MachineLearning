{
 "cells": [
  {
   "cell_type": "markdown",
   "metadata": {},
   "source": [
    "# 단위테스트"
   ]
  },
  {
   "cell_type": "code",
   "execution_count": 22,
   "metadata": {},
   "outputs": [
    {
     "name": "stderr",
     "output_type": "stream",
     "text": [
      ".F."
     ]
    },
    {
     "name": "stdout",
     "output_type": "stream",
     "text": [
      "setUp 실행\n",
      "tearDown 실행\n"
     ]
    },
    {
     "name": "stderr",
     "output_type": "stream",
     "text": [
      "\n",
      "======================================================================\n",
      "FAIL: testSum2 (__main__.Module1Test)\n",
      "----------------------------------------------------------------------\n",
      "Traceback (most recent call last):\n",
      "  File \"<ipython-input-22-cc76c893d6b7>\", line 14, in testSum2\n",
      "    self.assertEqual(sum(1,-1),1) #함수 sum(1,-1) 의 결과가 0 인가\n",
      "AssertionError: 0 != 1\n",
      "\n",
      "----------------------------------------------------------------------\n",
      "Ran 3 tests in 0.006s\n",
      "\n",
      "FAILED (failures=1)\n"
     ]
    }
   ],
   "source": [
    "import unittest\n",
    "\n",
    "def sum(a, b) :\n",
    "    return a + b\n",
    "\n",
    "###########################\n",
    "\n",
    "class Module1Test(unittest.TestCase) :\n",
    "    def testSum1(self) :  ##멤버 메소드이름을 test로 시작하게 해야 알아서 테스트로 인식\n",
    "        #assertEqual은 TestCase에서 상속받은것\n",
    "        self.assertEqual(sum(1,2),3)  #함수 sum(1,2) 의 결과가 3 인가\n",
    "        \n",
    "    def testSum2(self) :\n",
    "        self.assertEqual(sum(1,-1),0) #함수 sum(1,-1) 의 결과가 0 인가\n",
    "    \n",
    "class Module2Test(unittest.TestCase) :\n",
    "    def setUp(self) :   ##테스트 하기전 가장 먼저 호출되는 함수\n",
    "        print(\"setUp 실행\")\n",
    "        self.bag = [True, True]\n",
    "    \n",
    "    def tearDown(self) :  ##테스트가 다 끝나고 호출되는 함수\n",
    "        print(\"tearDown 실행\")\n",
    "        del self.bag\n",
    "        \n",
    "        \n",
    "    def test_true(self) :\n",
    "        for element in self.bag :\n",
    "            self.assertTrue(element)  ##True인가를 검사.\n",
    "    \n",
    "    \n",
    "    \n",
    "def makeSuite(testcase, tests) :\n",
    "    return unittest.TestSuite(map(testcase, tests))\n",
    "\n",
    "\n",
    "if __name__ == \"__main__\" :\n",
    "    #unittest.main()  ## 이 코드로 인해서 함수 선언을 안하고 알아서 함수가 다 호출된다. \n",
    "    #unittest.main(argv=['first-arg-is-ignored'], exit=False)   ## jupyter에서 실행시\n",
    "    \n",
    "    \n",
    "    suite1 = makeSuite(Module1Test, ['testSum1', 'testSum2']) #테스트할 함수들을 넘겨준다\n",
    "    suite2 = makeSuite(Module2Test, ['test_true'])            \n",
    "    \n",
    "    allsuites = unittest.TestSuite([suite1, suite2])  ##위에서 만든것을 하나로 묶음\n",
    "    unittest.TextTestRunner(verbosity = 2).run(allsuites)  \n",
    "    #TextTestRunner라는 함수의 verbosity는 얼마나 자세히 보여줄지 레벨을 선택\n",
    "    \n",
    "    \n",
    "    #jupyter 커널명이 sys.argv의 첫 파라미터로 unittest에 전달되기 때문에 오류"
   ]
  },
  {
   "cell_type": "code",
   "execution_count": null,
   "metadata": {},
   "outputs": [],
   "source": []
  },
  {
   "cell_type": "code",
   "execution_count": null,
   "metadata": {},
   "outputs": [],
   "source": []
  }
 ],
 "metadata": {
  "kernelspec": {
   "display_name": "Python 3",
   "language": "python",
   "name": "python3"
  },
  "language_info": {
   "codemirror_mode": {
    "name": "ipython",
    "version": 3
   },
   "file_extension": ".py",
   "mimetype": "text/x-python",
   "name": "python",
   "nbconvert_exporter": "python",
   "pygments_lexer": "ipython3",
   "version": "3.7.4"
  }
 },
 "nbformat": 4,
 "nbformat_minor": 2
}

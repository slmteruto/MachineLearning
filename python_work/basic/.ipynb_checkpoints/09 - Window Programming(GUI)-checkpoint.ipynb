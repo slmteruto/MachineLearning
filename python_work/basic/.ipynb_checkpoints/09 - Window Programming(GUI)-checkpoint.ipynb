{
 "cells": [
  {
   "cell_type": "markdown",
   "metadata": {},
   "source": [
    "## 모듈\n",
    "\n",
    "    - wxPython, PyQt, Tkinter....  (Tkinter는 별로임, 관리가 안됌)\n",
    "    - http://wxpython.org/Phoenix/snapshot-builds"
   ]
  },
  {
   "cell_type": "code",
   "execution_count": 1,
   "metadata": {},
   "outputs": [
    {
     "ename": "PyNoAppError",
     "evalue": "The wx.App object must be created first!",
     "output_type": "error",
     "traceback": [
      "\u001b[1;31m---------------------------------------------------------------------------\u001b[0m",
      "\u001b[1;31mPyNoAppError\u001b[0m                              Traceback (most recent call last)",
      "\u001b[1;32m<ipython-input-1-2ed66555431c>\u001b[0m in \u001b[0;36m<module>\u001b[1;34m\u001b[0m\n\u001b[0;32m      1\u001b[0m \u001b[1;32mimport\u001b[0m \u001b[0mwx\u001b[0m\u001b[1;33m\u001b[0m\u001b[1;33m\u001b[0m\u001b[0m\n\u001b[0;32m      2\u001b[0m \u001b[1;33m\u001b[0m\u001b[0m\n\u001b[1;32m----> 3\u001b[1;33m \u001b[0mwx\u001b[0m\u001b[1;33m.\u001b[0m\u001b[0mFrame\u001b[0m\u001b[1;33m(\u001b[0m\u001b[1;33m)\u001b[0m\u001b[1;33m\u001b[0m\u001b[1;33m\u001b[0m\u001b[0m\n\u001b[0m\u001b[0;32m      4\u001b[0m \u001b[1;33m\u001b[0m\u001b[0m\n",
      "\u001b[1;31mPyNoAppError\u001b[0m: The wx.App object must be created first!"
     ]
    }
   ],
   "source": [
    "import wx\n",
    "\n",
    "\n",
    "\n",
    "app = wx.App()  #\n",
    "\n",
    "frame = wx.Frame(None)  #이게 윈도우를 만드는 도구를 가진 함수\n",
    "\n",
    "frame.Show(True)  #\n",
    "\n",
    "app.MainLoop()  #프로그램이 끝나지 않게 반복해주는 함수"
   ]
  },
  {
   "cell_type": "code",
   "execution_count": 3,
   "metadata": {},
   "outputs": [],
   "source": [
    "import wx\n",
    "\n",
    "class ChildFrame(wx.Frame) :\n",
    "    def __init__(self, parent, title = \"None\", size=(200,200)):\n",
    "        super().__init__(parent, title = title, size = size)\n",
    "        #부모의 생성자를 호출해줘서 부모의주소를 알수있게 함, None은 부모라서 넣은거\n",
    "        self.Show(True)\n",
    "\n",
    "\n",
    "if __name__ == \"__main__\" :\n",
    "    app = wx.App()\n",
    "    \n",
    "    ChildFrame(None, \"두번째로 만드는 윈도우\", (400, 600))\n",
    "    ##주소값이 필요없는 경우는 제일 메인, 최상위 부모윈도우일 때\n",
    "    \n",
    "    app.MainLoop()"
   ]
  },
  {
   "cell_type": "markdown",
   "metadata": {},
   "source": [
    "pulldown  (내려오는 메뉴)\n",
    "popup (튀어나오는 메뉴(오른쪽클릭같이))"
   ]
  },
  {
   "cell_type": "markdown",
   "metadata": {},
   "source": [
    "-----------------------------------------------------------\n",
    "\n",
    "메뉴 bar 이벤트\n",
    "### GUI 제작시\n",
    "    컨트롤\n",
    "    Layout\n",
    "    Event 처리\n",
    "        Where\n",
    "        what\n",
    "        how(이벤트 핸들링)\n",
    "        \n",
    "        \n",
    "    \n",
    "    dialog : 부모창 외에 띄우는 것\n",
    "    panel  : 부모창 안에 깔아놓는것 , 디자인하기 좋게 \n",
    "    \n",
    "    디자인\n",
    "    좌표\n",
    "        절대위치 : 그동안 pos 잡은 것처럼\n",
    "        상대위치 : 창 크기가 바뀌면 맞춰서 변화 됨\n",
    "        \n",
    "    이런것을 대신 해주는게 'Layout Manager'"
   ]
  },
  {
   "cell_type": "markdown",
   "metadata": {},
   "source": [
    "## Layout Manager\n",
    "\n",
    "    - Sizer 클래스 \n",
    "        - 각각의 시각적 요소에 대한 적절한 크기를 계산\n",
    "        - 특정 규칙에 따라 요소를 배치\n",
    "        - 프레임의 크기를 조정할 때 동적으로 요소의 위치를 변경\n",
    "        \n",
    "    - 구현 클래스 (3종류)\n",
    "        - wx.BoxSizer : 가로 또는 세로로 컨트롤을 배치\n",
    "        - wx.GridSizer : 그리드와 같은 구조로 컨트롤을 배치\n",
    "        - wx.FlexGridSizer : GridSizer와 유사하나 좀 더 유연성을 가지고 있음."
   ]
  },
  {
   "cell_type": "markdown",
   "metadata": {},
   "source": [
    "## 개발툴 : wxFormBuilder\n",
    "\n",
    "    - http://sourceforge.net/projects/wxformbuilder    오픈소스 모음사이트\n",
    "\n",
    "### 사용법\n",
    "\n",
    "    1) 폼 선택(윈도우)\n",
    "    2) 레이아웃 관리자 선택\n",
    "    3) 컨테이너 선택 후 패널 선택\n",
    "    4) 각 패널의 레이아웃 관리자 선택\n",
    "    5) common 탭을 선택해서 필요한 것을 넣는다."
   ]
  },
  {
   "cell_type": "markdown",
   "metadata": {},
   "source": [
    "### 실행프로그램 만들기\n",
    "\n",
    "    - 추가 라이브러리를 알려줘야함\n",
    "    pyinstaller -F --noconsole test8.py --hidden-import [wx]\n",
    "    "
   ]
  },
  {
   "cell_type": "code",
   "execution_count": null,
   "metadata": {},
   "outputs": [],
   "source": [
    "    "
   ]
  },
  {
   "cell_type": "code",
   "execution_count": null,
   "metadata": {},
   "outputs": [],
   "source": []
  }
 ],
 "metadata": {
  "kernelspec": {
   "display_name": "Python 3",
   "language": "python",
   "name": "python3"
  },
  "language_info": {
   "codemirror_mode": {
    "name": "ipython",
    "version": 3
   },
   "file_extension": ".py",
   "mimetype": "text/x-python",
   "name": "python",
   "nbconvert_exporter": "python",
   "pygments_lexer": "ipython3",
   "version": "3.7.4"
  }
 },
 "nbformat": 4,
 "nbformat_minor": 2
}

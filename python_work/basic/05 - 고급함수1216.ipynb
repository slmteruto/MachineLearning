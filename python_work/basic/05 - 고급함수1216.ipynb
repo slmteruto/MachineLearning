{
 "cells": [
  {
   "cell_type": "markdown",
   "metadata": {},
   "source": [
    "### 변수의 생존 범위 : global, nonlocal\n",
    "\n",
    "    global : 외부의 전역변수를 쓸 때\n",
    "    nonlocal : 상위 지역변수를 쓸 때"
   ]
  },
  {
   "cell_type": "code",
   "execution_count": 4,
   "metadata": {},
   "outputs": [
    {
     "name": "stdout",
     "output_type": "stream",
     "text": [
      "전국 대표\n",
      "홍길동\n",
      "지역 대표\n",
      "전국 대표\n"
     ]
    }
   ],
   "source": [
    "# global\n",
    "\n",
    "player = \"전국 대표\"\n",
    "\n",
    "def test_socc() :\n",
    "\n",
    "    #global player #밖에 있는 전역변수를 사용하려고\n",
    "    \n",
    "    name = \"홍길동\"\n",
    "    player = \"지역 대표\"\n",
    "    print(name)\n",
    "    print(player)\n",
    "    \n",
    "print(player)\n",
    "test_socc()\n",
    "print(player)"
   ]
  },
  {
   "cell_type": "code",
   "execution_count": 16,
   "metadata": {},
   "outputs": [
    {
     "name": "stdout",
     "output_type": "stream",
     "text": [
      "kbs2 함수 내부 :  1 1\n",
      "kbc 함수 내부 2\n"
     ]
    }
   ],
   "source": [
    "# nonlocal\n",
    "\n",
    "a = 100\n",
    "\n",
    "def kbs1() :\n",
    "    a = 1        #공교롭게도 전역변수와 같은 이름으로 했다고 가정 (kbs지역에서 사용 가능)\n",
    "    \n",
    "    def kbs2() : # 함수안에 함수를 만들 수 있다. 함수의 중첩,  클래스의 중첩도 가능\n",
    "        \n",
    "        #global a  # 아예 전역변수인 최상위 a를 가져다 쓰는 것\n",
    "        nonlocal a        #kbs1의 a를 쓰고 싶을 때 사용\n",
    "        #a = 2 \n",
    "        \n",
    "        print(\"kbs2 함수 내부 : \", a, a ) #가장 가까운게 우선이다. kbs2의 a\n",
    "        a = 2\n",
    "        \n",
    "    kbs2()\n",
    "    print(\"kbc 함수 내부\", a)   # 가장 가까운 kbs1의 a\n",
    "    \n",
    "\n",
    "    #class B는 class A 전용으로 사용하기 위해 만드는 것. 함수도 마찬가지\n",
    "# class A :\n",
    "#     class B:\n",
    "        \n",
    "#         pass\n",
    "#     pass\n",
    "\n",
    "kbs1()"
   ]
  },
  {
   "cell_type": "markdown",
   "metadata": {},
   "source": [
    "### closer  (클로저) \n",
    "\n",
    "    함수 밖에서 임의의 함수 안에 선언된 지역변수를 계속 참조할 수 있게 하는 방법\n",
    "    \n",
    "    지역변수는 함수를 벗어나면 사라지는데,  사라지지않고 계속 유지시키고 싶을 때 사용함"
   ]
  },
  {
   "cell_type": "code",
   "execution_count": 24,
   "metadata": {},
   "outputs": [
    {
     "name": "stdout",
     "output_type": "stream",
     "text": [
      "1\n",
      "2\n",
      "3\n",
      "1\n",
      "2\n",
      "3\n"
     ]
    }
   ],
   "source": [
    "# closer\n",
    "\n",
    "#지역변수를 사용하는게 안전하게 코딩하는 습관이다.\n",
    "\n",
    "count = 0\n",
    "\n",
    "def out() :\n",
    "    \n",
    "    count = 0\n",
    "    \n",
    "    def inn() :\n",
    "        \n",
    "        #count = 0       # inn 안에서만 count 쓸려면\n",
    "        #global count    # 전역변수 count 쓸려면\n",
    "        nonlocal count  # 지역변수 count 쓸려면\n",
    "        count += 1  \n",
    "        print(count)\n",
    "    \n",
    "    inn()\n",
    "    return inn  #현재 값이 담긴 상태의 '주소'를 던지는게 closer\n",
    "        \n",
    "# out()\n",
    "# out()  # 함수가 끝나면 다시 count는 0으로 초기화 되기 때문에 계속 같은 값이 나올 것임. \n",
    "# out()  # 전역변수 쓰면 해결은 됨.\n",
    "\n",
    "\n",
    "#closer 적용\n",
    "a = out()\n",
    "a()\n",
    "a()\n",
    "\n",
    "b = out()\n",
    "b()\n",
    "b()\n",
    "# closer 원리\n",
    "# 지역변수가 없어지는건 사실 막지는 못한다. 하지만 그 값을 계속 남겨놓기만 함. count변수는 새로만들어지긴 함\n",
    "# 그 값이 담긴 주소를 던지면 값은 유지시킬 수 있는 것, 주소를 계속 던져주기만 하면 유지가 된다."
   ]
  },
  {
   "cell_type": "code",
   "execution_count": 6,
   "metadata": {},
   "outputs": [
    {
     "name": "stdout",
     "output_type": "stream",
     "text": [
      "2500.0\n",
      "3600.0\n",
      "1250.0\n"
     ]
    }
   ],
   "source": [
    "# closer 활용 예시\n",
    "\n",
    "#세금\n",
    "def outer(tax) :\n",
    "    def inner(su, dan) :   #수량, 단가 라는 의미\n",
    "        amount = su * dan * tax        \n",
    "        return amount\n",
    "    #inner() ## 이렇게 넘겨주면 안된다. 의미가 없음, 수량과 단가를 모르니\n",
    "    return inner  ## 이것이 클로져\n",
    "    \n",
    "#########################################\n",
    "\n",
    "tax_rate = outer(0.1)    \n",
    "# tax_rate는 inner함수의 주소값이랑 같다. 최초실행시 outer실행 후  inner의 주소를 가져오니까\n",
    "mouse = tax_rate(5, 5000)    #tax_rate가 이제  inner가 되었기 때문에 이런식으로 사용이 가능하다.\n",
    "print(mouse)\n",
    "\n",
    "\n",
    "#그래서 그 이후에 세금을 같은 값으로 유지 시키면서 inner만 사용하면 된다.\n",
    "\n",
    "usb = tax_rate(3, 12000)\n",
    "print(usb)\n",
    "\n",
    "\n",
    "#세금 변경\n",
    "tax_rate2 = outer(0.05)\n",
    "mouse = tax_rate2(5, 5000)    #tax_rate가 이제  inner가 되었기 때문에 이런식으로 사용이 가능하다.\n",
    "print(\"세금 변경 후 : \"+mouse)\n"
   ]
  },
  {
   "cell_type": "markdown",
   "metadata": {},
   "source": [
    "## 람다함수\n",
    "\n",
    "    책 p.58\n",
    "     - 익명함수, 축약함수"
   ]
  },
  {
   "cell_type": "code",
   "execution_count": 7,
   "metadata": {},
   "outputs": [
    {
     "name": "stdout",
     "output_type": "stream",
     "text": [
      "6\n"
     ]
    }
   ],
   "source": [
    "def hap(x, y) : \n",
    "    return x + y\n",
    "\n",
    "###########################\n",
    "result = hap(2, 4)\n",
    "print(result)"
   ]
  },
  {
   "cell_type": "code",
   "execution_count": 9,
   "metadata": {},
   "outputs": [
    {
     "name": "stdout",
     "output_type": "stream",
     "text": [
      "6\n"
     ]
    }
   ],
   "source": [
    "#위 함수를 람다함수로 표현할 때\n",
    "print((lambda x, y : x + y)(2,4)) #위 함수처럼 두개의 매개변수를 해준다, 매개변수도 던진다.\n",
    "\n",
    "# 함수명이 없다.  1회용이라서 한번쓰고 만다.\n",
    "# 리턴값이 없다.  알아서 생성되기 때문\n",
    "    "
   ]
  },
  {
   "cell_type": "code",
   "execution_count": 10,
   "metadata": {},
   "outputs": [
    {
     "name": "stdout",
     "output_type": "stream",
     "text": [
      "9\n"
     ]
    }
   ],
   "source": [
    "hap2 = (lambda x, y : x + y)\n",
    "print(hap2(4,5))"
   ]
  },
  {
   "cell_type": "code",
   "execution_count": 13,
   "metadata": {},
   "outputs": [
    {
     "name": "stdout",
     "output_type": "stream",
     "text": [
      "14\n",
      "5\n"
     ]
    }
   ],
   "source": [
    "hap2 = (lambda x, y=10 : x + y)  #람다에 default 변수를 줄 수 있다.\n",
    "print(hap2(4))\n",
    "print(hap2(4, 1))"
   ]
  },
  {
   "cell_type": "code",
   "execution_count": 23,
   "metadata": {},
   "outputs": [
    {
     "name": "stdout",
     "output_type": "stream",
     "text": [
      "1 (2, 3, 4, 5) {'m': 6, 'n': 7, 'o': 8}\n",
      "1 (2, 3, 4, 5) {'m': 6, 'n': 7, 'o': 8}\n"
     ]
    }
   ],
   "source": [
    "# 입력 : lam1(1,2,3,4, 5, m = 6, n = 7, o = 8)\n",
    "\n",
    "#결과가   1 (2,3,4,5) {\"m\":6, \"n\": 7, \"o\":8}\n",
    "\n",
    "#일반함수\n",
    "def test(a,*b,**c) :\n",
    "    print(a,b,c)\n",
    "    \n",
    "\n",
    "\n",
    "test(1,2,3,4,5, m = 6, n = 7, o = 8)\n",
    "\n",
    "#람다함수\n",
    "\n",
    "(lambda a, *b, **c : print(a,b,c)) (1, 2, 3, 4, 5 , m = 6, n = 7, o = 8)"
   ]
  },
  {
   "cell_type": "code",
   "execution_count": 32,
   "metadata": {},
   "outputs": [
    {
     "name": "stdout",
     "output_type": "stream",
     "text": [
      "[1, 4, 3, 16, 5]\n",
      "[1, 4, 3, 16, 5]\n"
     ]
    }
   ],
   "source": [
    "# 입력 ex = [1,2,3,4,5]\n",
    "\n",
    "#결과 [1, 4, 3, 16, 5]\n",
    "\n",
    "#일반함수\n",
    "def test1(num) :\n",
    "    if num%2 == 0 :\n",
    "        return num ** 2\n",
    "    else :\n",
    "        return num\n",
    "\n",
    "#print(test(1))\n",
    "    \n",
    "data = [1,2,3,4,5]\n",
    "\n",
    "print(list(map(test1, data)))\n",
    "\n",
    "#람다함수\n",
    "print(list(map(lambda x : x**2 if x%2 ==0 else x, data)))"
   ]
  },
  {
   "cell_type": "markdown",
   "metadata": {},
   "source": [
    "## 함수장식자\n",
    "\n",
    "    - 일종의 함수 감싸기(wrapping)를 해주는 디자인 패턴\n",
    "    - 메타 프로그래밍 기법\n",
    "    - @classmethod, @staticmethod, @abstract, ...\n",
    "    \n",
    "    "
   ]
  },
  {
   "cell_type": "code",
   "execution_count": 39,
   "metadata": {},
   "outputs": [
    {
     "name": "stdout",
     "output_type": "stream",
     "text": [
      "안녕반가워홍길동\n"
     ]
    }
   ],
   "source": [
    "def make2(fn) :\n",
    "    return lambda : \"안녕\" + fn()\n",
    "\n",
    "def make1(fn) :  #함수의 주소를 인자\n",
    "    return lambda : \"반가워\" + fn()\n",
    "\n",
    "def hello() :\n",
    "    return \"홍길동\"\n",
    "\n",
    "#################################\n",
    "hi = make2(make1(hello))\n",
    "\n",
    "print(hi())\n",
    "    "
   ]
  },
  {
   "cell_type": "code",
   "execution_count": 43,
   "metadata": {},
   "outputs": [
    {
     "name": "stdout",
     "output_type": "stream",
     "text": [
      "안녕반가워임꺽정\n",
      "안녕반가워임꺽정\n"
     ]
    }
   ],
   "source": [
    "#각 함수로 감싼것이다.\n",
    "\n",
    "@make2\n",
    "@make1\n",
    "def hello2() :\n",
    "    return \"임꺽정\"\n",
    "\n",
    "#hi = make2(make1(hello)) #이것이랑 같은 의미이다.\n",
    "hi2 = hello2()\n",
    "print(hi2)\n",
    "\n",
    "hi3 = hello2\n",
    "print(hi3())"
   ]
  },
  {
   "cell_type": "code",
   "execution_count": 49,
   "metadata": {},
   "outputs": [
    {
     "name": "stdout",
     "output_type": "stream",
     "text": [
      "결과는 5\n",
      "결과는 8\n"
     ]
    }
   ],
   "source": [
    "def outer(fn) :\n",
    "    def inner(n1, n2) :\n",
    "        print(\"결과는 {}\".format(fn(n1, n2)))\n",
    "        \n",
    "    return inner\n",
    "\n",
    "def func(n1, n2) :\n",
    "    return n1 + n2\n",
    "\n",
    "###################################################\n",
    "ob = outer(func)\n",
    "\n",
    "ob(2,3)\n",
    "\n",
    "\n",
    "#데코레이터화\n",
    "\n",
    "@outer\n",
    "def func2(n1, n2) :\n",
    "    return n1 + n2\n",
    "\n",
    "ob2 = func2(2,6)"
   ]
  },
  {
   "cell_type": "code",
   "execution_count": null,
   "metadata": {},
   "outputs": [],
   "source": []
  }
 ],
 "metadata": {
  "kernelspec": {
   "display_name": "Python 3",
   "language": "python",
   "name": "python3"
  },
  "language_info": {
   "codemirror_mode": {
    "name": "ipython",
    "version": 3
   },
   "file_extension": ".py",
   "mimetype": "text/x-python",
   "name": "python",
   "nbconvert_exporter": "python",
   "pygments_lexer": "ipython3",
   "version": "3.7.4"
  }
 },
 "nbformat": 4,
 "nbformat_minor": 2
}

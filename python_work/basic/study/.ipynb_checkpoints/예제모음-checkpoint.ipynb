{
 "cells": [
  {
   "cell_type": "markdown",
   "metadata": {},
   "source": [
    "# 예제모음"
   ]
  },
  {
   "cell_type": "markdown",
   "metadata": {},
   "source": [
    "## 01. 변수와 자료형"
   ]
  },
  {
   "cell_type": "code",
   "execution_count": 1,
   "metadata": {},
   "outputs": [],
   "source": [
    "#동전 교환 프로그램\n",
    "\n",
    "#ex) 교환할 돈은 얼마입니까 2760 엔터\n",
    "# 결과 500원짜리 x개, 100 x개, 50원짜리 x개, 10원짜리 x개, 나머지 바꾸지 못한 잔돈 x원\n"
   ]
  },
  {
   "cell_type": "markdown",
   "metadata": {},
   "source": [
    "----------------------------------------------------------------------------------------------------"
   ]
  },
  {
   "cell_type": "markdown",
   "metadata": {},
   "source": [
    "## 02. 제어문"
   ]
  },
  {
   "cell_type": "code",
   "execution_count": 2,
   "metadata": {},
   "outputs": [],
   "source": [
    "#윤년 계산 프로그램\n",
    "\n",
    "#1) 기원 연수가 4로 나누어 떨어지는 해는 윤년으로 한다.\n",
    "#2) 그 중에서 100으로 나누어 떨어지는 해는 평년으로 한다.\n",
    "#3) 다만 400으로 나누어 떨어지는 해는 다시 윤년으로 정한다.\n",
    "\n",
    "# 연도를 입력 : 2019\n",
    "# 결과 : 윤년입니다. 또는 윤년이 아닙니다."
   ]
  },
  {
   "cell_type": "code",
   "execution_count": 3,
   "metadata": {},
   "outputs": [],
   "source": [
    "# ID = tom, PW = 1234"
   ]
  },
  {
   "cell_type": "code",
   "execution_count": 4,
   "metadata": {},
   "outputs": [],
   "source": [
    "# 예제   1 ~ 10까지의 합계"
   ]
  },
  {
   "cell_type": "code",
   "execution_count": 5,
   "metadata": {},
   "outputs": [],
   "source": [
    "# 예제   2의 10승 구하기 "
   ]
  },
  {
   "cell_type": "code",
   "execution_count": 6,
   "metadata": {},
   "outputs": [],
   "source": [
    "# 숫자를 입력 받아서 짝수의 합과 홀수의 합을 구하라\n",
    "# 0입력하면 종료"
   ]
  },
  {
   "cell_type": "code",
   "execution_count": 7,
   "metadata": {},
   "outputs": [],
   "source": [
    "# 팩토리얼 계산  \n",
    "# 숫자 입력하면  x!\n",
    "\n",
    "# x, x-1, x-2 ....1 까지의 곱\n",
    "\n",
    "# 정수 입력 : 3\n",
    "# 결과 : 6"
   ]
  },
  {
   "cell_type": "code",
   "execution_count": 8,
   "metadata": {},
   "outputs": [],
   "source": [
    "#자리수의 합\n",
    "# 예를 들어 123 입력시 1+2+3을 계산하는 프로그램"
   ]
  },
  {
   "cell_type": "code",
   "execution_count": 9,
   "metadata": {},
   "outputs": [],
   "source": [
    "#숫자 맞추기 게임\n",
    "# 1. 1부터 100 사이의 숫자를 맞추기\n",
    "# 2. 숫자입력 : 30\n",
    "# 3. 결과 : 업, 숫자입력 : 50\n",
    "# 4. 결과 : 다운, 숫자입력 : 44\n",
    "# 5. 정답. (시도횟수는 x번 입니다.)"
   ]
  },
  {
   "cell_type": "code",
   "execution_count": 10,
   "metadata": {},
   "outputs": [],
   "source": [
    "## 정삼각형 별\n",
    "\n",
    "#      *       4~4  0\n",
    "#     ***      3~5  1\n",
    "#    *****     2~6  2\n",
    "#   *******    1~7  3\n",
    "#  *********   0~8  4"
   ]
  },
  {
   "cell_type": "markdown",
   "metadata": {},
   "source": [
    "----------------------------------------------------------------------------------------------"
   ]
  },
  {
   "cell_type": "markdown",
   "metadata": {},
   "source": [
    "## 03. 함수"
   ]
  },
  {
   "cell_type": "code",
   "execution_count": 11,
   "metadata": {},
   "outputs": [],
   "source": [
    "#order(\"large\", \"버섯\")로 호출했을 때 결과는 다음과 같다.\n",
    "#large size 피자를 주문하셨습니다.\n",
    "#토핑 : 버섯"
   ]
  },
  {
   "cell_type": "code",
   "execution_count": 12,
   "metadata": {},
   "outputs": [],
   "source": [
    "# 예제 1 (pycharm)\n",
    "\n",
    "# 파일이름 : PhoneBook.py\n",
    "# 데이터(100명정도) : 임의   \n",
    "#   ex) 홍길동, 010-000-0000, 서울시 강남구\n",
    "#       마오, 010-111-1111, 서울시 강북구\n",
    "#       멍뭉, 010-222-2222, 서울시 강동구\n",
    "#       카노, 010-333-3333, 서울시 강서구\n",
    "#        ....\n",
    "\n",
    "# 실행결과 : python PhoneBook.py 멍뭉\n",
    "\n",
    "# 이름 : 멍뭉\n",
    "# 전화 : 010-222-2222\n",
    "# 주소 : 서울시 강동구"
   ]
  },
  {
   "cell_type": "code",
   "execution_count": 13,
   "metadata": {},
   "outputs": [],
   "source": [
    "#팩토리얼 예제 재귀함수로"
   ]
  },
  {
   "cell_type": "markdown",
   "metadata": {},
   "source": [
    "-------------------------------------------------------------------------------------------------"
   ]
  },
  {
   "cell_type": "markdown",
   "metadata": {},
   "source": [
    "## 04. 클래스"
   ]
  },
  {
   "cell_type": "code",
   "execution_count": 15,
   "metadata": {},
   "outputs": [],
   "source": [
    "# 예제 친구관리 Class 설계하기\n",
    "# 1. 친구목록\n",
    "# 2. 친구추가\n",
    "# 3. 친구삭제\n",
    "# 4. 친구변경"
   ]
  },
  {
   "cell_type": "code",
   "execution_count": 16,
   "metadata": {},
   "outputs": [],
   "source": [
    "# 예제 가위바위보 Class 설계하기\n",
    "# 승 무 패 나오게 "
   ]
  },
  {
   "cell_type": "code",
   "execution_count": 17,
   "metadata": {},
   "outputs": [],
   "source": [
    "# e1 = Employee(1111, \"홍길동\", 1000000, [\"여행\", \"낚시\", \"운동\"])\n",
    "# e1.display()\n",
    "\n",
    "# 결과:\n",
    "#     사번 : 1111\n",
    "#     이름 : 홍길동\n",
    "#     급여 : 1000000\n",
    "#     취미 : 여행, 낚시, 운동\n",
    "    \n",
    "# e2 = Employee(1112, \"임꺽정\", 1200000, [\"자전거\", \"볼링\"])\n",
    "# e3 = Employee(1113, \"신돌석\", 1000000, [\"독서\"])\n",
    "\n",
    "# total = Employee.getCount()\n",
    "# print(\"총 인원수 : \", total)\n",
    "\n",
    "# e3.setSalary(2500000)               ##월급함수\n",
    "# e3.appendHobby([\"피아노\", \"드론\"])   ##취미추가 함수\n",
    "# e3.display()                        ## 출력\n",
    "\n",
    "# 결과:\n",
    "#     사번 : 1113\n",
    "#     이름 : 신돌석\n",
    "#     급여 : 2500000\n",
    "#     취미 : 독서, 피아노, 드론\n",
    "# '''\n",
    "\n",
    "# 위와 같은 결과를 출력하게"
   ]
  },
  {
   "cell_type": "code",
   "execution_count": null,
   "metadata": {},
   "outputs": [],
   "source": [
    "#전자계산기 상속기능을 이용"
   ]
  },
  {
   "cell_type": "code",
   "execution_count": 18,
   "metadata": {},
   "outputs": [],
   "source": [
    "## 예제 다중상속 \n",
    "\n",
    "#1. 부모클래스에 Power 클래스 추가해서 다중상속을 구현해 본다.\n",
    "#2. 전원을 켰을때만 볼륨 조절을 할 수 있게 한다.\n",
    "#3. 볼륨 조정은 max값을 100, min값을 0으로 한다.\n",
    "\n",
    "#결과 예시 :\n",
    "#     1. TV\n",
    "#     2. RADIO\n",
    "#     3. SPEAKER\n",
    "#     4. 종료\n",
    "#     메뉴 : 1\n",
    "        \n",
    "#           -----TV-----\n",
    "#         \"현재 상태는 on\"\n",
    "#         1. 전원 on\n",
    "#         2. 볼륨조정\n",
    "#         3. 나가기\n",
    "\n",
    "#            ----볼륨조정----\n",
    "#            볼륨값 : 10\n",
    "#              현재 TV의 볼륨은 10입니다."
   ]
  },
  {
   "cell_type": "markdown",
   "metadata": {},
   "source": [
    "------------------------------------------------------------------------------------------------"
   ]
  },
  {
   "cell_type": "markdown",
   "metadata": {},
   "source": [
    "## 05. 고급함수"
   ]
  },
  {
   "cell_type": "code",
   "execution_count": null,
   "metadata": {},
   "outputs": [],
   "source": []
  }
 ],
 "metadata": {
  "kernelspec": {
   "display_name": "Python 3",
   "language": "python",
   "name": "python3"
  },
  "language_info": {
   "codemirror_mode": {
    "name": "ipython",
    "version": 3
   },
   "file_extension": ".py",
   "mimetype": "text/x-python",
   "name": "python",
   "nbconvert_exporter": "python",
   "pygments_lexer": "ipython3",
   "version": "3.7.4"
  }
 },
 "nbformat": 4,
 "nbformat_minor": 2
}

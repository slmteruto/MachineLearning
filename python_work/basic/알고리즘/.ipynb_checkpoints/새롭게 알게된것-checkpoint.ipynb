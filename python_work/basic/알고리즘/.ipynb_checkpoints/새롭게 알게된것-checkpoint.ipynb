{
 "cells": [
  {
   "cell_type": "code",
   "execution_count": 2,
   "metadata": {},
   "outputs": [],
   "source": [
    "import sys\n",
    "\n",
    "#a, b = map(int, sys.stdin.readline().split())\n",
    "#arr = list(map(int, sys.stdin.readline().split()))"
   ]
  },
  {
   "cell_type": "code",
   "execution_count": 5,
   "metadata": {},
   "outputs": [
    {
     "name": "stdout",
     "output_type": "stream",
     "text": [
      "[3, 4, 1, 6, 8, 10, 9, 2, 5, 7]\n",
      "[1, 2, 3, 4, 5, 6, 7, 8, 9, 10]\n"
     ]
    }
   ],
   "source": [
    "## sorted() 함수\n",
    "\n",
    "arr = [3,4,1,6,8,10,9,2,5,7]\n",
    "\n",
    "arr2 = sorted(arr)     # 값을 정렬해서 반환해줌. \n",
    "arr.sort            # 이것은 리턴하지 않고 arr 자체를 바꿔버림\n",
    "\n",
    "print(arr)\n",
    "print(arr2)\n",
    "\n",
    "\n",
    "#파이썬 내장함수는 TIM SORT(팀정렬)이다. \n",
    "\n",
    "# O(N*logN)을 가지거나 빠를 경우에 O(N)이다."
   ]
  },
  {
   "cell_type": "code",
   "execution_count": 6,
   "metadata": {},
   "outputs": [],
   "source": [
    "#ord  -> 아스키를 숫자로\n",
    "#chr  -> 숫자를 아스키로"
   ]
  },
  {
   "cell_type": "code",
   "execution_count": 7,
   "metadata": {},
   "outputs": [
    {
     "name": "stdout",
     "output_type": "stream",
     "text": [
      "['a', 'b', 'c']\n"
     ]
    }
   ],
   "source": [
    "# 문자열을 LIST로 변경하면 쪼개어져서 들어가게 된다.\n",
    "arr = []\n",
    "arr2 = list('abc')\n",
    "arr.extend(arr2)\n",
    "\n",
    "print(arr)"
   ]
  },
  {
   "cell_type": "code",
   "execution_count": 8,
   "metadata": {},
   "outputs": [],
   "source": [
    "# 대소문자 W.UPPER(), W.LOWER()는 문자열에만 사용하는 함수 "
   ]
  },
  {
   "cell_type": "code",
   "execution_count": 11,
   "metadata": {},
   "outputs": [
    {
     "name": "stdout",
     "output_type": "stream",
     "text": [
      "[7, 6, 5, 4, 3, 2, 1]\n"
     ]
    }
   ],
   "source": [
    "#reversed\n",
    "\n",
    "# sorted반대 , iterator의 요소를 역순, 정렬이 아니다! (파이썬 내장함수)\n",
    "\n",
    "# 그냥 반대로 뒤집는 거임 주의할것\n",
    "\n",
    "arr = [1,2,3,4,5,6,7]\n",
    "\n",
    "re_list = list(reversed(arr))    \n",
    "# reversed는 sorted와 다르게 바로 값을 리턴하지 않으므로 list로 만들어 담는다.\n",
    "\n",
    "\n",
    "print(re_list)"
   ]
  },
  {
   "cell_type": "code",
   "execution_count": 14,
   "metadata": {},
   "outputs": [
    {
     "ename": "NameError",
     "evalue": "name 'count_list' is not defined",
     "output_type": "error",
     "traceback": [
      "\u001b[1;31m---------------------------------------------------------------------------\u001b[0m",
      "\u001b[1;31mNameError\u001b[0m                                 Traceback (most recent call last)",
      "\u001b[1;32m<ipython-input-14-24f08e543126>\u001b[0m in \u001b[0;36m<module>\u001b[1;34m\u001b[0m\n\u001b[0;32m      1\u001b[0m \u001b[1;31m# 리스트안의 인덱스 찾을 때  요소가 여러개라면??\u001b[0m\u001b[1;33m\u001b[0m\u001b[1;33m\u001b[0m\u001b[1;33m\u001b[0m\u001b[0m\n\u001b[0;32m      2\u001b[0m \u001b[0mmax_num\u001b[0m \u001b[1;33m=\u001b[0m \u001b[1;36m1\u001b[0m\u001b[1;33m\u001b[0m\u001b[1;33m\u001b[0m\u001b[0m\n\u001b[1;32m----> 3\u001b[1;33m \u001b[0manswer\u001b[0m \u001b[1;33m=\u001b[0m \u001b[1;33m[\u001b[0m \u001b[0mi\u001b[0m \u001b[1;32mfor\u001b[0m \u001b[0mi\u001b[0m\u001b[1;33m,\u001b[0m \u001b[0mx\u001b[0m \u001b[1;32min\u001b[0m \u001b[0menumerate\u001b[0m\u001b[1;33m(\u001b[0m\u001b[0mcount_list\u001b[0m\u001b[1;33m)\u001b[0m \u001b[1;32mif\u001b[0m \u001b[0mx\u001b[0m \u001b[1;33m==\u001b[0m \u001b[0mmax_num\u001b[0m \u001b[1;33m]\u001b[0m\u001b[1;33m\u001b[0m\u001b[1;33m\u001b[0m\u001b[0m\n\u001b[0m",
      "\u001b[1;31mNameError\u001b[0m: name 'count_list' is not defined"
     ]
    }
   ],
   "source": [
    "# 리스트안의 인덱스 찾을 때  요소가 여러개라면??\n",
    "\n",
    "#x는 count_list\n",
    "#max_num은 찾는 숫자\n",
    "#answer = [ i for i, x in enumerate(count_list) if x == max_num ]"
   ]
  },
  {
   "cell_type": "code",
   "execution_count": 15,
   "metadata": {},
   "outputs": [],
   "source": [
    "#set의 값을 출력하고 싶을때는 list로 변환하자"
   ]
  },
  {
   "cell_type": "code",
   "execution_count": 16,
   "metadata": {},
   "outputs": [
    {
     "name": "stdout",
     "output_type": "stream",
     "text": [
      "4\n",
      "-2\n",
      "3\n",
      "0.3333333333333333\n"
     ]
    }
   ],
   "source": [
    "#연산의 속도 증가 (약 60%)\n",
    "import operator\n",
    "\n",
    "print(operator.add(1, 3))\n",
    "print(operator.sub(1, 3))\n",
    "print(operator.mul(1, 3))\n",
    "print(operator.truediv(1, 3))\n",
    "\n"
   ]
  },
  {
   "cell_type": "code",
   "execution_count": 1,
   "metadata": {},
   "outputs": [],
   "source": [
    "##2839번 - 왜맞았지?"
   ]
  },
  {
   "cell_type": "code",
   "execution_count": 2,
   "metadata": {},
   "outputs": [
    {
     "ename": "SyntaxError",
     "evalue": "invalid syntax (<ipython-input-2-bd724ee27e36>, line 4)",
     "output_type": "error",
     "traceback": [
      "\u001b[1;36m  File \u001b[1;32m\"<ipython-input-2-bd724ee27e36>\"\u001b[1;36m, line \u001b[1;32m4\u001b[0m\n\u001b[1;33m    import math  여기에는 다양한 함수들이 있다.\u001b[0m\n\u001b[1;37m                    ^\u001b[0m\n\u001b[1;31mSyntaxError\u001b[0m\u001b[1;31m:\u001b[0m invalid syntax\n"
     ]
    }
   ],
   "source": [
    "# math 임포트\n",
    "\n",
    "\n",
    "#import math  여기에는 다양한 함수들이 있다.\n",
    "\n",
    "# math.sqrt()  제곱근 구하는 함수 등등\n",
    "\n"
   ]
  },
  {
   "cell_type": "code",
   "execution_count": null,
   "metadata": {},
   "outputs": [],
   "source": [
    "## 연산속도\n",
    "\n",
    "#별다른게 있는게 아니라 알고리즘에서 효율적으로 하면 속도가 단축이된다\n",
    "\n",
    "# 예) 소수구하기에서 2~제곱근까지만 나눠보기 라던지.."
   ]
  },
  {
   "cell_type": "code",
   "execution_count": null,
   "metadata": {},
   "outputs": [],
   "source": [
    "# 수학2 에서 골드뭐시기 다시 보기"
   ]
  },
  {
   "cell_type": "code",
   "execution_count": null,
   "metadata": {},
   "outputs": [],
   "source": [
    "# 소수점 표현\n",
    "\n",
    "# 2) %f 그냥 사용하면, 소수점 6자리부터 그대로 표시된다. (100.000000%)\n",
    "\n",
    "#     0. f%%  형태로 사용하면 소수점 없이 정수처럼 퍼센트 표시 가능하며\n",
    "\n",
    "#     0.2f%% 0.3f%% 사용하고 싶은 \n",
    "\n",
    "#     소수점 자리 수 만큼 적어주면, 그 만큼 까지 표시된다\n",
    "\n",
    "# print( \"%0.f%%\" % processpoint)\n"
   ]
  }
 ],
 "metadata": {
  "kernelspec": {
   "display_name": "Python 3",
   "language": "python",
   "name": "python3"
  },
  "language_info": {
   "codemirror_mode": {
    "name": "ipython",
    "version": 3
   },
   "file_extension": ".py",
   "mimetype": "text/x-python",
   "name": "python",
   "nbconvert_exporter": "python",
   "pygments_lexer": "ipython3",
   "version": "3.7.4"
  }
 },
 "nbformat": 4,
 "nbformat_minor": 2
}

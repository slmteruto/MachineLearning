{
 "cells": [
  {
   "cell_type": "markdown",
   "metadata": {},
   "source": [
    "\n",
    "# 1. 함수의 정의 : 일정한 작업을 수행하는 코드블럭\n",
    "\n",
    "\n",
    "# 2. 함수의 장점\n",
    "\n",
    "    1) 반복적인 코드를 없애주어 코드의 길이를 짧게 만든다.\n",
    "    2) 프로그램의 유지보수를 쉽게 만들어준다.\n",
    "    \n",
    "\n",
    "\n",
    "# 3.함수의 구현\n",
    "\n",
    "    1) def 함수이름(...) :\n",
    "         코드내용...\n",
    "         코드내용...\n",
    "         ...\n",
    "         [return ...]\n",
    " \n",
    "\n",
    "# 4. 함수의 호출 방식\n",
    "\n",
    "    1) 인자가 없는 방식 (건너가는 방식)\n",
    "    \n",
    "    2) 인자가 있는 방식 (건너가는 방식)\n",
    "     \n",
    "    3) return 값이 있는 방식 (복귀하는 방식)\n",
    "        \n",
    "        return의 기능 - 값을 반환\n",
    "                      - 함수 강제 종료\n",
    "    \n",
    "\n",
    "# 5. 함수의 설계\n",
    "    \n",
    "    1) 재사용성이 확실히 있나.\n",
    "    2) 단일 기능인가  (기능의 정체성을 가지고 있을 것)\n",
    "    \n",
    "    \n",
    "    \n",
    "    \n",
    "# 6. 함수의 종류\n",
    "\n",
    "    1) 사용자 정의 함수\n",
    "    2) 내장함수(Built-in)\n",
    "    3) 외장 함수 "
   ]
  },
  {
   "cell_type": "code",
   "execution_count": 4,
   "metadata": {},
   "outputs": [],
   "source": [
    "# 함수정의 방법\n",
    "def friend_list() :\n",
    "    print(\"**************************\")\n",
    "    print(\"    친구관리 프로그램     \")\n",
    "    print(\"**************************\")\n",
    "    print(\"1. 친구 추가\")\n",
    "    print(\"2. 친구 삭제\")\n",
    "    print(\"3. 친구 목록\")\n",
    "    print(\"4. 친구 변경\")\n",
    "    print(\"5.  종  료  \")\n",
    "    print(\"**************************\")\n",
    "    return None\n",
    "    "
   ]
  },
  {
   "cell_type": "code",
   "execution_count": 7,
   "metadata": {},
   "outputs": [],
   "source": [
    "# 함수정의 방법 2\n",
    "def line_func() :\n",
    "    print(\"**************************\")"
   ]
  },
  {
   "cell_type": "code",
   "execution_count": 12,
   "metadata": {},
   "outputs": [
    {
     "name": "stdout",
     "output_type": "stream",
     "text": [
      "**************************\n",
      "친구관리\n",
      "**************************\n"
     ]
    }
   ],
   "source": [
    "# 함수 사용\n",
    "line_func()\n",
    "print(\"친구관리\")\n",
    "line_func()"
   ]
  },
  {
   "cell_type": "markdown",
   "metadata": {},
   "source": [
    "함수사용시 되돌아 올때 주소를 임시로 stack 메모리에 저장한다. 그래서 호출후 원래 자리로 돌아갈 수 있는 것"
   ]
  },
  {
   "cell_type": "code",
   "execution_count": 19,
   "metadata": {},
   "outputs": [],
   "source": [
    "# 파라미터가 있는 함수\n",
    "\n",
    "def line_func(style, cnt) :  # a 를 파라미터라고 함\n",
    "    for v1 in range(cnt) :\n",
    "        print(style, end = \"\")\n"
   ]
  },
  {
   "cell_type": "code",
   "execution_count": 24,
   "metadata": {},
   "outputs": [
    {
     "name": "stdout",
     "output_type": "stream",
     "text": [
      "$$$$$$$$$$"
     ]
    }
   ],
   "source": [
    "line_func(\"$\",10)   #넘겨주는 값을 실인자, 실인수 라고 한다.(Argument?)"
   ]
  },
  {
   "cell_type": "code",
   "execution_count": 29,
   "metadata": {},
   "outputs": [
    {
     "name": "stdout",
     "output_type": "stream",
     "text": [
      "두 수의 교환\n",
      "원본 num1 : 10, num2 : 5 \n",
      "변경 num1 : 5, num2 : 10 \n"
     ]
    }
   ],
   "source": [
    "# 반환값\n",
    "\n",
    "num1 = 10\n",
    "num2 = 5\n",
    "sub = 0\n",
    "\n",
    "print(\"두 수의 교환\")\n",
    "print(\"원본 num1 : {}, num2 : {} \".format(num1, num2))\n",
    "tmp = num2\n",
    "num2 = num1\n",
    "num1 = tmp\n",
    "\n",
    "print(\"변경 num1 : {}, num2 : {} \".format(num1, num2))"
   ]
  },
  {
   "cell_type": "code",
   "execution_count": 33,
   "metadata": {},
   "outputs": [],
   "source": [
    "# 함수로 만들어서 사용\n",
    "\n",
    "def chg_num(num1, num2) :\n",
    "    tmp = num2\n",
    "    num2 = num1\n",
    "    num1 = tmp    \n",
    "    return num1, num2   #다른언어에선 리턴이 하나밖에 안됨, 리스트를 만들던지\n",
    "\n",
    "# 함수만들때 잠시 임시로 만들때\n",
    "def exam() :\n",
    "    pass\n"
   ]
  },
  {
   "cell_type": "code",
   "execution_count": 43,
   "metadata": {},
   "outputs": [
    {
     "name": "stdout",
     "output_type": "stream",
     "text": [
      "두 수의 교환\n",
      "원본 num1 : 10, num2 : 5 \n",
      "변경 num1 : 5, num2 : 10 \n"
     ]
    }
   ],
   "source": [
    "num1 = 10\n",
    "num2 = 5\n",
    "print(\"두 수의 교환\")\n",
    "print(\"원본 num1 : {}, num2 : {} \".format(num1, num2))\n",
    "\n",
    "num1, num2 = chg_num(num1, num2)\n",
    "\n",
    "\n",
    "print(\"변경 num1 : {}, num2 : {} \".format(num1, num2))\n",
    "\n"
   ]
  },
  {
   "cell_type": "code",
   "execution_count": 44,
   "metadata": {},
   "outputs": [
    {
     "name": "stdout",
     "output_type": "stream",
     "text": [
      "10 5\n",
      "5 10\n"
     ]
    }
   ],
   "source": [
    "# 다른 방식  (파이썬 특징)\n",
    "\n",
    "def swap(num1, num2) :\n",
    "    num1, num2 = num2, num1  #동시 교환이 가능해보림~\n",
    "    return num1, num2\n",
    "\n",
    "num1 = 10\n",
    "num2 = 5\n",
    "print(num1, num2)\n",
    "\n",
    "num1, num2 = swap(num1, num2)\n",
    "print(num1, num2)"
   ]
  },
  {
   "cell_type": "code",
   "execution_count": 49,
   "metadata": {},
   "outputs": [],
   "source": [
    "# 전자계산기 예제를 함수화 시키기\n",
    "\n",
    "## 덧셈 함수\n",
    "def sum(num1, num2) :\n",
    "    result = num1 + num2\n",
    "    return int(result)\n",
    "\n",
    "## 뺄셈 함수\n",
    "def min(num1, num2) :\n",
    "    result = num1 - num2\n",
    "    return int(result)\n",
    "\n",
    "## 곱셈 함수\n",
    "def mul(num1, num2) :\n",
    "    result = num1 * num2\n",
    "    return int(result)\n",
    "\n",
    "## 나눗셈 함수\n",
    "def div(num1, num2) :\n",
    "    result1 = num1 / num2\n",
    "    return int(result)\n"
   ]
  },
  {
   "cell_type": "code",
   "execution_count": 51,
   "metadata": {},
   "outputs": [
    {
     "name": "stdout",
     "output_type": "stream",
     "text": [
      "연산자 입력 (+,-,*,/), x를 누르면 종료됩니다.+\n",
      "숫자입력1 : 10\n",
      "숫자입력2 : 3\n",
      "********************\n",
      "10 + 3 = 13 입니다.\n",
      "연산자 입력 (+,-,*,/), x를 누르면 종료됩니다./\n",
      "숫자입력1 : 50\n",
      "숫자입력2 (0불가) : 0\n",
      "0으로 나누는 계산은 불가능합니다.\n",
      "연산자 입력 (+,-,*,/), x를 누르면 종료됩니다.x\n"
     ]
    }
   ],
   "source": [
    "while True :\n",
    "    result = 0\n",
    "    func = \"\"\n",
    "    funclist = [\"+\", \"-\", \"*\", \"/\"]\n",
    "    num1 = 0\n",
    "    num2 = 0\n",
    "    \n",
    "    \n",
    "    ##연산자 입력\n",
    "    func = input(\"연산자 입력 (+,-,*,/), x를 누르면 종료됩니다.\")\n",
    "    \n",
    "    \n",
    "    ##종료 버튼 또는 잘못입력 시\n",
    "    if func == \"x\" or func == \"X\" :\n",
    "        break\n",
    "    elif func not in funclist :\n",
    "        print(\"잘 못 누르셨습니다.\")\n",
    "        continue\n",
    "        \n",
    "    \n",
    "    # 숫자1 입력\n",
    "    num1 = int(input(\"숫자입력1 : \"))\n",
    "    \n",
    "    #나눗셈일 때 주의사항\n",
    "    if func == \"/\" :\n",
    "        num2 = int(input(\"숫자입력2 (0불가) : \"))\n",
    "        if num2 == 0 :\n",
    "            print(\"0으로 나누는 계산은 불가능합니다.\")\n",
    "            continue\n",
    "    else :\n",
    "        num2 = int(input(\"숫자입력2 : \"))\n",
    "\n",
    "    #각기능\n",
    "    if func == \"+\" :\n",
    "        result = sum(num1, num2)\n",
    "        print(\"*\"*20)\n",
    "        print(\"%d %s %d = %d 입니다.\"%(num1, func, num2, result))\n",
    "    elif func == \"-\" :\n",
    "        result = min(num1, num2)\n",
    "        print(\"*\"*20)\n",
    "        print(\"%d %s %d = %d 입니다.\"%(num1, func, num2, result))\n",
    "    elif func == \"*\" :\n",
    "        result = mul(num1, num2)\n",
    "        print(\"*\"*20)\n",
    "        print(\"%d %s %d = %d 입니다.\"%(num1, func, num2, result))\n",
    "    elif func == \"/\" :\n",
    "        result = div(num1, num2)\n",
    "        print(\"*\"*20)\n",
    "        print(\"%d %s %d = %d 입니다.\"%(num1, func, num2, result))\n",
    "    else :\n",
    "        break;"
   ]
  },
  {
   "cell_type": "markdown",
   "metadata": {},
   "source": [
    "### pyCharm  -> 파이썬 파일로 생성\n",
    "\n",
    "### pyInstaller   -> exe변환 파일\n",
    "\n",
    "    pyInstaller 명령어)       pyinstaller -F --noconsole 파일명\n",
    "    \n",
    "    F = 하나의 파일로 만들기\n",
    "    noconsole = 파일 실행시 콘솔창 실행 안함\n",
    "    \n",
    "    만들고 나면 dist폴더에 생성된다.\n",
    "    \n",
    "    \n",
    "    .pyc 는 py 컴파일이라는 뜻   _pycache_ 에 저장됨."
   ]
  },
  {
   "cell_type": "code",
   "execution_count": 52,
   "metadata": {},
   "outputs": [],
   "source": [
    "# 그동안 만든 제어문들 함수로 간단하게 만들기"
   ]
  },
  {
   "cell_type": "markdown",
   "metadata": {},
   "source": [
    "## 파이썬에서 함수를지원하기 위한 문법    "
   ]
  },
  {
   "cell_type": "code",
   "execution_count": 60,
   "metadata": {},
   "outputs": [
    {
     "name": "stdout",
     "output_type": "stream",
     "text": [
      "\n",
      "전국 대표\n",
      "홍길동\n",
      "지역 대표\n",
      "지역 대표\n"
     ]
    }
   ],
   "source": [
    "# 변수의 유효범위 : 전역변수, 지역변수\n",
    "\n",
    "player = \"전국 대표\"\n",
    "name = \"\"\n",
    "def test_socc() :\n",
    "    global player  ## 전역변수를 가져다가 쓸려고 할 때 \n",
    "    \n",
    "    name = \"홍길동\"\n",
    "    player = \"지역 대표\"\n",
    "    print(name)\n",
    "    print(player)\n",
    "\n",
    "###################\n",
    "\n",
    "print(name)\n",
    "print(player)\n",
    "\n",
    "test_socc()\n",
    "print(player)"
   ]
  },
  {
   "cell_type": "code",
   "execution_count": null,
   "metadata": {},
   "outputs": [],
   "source": [
    "#지역변수가 가장 안전\n",
    "#전역변수는 편하긴 하지만 위험\n",
    "\n",
    "#default 인수\n",
    "\n"
   ]
  },
  {
   "cell_type": "code",
   "execution_count": 61,
   "metadata": {},
   "outputs": [
    {
     "name": "stdout",
     "output_type": "stream",
     "text": [
      "******************************"
     ]
    }
   ],
   "source": [
    "def line_func(cnt) :  # cnt 를 파라미터라고 함\n",
    "    for v1 in range(cnt) :\n",
    "        print(\"*\", end = \"\")\n",
    "        \n",
    "################################################\n",
    "\n",
    "line_func(30)\n",
    "# line_func() 으로만 쓰면 에러 그래서 사용하는 것이 default"
   ]
  },
  {
   "cell_type": "code",
   "execution_count": 79,
   "metadata": {},
   "outputs": [
    {
     "name": "stdout",
     "output_type": "stream",
     "text": [
      "******************************\n",
      "****\n",
      "안녕하세요!! 홍길스\n",
      "반드시 이름을 입력하세요\n",
      "안녕하세요 서울에 사는 길스길스님..27살이시네요\n",
      "안녕하세요 인천에 사는 띠용님..0살이시네요\n",
      "안녕하세요 광주에 사는 무명님..0살이시네요\n",
      "안녕하세요 뉴욕에 사는 프랑소와님..70살이시네요\n",
      "안녕하세요 수원에 사는 철수님..20살이시네요\n"
     ]
    }
   ],
   "source": [
    "## default 인수\n",
    "\n",
    "def line_func(cnt=30) :  # 파라미터의 기본값을 설정할 수 있음, 값이 없을때 사용하는 값\n",
    "    for v1 in range(cnt) :\n",
    "        print(\"*\", end = \"\")\n",
    "    print()\n",
    "\n",
    "def hello(name = None) :\n",
    "    if name is None :\n",
    "        print(\"반드시 이름을 입력하세요\")\n",
    "        return\n",
    "    print(\"안녕하세요!!\", name)\n",
    "    \n",
    "    \n",
    "def hello2(addr, name=\"무명\", age=0) :  # default 하려면 뒤에서부터 채워야 한다., 중간만 따로 할수없음.\n",
    "    print(\"안녕하세요 {}에 사는 {}님..{}살이시네요\".format(addr, name, age))\n",
    "    \n",
    "################################################\n",
    "\n",
    "line_func()\n",
    "line_func(4)\n",
    "\n",
    "\n",
    "hello(\"홍길스\")\n",
    "hello()\n",
    "\n",
    "hello2(\"서울\", \"길스길스\", 27)\n",
    "hello2(\"인천\", \"띠용\")\n",
    "hello2(\"광주\")\n",
    "\n",
    "#순서 상관없이 매개변수 주는 법\n",
    "hello2(age= 70, addr = \"뉴욕\", name = \"프랑소와\")\n",
    "\n",
    "hello2(\"수원\", name = \"철수\", age = 20)"
   ]
  },
  {
   "cell_type": "code",
   "execution_count": 103,
   "metadata": {},
   "outputs": [
    {
     "name": "stdout",
     "output_type": "stream",
     "text": [
      "(['홍스', '철스', '쩝쩝', '빙글'], ['jav', 'pai'])\n",
      "<class 'tuple'>\n",
      "['홍스', '철스', '쩝쩝', '빙글']\n",
      "홍스\n",
      "('홍스', '철스', '쩝쩝', '빙글')\n",
      "<class 'tuple'>\n",
      "홍스\n",
      "홍\n"
     ]
    }
   ],
   "source": [
    "# 가변인수\n",
    "# * : 일반곱셈, 가변인수(packing), unpacking\n",
    "# ** : 제곱연산, 가변인수(dict처리)\n",
    "\n",
    "def greeting(*name) :  # 갯수 상관없이 인자를 받겠다는 의미(Tuple로 받는다.)\n",
    "    print(name)\n",
    "    print(type(name))\n",
    "    print(name[0])\n",
    "    print(name[0][0])\n",
    "    \n",
    "    \n",
    "\n",
    "######################################\n",
    "\n",
    "#greeting(\"ㅎㅎ\")\n",
    "\n",
    "greeting([\"홍스\", \"철스\", \"쩝쩝\", \"빙글\"], [\"jav\", \"pai\"])\n",
    "\n",
    "greeting(\"홍스\", \"철스\", \"쩝쩝\", \"빙글\")\n",
    "\n",
    "\n"
   ]
  },
  {
   "cell_type": "code",
   "execution_count": 26,
   "metadata": {},
   "outputs": [
    {
     "name": "stdout",
     "output_type": "stream",
     "text": [
      "홍길스 님 환영합니다.\n",
      "치킨스 님 환영합니다.\n",
      "푸링클 님 환영합니다.\n"
     ]
    }
   ],
   "source": [
    "def greeting2(weight = 0, height = 0, *name):   #default 채우고 싶을 때 가변인수 있다면 가변 건너뛸 수 있다.\n",
    "    for n in name :\n",
    "        print(n, \"님 환영합니다.\")\n",
    "        \n",
    "        \n",
    "greeting2(0,0,\"홍길스\")\n",
    "\n",
    "greeting2(0, 0, \"치킨스\", \"푸링클\")"
   ]
  },
  {
   "cell_type": "code",
   "execution_count": 6,
   "metadata": {},
   "outputs": [
    {
     "name": "stdout",
     "output_type": "stream",
     "text": [
      "1 2 3 4 5\n"
     ]
    }
   ],
   "source": [
    "def asterisk_test(a, *args) :  #이쪽의 *은 packing\n",
    "    print(a, *args) # 이쪽의 *은 unpacking이라고 해야하나\n",
    "\n",
    "    #가변인수는 일종의 packing이다.\n",
    "############################\n",
    "asterisk_test(1,2,3,4,5)\n"
   ]
  },
  {
   "cell_type": "code",
   "execution_count": 11,
   "metadata": {},
   "outputs": [
    {
     "name": "stdout",
     "output_type": "stream",
     "text": [
      "[1, 2] [3, 4] [5, 6]\n",
      "([1, 2], [3, 4], [5, 6])\n",
      "[1, 2] [3, 4] [5, 6]\n"
     ]
    }
   ],
   "source": [
    "# unpacking\n",
    "\n",
    "a,b,c = ([1,2], [3,4], [5,6])\n",
    "print(a, b, c)\n",
    "\n",
    "d = ([1,2], [3,4], [5,6])\n",
    "print(d)\n",
    "\n",
    "\n",
    "print(*d)"
   ]
  },
  {
   "cell_type": "code",
   "execution_count": 21,
   "metadata": {},
   "outputs": [
    {
     "name": "stdout",
     "output_type": "stream",
     "text": [
      "0 0\n",
      "{'name': '홍길동', 'age': 20, 'addr': '서울'}\n"
     ]
    }
   ],
   "source": [
    "## 가변인수 ** (dict형)\n",
    "\n",
    "#가변인수도 중간에 있으면 안된다, 또 default를 쓸 생각이면 가변인수 앞에다가 둬라.\n",
    "def info_func(weight = 0, height=0,**other) :  \n",
    "    print(weight, height)\n",
    "    print(other)\n",
    "    \n",
    "#############################################\n",
    "#  dict는 (키:값)\n",
    "\n",
    "info_func(name=\"홍길동\",age =20, addr = \"서울\")"
   ]
  },
  {
   "cell_type": "code",
   "execution_count": 31,
   "metadata": {},
   "outputs": [
    {
     "name": "stdout",
     "output_type": "stream",
     "text": [
      "10 1 2 3\n"
     ]
    }
   ],
   "source": [
    "#매개변수로 dict형 줄 때 키 값을 매칭 시키기\n",
    "\n",
    "def asterisk_test(a, b, c, d) :\n",
    "    print(a, b, c, d)\n",
    "    \n",
    "    \n",
    "#############################################\n",
    "\n",
    "data = {\"b\":1, \"c\":2, \"d\":3}\n",
    "\n",
    "asterisk_test(10, **data)"
   ]
  },
  {
   "cell_type": "markdown",
   "metadata": {},
   "source": [
    "## 내장함수\n",
    "\n",
    "    1) all, any  (참 여부)\n",
    "        사용법 \n",
    "            - all([ ... ]) 또는 all(변수)\n",
    "\n",
    "    2) enumerate\n",
    "    \n",
    "    \n",
    "    3) eval  \n",
    "    \n",
    "    4) map\n",
    "    \n",
    "    5) zip\n",
    "        "
   ]
  },
  {
   "cell_type": "code",
   "execution_count": 2,
   "metadata": {},
   "outputs": [
    {
     "name": "stdout",
     "output_type": "stream",
     "text": [
      "all 테스트\n",
      "True\n",
      "False\n",
      "\n",
      "any 테스트\n",
      "False\n",
      "True\n",
      "\n",
      "변수로\n",
      "False\n"
     ]
    }
   ],
   "source": [
    "# all(), any()\n",
    "\n",
    "#all : 모두 참이여야 참\n",
    "#any : 하나라도 참이면 참\n",
    "\n",
    "print(\"all 테스트\")\n",
    "print(all([1,2,3,-1,-2]))\n",
    "print(all([1,2,3,-1,'']))\n",
    "\n",
    "print()\n",
    "print(\"any 테스트\")\n",
    "print(any(['','',False,0,'']))\n",
    "print(any(['','','','',1]))\n",
    "\n",
    "arr = ['','',False,0,'']\n",
    "\n",
    "print()\n",
    "print(\"변수로\")\n",
    "print(all(arr))\n"
   ]
  },
  {
   "cell_type": "code",
   "execution_count": 18,
   "metadata": {},
   "outputs": [
    {
     "name": "stdout",
     "output_type": "stream",
     "text": [
      "<enumerate object at 0x0000000005109728>\n",
      "(0, '홍길동')\n",
      "(1, '임꺽정')\n",
      "(2, 3.14)\n",
      "(3, 1000)\n",
      "(4, True)\n",
      "100  홍길동\n",
      "101  임꺽정\n",
      "102  3.14\n",
      "103  1000\n",
      "104  True\n"
     ]
    }
   ],
   "source": [
    "# enumerate(iterator)  :  순서가 있는 자료형(list, tuple)을 입력받아 인덱스 값을 포함해서 리턴\n",
    "\n",
    "#변수는 한번 쓰면 끝인가..?\n",
    "\n",
    "enum1 = enumerate([\"홍길동\",\"임꺽정\",3.14,1000,True])\n",
    "\n",
    "enum2 = enumerate([\"홍길동\",\"임꺽정\",3.14,1000,True], start = 100)  #인덱스를 100부터 시작하게 한다. (원랜 0)\n",
    "                   \n",
    "print(enum1)  ## enum의 주소값이 출력된다\n",
    "\n",
    "##방법1\n",
    "for v in enum1 :\n",
    "    print(v)\n",
    "    \n",
    "##방법2\n",
    "for a, b in enum2 :\n",
    "    print(a, \"\", b)"
   ]
  },
  {
   "cell_type": "code",
   "execution_count": 27,
   "metadata": {},
   "outputs": [
    {
     "name": "stdout",
     "output_type": "stream",
     "text": [
      "3+4\n",
      "7\n",
      "7\n",
      "7\n",
      "수식을 입력하세요 : 5+5\n",
      "10\n",
      "(2, 1)\n"
     ]
    }
   ],
   "source": [
    "# eval(expression) : 표현식을 파이썬에서 실행가능하게 만들어주는 역할\n",
    "\n",
    "print(\"3+4\")\n",
    "\n",
    "print(int(\"3\") + int(\"4\"))  ##이렇게 쓰면 불편하므로\n",
    "\n",
    "print(eval(\"3+4\"))  ## eval을 사용해서 편하게 사용하자\n",
    "\n",
    "#또는\n",
    "\n",
    "print(eval(\"3\")+eval(\"4\"))\n",
    "\n",
    "\n",
    "#응용1\n",
    "expr = input(\"수식을 입력하세요 : \")\n",
    "print(eval(expr))\n",
    "\n",
    "##나누기 연산자 / % 이걸 한번에 처리   결과는 (몫, 나머지)\n",
    "divmod(9,4)\n",
    "\n",
    "#응용2  함수 연산도 가능\n",
    "print(eval(\"divmod(9,4)\"))"
   ]
  },
  {
   "cell_type": "code",
   "execution_count": 35,
   "metadata": {},
   "outputs": [
    {
     "name": "stdout",
     "output_type": "stream",
     "text": [
      "12\n",
      "[12, 22, 32, 42, 52]\n",
      "<function calc at 0x0000000006F5BA68>\n",
      "<map object at 0x0000000006DC86C8>\n",
      "12\n",
      "22\n",
      "32\n",
      "42\n",
      "52\n",
      "[12, 22, 32, 42, 52]\n"
     ]
    }
   ],
   "source": [
    "# map(function, iterable) : 집합의 각 요소가 함수에 의해 수행된 결과를 묶어서 리턴  \n",
    "# 하둡에서 쓰는 그거 맞음\n",
    "\n",
    "def calc(num) :\n",
    "    return num + 2\n",
    "\n",
    "##################\n",
    "\n",
    "result = calc(10)\n",
    "print(result)\n",
    "\n",
    "b = []\n",
    "data = [10, 20, 30, 40, 50]\n",
    "\n",
    "##기본적인 방법이지만 갯수가 몇천개가 넘어가게 되면 성능이 떨어짐\n",
    "for v in data :\n",
    "    result = calc(v)\n",
    "    b.append(result)\n",
    "    \n",
    "print(b)\n",
    "\n",
    "##그래서 쓰는 것이 map(호출할 함수, 그 함수에 쓸 변수)\n",
    "print(calc)  # 함수 주소 확인\n",
    "\n",
    "##출력방법 1\n",
    "for v in map(calc, data) :\n",
    "    print(v)\n",
    "    \n",
    "##출력방법 2\n",
    "print(list(map(calc, data)))\n",
    "\n",
    "\n",
    "\n",
    "##Reduce 함수는 내장함수가 아니고 따로 추가해줘야함"
   ]
  },
  {
   "cell_type": "code",
   "execution_count": 43,
   "metadata": {},
   "outputs": [
    {
     "name": "stdout",
     "output_type": "stream",
     "text": [
      "<zip object at 0x0000000006EB7FC8>\n",
      "('a1', 'b1')\n",
      "('a2', 'b2')\n",
      "('a3', 'b3')\n",
      "a1 b1\n",
      "a2 b2\n",
      "a3 b3\n",
      "[('a1', 'b1', 'c1'), ('a2', 'b2', 'c2'), ('a3', 'b3', 'c3')]\n",
      "0 a1 b1 c1\n",
      "1 a2 b2 c2\n",
      "2 a3 b3 c3\n"
     ]
    }
   ],
   "source": [
    "# zip(iterable) : 동일한 갯수로 이루어진 자료형을 묶어주는 역할\n",
    "\n",
    "a = [\"a1\", \"a2\", \"a3\"]\n",
    "b = [\"b1\", \"b2\", \"b3\"]\n",
    "c = [\"c1\", \"c2\", \"c3\", \"c4\"]\n",
    "\n",
    "arr1 = zip(a,b)\n",
    "arr2 = zip(a,b)\n",
    "arr3 = zip(a,b,c)\n",
    "arr4 = zip(a,b,c)\n",
    "print(arr)\n",
    "##출력방법 1\n",
    "for i in arr1 :\n",
    "    print(i)\n",
    "    \n",
    "    \n",
    "##출력방법 2\n",
    "for v, w in arr2 :\n",
    "    print(v, w)\n",
    "    \n",
    "## 갯수가 안맞는 것은 손실이 된다.\n",
    "print(list(arr3))\n",
    "\n",
    "\n",
    "for i, (v,w,x) in enumerate(zip(a,b,c)) :\n",
    "    print(i, v, w, x)"
   ]
  },
  {
   "cell_type": "code",
   "execution_count": 195,
   "metadata": {},
   "outputs": [
    {
     "name": "stdout",
     "output_type": "stream",
     "text": [
      "large size 피자를 주문하셨습니다.\n",
      "토핑 : 버섯, 토마토, 감자, 고구마\n"
     ]
    }
   ],
   "source": [
    "# 시험에 나올 수 있는 문제\n",
    "\n",
    "#order(\"large\", \"버섯\")로 호출했을 때 결과는 다음과 같다.\n",
    "#large size 피자를 주문하셨습니다.\n",
    "#토핑 : 버섯\n",
    "\n",
    "\n",
    "#order(\"large\", \"버섯\", \"파인애플\", \"토마토\")로 호출했을 때 결과는 다음과 같다.\n",
    "#large size 피자를 주문하셨습니다.\n",
    "#토핑 : 버섯, 파인애플, 토마토\n",
    "\n",
    "\n",
    "def pzz_order(pzz_size, *pzz_top) :\n",
    "    print(\"{} size 피자를 주문하셨습니다.\".format(pzz_size))\n",
    "    print(\"토핑 : \", end = \"\")\n",
    "    count = 0\n",
    "    for i in pzz_top :\n",
    "        if count < len(pzz_top)-1 :\n",
    "            print(i, end = \", \")\n",
    "            count += 1\n",
    "        else :\n",
    "            print(i)\n",
    "    return\n",
    "\n",
    "####################\n",
    "# 가변인수 사용\n",
    "\n",
    "pzz_order(\"large\", \"버섯\", \"토마토\", \"감자\", \"고구마\")\n"
   ]
  },
  {
   "cell_type": "markdown",
   "metadata": {},
   "source": [
    "## 외장함수\n",
    "\n",
    "    import 파일명 (별도로 만든것, 외부에서 가져온것 등)\n",
    "    C:\\Users\\user\\Anaconda3\\Lib   여기에 함수들이 모아져있다.\n",
    "    "
   ]
  },
  {
   "cell_type": "code",
   "execution_count": 46,
   "metadata": {},
   "outputs": [],
   "source": [
    "import math  ##수학관련 함수\n",
    "\n",
    "##dir(math) # dos의 dir 명령어랑 같은것이다. math에 어떤 목록이 있는지 보여줌"
   ]
  },
  {
   "cell_type": "markdown",
   "metadata": {},
   "source": [
    "## 날짜형 함수"
   ]
  },
  {
   "cell_type": "code",
   "execution_count": 66,
   "metadata": {},
   "outputs": [
    {
     "name": "stdout",
     "output_type": "stream",
     "text": [
      "2019-12-11\n",
      "2019 12 11\n",
      "2019-12-11 11:52:08.364227\n",
      "\n",
      "------날짜, 시간 연산--------\n",
      "\n",
      "2019-12-10\n",
      "2019-12-11 10:52:08.364227\n",
      "\n",
      "------날짜형식을 내맘대로--------\n",
      "\n",
      "12/11/2019\n",
      "2019-12-11 11:52:08\n",
      "\n",
      "------날짜형식 변환--------\n",
      "\n",
      "<class 'datetime.datetime'>\n",
      "<class 'str'>\n",
      "<class 'str'>\n",
      "2019-12-11 11:47:45\n",
      "<class 'datetime.datetime'>\n"
     ]
    }
   ],
   "source": [
    "#파이썬에서 .py 파일을  모듈이라고 함 (메인이 아니고)\n",
    "\n",
    "# 함수 묶음 -> .py\n",
    "# .py 묶음 -> 모듈  \n",
    "# 앞으로 강사님이 모듈이라고 하면 파이썬파일이라고 이해\n",
    "\n",
    "import datetime\n",
    "\n",
    "##현재날짜\n",
    "today = datetime.date.today()\n",
    "\n",
    "#방법 1\n",
    "print(today)\n",
    "#방법 2\n",
    "print(today.year, today.month, today.day)\n",
    "\n",
    "##현재시간+날짜\n",
    "ctime = datetime.datetime.today()\n",
    "print(ctime)\n",
    "\n",
    "\n",
    "##날짜, 시간 연산\n",
    "print()\n",
    "print(\"------날짜, 시간 연산--------\")\n",
    "print()\n",
    "mydays = datetime.timedelta(days=-1)  ## days라는게 있음  -1로 주면  -1의 날짜값을 반환\n",
    "print(today + mydays)\n",
    "\n",
    "myhours = datetime.timedelta(hours=-1)  ## 이건 시간타입으로 -1의 값으로 반환\n",
    "print(ctime + myhours)\n",
    "\n",
    "# 날짜 형식을 내맘대로\n",
    "print()\n",
    "print(\"------날짜형식을 내맘대로--------\")\n",
    "print()\n",
    "print(today.strftime(\"%m/%d/%Y\"))   #strf  변형\n",
    "print(ctime.strftime(\"%Y-%m-%d %H:%M:%S\"))\n",
    "\n",
    "\n",
    "# 날짜형식 변환 \n",
    "# strftime() : 날짜를 문자열로\n",
    "# strptime() : 문자열을 날짜로\n",
    "print()\n",
    "print(\"------날짜형식 변환--------\")\n",
    "print()\n",
    "\n",
    "print(type(ctime))  #datetime타입이다.\n",
    "d = ctime.strftime(\"%Y-%m-%d %H:%M:%S\")\n",
    "print(type(d))   #str 형식으로 변형되었다.\n",
    "\n",
    "strdate = \"2019-12-11 11:47:45\" #문자열 타입이다.\n",
    "print(type(strdate))\n",
    "\n",
    "d2 = datetime.datetime.strptime(strdate, \"%Y-%m-%d %H:%M:%S\")  #파라미터에 바꿀 날짜 형식도 넣어야 됨(똑같이)\n",
    "print(d2)\n",
    "print(type(d2))\n",
    "\n"
   ]
  },
  {
   "cell_type": "markdown",
   "metadata": {},
   "source": [
    "## 명령행 인자 (Command Line Argument)\n",
    "\n",
    "    command line)  notepad xxx.txt  에서 xxx.txt가 명령행 인자라고 한다.\n",
    "    \n",
    "    프로그램이 실행될 때 다양한 목적으로 사용될 수 있도록 해주는 설정"
   ]
  },
  {
   "cell_type": "code",
   "execution_count": 67,
   "metadata": {},
   "outputs": [],
   "source": [
    "#테스트 해보기\n",
    "\n",
    "#파이참이나 메모장으로 python 파일을 생성 (cmdTest.py)\n",
    "#다음과 같이 입력\n",
    "\n",
    "\n",
    "#import sys\n",
    "\n",
    "##print(sys.argv[0])  #sys의 argv[0]의 데이터 가져오기\n",
    "##print(sys.argv[1])\n",
    "\n",
    "#for arg in sys.argv :\n",
    "#    print(arg)\n",
    "\n",
    "###########################\n",
    "#dos창으로 해당 파일 실행\n",
    "#python cmdTest.py 홍길동 aaa bbb ccc ...   인자 여러개 넣어서 실행해보기\n",
    "\n",
    "# 결과 : \n",
    "#cmdTest.py\n",
    "#홍길동\n",
    "#aaa\n",
    "#bbb"
   ]
  },
  {
   "cell_type": "code",
   "execution_count": 120,
   "metadata": {},
   "outputs": [
    {
     "name": "stdout",
     "output_type": "stream",
     "text": [
      "환영합니다.\n",
      "받은값은 -f\n",
      "\n",
      "환영합니다.\n"
     ]
    },
    {
     "ename": "FileNotFoundError",
     "evalue": "[Errno 2] No such file or directory: 'data/userList.txt'",
     "output_type": "error",
     "traceback": [
      "\u001b[1;31m---------------------------------------------------------------------------\u001b[0m",
      "\u001b[1;31mFileNotFoundError\u001b[0m                         Traceback (most recent call last)",
      "\u001b[1;32m<ipython-input-120-997893390d60>\u001b[0m in \u001b[0;36m<module>\u001b[1;34m\u001b[0m\n\u001b[0;32m     77\u001b[0m \u001b[0mprint\u001b[0m\u001b[1;33m(\u001b[0m\u001b[1;34m\"환영합니다.\"\u001b[0m\u001b[1;33m)\u001b[0m\u001b[1;33m\u001b[0m\u001b[1;33m\u001b[0m\u001b[0m\n\u001b[0;32m     78\u001b[0m \u001b[1;33m\u001b[0m\u001b[0m\n\u001b[1;32m---> 79\u001b[1;33m \u001b[0muserfile\u001b[0m \u001b[1;33m=\u001b[0m \u001b[0mopen\u001b[0m\u001b[1;33m(\u001b[0m\u001b[1;34m\"data/userList.txt\"\u001b[0m\u001b[1;33m,\u001b[0m \u001b[1;34m\"r\"\u001b[0m\u001b[1;33m)\u001b[0m\u001b[1;33m\u001b[0m\u001b[1;33m\u001b[0m\u001b[0m\n\u001b[0m\u001b[0;32m     80\u001b[0m \u001b[1;33m\u001b[0m\u001b[0m\n\u001b[0;32m     81\u001b[0m \u001b[0mline\u001b[0m \u001b[1;33m=\u001b[0m \u001b[0mtuple\u001b[0m\u001b[1;33m(\u001b[0m\u001b[0muserfile\u001b[0m\u001b[1;33m.\u001b[0m\u001b[0mreadlines\u001b[0m\u001b[1;33m(\u001b[0m\u001b[1;33m)\u001b[0m\u001b[1;33m)\u001b[0m\u001b[1;33m\u001b[0m\u001b[1;33m\u001b[0m\u001b[0m\n",
      "\u001b[1;31mFileNotFoundError\u001b[0m: [Errno 2] No such file or directory: 'data/userList.txt'"
     ]
    }
   ],
   "source": [
    "# 예제 1 (pycharm)\n",
    "\n",
    "# 파일이름 : PhoneBook.py\n",
    "# 데이터(100명정도) : 임의   \n",
    "#   ex) 홍길동, 010-000-0000, 서울시 강남구\n",
    "#       마오, 010-111-1111, 서울시 강북구\n",
    "#       멍뭉, 010-222-2222, 서울시 강동구\n",
    "#       카노, 010-333-3333, 서울시 강서구\n",
    "#        ....\n",
    "\n",
    "# 실행결과 : python PhoneBook.py 멍뭉\n",
    "\n",
    "# 이름 : 멍뭉\n",
    "# 전화 : 010-222-2222\n",
    "# 주소 : 서울시 강동구\n",
    "\n",
    "#=============================================================================#\n",
    "#방법1  (여기에 데이터 있는 경우)\n",
    "import sys\n",
    "\n",
    "cmd_str = (sys.argv[1])\n",
    "\n",
    "print(\"환영합니다.\")\n",
    "\n",
    "book_list = [\n",
    "    (\"홍길동\", \"010-0000-0000\", \"서울시 강남구\"),\n",
    "    (\"김마오\", \"010-1111-0001\", \"광주광역시 광산구\"),\n",
    "    (\"양멍뭉\", \"010-2222-0002\", \"서울시 관악구\"),\n",
    "    (\"최카노\", \"010-3333-0003\", \"대전광역시 유성구\"),\n",
    "    (\"김다키\", \"010-4444-0004\", \"성남시 분당구\"),\n",
    "    (\"김정은\", \"010-5555-0005\", \"평양시 로동구\"),\n",
    "    (\"트럼프\", \"010-6666-0006\", \"미국시 워싱턴구\"),\n",
    "    (\"문재인\", \"010-7777-0007\", \"서울시 종로구\"),\n",
    "    (\"이명박\", \"010-8888-0008\", \"서울시 강남구\"),\n",
    "    (\"박근혜\", \"010-9999-0009\", \"서울시 강남구\"),\n",
    "    (\"이승만\", \"010-1010-0010\", \"미국시 하와이구\"),\n",
    "    (\"양희승\", \"010-0011-0011\", \"서울시 동작구\")\n",
    "]\n",
    "\n",
    "for i in book_list :\n",
    "    if cmd_str == i[0] :\n",
    "        print(\"이름 : %s\"%i[0])\n",
    "        print(\"전화 : %s\"%i[1])\n",
    "        print(\"주소 : %s\"%i[2])\n",
    "    else :\n",
    "        pass\n",
    "    \n",
    "#=============================================================================#\n",
    "#방법2\n",
    "#pycharmwork 폴더에 data 폴더안에 txt 파일이 존재해야 함.\n",
    "\n",
    "def find_user(line) :\n",
    "    for i in range(len(line)):\n",
    "        sline = line[i].split(\",\")\n",
    "        find = sline[0].replace(\"\\\"\", \"\")\n",
    "        # print(find)\n",
    "        if cmd_str == find:\n",
    "            print(\"이름 : \" + sline[0].replace(\"\\\"\", \"\"))\n",
    "            print(\"전화 : \" + sline[1].replace(\"\\\"\", \"\"))\n",
    "            print(\"주소 : \" + sline[2].replace(\"\\\"\", \"\"))\n",
    "            break\n",
    "        else :\n",
    "            pass\n",
    "\n",
    "    print()\n",
    "    print(\"=\" * 30)\n",
    "    print()\n",
    "    return\n",
    "\n",
    "###########\n",
    "import sys\n",
    "\n",
    "cmd_str = (sys.argv[1])\n",
    "\n",
    "print(\"받은값은 \" + cmd_str)\n",
    "print()\n",
    "print(\"환영합니다.\")\n",
    "\n",
    "userfile = open(\"data/userList.txt\", \"r\")\n",
    "\n",
    "line = tuple(userfile.readlines())\n",
    "\n",
    "find_user(line)\n",
    "\n",
    "userfile.close()\n",
    "#=============================================================================#\n",
    "#데이터 생성기\n",
    "#이름만 수정하면 된다.\n",
    "\n",
    "import random\n",
    "\n",
    "local_list = [\n",
    "    \"서울시 강남구\",    \"서울시 강서구\",    \"서울시 강동구\",    \"서울시 강북구\",    \"서울시 서초구\",\n",
    "    \"서울시 송파구\",    \"서울시 성동구\",    \"서울시 성북구\",    \"서울시 종로구\",    \"서울시 동대문구\",\n",
    "    \"서울시 관악구\",    \"서울시 동작구\",    \"서울시 금천구\",    \"서울시 구로구\",    \"서울시 마포구\",\n",
    "    \"서울시 영등포구\",    \"서울시 중구\",        \"서울시 노원구\",    \"서울시 은평구\",    \"서울시 양천구\",\n",
    "    \"서울시 용산구\",    \"서울시 광진구\"\n",
    "             ]\n",
    "\n",
    "#22개 (0~21)\n",
    "\n",
    "for i in range(1, 101, 1) :\n",
    "    list_index = random.randint(0, 21)\n",
    "    #폰 앞자리 생성\n",
    "    a1 = str(random.randint(1, 9))\n",
    "    b1, c1, d1 = str(random.randint(0, 9)), str(random.randint(0, 9)), str(random.randint(0, 9))\n",
    "    \n",
    "    #폰 뒷자리 생성\n",
    "    a2 = str(random.randint(1, 9))\n",
    "    b2, c2, d2 = str(random.randint(0, 9)), str(random.randint(0, 9)), str(random.randint(0, 9))\n",
    "    \n",
    "    print(\"\\\"김철수\\\",\", end = \"\")\n",
    "    print(\"\\\"010-\"+a1+b1+c1+d1+\"-\"+a2+b2+c2+d2+\"\\\"\", end = \"\")\n",
    "    print(\",\\\"\"+local_list[list_index]+\"\\\"\")"
   ]
  },
  {
   "cell_type": "code",
   "execution_count": 77,
   "metadata": {},
   "outputs": [
    {
     "name": "stdout",
     "output_type": "stream",
     "text": [
      "['C:\\\\academy\\\\hs\\\\pythonwork\\\\basic', 'C:\\\\Users\\\\user\\\\Anaconda3\\\\python37.zip', 'C:\\\\Users\\\\user\\\\Anaconda3\\\\DLLs', 'C:\\\\Users\\\\user\\\\Anaconda3\\\\lib', 'C:\\\\Users\\\\user\\\\Anaconda3', '', 'C:\\\\Users\\\\user\\\\Anaconda3\\\\lib\\\\site-packages', 'C:\\\\Users\\\\user\\\\Anaconda3\\\\lib\\\\site-packages\\\\win32', 'C:\\\\Users\\\\user\\\\Anaconda3\\\\lib\\\\site-packages\\\\win32\\\\lib', 'C:\\\\Users\\\\user\\\\Anaconda3\\\\lib\\\\site-packages\\\\Pythonwin', 'C:\\\\Users\\\\user\\\\Anaconda3\\\\lib\\\\site-packages\\\\IPython\\\\extensions', 'C:\\\\Users\\\\user\\\\.ipython']\n",
      "win32\n",
      "3.7.4 (default, Aug  9 2019, 18:34:13) [MSC v.1915 64 bit (AMD64)]\n"
     ]
    }
   ],
   "source": [
    "# sys : system 관련 함수\n",
    "\n",
    "import sys\n",
    "\n",
    "print(sys.path)     #환경변수 출력\n",
    "print(sys.platform)\n",
    "print(sys.version)  #파이썬 버전\n",
    "#sys.exit()\n"
   ]
  },
  {
   "cell_type": "code",
   "execution_count": 79,
   "metadata": {},
   "outputs": [
    {
     "name": "stdout",
     "output_type": "stream",
     "text": [
      "C:\\academy\\hs\\pythonwork\\basic\n"
     ]
    },
    {
     "data": {
      "text/plain": [
       "0"
      ]
     },
     "execution_count": 79,
     "metadata": {},
     "output_type": "execute_result"
    }
   ],
   "source": [
    "# os : 실제 운영체제 관련 함수\n",
    "import os   \n",
    "\n",
    "print(os.getcwd())      ##현재 명령어 실행위치 출력\n",
    "os.system(\"dir\")        ##cmd에서 실행해야 효력있음\n",
    "os.system(\"cls\")        ##cmd에서 실행해야 효력있음\n"
   ]
  },
  {
   "cell_type": "code",
   "execution_count": 80,
   "metadata": {},
   "outputs": [],
   "source": [
    "## 화면지우기 예제 (notepad나 파이참 / dos에서 실행)\n",
    "\n",
    "# import os\n",
    "\n",
    "\n",
    "\n",
    "# cmd = input(\"화면을 지우시겠습니까 [y/n]\")\n",
    "\n",
    "# if cmd == \"y\" or cmd ==\"Y\" :\n",
    "#     os.system(\"cls\")\n",
    "# elif cmd == \"n\" or cmd == \"N\" :\n",
    "#     pass\n",
    "# else : \n",
    "#     print(\"에러\")"
   ]
  },
  {
   "cell_type": "markdown",
   "metadata": {},
   "source": [
    "## 파일처리 함수(내장)\n",
    "\n",
    "    data persistence (메모리에 저장하고 쓴다면 오래보관을 못한다, 전기가 끊긴다던지 하면 사라짐)\n",
    "\n",
    "    영구적으로 보관하기 위해서 여러가지 방식\n",
    "    1. 파일처리\n",
    "    2. DB화\n",
    "\n",
    "       이 중 파일처리의 함수로는 \n",
    "       \n",
    "       - open(\"파일명(경로포함)\", \"모드\")       \n",
    "           용도 : 파일을 로드함\n",
    "           모드 : r(읽기), w(쓰기), a(append/추가), rb, wb, ab  (b는 2진수)\n",
    "       \n",
    "       - close()\n",
    "           용도 : 파일을 언로드(인자없음)\n",
    "           \n",
    "       파일안의 내용\n",
    "       읽어올때 : readline(), redlines(), read()\n",
    "       저장할때 : write()"
   ]
  },
  {
   "cell_type": "code",
   "execution_count": 95,
   "metadata": {},
   "outputs": [
    {
     "name": "stdout",
     "output_type": "stream",
     "text": [
      "<_io.TextIOWrapper name='C:/academy/hs/pythonwork/basic/data/news.txt' mode='r' encoding='cp949'>\n",
      "고용부, ‘주 52시간제 시행에 따른 정부 보완대책’ 발표\n",
      "\n",
      "내년부터 50~299인 기업에 주 52시간제 계도기간 1년 부여\n",
      "\n",
      "근로기준법 위반 신고에는 최대 6개월 시정기간\n",
      "\n",
      "대기업 포함 모든기업에 특별연장근로 허용 사유 확대\n",
      "\n"
     ]
    }
   ],
   "source": [
    "# 예제1\n",
    "\n",
    "#아무파일이나 불러오자 \n",
    "##절대경로, 어디에서 작성해도 사용할수 있다는 장점,  길다는게 단점\n",
    "f = open(\"C:/academy/hs/pythonwork/basic/data/news.txt\", \"r\")  \n",
    "\n",
    "print(f)  #주소가 찍히면 잘 올라간 것\n",
    "\n",
    "\n",
    "print(f.readline())\n",
    "print(f.readline())\n",
    "print(f.readline())\n",
    "print(f.readline())\n",
    "\n",
    "f.close()   ## 메모리의 낭비를 막기 위해\n"
   ]
  },
  {
   "cell_type": "code",
   "execution_count": 94,
   "metadata": {},
   "outputs": [
    {
     "name": "stdout",
     "output_type": "stream",
     "text": [
      "고용부, ‘주 52시간제 시행에 따른 정부 보완대책’ 발표\n",
      "\n",
      "내년부터 50~299인 기업에 주 52시간제 계도기간 1년 부여\n",
      "\n",
      "근로기준법 위반 신고에는 최대 6개월 시정기간\n",
      "\n",
      "대기업 포함 모든기업에 특별연장근로 허용 사유 확대\n",
      "\n",
      "노동계 \"보완대책은 불법\" 반발…헌법소원 등 법적 대응\n",
      "\n",
      "\n",
      "\n",
      "\n",
      "\n",
      "정부가 중소기업의 주 52시간 근무제 안착을 위해 50~299인 기업에 \n",
      "\n"
     ]
    }
   ],
   "source": [
    "#상대경로\n",
    "f = open(\"data/news.txt\", \"r\")\n",
    "\n",
    "print(f.readline())\n",
    "print(f.readline())\n",
    "print(f.readline())\n",
    "print(f.readline())\n",
    "print(f.readline())\n",
    "print(f.readline())\n",
    "print(f.readline())\n",
    "print(f.readline())\n",
    "\n",
    "f.close()   ## 메모리의 낭비를 막기 위해"
   ]
  },
  {
   "cell_type": "code",
   "execution_count": 101,
   "metadata": {
    "scrolled": false
   },
   "outputs": [
    {
     "name": "stdout",
     "output_type": "stream",
     "text": [
      "고용부, ‘주 52시간제 시행에 따른 정부 보완대책’ 발표\n",
      "내년부터 50~299인 기업에 주 52시간제 계도기간 1년 부여\n",
      "근로기준법 위반 신고에는 최대 6개월 시정기간\n",
      "대기업 포함 모든기업에 특별연장근로 허용 사유 확대\n",
      "노동계 \"보완대책은 불법\" 반발…헌법소원 등 법적 대응\n",
      "\n",
      "\n",
      "정부가 중소기업의 주 52시간 근무제 안착을 위해 50~299인 기업에 \n",
      "1년의 계도기간을 부여한다. 또 근로자가 사업주를 주 52시간제 위반으로 \n",
      "고용 당국에 신고할 경우 최대 6개월의 시정기간을 주고, 시정이 되면 \n",
      "처벌하지 않기로 했다. 대기업을 포함한 모든 기업을 대상으로 재난 등 \n",
      "\n",
      "특별한 상황에서 고용노동부 장관 인가로 이뤄지는 특별연장근로 사유에 \n",
      "‘경영상 이유’를 추가하기로 했다.\n",
      "\n"
     ]
    }
   ],
   "source": [
    "# readline()\n",
    "\n",
    "# 출력방법\n",
    "f = open(\"data/news.txt\", \"r\")\n",
    "\n",
    "#반복 횟수를 모르거나 집합자료형이 아니라면 while문이 제일 간단.\n",
    "while True :\n",
    "    line = f.readline()\n",
    "    \n",
    "    if not line :\n",
    "        break\n",
    "        \n",
    "    else :\n",
    "        print(line, end = \"\")\n",
    "        \n",
    "f.close();        "
   ]
  },
  {
   "cell_type": "code",
   "execution_count": 107,
   "metadata": {},
   "outputs": [
    {
     "name": "stdout",
     "output_type": "stream",
     "text": [
      "고용부, ‘주 52시간제 시행에 따른 정부 보완대책’ 발표\n",
      "내년부터 50~299인 기업에 주 52시간제 계도기간 1년 부여\n",
      "근로기준법 위반 신고에는 최대 6개월 시정기간\n",
      "대기업 포함 모든기업에 특별연장근로 허용 사유 확대\n",
      "노동계 \"보완대책은 불법\" 반발…헌법소원 등 법적 대응\n",
      "\n",
      "\n",
      "정부가 중소기업의 주 52시간 근무제 안착을 위해 50~299인 기업에 \n",
      "1년의 계도기간을 부여한다. 또 근로자가 사업주를 주 52시간제 위반으로 \n",
      "고용 당국에 신고할 경우 최대 6개월의 시정기간을 주고, 시정이 되면 \n",
      "처벌하지 않기로 했다. 대기업을 포함한 모든 기업을 대상으로 재난 등 \n",
      "\n",
      "특별한 상황에서 고용노동부 장관 인가로 이뤄지는 특별연장근로 사유에 \n",
      "‘경영상 이유’를 추가하기로 했다.\n",
      "\n",
      "<class 'list'>\n"
     ]
    }
   ],
   "source": [
    "# readlines  : 모든 행을 한번에 읽어옴, 다만 리스트로 묶어서 가져온다., 데이터로 쓸거면 이거 사용\n",
    "\n",
    "f = open(\"data/news.txt\", \"r\")\n",
    "\n",
    "line = f.readlines()\n",
    "\n",
    "for v in line :\n",
    "    print(v, end = \"\")\n",
    "\n",
    "f.close()\n",
    "\n",
    "print(type(line))"
   ]
  },
  {
   "cell_type": "code",
   "execution_count": 131,
   "metadata": {},
   "outputs": [
    {
     "name": "stdout",
     "output_type": "stream",
     "text": [
      "고용부, ‘주 52시간제 시행에 따른 정부 보완대책’ 발표\n",
      "내년부터 50~299인 기업에 주 52시간제 계도기간 1년 부여\n",
      "근로기준법 위반 신고에는 최대 6개월 시정기간\n",
      "대기업 포함 모든기업에 특별연장근로 허용 사유 확대\n",
      "노동계 \"보완대책은 불법\" 반발…헌법소원 등 법적 대응\n",
      "\n",
      "\n",
      "정부가 중소기업의 주 52시간 근무제 안착을 위해 50~299인 기업에 \n",
      "1년의 계도기간을 부여한다. 또 근로자가 사업주를 주 52시간제 위반으로 \n",
      "고용 당국에 신고할 경우 최대 6개월의 시정기간을 주고, 시정이 되면 \n",
      "처벌하지 않기로 했다. 대기업을 포함한 모든 기업을 대상으로 재난 등 \n",
      "\n",
      "특별한 상황에서 고용노동부 장관 인가로 이뤄지는 특별연장근로 사유에 \n",
      "‘경영상 이유’를 추가하기로 했다.\n",
      "\n",
      "\n",
      "<class 'str'>\n",
      "--------분리---------\n",
      "1   고용부, ‘주 52시간제 시행에 따른 정부 보완대책’ 발표\n",
      "2   내년부터 50~299인 기업에 주 52시간제 계도기간 1년 부여\n",
      "3   근로기준법 위반 신고에는 최대 6개월 시정기간\n",
      "4   대기업 포함 모든기업에 특별연장근로 허용 사유 확대\n",
      "5   노동계 \"보완대책은 불법\" 반발…헌법소원 등 법적 대응\n",
      "6   \n",
      "7   \n",
      "8   정부가 중소기업의 주 52시간 근무제 안착을 위해 50~299인 기업에 \n",
      "9   1년의 계도기간을 부여한다. 또 근로자가 사업주를 주 52시간제 위반으로 \n",
      "10   고용 당국에 신고할 경우 최대 6개월의 시정기간을 주고, 시정이 되면 \n",
      "11   처벌하지 않기로 했다. 대기업을 포함한 모든 기업을 대상으로 재난 등 \n",
      "12   \n",
      "13   특별한 상황에서 고용노동부 장관 인가로 이뤄지는 특별연장근로 사유에 \n",
      "14   ‘경영상 이유’를 추가하기로 했다.\n",
      "15   \n",
      "16   \n"
     ]
    }
   ],
   "source": [
    "# read()  : 전체를 가져옴, 다만 하나로 묶어서 문자열로 반환,, 문자열로 쓸거면 이거 사용\n",
    "\n",
    "f = open(\"data/news.txt\", \"r\")\n",
    "\n",
    "data = f.read()\n",
    "print(data)\n",
    "print(type(data))\n",
    "\n",
    "print(\"--------분리---------\")\n",
    "\n",
    "#각 줄로 구분\n",
    "sdata = data.split(\"\\n\")\n",
    "\n",
    "\n",
    "count = 0\n",
    "\n",
    "# for line in sdata:\n",
    "#     print(count, \" : \", line)\n",
    "#     count += 1\n",
    "\n",
    "\n",
    "\n",
    "#enumerate\n",
    "eline = enumerate(sdata, start = 1)\n",
    "for i, v in eline :\n",
    "    print(i, \" \", v)\n",
    "    \n",
    "    \n",
    "f.close()\n"
   ]
  },
  {
   "cell_type": "code",
   "execution_count": 132,
   "metadata": {},
   "outputs": [],
   "source": [
    "#강사님꺼\n",
    "\n",
    "# for count, line in enumerate(sdata) :\n",
    "#     print(count, \" : \", line)\n",
    "    \n",
    "# f.close()"
   ]
  },
  {
   "cell_type": "code",
   "execution_count": 138,
   "metadata": {},
   "outputs": [],
   "source": [
    "# write  : 저장\n",
    "\n",
    "f = open(\"data/fileTest2.txt\", \"w\")   ## data폴더에 fileTest2 생성, 모드는 w로\n",
    "\n",
    "f.write(\"이름 : 홍길동, \")\n",
    "f.write(\"전화 : 010-111-1111, \")\n",
    "f.write(\"주소 : 서울시 강남구\\n\")\n",
    "\n",
    "f.write(\"이름 : char, \")\n",
    "f.write(\"전화 : 010-222-2222, \")\n",
    "f.write(\"주소 : 서울시 용산구\\n\")\n",
    "\n",
    "f.close()\n"
   ]
  },
  {
   "cell_type": "code",
   "execution_count": 139,
   "metadata": {},
   "outputs": [],
   "source": [
    "# w모드는 덮어씌우기라서 기존 데이터가 다 사라진다.\n",
    "# a모드를 사용해서 추가를 하자  append라는 뜻\n",
    "f = open(\"data/fileTest2.txt\", \"a\") \n",
    "\n",
    "f.write(\"이름 : 유비, \")\n",
    "f.write(\"전화 : 010-333-3333, \")\n",
    "f.write(\"주소 : 서울시 은평구\\n\")\n",
    "\n",
    "f.close()\n"
   ]
  },
  {
   "cell_type": "code",
   "execution_count": 152,
   "metadata": {},
   "outputs": [
    {
     "name": "stdout",
     "output_type": "stream",
     "text": [
      "<_io.TextIOWrapper name='data/fileTest3.csv' mode='w' encoding='cp949'>\n"
     ]
    }
   ],
   "source": [
    "# csv 파일 형식\n",
    "\n",
    "nums = [1, 2, 3, 4, 5, 6, 7, 8, 9] #메모리에 저장된 데이터\n",
    "\n",
    "count = len(nums)\n",
    "\n",
    "f = open(\"data/fileTest3.csv\", \"w\")  #확장자 주목\n",
    "\n",
    "for i in range(count) :\n",
    "    if i < count -1 :\n",
    "        f.write(str(nums[i]) + \",\")          #파일을 쓰려면 int형이 안되기에 str형으로 변경해준다.\n",
    "    else : \n",
    "        f.write(str(nums[i]))\n",
    "        \n",
    "f.close()\n"
   ]
  },
  {
   "cell_type": "code",
   "execution_count": 151,
   "metadata": {},
   "outputs": [
    {
     "name": "stdout",
     "output_type": "stream",
     "text": [
      "<_io.TextIOWrapper name='data/fileTest4.csv' mode='w' encoding='cp949'>\n"
     ]
    }
   ],
   "source": [
    "# close를 간혹 까먹는 경우가 있음\n",
    "\n",
    "nums = [1, 2, 3, 4, 5, 6, 7, 8, 9] #메모리에 저장된 데이터\n",
    "\n",
    "count = len(nums)\n",
    "\n",
    "# 위 셀의 f는 전역변수인데  밑에 변수 f는 지역변수라 알아서 close가 된다. ( with 내에서만 사용)\n",
    "# 전역변수는 위험하기 때문에 밑에 방식이 좋을수도 있다.\n",
    "with open(\"data/fileTest4.csv\", \"w\") as f :\n",
    "    for i in range(count) :\n",
    "        if i < count -1 :\n",
    "            f.write(str(nums[i]) + \",\")          #파일을 쓰려면 int형이 안되기에 str형으로 변경해준다.\n",
    "        else : \n",
    "            f.write(str(nums[i]))    \n"
   ]
  },
  {
   "cell_type": "code",
   "execution_count": 160,
   "metadata": {},
   "outputs": [
    {
     "name": "stdout",
     "output_type": "stream",
     "text": [
      "파일 포인터 :  0\n",
      "\n",
      "\n",
      "고용부, ‘주 52시간제 시행에 따른 정부 보완대책’ 발표\n",
      "   내년부터 50~299인 기업에 주 52시간제 계도기간 1년 부여\n",
      "   근로기준법 위반 신고에는 최대 6개월 시정기간\n",
      "   대기업 포함 모든기업에 특별연장근로 허용 사유 확대\n",
      "   노동계 \"보완대책은 불법\" 반발…헌법소원 등 법적 대응\n",
      "   \n",
      "   \n",
      "   정부가 중소기업의 주 52시간 근무제 안착을 위해 50~299인 기업에 \n",
      "   1년의 계도기간을 부여한다. 또 근로자가 사업주를 주 52시간제 위반으로 \n",
      "   고용 당국에 신고할 경우 최대 6개월의 시정기간을 주고, 시정이 되면 \n",
      "   처벌하지 않기로 했다. 대기업을 포함한 모든 기업을 대상으로 재난 등 \n",
      "   \n",
      "   특별한 상황에서 고용노동부 장관 인가로 이뤄지는 특별연장근로 사유에 \n",
      "   ‘경영상 이유’를 추가하기로 했다.\n",
      "   \n",
      "   \n",
      "---------------------------\n",
      "\n",
      "파일 포인터 :  651\n"
     ]
    }
   ],
   "source": [
    "# 파일 접근 방법    (자주 사용할 것 같진 않다.)\n",
    "\n",
    "# 원칙적으로 순차 접근 방식.\n",
    "# 예외적으로 랜덤하게 접근하는 함수를 제공 -> seek(), tell()\n",
    "\n",
    "\n",
    "\n",
    "with open(\"data/news.txt\", \"r\") as f :\n",
    "    print(\"파일 포인터 : \", f.tell())   ##파일 읽는 포인터가 어디인지, 처음이다.\n",
    "    print()\n",
    "    print()\n",
    "    for line in f :                 #readline을 안썼는데??  f에 이미 담겨있다.\n",
    "        print(line, end = \"   \")\n",
    "    print(\"\\n---------------------------\\n\")\n",
    "    \n",
    "    \n",
    "    print(\"파일 포인터 : \", f.tell())   ##파일 읽는 포인터가 어디인지, 결과를 보면 마지막 위치를 나타낸다.\n",
    "    \n",
    "\n",
    "    \n",
    "#영어 한글자당 1byte(ASCII), 한글 2byte(UNICODE)\n",
    "\n",
    "# byte 모습을 보면\n",
    "# ----------------------------------------------\n",
    "#    |a|b|c| | | | 가 | 나 | 다 | 라 |\n",
    "# ----------------------------------------------"
   ]
  },
  {
   "cell_type": "code",
   "execution_count": 177,
   "metadata": {},
   "outputs": [
    {
     "name": "stdout",
     "output_type": "stream",
     "text": [
      "파일 포인터 :  0\n",
      "\n",
      "\n",
      "---------------------------\n",
      "\n",
      "파일을 읽고 난 뒤  포인터 :  651\n",
      "포인터 변경 후 위치:  0\n",
      "\n",
      "에 따른 정부 보완대책’ 발표\n",
      "\n"
     ]
    }
   ],
   "source": [
    "# seek   : 포인트 위치를 조정하는 것\n",
    "# 사용법 : f.seek(0, 0)   시작점, 끝점을 받는다. \n",
    "# 0(default, 시작위치를 뜻), 1(파일의 현재위치), 2(파일의 끝위치)\n",
    "with open(\"data/news.txt\", \"r\") as f :\n",
    "    print(\"파일 포인터 : \", f.tell())   ##파일 읽는 포인터가 어디인지, 처음이다.\n",
    "    print()\n",
    "    for line in f :                 #readline을 안썼는데??  f에 이미 담겨있다.\n",
    "        line\n",
    "    print(\"\\n---------------------------\\n\")\n",
    "    \n",
    "    \n",
    "    print(\"파일을 읽고 난 뒤  포인터 : \", f.tell())   \n",
    "    ##파일 읽는 포인터가 어디인지, 결과를 보면 마지막 위치를 나타낸다.\n",
    "    \n",
    "    f.seek(0,0)  # 0번째 위치를 0(시작위치)으로 변경\n",
    "    print(\"포인터 변경 후 위치: \", f.tell())\n",
    "    print()\n",
    "    \n",
    "    f.seek(26, 0) # 26번째 위치를 0(시작) 위치로 포인터 위치변경\n",
    "    print(f.readline())"
   ]
  },
  {
   "cell_type": "code",
   "execution_count": 179,
   "metadata": {},
   "outputs": [
    {
     "name": "stdout",
     "output_type": "stream",
     "text": [
      "['01-변수와 자료형1205.ipynb', '02-제어문1209.ipynb', '03 - 제어문 함수화.ipynb', '03-함수1210.ipynb']\n"
     ]
    }
   ],
   "source": [
    "# 동시에 여러 개의 파일을 불러오는 방법 (빅데이터 방식)\n",
    "# 파일을 여러개 불러와서 나중에 필요한 파일만 처리한다던지 식으로 이용\n",
    "\n",
    "# glob 이용 (큰데이터에서)\n",
    "\n",
    "import glob\n",
    "\n",
    "files = glob.glob(\"*.ipynb\") \n",
    "#files = glob.glob(\"*.*\") \n",
    "# 불러올 파일들을 지정할 수 있다.  모든 파일일때 *\n",
    "# 내용을 불러오는게 아니라 파일이름만 부르는것\n",
    "\n",
    "print(files)"
   ]
  },
  {
   "cell_type": "markdown",
   "metadata": {},
   "source": [
    "## 재귀함수(Recursive Function)\n",
    "\n",
    "    stack에 계속 메모리주소를 쌓아감. (리소스가 엄청 낭비)  (LIFO 그 스택아님, 스택메모리주소)\n",
    "    \n",
    "    사례1. 팩토리얼"
   ]
  },
  {
   "cell_type": "code",
   "execution_count": 17,
   "metadata": {},
   "outputs": [
    {
     "name": "stdout",
     "output_type": "stream",
     "text": [
      "5\n",
      "4\n",
      "3\n",
      "2\n",
      "1\n",
      "완료\n"
     ]
    }
   ],
   "source": [
    "#팩토리얼 예제\n",
    "\n",
    "def count_down(num) :\n",
    "    if num == 0 :\n",
    "        print(\"완료\")\n",
    "        return\n",
    "    else :\n",
    "        print(num)\n",
    "        num -= 1\n",
    "        count_down(num)\n",
    "    \n",
    "# def count_down(num) :\n",
    "#     if num == 0 :\n",
    "#         print(\"완료\")\n",
    "#         return\n",
    "#     else :\n",
    "#         print(num)\n",
    "#         count_down(num-1)  #이게 없으면 무한 반복이죠\n",
    "        \n",
    "count_down(5)\n"
   ]
  },
  {
   "cell_type": "code",
   "execution_count": 33,
   "metadata": {},
   "outputs": [
    {
     "name": "stdout",
     "output_type": "stream",
     "text": [
      "5\n",
      "4\n",
      "3\n",
      "2\n",
      "1\n",
      "120\n",
      "\n"
     ]
    }
   ],
   "source": [
    "def factorial_recu(num) :\n",
    "    if num == 0 :\n",
    "        return 1\n",
    "    print(num)\n",
    "    return num * factorial_recu(num-1)\n",
    "        \n",
    "\n",
    "def factorial_iter(num) :\n",
    "    count = 1\n",
    "    while 0 < num :\n",
    "        count *= num\n",
    "        num -= 1        \n",
    "    return count\n",
    "\n",
    "\n",
    "print(factorial_recu(5))\n",
    "print()\n",
    "#print(factorial_iter(5))"
   ]
  },
  {
   "cell_type": "code",
   "execution_count": null,
   "metadata": {},
   "outputs": [],
   "source": []
  },
  {
   "cell_type": "code",
   "execution_count": null,
   "metadata": {},
   "outputs": [],
   "source": []
  },
  {
   "cell_type": "code",
   "execution_count": null,
   "metadata": {},
   "outputs": [],
   "source": []
  }
 ],
 "metadata": {
  "kernelspec": {
   "display_name": "Python 3",
   "language": "python",
   "name": "python3"
  },
  "language_info": {
   "codemirror_mode": {
    "name": "ipython",
    "version": 3
   },
   "file_extension": ".py",
   "mimetype": "text/x-python",
   "name": "python",
   "nbconvert_exporter": "python",
   "pygments_lexer": "ipython3",
   "version": "3.7.4"
  }
 },
 "nbformat": 4,
 "nbformat_minor": 2
}

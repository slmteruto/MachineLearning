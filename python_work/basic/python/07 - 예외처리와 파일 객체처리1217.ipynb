{
 "cells": [
  {
   "cell_type": "markdown",
   "metadata": {},
   "source": [
    "ERROR (하드웨어적)\n",
    "EXCEPTION (소프트웨어적)\n",
    "\n",
    "## 예외처리 목적\n",
    "\n",
    "    - 자연스러운 예외 메세지 출력\n",
    "    - 프로그램의 비정상적인 종료를 방지\n",
    "\n",
    "p.155\n",
    "## 예외처리 문법\n",
    "    \n",
    "    [] 는 생략 가능\n",
    "    \n",
    "    try :  \n",
    "        코드\n",
    "        ...\n",
    "    except [예외처리 클래스 [as 변수]] :\n",
    "        코드\n",
    "        ...\n",
    "    [else :\n",
    "        코드 (예외가 발생하지 않았을 경우 실행할 코드)\n",
    "        ...\n",
    "    ]    \n",
    "    [finally :\n",
    "        코드(예외 발생과는 무관하게 항상 실행할 코드)\n",
    "        ...\n",
    "    ]\n",
    "    \n",
    "    \n",
    "    try : 에러가 발생할지 감시할 코드\n",
    "    except : 예외가 발생할때 실행할 코드\n",
    "    \n",
    "\n",
    "\n",
    "## traceback  역추적기\n",
    "    \n",
    "    - 어디서 오류가 났는지 역으로 알려준다. 코드가 에러났을 때 어디가 오류였는지 알려줬던게 traceback\n",
    "\n",
    "## raise    예외처리 발생기\n",
    "\n",
    "    - 예외에 대한 test하기 위함.\n",
    "    - 예외가 발생하게 코드를 짜기 힘들기 때문에 일부러 발생시키는것\n",
    "    - 우리가 예외처리에 대한 클래스를 직접 만들수 있음 (사용자정의 예외처리 클래스)"
   ]
  },
  {
   "cell_type": "code",
   "execution_count": 14,
   "metadata": {},
   "outputs": [
    {
     "name": "stdout",
     "output_type": "stream",
     "text": [
      "0으로 나누면 안댕\n",
      "나머지 코드 실행\n",
      "5.0\n",
      "2\n",
      "나머지 코드 실행\n",
      "3.3333333333333335\n",
      "인덱스값 초과\n",
      "나머지 코드 실행\n"
     ]
    }
   ],
   "source": [
    "# 예외처리 \n",
    "\n",
    "def test(num) :\n",
    "    try :\n",
    "        a = 10/num    #에러가 난다면 주도권이 시스템으로 넘어간다. 그 이후 메세지 출력하고 종료되버림\n",
    "        print(a)\n",
    "                       # 예외처리란 주도권을 주지 않고 except로 받아온다.\n",
    "        \n",
    "        b = [0,1,2]\n",
    "        print(b[num])\n",
    "    except ZeroDivisionError :\n",
    "        print(\"0으로 나누면 안댕\")\n",
    "    except IndexError :\n",
    "        print(\"인덱스값 초과\")\n",
    "    except Exception :\n",
    "        print(\"일반오류 입니다.\")\n",
    "    print(\"나머지 코드 실행\")\n",
    "    \n",
    "#작성할때 자식클래스 위주로 먼저 except 지정, 밑으로 갈수록 부모에러로 \n",
    "###########################\n",
    "\n",
    "\n",
    "test(0)\n",
    "test(2)\n",
    "test(3)\n",
    "\n"
   ]
  },
  {
   "cell_type": "code",
   "execution_count": 14,
   "metadata": {},
   "outputs": [],
   "source": [
    "# 코딩 습관\n",
    "# 1. 주석\n",
    "# 2. 예외처리"
   ]
  },
  {
   "cell_type": "code",
   "execution_count": 15,
   "metadata": {},
   "outputs": [
    {
     "name": "stdout",
     "output_type": "stream",
     "text": [
      "0으로 나누면 안댕 division by zero\n",
      "나머지 코드 실행\n",
      "5.0\n",
      "2\n",
      "나머지 코드 실행\n",
      "3.3333333333333335\n",
      "인덱스값 초과\n",
      "나머지 코드 실행\n"
     ]
    }
   ],
   "source": [
    "#예외처리를 보기 좋게 하기 위해 쓰는 as 별칭\n",
    "\n",
    "def test(num) :\n",
    "    try :\n",
    "        a = 10/num    #에러가 난다면 주도권이 시스템으로 넘어간다. 그 이후 메세지 출력하고 종료되버림\n",
    "        print(a)\n",
    "                       # 예외처리란 주도권을 주지 않고 except로 받아온다.\n",
    "        \n",
    "        b = [0,1,2]\n",
    "        print(b[num])\n",
    "    except ZeroDivisionError as e1 :\n",
    "        print(\"0으로 나누면 안댕\", e1)\n",
    "    except IndexError as e1:\n",
    "        print(\"인덱스값 초과\", e1)\n",
    "    except Exception as e1:\n",
    "        print(\"일반오류 입니다.\", e1)\n",
    "    print(\"나머지 코드 실행\")\n",
    "    \n",
    "#작성할때 자식클래스 위주로 먼저 except 지정, 밑으로 갈수록 부모에러로 \n",
    "###########################\n",
    "\n",
    "\n",
    "test(0)\n",
    "test(2)\n",
    "test(3)\n"
   ]
  },
  {
   "cell_type": "code",
   "execution_count": 11,
   "metadata": {},
   "outputs": [
    {
     "name": "stdout",
     "output_type": "stream",
     "text": [
      "0으로 나누면 안댕 division by zero\n",
      "finally 영역\n",
      "10.0\n",
      "1\n",
      "finally 영역\n",
      "나머지 코드 실행\n"
     ]
    }
   ],
   "source": [
    "#else 사용\n",
    "\n",
    "def test(num) :\n",
    "    try :\n",
    "        a = 10/num    #에러가 난다면 주도권이 시스템으로 넘어간다. 그 이후 메세지 출력하고 종료되버림\n",
    "        print(a)\n",
    "                       # 예외처리란 주도권을 주지 않고 except로 받아온다.\n",
    "        \n",
    "        b = [0,1,2]\n",
    "        print(b[num])\n",
    "    except ZeroDivisionError as e1 :\n",
    "        print(\"0으로 나누면 안댕\", e1)\n",
    "        return\n",
    "    except IndexError as e1:\n",
    "        print(\"인덱스값 초과\", e1)\n",
    "    else : \n",
    "        print(\"finally 영역\")\n",
    "\n",
    "    print(\"나머지 코드 실행\")\n",
    "    \n",
    "    \n",
    "test(0)\n",
    "test(1)\n",
    "#test(3)\n"
   ]
  },
  {
   "cell_type": "code",
   "execution_count": 12,
   "metadata": {},
   "outputs": [
    {
     "name": "stdout",
     "output_type": "stream",
     "text": [
      "0으로 나누면 안댕 division by zero\n",
      "finally 영역\n",
      "10.0\n",
      "1\n",
      "finally 영역\n",
      "나머지 코드 실행\n"
     ]
    }
   ],
   "source": [
    "# finally\n",
    "\n",
    "def test(num) :\n",
    "    try :\n",
    "        a = 10/num    #에러가 난다면 주도권이 시스템으로 넘어간다. 그 이후 메세지 출력하고 종료되버림\n",
    "        print(a)\n",
    "                       # 예외처리란 주도권을 주지 않고 except로 받아온다.\n",
    "        \n",
    "        b = [0,1,2]\n",
    "        print(b[num])\n",
    "    except ZeroDivisionError as e1 :\n",
    "        print(\"0으로 나누면 안댕\", e1)\n",
    "        return\n",
    "    except IndexError as e1:\n",
    "        print(\"인덱스값 초과\", e1)\n",
    "    finally : \n",
    "        print(\"finally 영역\")\n",
    "\n",
    "    print(\"나머지 코드 실행\")\n",
    "    \n",
    "    \n",
    "test(0)\n",
    "test(1)\n",
    "#test(3)\n",
    "\n",
    "\n",
    "# 실행해보면 finally랑 그냥 뒤에다 쓰는거랑 차이가 없지않나 할텐데, 위에 같이 함수를 끝내는 return을 넣으면 \n",
    "# 확인이 가능하듯이 이 함수를 끝내는 것이 맞고 \"나머지코드실행\"을 실행하지 않는다.\n",
    "# finally는 무조건적으로 실행하게 된다. \n"
   ]
  },
  {
   "cell_type": "code",
   "execution_count": 13,
   "metadata": {},
   "outputs": [
    {
     "name": "stdout",
     "output_type": "stream",
     "text": [
      "0으로 나누면 안댕 division by zero\n",
      "finally 영역\n"
     ]
    },
    {
     "ename": "SystemExit",
     "evalue": "",
     "output_type": "error",
     "traceback": [
      "An exception has occurred, use %tb to see the full traceback.\n",
      "\u001b[1;31mSystemExit\u001b[0m\n"
     ]
    },
    {
     "name": "stderr",
     "output_type": "stream",
     "text": [
      "C:\\Users\\user\\Anaconda3\\lib\\site-packages\\IPython\\core\\interactiveshell.py:3334: UserWarning: To exit: use 'exit', 'quit', or Ctrl-D.\n",
      "  warn(\"To exit: use 'exit', 'quit', or Ctrl-D.\", stacklevel=1)\n"
     ]
    }
   ],
   "source": [
    "# 함수를 끝내는 return , 프로그램 자체를 종료시키는 sys.exit()\n",
    "\n",
    "# 이 경우에도 finally는 실행이 된다.\n",
    "\n",
    "# 이 기능은 그렇게 추천하지 않는다. 자연스러운 흐름대로 종료하는게 가장 좋다.\n",
    "import sys\n",
    "\n",
    "def test(num) :\n",
    "    try :\n",
    "        a = 10/num    #에러가 난다면 주도권이 시스템으로 넘어간다. 그 이후 메세지 출력하고 종료되버림\n",
    "        print(a)\n",
    "                       # 예외처리란 주도권을 주지 않고 except로 받아온다.\n",
    "        \n",
    "        b = [0,1,2]\n",
    "        print(b[num])\n",
    "    except ZeroDivisionError as e1 :\n",
    "        print(\"0으로 나누면 안댕\", e1)\n",
    "        sys.exit()\n",
    "    except IndexError as e1:\n",
    "        print(\"인덱스값 초과\", e1)\n",
    "    finally : \n",
    "        print(\"finally 영역\")\n",
    "\n",
    "    print(\"나머지 코드 실행\")\n",
    "    \n",
    "    \n",
    "test(0)\n",
    "test(1)\n",
    "#test(3)"
   ]
  },
  {
   "cell_type": "code",
   "execution_count": 16,
   "metadata": {},
   "outputs": [
    {
     "name": "stdout",
     "output_type": "stream",
     "text": [
      "에러 원인 division by zero\n"
     ]
    },
    {
     "name": "stderr",
     "output_type": "stream",
     "text": [
      "Traceback (most recent call last):\n",
      "  File \"<ipython-input-16-250ba16267ed>\", line 7, in third\n",
      "    a = 10/0\n",
      "ZeroDivisionError: division by zero\n"
     ]
    }
   ],
   "source": [
    "#traceback  어차피 traceback은 작동하고 있으므로 이 정보만 가져오면 된다.\n",
    "\n",
    "import traceback\n",
    "\n",
    "def third() :\n",
    "    try :\n",
    "        a = 10/0\n",
    "        \n",
    "        print(a)\n",
    "    except ZeroDivisionError as err :\n",
    "        print(\"에러 원인\", err)\n",
    "        traceback.print_exc()   ## 이것이 traceback 정보를 가져오는 함수\n",
    "        \n",
    "def second() :\n",
    "    third()\n",
    "    \n",
    "\n",
    "def first() :\n",
    "    second()\n",
    "    \n",
    "####################################\n",
    "first()"
   ]
  },
  {
   "cell_type": "code",
   "execution_count": 18,
   "metadata": {},
   "outputs": [
    {
     "name": "stdout",
     "output_type": "stream",
     "text": [
      "0으로 나누면 안됨\n",
      "잘 실행되었습니까\n"
     ]
    }
   ],
   "source": [
    "# raise\n",
    "\n",
    "def test() :\n",
    "    try :\n",
    "        a = 10/2\n",
    "        raise ZeroDivisionError  # 이 에러를 뜨게 한다.\n",
    "        print(a)\n",
    "    except ZeroDivisionError as e :\n",
    "        print(\"0으로 나누면 안됨\")\n",
    "        \n",
    "    print(\"잘 실행되었습니까\")\n",
    "    \n",
    "######################################\n",
    "\n",
    "test()\n",
    "    "
   ]
  },
  {
   "cell_type": "code",
   "execution_count": 22,
   "metadata": {},
   "outputs": [
    {
     "name": "stdout",
     "output_type": "stream",
     "text": [
      "프로그램 시작\n",
      "5.0\n",
      "음수로 나눌수 없다.\n"
     ]
    }
   ],
   "source": [
    "#음수로 나누었을 경우 예외발생을 위한 예외처리 클래스 작성\n",
    "\n",
    "\n",
    "##모든 예외처리의 부모클래스인 exception을 상속받아 예외처리 클래스를 만든다.\n",
    "class NegativeDivideException(Exception) :   \n",
    "    pass\n",
    "    \n",
    "    \n",
    "def positiveDivide(a, b) :\n",
    "    if b < 0 :\n",
    "        raise NegativeDivideException\n",
    "        \n",
    "    return a/b\n",
    "\n",
    "\n",
    "def main() :\n",
    "    print(\"프로그램 시작\")\n",
    "    \n",
    "    try :\n",
    "        result = positiveDivide(10,2)\n",
    "        print(result)\n",
    "    \n",
    "        result = positiveDivide(10,-2)\n",
    "        print(result)\n",
    "    except NegativeDivideException as arr :\n",
    "        print(\"음수로 나눌수 없다.\")\n",
    "##################################\n",
    "\n",
    "if __name__ == \"__main__\" : ## 현재 이 file이 처음 실행되는 file이 맞는지 확인하는 것. main이여야 첫 실행파일\n",
    "    main()\n",
    "    "
   ]
  },
  {
   "cell_type": "markdown",
   "metadata": {},
   "source": [
    "## pickle\n",
    "\n",
    "    - 파일 객체처리\n",
    "    - 복잡한 데이터를 옮길 때 serialize(직렬화)를 이용해서 1바이트씩 최소단위로 쪼개어 실패율을 낮춘다.\n",
    "    - 이걸 해주는게 pickle"
   ]
  },
  {
   "cell_type": "code",
   "execution_count": 27,
   "metadata": {},
   "outputs": [],
   "source": [
    "f = open(\"data/ftest.txt\", \"w\")\n",
    "\n",
    "f.write(\"파이썬 파일 연습 중\")\n",
    "f.write(\"\\n 파이썬 만세\")\n",
    "f.write(\"\\n 만세 또 만세\")\n",
    "f.close()"
   ]
  },
  {
   "cell_type": "code",
   "execution_count": 28,
   "metadata": {},
   "outputs": [
    {
     "name": "stdout",
     "output_type": "stream",
     "text": [
      "파이썬 파일 연습 중\n",
      " 파이썬 화이팅\n",
      " 화이팅 또 화이팅\n"
     ]
    }
   ],
   "source": [
    "f = open(\"data/ftest.txt\", \"r\")\n",
    "txt = f.read()\n",
    "txt = txt.replace(\"만세\", \"화이팅\")\n",
    "print(txt)\n",
    "f.close()"
   ]
  },
  {
   "cell_type": "code",
   "execution_count": 30,
   "metadata": {},
   "outputs": [],
   "source": [
    "# pickle 쓰기\n",
    "\n",
    "import pickle\n",
    "\n",
    "#확장자는 pickle이라고 하는게 좋다. txt든 상관없긴한데 1바이트인지 2바이트인지\n",
    "f = open(\"data/ftest2.pickle\", \"wb\")      #write byte 라는 뜻으로 2진수로 저장하겠다는 뜻\n",
    "\n",
    "phones = {\"tom\" : \"111-1111\", \"길동\" : \"222-2222\"}\n",
    "li = [\"마우스\", \"키보드\"]\n",
    "t = (phones, li)\n",
    "\n",
    "#f.write() 같은걸 pickle은 dump(무엇을, 어디에)  \n",
    "pickle.dump(t, f)\n",
    "pickle.dump(li, f)\n",
    "\n",
    "f.close()"
   ]
  },
  {
   "cell_type": "code",
   "execution_count": 33,
   "metadata": {},
   "outputs": [
    {
     "name": "stdout",
     "output_type": "stream",
     "text": [
      "{'tom': '111-1111', '길동': '222-2222'}\n",
      "['마우스', '키보드']\n",
      "['마우스', '키보드']\n"
     ]
    }
   ],
   "source": [
    "#pickle 불러오기\n",
    "\n",
    "f = open(\"data/ftest2.pickle\", \"rb\")  #바이트 단위로 읽기\n",
    "\n",
    "#f\n",
    "a, b = pickle.load(f)\n",
    "print(a)\n",
    "print(b)\n",
    "\n",
    "c = pickle.load(f)\n",
    "print(c)\n",
    "f.close()"
   ]
  },
  {
   "cell_type": "code",
   "execution_count": null,
   "metadata": {},
   "outputs": [],
   "source": [
    "#전통적인 방식 설계부터\n",
    "# agile 방식 코딩부터"
   ]
  }
 ],
 "metadata": {
  "kernelspec": {
   "display_name": "Python 3",
   "language": "python",
   "name": "python3"
  },
  "language_info": {
   "codemirror_mode": {
    "name": "ipython",
    "version": 3
   },
   "file_extension": ".py",
   "mimetype": "text/x-python",
   "name": "python",
   "nbconvert_exporter": "python",
   "pygments_lexer": "ipython3",
   "version": "3.7.4"
  }
 },
 "nbformat": 4,
 "nbformat_minor": 2
}

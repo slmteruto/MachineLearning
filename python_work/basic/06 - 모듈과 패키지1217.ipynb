{
 "cells": [
  {
   "cell_type": "markdown",
   "metadata": {},
   "source": [
    "## 모듈 정의\n",
    "\n",
    "    - 비슷하거나 관련된 일을 하는 함수, 클래스, 상수 값들을 모아서 하나의 파일에 저장하고 추후에 재사용하기 위한\n",
    "      목적\n",
    "    - 함수나 변수, 클래스들을 모아 놓은 파일  (확장자 .py)\n",
    "    \n",
    "\n",
    "\n",
    "## 종류\n",
    "\n",
    "    - 표준 모듈\n",
    "    - 사용자 정의 모듈\n",
    "    - 서드파티 모듈\n",
    "    \n",
    "\n",
    "\n",
    "## 선언 방법\n",
    "\n",
    "    - import 모듈\n",
    "    - import 모듈 as 별칭                    -> 긴 이름 짧게 대체하고 싶을 때\n",
    "    - from 모듈 import 변수, 함수, 클래스 \n",
    "    - from 모듈 import *                     -> 해당 모듈에 있는 것을 다 쓰겠다.\n",
    "    - from 모듈 import 이름 as 별칭           -> 이것도 긴이름, 중복때문에 대체할때\n",
    "    \n",
    "    \n",
    "\n",
    "## 참조\n",
    "\n",
    "    - 같은 경로   (먼저 찾음)\n",
    "    - 기존 모듈 설치 경로\n",
    "    - path경로\n",
    "        sys.path.append(\"경로\")\n",
    "        \n",
    "\n",
    "\n",
    "## 패키지\n",
    "\n",
    "    - 여러모듈들을 모아놓은 폴더"
   ]
  },
  {
   "cell_type": "code",
   "execution_count": 4,
   "metadata": {},
   "outputs": [],
   "source": [
    "# import mymodule2\n",
    "# print(\"외부 폴더에서 지정 : \", mymodule2.company)\n"
   ]
  },
  {
   "cell_type": "code",
   "execution_count": null,
   "metadata": {},
   "outputs": [],
   "source": [
    "## 모듈 import\n",
    "#import mymodule1 as md1\n",
    "\n",
    "# print(md1.company)\n",
    "# md1.listHap([1,2,3],[4,5,6])\n",
    "#\n",
    "#\n",
    "# md1.Myclass().display()\n",
    "\n",
    "###############################\n",
    "#from mymodule1 import company, Myclass\n",
    "\n",
    "\n",
    "#print(company)\n",
    "#Myclass().display()\n",
    "\n",
    "\n",
    "#from mymodule1 import Myclass as myc\n",
    "\n",
    "#myc().display()\n",
    "\n",
    "\n",
    "#################################\n",
    "#다른 경로 추가 (PYTHONPATH 추가)\n",
    "# import mymodule2\n",
    "# print(\"외부 폴더에서 지정 : \", mymodule2.company)\n",
    "\n",
    "\n",
    "#################################\n",
    "\n",
    "##패키지 이용\n",
    "# import pack1.mymodule3\n",
    "\n",
    "# #######################\n",
    "# def main() :\n",
    "#     if __name__ == \"__main__\":  # 이런식으로 사용가능\n",
    "#         print(\"자신의 위치에서 실행됨\")\n",
    "#     else:\n",
    "#         print(\"다른 곳에서 실행됨\")\n"
   ]
  }
 ],
 "metadata": {
  "kernelspec": {
   "display_name": "Python 3",
   "language": "python",
   "name": "python3"
  },
  "language_info": {
   "codemirror_mode": {
    "name": "ipython",
    "version": 3
   },
   "file_extension": ".py",
   "mimetype": "text/x-python",
   "name": "python",
   "nbconvert_exporter": "python",
   "pygments_lexer": "ipython3",
   "version": "3.7.4"
  }
 },
 "nbformat": 4,
 "nbformat_minor": 2
}

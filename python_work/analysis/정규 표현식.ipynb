{
 "cells": [
  {
   "cell_type": "markdown",
   "metadata": {},
   "source": [
    "# Regular Expression : 정규 표현식\n",
    "\n",
    "\n",
    "    - 반복\n",
    "        * : 0회 이상 반복\n",
    "        + : 1회 이상 반복\n",
    "        ? : 0회 또는 1회만\n",
    "        {m} : m회 반복\n",
    "        {m, n} : m회부터 n회 반복\n",
    "        \n",
    "        \n",
    "    - 매칭 메타 문자\n",
    "        . : 줄바꿈 문자를 제외한 모든 문자와 매치\n",
    "        ^ : 문자열의 시작과 매치\n",
    "        $ : 문자열의 마지막과 매치\n",
    "        [ ] : 문자집합 중 한 문자를 의미\n",
    "        | : \"또는\"의 의미\n",
    "        {} : 정규식을 그룹으로 묶음\n",
    "    \n",
    "    - 특수 문자(\\문자 등)\n",
    "        \\d : 모든 숫자와 매치\n",
    "        \\D : 숫자가 아닌 문자와 매치\n",
    "        \\s : 공백 문자\n",
    "        \\S : 공백 문자가 아닌 모든 것과 매치\n",
    "        \\w : 숫자 또는 문자 \n",
    "        \\W : 숫자 또는 문자가 아닌 모든 문자와 매치\n",
    "        \n",
    "    - 파이썬에서 제공하는 메소드\n",
    "        compile()  : 정규표현식 객체를 생성\n",
    "        match()    : 문자열의 처음부터 정규식과 매치되는지 조사\n",
    "        search()   : 문자열전체를 검색하여 정규식과 매치되는지 조사\n",
    "        split()    : 문자열 분리\n",
    "        findall()  : 정규식과 매치되는 모든 문자열을 리스트로 리턴\n",
    "        finditer() : 정규식과 매치되는 모든 문자열을 반복 가능한 객체로 리턴\n",
    "        sub()      : 안에 있는 데이터를 변경하거나 교체할때 \n",
    "        ......."
   ]
  },
  {
   "cell_type": "code",
   "execution_count": 1,
   "metadata": {},
   "outputs": [],
   "source": [
    "# 정규표현식을 사용하려면 import re\n",
    "\n",
    "import re"
   ]
  },
  {
   "cell_type": "code",
   "execution_count": 5,
   "metadata": {},
   "outputs": [
    {
     "data": {
      "text/plain": [
       "<re.Match object; span=(0, 1), match='d'>"
      ]
     },
     "execution_count": 5,
     "metadata": {},
     "output_type": "execute_result"
    }
   ],
   "source": [
    "p = re.compile(\"[abc]\")  #객체 생성, 여기서 패턴을 적어준다.  abc 중 하나 찾는 패턴\n",
    "p.match(\"d\")"
   ]
  },
  {
   "cell_type": "code",
   "execution_count": 7,
   "metadata": {},
   "outputs": [
    {
     "data": {
      "text/plain": [
       "<re.Match object; span=(0, 4), match='dddd'>"
      ]
     },
     "execution_count": 7,
     "metadata": {},
     "output_type": "execute_result"
    }
   ],
   "source": [
    "p = re.compile(\"[a-z]\")  #a부터 z까지 찾는 패턴 한문자만\n",
    "p.match(\"d\")"
   ]
  },
  {
   "cell_type": "code",
   "execution_count": 8,
   "metadata": {},
   "outputs": [
    {
     "data": {
      "text/plain": [
       "<re.Match object; span=(0, 3), match='dxa'>"
      ]
     },
     "execution_count": 8,
     "metadata": {},
     "output_type": "execute_result"
    }
   ],
   "source": [
    "p = re.compile(\"[a-z]*\")  #a부터 z까지 찾는 패턴  여러개 찾는 것\n",
    "p.match(\"dxa\")"
   ]
  },
  {
   "cell_type": "code",
   "execution_count": 13,
   "metadata": {},
   "outputs": [
    {
     "data": {
      "text/plain": [
       "<re.Match object; span=(0, 3), match='dza'>"
      ]
     },
     "execution_count": 13,
     "metadata": {},
     "output_type": "execute_result"
    }
   ],
   "source": [
    "p = re.compile(\"[a-z]{3}\")  #a부터 z까지 찾는 패턴 3개 찾는 것\n",
    "p.match(\"dzafdfaodfi\")  # 이중 맨 앞 세개만 찾아져 버림"
   ]
  },
  {
   "cell_type": "code",
   "execution_count": 14,
   "metadata": {},
   "outputs": [
    {
     "data": {
      "text/plain": [
       "<re.Match object; span=(0, 6), match='3aodfi'>"
      ]
     },
     "execution_count": 14,
     "metadata": {},
     "output_type": "execute_result"
    }
   ],
   "source": [
    "p = re.compile(\"[0-9][a-z]*\")  #맨앞은 꼭 숫자 , 그다음 a부터 z까지 찾는 패턴 3개 찾는 것\n",
    "p.match(\"dzafdfaodfi\")  # 못찾음\n",
    "p.match(\"3aodfi\")  # 찾음"
   ]
  },
  {
   "cell_type": "code",
   "execution_count": 15,
   "metadata": {},
   "outputs": [],
   "source": [
    "p = re.compile(\"[0-9] [a-z]+ .+\")  #맨앞은 꼭 숫자 , 그다음 a부터 z까지 찾는 패턴 3개 찾는 것\n",
    "p.match(\"3aodfi\")  # "
   ]
  },
  {
   "cell_type": "code",
   "execution_count": 18,
   "metadata": {},
   "outputs": [
    {
     "data": {
      "text/plain": [
       "<re.Match object; span=(2, 6), match='35th'>"
      ]
     },
     "execution_count": 18,
     "metadata": {},
     "output_type": "execute_result"
    }
   ],
   "source": [
    "re.match(\"[0-9]*th\", \"35th\")  #1회용 패턴 만들 땐 앞엔 숫자 뒤엔 th  ,  두번째 값은 찾을 데이터\n",
    "\n",
    "re.match(\"[0-9]*th\", \"  35th\")  #앞에 공백이 있으면 못찾는다. \n",
    "re.search(\"[0-9]*th\", \"  35th\")  #그럴경우 search사용, 처음부터 찾는게 아니라 문자열 전체를 찾는다"
   ]
  },
  {
   "cell_type": "code",
   "execution_count": 20,
   "metadata": {},
   "outputs": [
    {
     "data": {
      "text/plain": [
       "<re.Match object; span=(0, 12), match='010-111-1234'>"
      ]
     },
     "execution_count": 20,
     "metadata": {},
     "output_type": "execute_result"
    }
   ],
   "source": [
    "re.match(\"[0-9]{3}-\\d{3,4}-\\d{4}\", \"010-111-1234\")  #핸드폰 찾기"
   ]
  },
  {
   "cell_type": "code",
   "execution_count": 21,
   "metadata": {},
   "outputs": [
    {
     "data": {
      "text/plain": [
       "True"
      ]
     },
     "execution_count": 21,
     "metadata": {},
     "output_type": "execute_result"
    }
   ],
   "source": [
    "bool(re.match(\"[0-9]{3}-\\d{3,4}-\\d{4}\", \"010-111-1234\"))  "
   ]
  },
  {
   "cell_type": "code",
   "execution_count": 24,
   "metadata": {},
   "outputs": [
    {
     "name": "stdout",
     "output_type": "stream",
     "text": [
      "['life', 'is', 'too', 'short']\n",
      "<callable_iterator object at 0x00000000054274C8>\n",
      "<re.Match object; span=(0, 4), match='life'>\n",
      "<re.Match object; span=(10, 12), match='is'>\n",
      "<re.Match object; span=(17, 20), match='too'>\n",
      "<re.Match object; span=(24, 29), match='short'>\n"
     ]
    }
   ],
   "source": [
    "p = re.compile(\"[a-z]+\")\n",
    "\n",
    "m = p.findall(\"life 3333 is 222 too 10 short\")   #찾은 결과를 list로 뿌려줌\n",
    "print(m)\n",
    "\n",
    "m = p.finditer(\"life 3333 is 222 too 10 short\")  #반복을 돌릴수 있는 객체로 반환\n",
    "print(m)\n",
    "\n",
    "#이렇게 사용\n",
    "for i in m :\n",
    "    print(i)"
   ]
  },
  {
   "cell_type": "code",
   "execution_count": 28,
   "metadata": {},
   "outputs": [
    {
     "name": "stdout",
     "output_type": "stream",
     "text": [
      "['1', '2', '3', '4', '5', '5', '5', '6']\n",
      "['1234', '555', '6']\n",
      "['12', '34', '55']\n",
      "['123', '555']\n"
     ]
    }
   ],
   "source": [
    "data = \"1234 abc가나다ABC_555_6\"\n",
    "\n",
    "print(re.findall(\"[0-9]\", data))  #숫자로 된걸 다 가져온다. \n",
    "print(re.findall(\"[0-9]+\", data))  #한개이상의 숫자는 하나로 이어서\n",
    "print(re.findall(\"[0-9]{2}\", data))  # 두자리 연속 숫자만 찾기\n",
    "print(re.findall(\"[0-9]{2,3}\", data))  # 2개연속이나 3자리 연속인것만 찾는다. "
   ]
  },
  {
   "cell_type": "code",
   "execution_count": 36,
   "metadata": {},
   "outputs": [
    {
     "name": "stdout",
     "output_type": "stream",
     "text": [
      "['abc', 'mbc']\n",
      "['1']\n",
      "['234 abc가나다ABC_555_6 mbc air airl air']\n",
      "['abc', 'air', 'air', 'air']\n",
      "['air']\n"
     ]
    }
   ],
   "source": [
    "data = \"1234 abc가나다ABC_555_6 mbc air airl air\"\n",
    "\n",
    "print(re.findall(\".bc\", data))  #뒤가 bc로 끝나는 문자를 찾음\n",
    "print(re.findall(\"^1+\", data))  #^ 시작하는게 1인것만 찾음\n",
    "print(re.findall(\"[^1]+\", data))  # []안의 ^는 제외 , 처음이 1인건 제외\n",
    "print(re.findall(\"a..\", data))  # a로 시작하는 문자 세개만\n",
    "print(re.findall(\"air$\", data))  # 끝이 air로 끝나는 문자\n"
   ]
  },
  {
   "cell_type": "code",
   "execution_count": 39,
   "metadata": {},
   "outputs": [
    {
     "name": "stdout",
     "output_type": "stream",
     "text": [
      "['8', '0', '1', '0', '0', '5', '0']\n",
      "['80', '10', '50']\n",
      "['80', '10', '50']\n"
     ]
    }
   ],
   "source": [
    "data = \"tom 80, james 100, oscar 50\"\n",
    "\n",
    "print(re.findall(\"\\d\", data))  #숫자 한자리수만 \n",
    "print(re.findall(\"\\d\\d\", data))  #숫자 두자리수만 \n",
    "print(re.findall(\"\\d{2}\", data))  #숫자 두자리수만 "
   ]
  },
  {
   "cell_type": "code",
   "execution_count": 41,
   "metadata": {},
   "outputs": [
    {
     "name": "stdout",
     "output_type": "stream",
     "text": [
      "['mbc', 'kbs', 'sbs', 'ytn']\n"
     ]
    }
   ],
   "source": [
    "\"mbc, kbs sbs:ytn\".split()\n",
    "\n",
    "\n",
    "#한번에 분리할때\n",
    "print(re.split(\"\\W+\", \"mbc,kbs sbs:ytn\"))  #한번에 분리"
   ]
  },
  {
   "cell_type": "code",
   "execution_count": 42,
   "metadata": {},
   "outputs": [
    {
     "name": "stdout",
     "output_type": "stream",
     "text": [
      "888 abc가나다ABC_888\n"
     ]
    }
   ],
   "source": [
    "m = re.sub(\"[0-9]+\", \"888\", \"1234 abc가나다ABC_579\")  #조건, 변경할 값, 기본 데이터\n",
    "print(m) # 숫자데이터면 888로 교체"
   ]
  },
  {
   "cell_type": "code",
   "execution_count": null,
   "metadata": {},
   "outputs": [],
   "source": [
    "\"\"\"\n",
    "\\w\n",
    "[0-9a-zA-Z]\n",
    "\n",
    "둘다 동일한 표현\n",
    "\"\"\""
   ]
  },
  {
   "cell_type": "code",
   "execution_count": 6,
   "metadata": {},
   "outputs": [
    {
     "name": "stdout",
     "output_type": "stream",
     "text": [
      "<re.Match object; span=(0, 6), match='python'>\n",
      "python\n",
      "0\n",
      "6\n",
      "(0, 6)\n"
     ]
    }
   ],
   "source": [
    "p = re.compile(\"[a-z]+\")\n",
    "\n",
    "m = p.match(\"python\")\n",
    "\n",
    "print(m)   #이러면 조회 결과값이 반환\n",
    "\n",
    "print(m.group())   #딱 찾는 문자열만 반환\n",
    "\n",
    "print(m.start())   #찾는 문자열의 시작   span의 첫번째를 가져오는것\n",
    "\n",
    "print(m.end())   #찾는 문자열의 마지막   span의 두번째를 가져오는것\n",
    "\n",
    "print(m.span())   #span을 하면 위에서 쓴 start, end를 튜플로 가져온다"
   ]
  },
  {
   "cell_type": "code",
   "execution_count": 8,
   "metadata": {},
   "outputs": [
    {
     "name": "stdout",
     "output_type": "stream",
     "text": [
      "<re.Match object; span=(7, 13), match='python'>\n",
      "python\n",
      "7\n",
      "13\n",
      "(7, 13)\n"
     ]
    }
   ],
   "source": [
    "m = p.search(\"123 !? python\")  \n",
    "\n",
    "print(m)   #이러면 조회 결과값이 반환\n",
    "print(m.group())   #딱 찾는 문자열만 반환\n",
    "print(m.start())   #찾는 문자열의 시작   span의 첫번째를 가져오는것\n",
    "print(m.end())   #찾는 문자열의 마지막   span의 두번째를 가져오는것\n",
    "print(m.span())   "
   ]
  },
  {
   "cell_type": "code",
   "execution_count": 13,
   "metadata": {},
   "outputs": [
    {
     "name": "stdout",
     "output_type": "stream",
     "text": [
      "<re.Match object; span=(0, 3), match='a+b'>\n",
      "None\n"
     ]
    }
   ],
   "source": [
    "# 컴파일 옵션 : S(or DOTALL), I(or IGNORECASE) , M(or MULTILINE)\n",
    "\n",
    "p = re.compile(\"a.b\")   # . : 줄바꿈이 아닌 모든 문자. \n",
    "m = p.match(\"a+b\")\n",
    "\n",
    "print(m) \n",
    "\n",
    "m = p.match(\"a\\nb\")   # \\n은 줄바꿈이기 때문에 못찾는다.\n",
    "print(m)"
   ]
  },
  {
   "cell_type": "code",
   "execution_count": 12,
   "metadata": {},
   "outputs": [
    {
     "name": "stdout",
     "output_type": "stream",
     "text": [
      "<re.Match object; span=(0, 3), match='a+b'>\n",
      "<re.Match object; span=(0, 3), match='a\\nb'>\n"
     ]
    }
   ],
   "source": [
    "#위랑 같은 코드 \n",
    "p = re.compile(\"a.b\", re.S)   # 이렇게 하면 줄바꿈까지 다 찾는다.\n",
    "m = p.match(\"a+b\")\n",
    "\n",
    "print(m) \n",
    "\n",
    "m = p.match(\"a\\nb\")   # \\n은 줄바꿈이기 때문에 못찾는다. \n",
    "print(m)"
   ]
  },
  {
   "cell_type": "code",
   "execution_count": 18,
   "metadata": {},
   "outputs": [
    {
     "name": "stdout",
     "output_type": "stream",
     "text": [
      "<re.Match object; span=(0, 1), match='p'>\n",
      "None\n",
      "<re.Match object; span=(0, 1), match='P'>\n"
     ]
    }
   ],
   "source": [
    "p = re.compile(\"[a-z]\")\n",
    "\n",
    "print(p.match(\"python\"))   #한문자를 찾는것인데 최초로 찾은것\n",
    "print(p.match(\"Python\"))   #못찾는다. 왜냐하면 소문자로 시작한 문자열이 아니기 때문에\n",
    "\n",
    "p = re.compile(\"[a-zA-z]\")  #이렇게 해주던지 \n",
    "p = re.compile(\"[a-z]\", re.I)  #이렇게 옵션을 준다\n",
    "print(p.match(\"Python\"))"
   ]
  },
  {
   "cell_type": "code",
   "execution_count": 20,
   "metadata": {},
   "outputs": [
    {
     "name": "stdout",
     "output_type": "stream",
     "text": [
      "['python one']\n",
      "['python one', 'python tow', 'python tree']\n"
     ]
    }
   ],
   "source": [
    "p = re.compile(\"^python\\s\\w+\") #python으로 시작해야하고 그다음 공백이고 숫자가 하나 이상\n",
    "\n",
    "data= \"\"\"python one\n",
    "life is too short\n",
    "python tow\n",
    "you need python\n",
    "python tree\n",
    "\"\"\"\n",
    "\n",
    "print(p.findall(data))  \n",
    "\n",
    "p = re.compile(\"^python\\s\\w+\", re.M)   #Multiline하면 줄바꿈처리해서 다 찾아준다.\n",
    "print(p.findall(data))  "
   ]
  },
  {
   "cell_type": "code",
   "execution_count": null,
   "metadata": {},
   "outputs": [],
   "source": []
  },
  {
   "cell_type": "code",
   "execution_count": null,
   "metadata": {},
   "outputs": [],
   "source": []
  },
  {
   "cell_type": "code",
   "execution_count": null,
   "metadata": {},
   "outputs": [],
   "source": []
  },
  {
   "cell_type": "code",
   "execution_count": null,
   "metadata": {},
   "outputs": [],
   "source": []
  },
  {
   "cell_type": "code",
   "execution_count": null,
   "metadata": {},
   "outputs": [],
   "source": []
  }
 ],
 "metadata": {
  "kernelspec": {
   "display_name": "Python 3",
   "language": "python",
   "name": "python3"
  },
  "language_info": {
   "codemirror_mode": {
    "name": "ipython",
    "version": 3
   },
   "file_extension": ".py",
   "mimetype": "text/x-python",
   "name": "python",
   "nbconvert_exporter": "python",
   "pygments_lexer": "ipython3",
   "version": "3.7.4"
  }
 },
 "nbformat": 4,
 "nbformat_minor": 2
}

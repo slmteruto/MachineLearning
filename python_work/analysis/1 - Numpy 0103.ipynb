{
 "cells": [
  {
   "cell_type": "markdown",
   "metadata": {},
   "source": [
    "## NumPy   \n",
    "    numpy는 숫자 관련된 기능을 담당한다.\n",
    "    파이썬에서는 배열이 없다. numpy를 쓰는 이유는 배열때문\n",
    "    \n",
    "    \n",
    "## 특징\n",
    "    1) 벡터 및 행렬 연산\n",
    "    2) list와 거의 동일하지만 numpy배열의 특징을 갖는다.  생김새가 비슷함. list는 배열이 아니다.\n",
    "        -배열 : 모든 원소가 같은 자료형이어야 한다. 원소의 개수를 바꿀 수 없다.\n",
    "    3) 빠른 속도를 지원\n",
    "    4) 벡터화 연산, 배열 인덱싱을 통한 질의 가능\n",
    "    5) http://www.numpy.org    참고 사이트\n",
    "    "
   ]
  },
  {
   "cell_type": "markdown",
   "metadata": {},
   "source": [
    "## 명령어 정리\n",
    "    import numpy as np  : 임포트 하기\n",
    "        \n",
    "    a = numpy.array(list값) : 배열 만들기  list는 같은 형식이여야한다 \n",
    "        \n",
    "    a.shape : 차원 크기를 출력\n",
    "        \n",
    "    a.ndim  : 몇 차원인지\n",
    "        \n",
    "    a % 2   : 연산 가능\n",
    "        \n",
    "    print(a % 2 == 0) : 참인것만 출력\n",
    "        \n",
    "    print(a[arr1%2 == 0]) : 조건도 가능\n",
    "        \n",
    "    print(a[(a / 3 != 0) & (a % 3 == 0)]) : 중복 조건도 가능  & | 으로\n",
    "        \n",
    "    print(arr[0, 1:3])      : 0행의 1부터 2까지 \n",
    "        \n",
    "    print(arr.dtype)  :  데이터 타입 출력\n",
    "        \n",
    "    arr = np.array([1,2,3], dtype=\"f\")  :  배열 생성 시 타입 정해줄 수 있음    여기서 자료형으로 검색\n",
    "        \n",
    "    [배열 생성방법]\n",
    "    arr1 = np.array([1,2,3,4,5,10,20])  : 배열 생성방법 1\n",
    "    arr2 = np.zeros(5)                  : 배열 생성방법 2\n",
    "    arr3 = np.ones(2,3)                 : 배열 생성방법 3 (2행3열) \n",
    "    arr4 = np.ones_like(arr)            : 이미 만든 배열의 형식을 가져와서 1로 채워줌\n",
    "    arr5 = np.empty((4,3))              : 아무값도 넣지 않지만 쓰레기값이 들어감\n",
    "    arr6 = np.arange(10)                : for문과 비슷하다  \n",
    "    arr8 = np.linspace(0,100,5)         : 시작 끝값 5개 간격,  그래프 만들때 x축에 많이 쓴다.\n",
    "    \n",
    "    [행 열 교체]\n",
    "    arr.T : 행 <-> 열 교체\n",
    "    \n",
    "    [차원교체 (같은 크기로만 가능)]\n",
    "    arr.flatten()     : 다차원을 1차원으로 변환\n",
    "    arr.ravel()       : 다차원을 1차원으로 변환\n",
    "    arr.reshape(3,4)  : 다차원을 2차원으로 변환\n",
    "    arr.reshape(12)   : 다차원을 1차원으로 변환  reshape만 아무 차원 가능\n",
    "        \n",
    "    [행렬 붙이기]\n",
    "    arr = np.hstack([arr1, arr2]) 수평병합  이때 인자값은 행?이 맞아야함  \n",
    "    arr = np.vstack([arr1, arr2]) 수직병합  이때 인자값은 열?이 맞아야함\n",
    "    arr = np.dstack([arr1, arr2]) 차원늘리기 이때는 행과 열 둘다 맞아야함\n",
    "    \n",
    "    [행렬 늘리기]\n",
    "    np.tile(arr, (3,2)) : 차원은 증가하진 않지만 행렬의 크기가 증가함.  행은 3번, 열을 2번 증가시켜라\n",
    "    \n",
    "    [2차원 그리드 그리기]\n",
    "    x = 리스트\n",
    "    y = 리스트 \n",
    "    X, Y = np.meshgrid(x, y)   #결과 값이 두개로 반환된다\n",
    "    Z = [list(zip(x,y))for x, y in zip(X,Y)]   : x,y좌표값 처럼 출력하려면\n",
    "    # zip : 두개의 배열 등에서 한쌍씩 꺼내어 튜플로 묶어서 반환\n",
    "\n",
    "    import matplotlib.pylab as plt   : 임포트 \n",
    "    plt.scatter(X, Y)                : 그래프 출력\n",
    "    \n",
    "    [차원증가]\n",
    "    np.arange(5)[:, np.newaxis]      # 차원을 증가시킴.  reshape도 되는데 번거롭다. \n",
    "    \n",
    "    \n",
    "    [차원축소]\n",
    "    사용법 : np.min(배열)   아니면 np.max(배열, axis=1)  열계산\n",
    "    - 최대값/최소값 : min, max, argmin, argmax\n",
    "    - 대표값 : sum, mean, median, std, var   (연산을하면 배열 차원이 줄어들기 때문에 )\n",
    "    - boolean : all, any\n",
    "    \n",
    "    [기술통계]\n",
    "    - len()\n",
    "    - mean() : 평균    - var()  : 분산    - std()  : 표준편차    - max()\n",
    "    - min()    - median()    - percentile() : 사분위\n",
    "    \n",
    "    [기초통계]\n",
    "    from scipy.stats import describe\n",
    "    \n",
    "    [정렬]\n",
    "    np.sort(arr, axis=1)  : 기준 default는 axis = 1임\n",
    "    np.sort(arr, axis=0)  : 0으로 하면 열 기준으로 정렬 \n",
    "    \n",
    "    [랜덤]\n",
    "    사용법 np.random.rand()\n",
    "    - rand()  :  0~1 사이의 균일 분포         \n",
    "    - randn() :  가우시안 표준 정규 분포       (평균을0으로  표준편차를 1로 두고 많이 쓴다)\n",
    "    - randint() : 균일 분포의 정수 난수\n",
    "    - np.random.seed(10) : 랜덤 고정  인자는 아무 숫자\n",
    "    \n",
    "    [복원]\n",
    "    np.random.choice(5,6)                 : 0~4 까지  5개를 뽑는것  복원 추출\n",
    "    np.random.choice(5,5, replace=False)  : 같은 값을 뽑지 않는 비복원 추출  replace 기본이 True이다.\n",
    "    \n",
    "    [중복 카운팅]\n",
    "    print(np.unique(arr))      : 중복된걸 빼준다.  저장할 때 이미 값을 세주고 있다. \n",
    "    index, count = np.unique(arr, return_counts=True)  : return인자를 주면 어떤종류, 몇개  이렇게 반환한다.\n",
    "    \n",
    "    np.bincount(arr, minlength = 6)  : 없는 값도 세주는 함수\n",
    "    : minlength로 6을 주면 최소부터 6까지\n",
    "    : 출력은 0이나온 횟수, 1이나온 횟수 ... 5가 나온 횟수\n",
    "    \n",
    "    \n",
    "    [불러오기/저장]\n",
    "    data = np.loadtxt(\"data/ml-1m/ratings.dat\", delimiter=\"::\", dtype=np.int64) #숫자로 못바꿔서 오류\n",
    "    np.savetxt(\"data/test.csv\", arr, fmt=\"%.1f\", delimiter=\",\")   "
   ]
  },
  {
   "cell_type": "code",
   "execution_count": 2,
   "metadata": {},
   "outputs": [],
   "source": [
    "import numpy as np"
   ]
  },
  {
   "cell_type": "markdown",
   "metadata": {},
   "source": [
    "## 1차원 배열"
   ]
  },
  {
   "cell_type": "code",
   "execution_count": 2,
   "metadata": {},
   "outputs": [
    {
     "name": "stdout",
     "output_type": "stream",
     "text": [
      "[1, 2, 3, 4, 5, 10, 20]\n",
      "<class 'list'>\n"
     ]
    }
   ],
   "source": [
    "a1 = [1,2,3,4,5,10,20]\n",
    "print(a1)\n",
    "print(type(a1))"
   ]
  },
  {
   "cell_type": "code",
   "execution_count": 6,
   "metadata": {},
   "outputs": [
    {
     "name": "stdout",
     "output_type": "stream",
     "text": [
      "[ 1  2  3  4  5 10 20]\n",
      "<class 'numpy.ndarray'>\n"
     ]
    }
   ],
   "source": [
    "a2 = np.array([1,2,3,4,5,10,20])  #이렇게 다른형식이 되면 안됨\n",
    "print(a2)\n",
    "print(type(a2))"
   ]
  },
  {
   "cell_type": "markdown",
   "metadata": {},
   "source": [
    "[ 1  2  3  4  5 10 20]\n",
    "<class 'numpy.ndarray'>  ndarray는  n-dimension으로 다차원 배열이라는 뜻\n"
   ]
  },
  {
   "cell_type": "code",
   "execution_count": 8,
   "metadata": {},
   "outputs": [
    {
     "name": "stdout",
     "output_type": "stream",
     "text": [
      "['1' '2' '3' '4' '5' '10' '20' '가나다']\n",
      "<class 'numpy.ndarray'>\n",
      "(8,)\n"
     ]
    }
   ],
   "source": [
    "a2 = np.array([1,2,3,4,5,10,20, \"가나다\"])  #이렇게 다른형식이 되면 안됨\n",
    "print(a2)\n",
    "print(type(a2))\n",
    "print(a2.shape)  #크기를 출력하는 함수"
   ]
  },
  {
   "cell_type": "code",
   "execution_count": 10,
   "metadata": {},
   "outputs": [
    {
     "name": "stdout",
     "output_type": "stream",
     "text": [
      "[0, 1, 2, 3, 4, 5, 6, 7, 8, 9, 0, 1, 2, 3, 4, 5, 6, 7, 8, 9]\n",
      "[ 0  2  4  6  8 10 12 14 16 18]\n",
      "[-2 -1  0  1  2  3  4  5  6  7]\n"
     ]
    }
   ],
   "source": [
    "#벡터화 연산\n",
    "data = [0, 1, 2, 3, 4, 5, 6, 7, 8, 9]\n",
    "\n",
    "print(data*2)\n",
    "#print(data - 2)\n",
    "\n",
    "data2 = np.array(data)\n",
    "print(data2 * 2)  #파이썬에서 이 계산을 하려면 반복문을 했어야 했다.\n",
    "print(data2 - 2)  #이래서 행렬 계산이 가능하다."
   ]
  },
  {
   "cell_type": "markdown",
   "metadata": {},
   "source": [
    "## 2차원 배열"
   ]
  },
  {
   "cell_type": "code",
   "execution_count": 17,
   "metadata": {},
   "outputs": [
    {
     "name": "stdout",
     "output_type": "stream",
     "text": [
      "[[0 1 2]\n",
      " [3 4 5]]\n",
      "(2, 3)\n",
      "[0 1 2]\n",
      "0\n",
      "2\n"
     ]
    }
   ],
   "source": [
    "arr = np.array([[0, 1, 2],[3, 4, 5]])  #2행 3열\n",
    "print(arr)\n",
    "print(arr.shape)\n",
    "print(arr[0])  #행의 주소\n",
    "\n",
    "print(arr[0][0])  #열의 주소\n",
    "\n",
    "print(len(arr))"
   ]
  },
  {
   "cell_type": "markdown",
   "metadata": {},
   "source": [
    "## 3차원 배열"
   ]
  },
  {
   "cell_type": "code",
   "execution_count": 19,
   "metadata": {},
   "outputs": [
    {
     "name": "stdout",
     "output_type": "stream",
     "text": [
      "1\n",
      "(2, 3, 4)\n",
      "3\n",
      "2 3 4\n"
     ]
    }
   ],
   "source": [
    "arr = np.array([[[1,2,3,4], [5,6,7,8], [9,10,11,12]], \n",
    "                [[1,2,3,4], [5,6,7,8], [9,10,11,12]]])\n",
    "\n",
    "print(arr[0][0][0])\n",
    "print(arr.shape)\n",
    "print(arr.ndim)  #몇 차원이냐\n",
    "print(len(arr), len(arr[0]), len(arr[0][0]))"
   ]
  },
  {
   "cell_type": "code",
   "execution_count": 20,
   "metadata": {},
   "outputs": [
    {
     "name": "stdout",
     "output_type": "stream",
     "text": [
      "1\n",
      "(1,)\n"
     ]
    }
   ],
   "source": [
    "#nd = np.array(1) #이건 배열이 아니기 때문에 0차원이다.\n",
    "\n",
    "nd = np.array([1])  #1차원 배열\n",
    "print(nd.ndim)\n",
    "print(nd.shape)"
   ]
  },
  {
   "cell_type": "markdown",
   "metadata": {},
   "source": [
    "## 배열의 인덱싱\n",
    "    배열에 접근하는 방법"
   ]
  },
  {
   "cell_type": "code",
   "execution_count": 22,
   "metadata": {},
   "outputs": [
    {
     "name": "stdout",
     "output_type": "stream",
     "text": [
      "2 4\n"
     ]
    }
   ],
   "source": [
    "arr =np.array([0, 1, 2, 3, 4])\n",
    "print(arr[2], arr[-1])"
   ]
  },
  {
   "cell_type": "code",
   "execution_count": 23,
   "metadata": {},
   "outputs": [
    {
     "name": "stdout",
     "output_type": "stream",
     "text": [
      "2 2 4 5\n"
     ]
    }
   ],
   "source": [
    "arr2 = np.array([[0,1,2], [3,4,5]])\n",
    "\n",
    "print(arr2[0][2], arr2[0,2], arr2[1,1], arr2[-1, -1])"
   ]
  },
  {
   "cell_type": "code",
   "execution_count": 17,
   "metadata": {},
   "outputs": [
    {
     "name": "stdout",
     "output_type": "stream",
     "text": [
      "[0 2 4 6 8]\n",
      "[0 1 0 1 0 1 0 1 0 1]\n",
      "[ True False  True False  True False  True False  True False]\n",
      "[0 2 4 6 8]\n",
      "[3 6 9]\n",
      "[5 9]\n",
      "[9]\n"
     ]
    }
   ],
   "source": [
    "# fancy indexing  (자유로운 인덱싱)\n",
    "arr1 = np.array([i for i in range(10)])\n",
    "idx = np.array([True, False, True, False, True, False, True, False, True, False])\n",
    "\n",
    "print(arr1[idx]) \n",
    "print(arr1 % 2)  #이렇게 연산 가능\n",
    "print(arr1 % 2 == 0)\n",
    "print(arr1[arr1%2 == 0])\n",
    "\n",
    "#arr1에서 3의 배수를 찾아라\n",
    "print(arr1[(arr1 / 3 != 0) & (arr1 % 3 == 0)])\n",
    "# arr1에서 4로 나누면 1이 남는 수를 찾아라\n",
    "print(arr1[(arr1 != 1) & (arr1 % 4 == 1)])\n",
    "#arr1에서 3으로 나누면 나눠지고 4로 나누면 1이 남는 수를 찾아라\n",
    "print(arr1[(arr1 % 3 == 0) & (arr1 % 4 == 1)])\n"
   ]
  },
  {
   "cell_type": "markdown",
   "metadata": {},
   "source": [
    "## 배열의 슬라이싱"
   ]
  },
  {
   "cell_type": "code",
   "execution_count": 46,
   "metadata": {},
   "outputs": [
    {
     "name": "stdout",
     "output_type": "stream",
     "text": [
      "1\n",
      "[0 1 2 3]\n",
      "[1 2]\n",
      "[[0 1]\n",
      " [4 5]]\n"
     ]
    },
    {
     "ename": "IndexError",
     "evalue": "index 2 is out of bounds for axis 0 with size 2",
     "output_type": "error",
     "traceback": [
      "\u001b[1;31m---------------------------------------------------------------------------\u001b[0m",
      "\u001b[1;31mIndexError\u001b[0m                                Traceback (most recent call last)",
      "\u001b[1;32m<ipython-input-46-613536d5b089>\u001b[0m in \u001b[0;36m<module>\u001b[1;34m\u001b[0m\n\u001b[0;32m     12\u001b[0m \u001b[1;31m#0부터 1까지행에서 0부터 1까지\u001b[0m\u001b[1;33m\u001b[0m\u001b[1;33m\u001b[0m\u001b[1;33m\u001b[0m\u001b[0m\n\u001b[0;32m     13\u001b[0m \u001b[1;33m\u001b[0m\u001b[0m\n\u001b[1;32m---> 14\u001b[1;33m \u001b[0mprint\u001b[0m\u001b[1;33m(\u001b[0m\u001b[0marr\u001b[0m\u001b[1;33m[\u001b[0m\u001b[1;33m[\u001b[0m\u001b[1;36m2\u001b[0m\u001b[1;33m,\u001b[0m \u001b[1;36m1\u001b[0m\u001b[1;33m,\u001b[0m \u001b[1;36m0\u001b[0m\u001b[1;33m]\u001b[0m\u001b[1;33m,\u001b[0m \u001b[1;33m:\u001b[0m\u001b[1;33m]\u001b[0m\u001b[1;33m)\u001b[0m\u001b[1;33m\u001b[0m\u001b[1;33m\u001b[0m\u001b[0m\n\u001b[0m",
      "\u001b[1;31mIndexError\u001b[0m: index 2 is out of bounds for axis 0 with size 2"
     ]
    }
   ],
   "source": [
    "arr = np.array([[0,1,2,3],\n",
    "                [4,5,6,7]])\n",
    "\n",
    "print(arr[0,1])  #0행 1열\n",
    "print(arr[0, :])  # 첫번째는 행에 대한것, 두번째는 몇번째 열이냐(없으면 전체)\n",
    "#즉 위에 뜻은 0행의 전체를 가져와라\n",
    "\n",
    "print(arr[0, 1:3])\n",
    "#0행의 1부터 2까지 \n",
    "\n",
    "print(arr[0:2, 0:2])\n",
    "#0부터 1까지행에서 0부터 1까지\n",
    "\n",
    "print(arr[[2, 1, 0], :])   # 왜 안돼"
   ]
  },
  {
   "cell_type": "markdown",
   "metadata": {},
   "source": [
    "## NumPy의 자료형\n",
    "\n",
    "    - b : boolean\n",
    "    - i : int\n",
    "    - u : 부호없는 int (unsigned)\n",
    "    - f : 부동소수점 \n",
    "    - c : 복소수\n",
    "    - O : 객체 (Object)\n",
    "    - S : 바이트 문자열\n",
    "    - U : 유니코드 문자열"
   ]
  },
  {
   "cell_type": "code",
   "execution_count": 49,
   "metadata": {},
   "outputs": [
    {
     "name": "stdout",
     "output_type": "stream",
     "text": [
      "int32\n",
      "float64\n",
      "float64\n"
     ]
    }
   ],
   "source": [
    "arr = np.array([1,2,3])\n",
    "\n",
    "print(arr.dtype)   #data type\n",
    "#int32    기본값이 32비트 정수임(짱크다는 뜻)\n",
    "\n",
    "\n",
    "arr = np.array([1.0, 2.0, 3.0])\n",
    "print(arr.dtype)\n",
    "#float64    기본값이 64비트 소수\n",
    "\n",
    "\n",
    "arr = np.array([1,2, 3.0])  #섞어서 써본다면\n",
    "print(arr.dtype)            #결과는 큰걸 따라간다"
   ]
  },
  {
   "cell_type": "code",
   "execution_count": 55,
   "metadata": {},
   "outputs": [
    {
     "name": "stdout",
     "output_type": "stream",
     "text": [
      "float32\n",
      "3.0\n",
      "<U1\n",
      "12\n"
     ]
    }
   ],
   "source": [
    "arr = np.array([1,2,3], dtype=\"f\")   #타입을 바꿔줄수 있다.\n",
    "print(arr.dtype) \n",
    "\n",
    "print(arr[0]+arr[1]) #정수형이지만 결과는 실수가 됨을 알 수 있다.\n",
    "\n",
    "arr = np.array([1,2,3], dtype = \"U\")\n",
    "print(arr.dtype)\n",
    "print(arr[0] + arr[1])"
   ]
  },
  {
   "cell_type": "markdown",
   "metadata": {},
   "source": [
    "## 배열생성"
   ]
  },
  {
   "cell_type": "code",
   "execution_count": 17,
   "metadata": {},
   "outputs": [
    {
     "name": "stdout",
     "output_type": "stream",
     "text": [
      "<class 'numpy.ndarray'>\n",
      "float64\n",
      "[0. 0. 0. 0. 0.]\n",
      "---------------\n",
      "<class 'numpy.ndarray'>\n",
      "int32\n",
      "[0 0 0 0 0]\n",
      "---------------\n",
      "<class 'numpy.ndarray'>\n",
      "<U4\n",
      "['' '' '' '' '']\n",
      "['abc' 'abcd' 'ABCD' '' '']\n",
      "---------------\n",
      "[[0. 0. 0.]\n",
      " [0. 0. 0.]]\n",
      "---------------\n",
      "[[[1. 1. 1. 1.]\n",
      "  [1. 1. 1. 1.]\n",
      "  [1. 1. 1. 1.]]\n",
      "\n",
      " [[1. 1. 1. 1.]\n",
      "  [1. 1. 1. 1.]\n",
      "  [1. 1. 1. 1.]]]\n",
      "---------------\n",
      "[[0. 0. 0.]\n",
      " [0. 0. 0.]]\n",
      "[[1. 1. 1.]\n",
      " [1. 1. 1.]]\n",
      "---------------\n",
      "[[3.77541261e-316 3.16202013e-322 0.00000000e+000]\n",
      " [0.00000000e+000 0.00000000e+000 1.29343536e+161]\n",
      " [1.82802402e+184 1.88726996e+185 2.76999343e-057]\n",
      " [1.20054348e-071 1.18995943e-075 1.88567264e+185]]\n",
      "---------------\n",
      "[0 1 2 3 4 5 6 7 8 9]\n",
      "[ 3  5  7  9 11 13 15 17 19]\n",
      "---------------\n",
      "[  0.  25.  50.  75. 100.]\n"
     ]
    }
   ],
   "source": [
    "# 제일 간단한방법은 array라는 함수\n",
    "# 두번째는 np함수\n",
    "arr = np.zeros(5)\n",
    "print(type(arr))\n",
    "print(arr.dtype)\n",
    "print(arr)\n",
    "print(\"---------------\")\n",
    "#자료형 이용\n",
    "arr = np.zeros(5, dtype=\"i\")\n",
    "print(type(arr))\n",
    "print(arr.dtype)\n",
    "print(arr)\n",
    "print(\"---------------\")\n",
    "\n",
    "arr = np.zeros(5, dtype=\"U4\") #문자열 zero는빈공간\n",
    "print(type(arr))\n",
    "print(arr.dtype)\n",
    "print(arr)\n",
    "arr[0] = 'abc'\n",
    "arr[1] = 'abcd'\n",
    "arr[2] = \"ABCD\"\n",
    "print(arr)\n",
    "print(\"---------------\")\n",
    "arr = np.zeros((2,3))  #2행 3열 배열 생성\n",
    "print(arr)\n",
    "print(\"---------------\")\n",
    "\n",
    "\n",
    "# Numpy를 쓰면 대부분의 리턴값이 배열이다\n",
    "arr = np.ones((2,3,4))  #3차원 배열, ones는 1로 채워준다.\n",
    "print(arr)\n",
    "print(\"---------------\")\n",
    "arr = np.zeros((2,3))\n",
    "arr2 = np.ones_like(arr)  #이미 만든 배열의 형식을 가져와서 1로 채워줌\n",
    "\n",
    "print(arr)\n",
    "print(arr2)\n",
    "print(\"---------------\")\n",
    "arr = np.empty((4,3))  #아무값도 넣지 않지만 쓰레기값이 들어감\n",
    "print(arr)\n",
    "print(\"---------------\")\n",
    "arr = np.arange(10)  #for문과 비슷하다\n",
    "print(arr)\n",
    "arr = np.arange(3,21,2)\n",
    "print(arr)\n",
    "print(\"---------------\")\n",
    "arr = np.linspace(0,100,5)  #시작 끝값 5개 간격,  그래프 만들때 x축에 많이 쓴다.\n",
    "print(arr)"
   ]
  },
  {
   "cell_type": "markdown",
   "metadata": {},
   "source": [
    "## 전치연산(Transpose)\n",
    "    \n",
    "    전치연산 : 행, 열을 뒤바꾸는 것\n",
    "    언제 사용? : 행렬 곱셈 계산시 계산이 안되는 경우가 있음. 이럴때 계산 가능할 때 사용가능, \n",
    "                나중에 다중치 계산? 때\n",
    "                "
   ]
  },
  {
   "cell_type": "code",
   "execution_count": 19,
   "metadata": {},
   "outputs": [
    {
     "name": "stdout",
     "output_type": "stream",
     "text": [
      "[[1 2 3]\n",
      " [4 5 6]]\n",
      "[[1 4]\n",
      " [2 5]\n",
      " [3 6]]\n"
     ]
    }
   ],
   "source": [
    "arr = np.array([[1,2,3],[4,5,6]])\n",
    "print(arr)\n",
    "print(arr.T)  #전치연산 함수"
   ]
  },
  {
   "cell_type": "markdown",
   "metadata": {},
   "source": [
    "## 배열의 크기 변형 : reshape(), flatten(), ravel()\n",
    "\n",
    "    자주쓴다.\n",
    "    reshape같은 경우는 다른 모듈에서도 많이 쓰인다.    딥러닝 같은 곳에서\n",
    "    \n",
    "    flatten, ravel : 다차원을 1차원으로 / 물론 reshape으로도 되지만 불편"
   ]
  },
  {
   "cell_type": "code",
   "execution_count": 30,
   "metadata": {},
   "outputs": [
    {
     "name": "stdout",
     "output_type": "stream",
     "text": [
      "[ 0  1  2  3  4  5  6  7  8  9 10 11]\n",
      "(12,)\n",
      "---------------\n",
      "[[ 0  1  2  3]\n",
      " [ 4  5  6  7]\n",
      " [ 8  9 10 11]]\n",
      "(3, 4)\n",
      "---------------\n",
      "[[ 0  1  2  3]\n",
      " [ 4  5  6  7]\n",
      " [ 8  9 10 11]]\n",
      "(3, 4)\n",
      "---------------\n",
      "[[[ 0  1  2]\n",
      "  [ 3  4  5]]\n",
      "\n",
      " [[ 6  7  8]\n",
      "  [ 9 10 11]]]\n",
      "---------------\n",
      "[ 0  1  2  3  4  5  6  7  8  9 10 11]\n",
      "[ 0  1  2  3  4  5  6  7  8  9 10 11]\n",
      "[ 0  1  2  3  4  5  6  7  8  9 10 11]\n"
     ]
    }
   ],
   "source": [
    "arr = np.arange(12)  # 1차원 데이터   12니까 3행4열,  2행6열... 등등 가능\n",
    "print(arr)\n",
    "\n",
    "print(arr.shape)\n",
    "\n",
    "print(\"---------------\")\n",
    "arr1 = arr.reshape(3,4)\n",
    "print(arr1)\n",
    "print(arr1.shape)\n",
    "\n",
    "print(\"---------------\")\n",
    "arr2 = arr.reshape(3, -1)    # -1은 알아서 채우라는 뜻  12니까 3을 던지면 4가 자동으로된다\n",
    "print(arr2)\n",
    "print(arr2.shape)\n",
    "print(\"---------------\")\n",
    "arr3 = arr.reshape(2,2,3)\n",
    "print(arr3)\n",
    "print(\"---------------\")\n",
    "print(arr3.flatten())    # 1차원으로 변환\n",
    "print(arr3.ravel())      # 1차원으로 변환\n",
    "print(arr3.reshape(12))  # 1차원으로 변환"
   ]
  },
  {
   "cell_type": "markdown",
   "metadata": {},
   "source": [
    "## 배열 연결 (병합)\n",
    "\n",
    "    한군데에서만 데이터를 모으는게 아니기 때문에 사용\n",
    "    1) stack   : \n",
    "    2) hstack  : horizon stack    수평연결    행이 같아야함\n",
    "    3) vstack  : virtical stack   수직연결    열이 같아야함\n",
    "    4) dstack  : dimension stack  차원연결    행과열이 같아야함\n",
    "    5) tile    : "
   ]
  },
  {
   "cell_type": "code",
   "execution_count": 35,
   "metadata": {},
   "outputs": [
    {
     "name": "stdout",
     "output_type": "stream",
     "text": [
      "[[1. 1. 1.]\n",
      " [1. 1. 1.]]\n",
      "[[1. 1.]\n",
      " [1. 1.]]\n",
      "[[1. 1. 1. 1. 1.]\n",
      " [1. 1. 1. 1. 1.]]\n"
     ]
    }
   ],
   "source": [
    "arr1 = np.ones((2,3 ))\n",
    "print(arr1)\n",
    "arr2 = np.ones((2,2))\n",
    "print(arr2)\n",
    "#행의 크기를 맞추는게 맞는 상황이다. (가로로 연결) h(horizon) stack\n",
    "\n",
    "arr3 = np.hstack([arr1, arr2])\n",
    "print(arr3)\n",
    "\n",
    "# arr4 = np.vstack([arr1, arr2])  #열의 갯수가 맞지 않으므로 에러\n",
    "# print(arr4)\n",
    "\n"
   ]
  },
  {
   "cell_type": "code",
   "execution_count": 37,
   "metadata": {},
   "outputs": [
    {
     "name": "stdout",
     "output_type": "stream",
     "text": [
      "[[1. 1. 1. 1.]\n",
      " [1. 1. 1. 1.]\n",
      " [1. 1. 1. 1.]]\n",
      "[[0. 0. 0. 0.]\n",
      " [0. 0. 0. 0.]\n",
      " [0. 0. 0. 0.]]\n",
      "[[[1. 0.]\n",
      "  [1. 0.]\n",
      "  [1. 0.]\n",
      "  [1. 0.]]\n",
      "\n",
      " [[1. 0.]\n",
      "  [1. 0.]\n",
      "  [1. 0.]\n",
      "  [1. 0.]]\n",
      "\n",
      " [[1. 0.]\n",
      "  [1. 0.]\n",
      "  [1. 0.]\n",
      "  [1. 0.]]]\n"
     ]
    }
   ],
   "source": [
    "# dstack  차원늘리기  / 행과 열이 같아야 함\n",
    "arr1 = np.ones((3,4))\n",
    "print(arr1)\n",
    "arr2 = np.zeros((3,4))\n",
    "print(arr2)\n",
    "np.dstack([arr1, arr2])  #3*4*2 가 됨\n",
    "\n",
    "arr3 = np.dstack([arr1, arr2])\n",
    "print(arr3)\n"
   ]
  },
  {
   "cell_type": "code",
   "execution_count": 45,
   "metadata": {},
   "outputs": [
    {
     "name": "stdout",
     "output_type": "stream",
     "text": [
      "[[[1. 1. 1. 1.]\n",
      "  [1. 1. 1. 1.]\n",
      "  [1. 1. 1. 1.]]\n",
      "\n",
      " [[0. 0. 0. 0.]\n",
      "  [0. 0. 0. 0.]\n",
      "  [0. 0. 0. 0.]]]\n",
      "[[[1. 1. 1. 1.]\n",
      "  [1. 1. 1. 1.]\n",
      "  [1. 1. 1. 1.]]\n",
      "\n",
      " [[0. 0. 0. 0.]\n",
      "  [0. 0. 0. 0.]\n",
      "  [0. 0. 0. 0.]]]\n",
      "[[[1. 1. 1. 1.]\n",
      "  [0. 0. 0. 0.]]\n",
      "\n",
      " [[1. 1. 1. 1.]\n",
      "  [0. 0. 0. 0.]]\n",
      "\n",
      " [[1. 1. 1. 1.]\n",
      "  [0. 0. 0. 0.]]]\n",
      "[[[1. 0.]\n",
      "  [1. 0.]\n",
      "  [1. 0.]\n",
      "  [1. 0.]]\n",
      "\n",
      " [[1. 0.]\n",
      "  [1. 0.]\n",
      "  [1. 0.]\n",
      "  [1. 0.]]\n",
      "\n",
      " [[1. 0.]\n",
      "  [1. 0.]\n",
      "  [1. 0.]\n",
      "  [1. 0.]]]\n"
     ]
    }
   ],
   "source": [
    "arr1 = np.ones((3,4))\n",
    "arr2 = np.zeros((3,4))\n",
    "\n",
    "arr3 = np.stack([arr1, arr2])  #stack은 그냥 합쳐짐 2*3*4로 // 근데 지정도 해줄 수 있다.\n",
    "print(arr3)\n",
    "\n",
    "arr4 = np.stack([arr1, arr2], axis = 0) #위와 같을 것이다. 왜냐면 위에는 axis=0이 디폴트였기 때문\n",
    "print(arr4)\n",
    "\n",
    "arr5 = np.stack([arr1, arr2], axis = 1)  #3*2*4 가 됨   axis = 1은  [1]같은 느낌\n",
    "print(arr5)\n",
    "\n",
    "arr6 = np.stack([arr1, arr2], axis = 2)  #3*4*2 가 됨   dstack과 같아짐\n",
    "print(arr6)\n"
   ]
  },
  {
   "cell_type": "code",
   "execution_count": 49,
   "metadata": {},
   "outputs": [
    {
     "name": "stdout",
     "output_type": "stream",
     "text": [
      "[[0 1 2 0 1 2]\n",
      " [3 4 5 3 4 5]]\n",
      "---------------------\n",
      "[[0 1 2 0 1 2]\n",
      " [3 4 5 3 4 5]\n",
      " [0 1 2 0 1 2]\n",
      " [3 4 5 3 4 5]\n",
      " [0 1 2 0 1 2]\n",
      " [3 4 5 3 4 5]]\n"
     ]
    }
   ],
   "source": [
    "#tile  차원이 확장되진 않음\n",
    "arr = np.array(([0,1,2], [3,4,5]))\n",
    "print(np.tile(arr,2))  # 타일 붙이는거랑 비슷하게  인자값 만큼 더 확장시켜주기만 함\n",
    "print(\"---------------------\")\n",
    "print(np.tile(arr, (3,2)))  # 행 세번 열 두번 늘려주라는 뜻"
   ]
  },
  {
   "cell_type": "markdown",
   "metadata": {},
   "source": [
    "# 2차원 그리드 포인트 생성\n",
    "\n",
    "    x, y축을 표기할때처럼 하나로 (num1, num2 같이 표현)\n",
    "    "
   ]
  },
  {
   "cell_type": "code",
   "execution_count": 58,
   "metadata": {},
   "outputs": [
    {
     "name": "stdout",
     "output_type": "stream",
     "text": [
      "[0 1 2]\n",
      "[0 1 2 3 4]\n",
      "[[0 1 2]\n",
      " [0 1 2]\n",
      " [0 1 2]\n",
      " [0 1 2]\n",
      " [0 1 2]]\n",
      "------------------\n",
      "[[0 0 0]\n",
      " [1 1 1]\n",
      " [2 2 2]\n",
      " [3 3 3]\n",
      " [4 4 4]]\n",
      "[[(0, 0), (1, 0), (2, 0)], [(0, 1), (1, 1), (2, 1)], [(0, 2), (1, 2), (2, 2)], [(0, 3), (1, 3), (2, 3)], [(0, 4), (1, 4), (2, 4)]]\n"
     ]
    },
    {
     "data": {
      "text/plain": [
       "<matplotlib.collections.PathCollection at 0x84597c8>"
      ]
     },
     "execution_count": 58,
     "metadata": {},
     "output_type": "execute_result"
    },
    {
     "data": {
      "image/png": "[encoded data removed]",
      "text/plain": [
       "<Figure size 432x288 with 1 Axes>"
      ]
     },
     "metadata": {
      "needs_background": "light"
     },
     "output_type": "display_data"
    }
   ],
   "source": [
    "x = np.arange(3)\n",
    "print(x)\n",
    "\n",
    "y = np.arange(5)\n",
    "print(y)\n",
    "\n",
    "X, Y = np.meshgrid(x, y)   #결과 값이 두개로 반환된다\n",
    "\n",
    "print(X)\n",
    "print(\"------------------\")\n",
    "print(Y)\n",
    "\n",
    "Z = [list(zip(x,y))for x, y in zip(X,Y)]  # zip : 두개의 배열 등에서 한쌍씩 꺼내어 튜플로 묶어서 반환\n",
    "print(Z)\n",
    "\n",
    "import matplotlib.pylab as plt\n",
    "plt.scatter(X, Y)"
   ]
  },
  {
   "cell_type": "markdown",
   "metadata": {},
   "source": [
    "## 브로드 캐스팅(Broadcasting)   \n",
    "    광역 변환?\n",
    "    - 크기가 서로 다른 행렬 (벡터)끼리 연산을 가능하게 하는 것"
   ]
  },
  {
   "cell_type": "code",
   "execution_count": 67,
   "metadata": {},
   "outputs": [
    {
     "name": "stdout",
     "output_type": "stream",
     "text": [
      "[0, 1, 2, 3, 4]\n",
      "[[0], [1], [2], [3], [4]]\n",
      "[range(0, 3), range(1, 4), range(2, 5), range(3, 6), range(4, 7)]\n",
      "[[0 1 2]\n",
      " [1 2 3]\n",
      " [2 3 4]\n",
      " [3 4 5]\n",
      " [4 5 6]]\n",
      "------------------\n",
      "[0 1 2 3 4]\n",
      "[1 2]\n",
      "[0 1 2 3 4]\n",
      "[[0]\n",
      " [1]\n",
      " [2]\n",
      " [3]\n",
      " [4]]\n"
     ]
    }
   ],
   "source": [
    "print([i for i in range(5)])\n",
    "print([[i]for i in range(5)])\n",
    "print([range(7)[i:i+3]for i in range(5)])\n",
    "print(np.vstack([range(7)[i:i+3] for i in range(5)]))\n",
    "print(\"------------------\")\n",
    "print(np.arange(5))\n",
    "print(np.arange(5)[1:3])\n",
    "print(np.arange(5)[:])\n",
    "print(np.arange(5)[:, np.newaxis])      # 차원을 증가시킴.  reshape도 되는데 번거롭다. "
   ]
  },
  {
   "cell_type": "code",
   "execution_count": 71,
   "metadata": {},
   "outputs": [
    {
     "name": "stdout",
     "output_type": "stream",
     "text": [
      "[[0 1 2]\n",
      " [1 2 3]\n",
      " [2 3 4]\n",
      " [3 4 5]\n",
      " [4 5 6]]\n",
      "---------------------------\n",
      "[[ 0  1  2]\n",
      " [ 2  3  4]\n",
      " [ 4  5  6]\n",
      " [ 6  7  8]\n",
      " [ 8  9 10]]\n",
      "---------------------------\n",
      "[[0 2 4]\n",
      " [1 3 5]\n",
      " [2 4 6]\n",
      " [3 5 7]\n",
      " [4 6 8]]\n"
     ]
    }
   ],
   "source": [
    "X = np.vstack([range(7)[i:i+3] for i in range(5)])\n",
    "print(X)\n",
    "print(\"---------------------------\")\n",
    "Y = np.arange(5)[:, np.newaxis]\n",
    "\n",
    "print(X+Y) # 두개가 다른 형식인데 계산이 된다.\n",
    "print(\"---------------------------\")\n",
    "Y = np.arange(3)\n",
    "print(X+Y)"
   ]
  },
  {
   "cell_type": "markdown",
   "metadata": {},
   "source": [
    "## 차원 축소(dimension reduction) 연산\n",
    "\n",
    "    머신러닝에서 많이 활용\n",
    "    - 최대값/최소값 : min, max, argmin, argmax\n",
    "    - 대표값 : su;m, mean, median, std, var   (연산을하면 배열 차원이 줄어들기 때문에 )\n",
    "    - boolean : all, any"
   ]
  },
  {
   "cell_type": "code",
   "execution_count": 72,
   "metadata": {},
   "outputs": [
    {
     "name": "stdout",
     "output_type": "stream",
     "text": [
      "0\n",
      "1\n"
     ]
    }
   ],
   "source": [
    "x = np.array([1,3,2])\n",
    "result = np.argmin(x)       #argmin, argmax는 해당 값의 위치를 반환\n",
    "print(result)\n",
    "\n",
    "result = np.argmax(x)\n",
    "print(result)"
   ]
  },
  {
   "cell_type": "code",
   "execution_count": 73,
   "metadata": {},
   "outputs": [
    {
     "name": "stdout",
     "output_type": "stream",
     "text": [
      "True\n",
      "False\n"
     ]
    }
   ],
   "source": [
    "print(np.any([True, True, False]))\n",
    "print(np.all([True, True, False]))"
   ]
  },
  {
   "cell_type": "code",
   "execution_count": 75,
   "metadata": {},
   "outputs": [
    {
     "name": "stdout",
     "output_type": "stream",
     "text": [
      "6\n",
      "[3 3]\n",
      "[2 4]\n"
     ]
    }
   ],
   "source": [
    "x = np.array([[1,1], \n",
    "              [2,2]])\n",
    "\n",
    "\n",
    "print(x.sum())    # 모든 것을 더하기 \n",
    "print(x.sum(axis=0))  # 열의 합계\n",
    "\n",
    "print(x.sum(axis=1))  # 행의 합계"
   ]
  },
  {
   "cell_type": "markdown",
   "metadata": {},
   "source": [
    "# 기술 통계\n",
    "\n",
    "    - len()\n",
    "    - mean() : 평균\n",
    "    - var()  : 분산\n",
    "    - std()  : 표준편차\n",
    "    - max()\n",
    "    - min()\n",
    "    - median()\n",
    "    - percentile() : 사분위수 4등분으로 나누어서 어느부분에 많이 모여있나, 범위를 벗어나는건 이상치\n",
    "    "
   ]
  },
  {
   "cell_type": "code",
   "execution_count": 79,
   "metadata": {},
   "outputs": [
    {
     "name": "stdout",
     "output_type": "stream",
     "text": [
      "-24.0\n",
      "23.0\n",
      "1사분위 :  0.0\n",
      "2사분위 :  5.0\n",
      "3사분위 :  10.0\n",
      "4사분위 :  23.0\n"
     ]
    }
   ],
   "source": [
    "x = np.array([18, 5, 10, 23, 19, -8, 10, 0,0, 5, 2, 15, 8, \n",
    "              2, 5, 4, 15, -1, 4, -7, -24, 7, 9, -6, 23, -13])\n",
    "\n",
    "print(np.percentile(x, 0))  #최소값 0%인 부분\n",
    "print(np.percentile(x, 100))  #최대값  100%인 부분\n",
    "\n",
    "print(\"1사분위 : \", np.percentile(x, 25))  # 25%인 부분\n",
    "print(\"2사분위 : \", np.percentile(x, 50))  # 25%인 부분\n",
    "print(\"3사분위 : \", np.percentile(x, 75))  # 25%인 부분\n",
    "print(\"4사분위 : \", np.percentile(x, 100))  # 25%인 부분"
   ]
  },
  {
   "cell_type": "code",
   "execution_count": 81,
   "metadata": {},
   "outputs": [
    {
     "data": {
      "text/plain": [
       "DescribeResult(nobs=26, minmax=(-24, 23), mean=4.8076923076923075, variance=119.84153846153846, skewness=-0.4762339485461929, kurtosis=0.37443381660038977)"
      ]
     },
     "execution_count": 81,
     "metadata": {},
     "output_type": "execute_result"
    }
   ],
   "source": [
    "#주력으로 사용하는 애는 아님\n",
    "# 통계 관련  (기초 통계)\n",
    "from scipy.stats import describe\n",
    "\n",
    "describe(x)"
   ]
  },
  {
   "cell_type": "markdown",
   "metadata": {},
   "source": [
    "## 정렬"
   ]
  },
  {
   "cell_type": "code",
   "execution_count": 89,
   "metadata": {},
   "outputs": [
    {
     "name": "stdout",
     "output_type": "stream",
     "text": [
      "[[ 3  4  5  7]\n",
      " [ 1  9 11 12]\n",
      " [ 1  2 14 15]]\n",
      "---------------------\n",
      "[[ 3  4  5  7]\n",
      " [ 1  9 11 12]\n",
      " [ 1  2 14 15]]\n",
      "---------------------\n",
      "[[ 1  3  1  7]\n",
      " [ 2 12  5  9]\n",
      " [ 4 15 11 14]]\n"
     ]
    }
   ],
   "source": [
    "arr = np.array([[4, 3, 5, 7], \n",
    "                [1, 12, 11, 9], \n",
    "                [2, 15, 1, 14]])  #3*4\n",
    "\n",
    "print(np.sort(arr))  # 젤 간단한 정렬\n",
    "print(\"---------------------\")\n",
    "print(np.sort(arr, axis=1))  # 기준 default는 axis = 1임\n",
    "print(\"---------------------\")\n",
    "print(np.sort(arr, axis=0))  # 0으로 하면 열 기준으로 정렬 \n",
    "\n",
    "\n",
    "#바뀐데이터 저장법\n",
    "\n",
    "# arr = np.sort(arr)  #방법 1\n",
    "# arr.sort()          #방법 2\n"
   ]
  },
  {
   "cell_type": "code",
   "execution_count": 35,
   "metadata": {},
   "outputs": [
    {
     "name": "stdout",
     "output_type": "stream",
     "text": [
      "[2 3 1 0]\n",
      "[12 25 38 42]\n"
     ]
    }
   ],
   "source": [
    "# argsort   정렬을 해주는게 아니고 정렬한 뒤 그 위치를 알려줌\n",
    "\n",
    "arr = np.array([42, 38, 12, 25])\n",
    "idx = np.argsort(arr)\n",
    "print(idx)\n",
    "print(arr[idx])"
   ]
  },
  {
   "cell_type": "markdown",
   "metadata": {},
   "source": [
    "## 난수 \n",
    "    - rand()  :  0~1 사이의 균일 분포         \n",
    "    - randn() :  가우시안 표준 정규 분포       (평균을0으로  표준편차를 1로 두고 많이 쓴다)\n",
    "    - randint() : 균일 분포의 정수 난수"
   ]
  },
  {
   "cell_type": "code",
   "execution_count": 94,
   "metadata": {},
   "outputs": [
    {
     "data": {
      "text/plain": [
       "array([[0.72041731, 0.27882036, 0.99598184, 0.87270964, 0.7608283 ],\n",
       "       [0.51679745, 0.18773464, 0.32972572, 0.95287725, 0.69904289],\n",
       "       [0.24340209, 0.35791102, 0.12640088, 0.22321109, 0.42642247]])"
      ]
     },
     "execution_count": 94,
     "metadata": {},
     "output_type": "execute_result"
    }
   ],
   "source": [
    "np.random.rand(10)     # 10개의 난수를 뽑는다\n",
    "np.random.rand(3,5)    # 3행 5열로 난수를 뽑는다."
   ]
  },
  {
   "cell_type": "code",
   "execution_count": 111,
   "metadata": {},
   "outputs": [
    {
     "data": {
      "text/plain": [
       "array([[11, 13, 18, 15],\n",
       "       [19, 15, 16, 14],\n",
       "       [15, 16, 19, 18]])"
      ]
     },
     "execution_count": 111,
     "metadata": {},
     "output_type": "execute_result"
    }
   ],
   "source": [
    "np.random.randint(10)   # 0~9까지의 수\n",
    "np.random.randint(11,20, size = 100)  # 11~20까지 난수를 size 100개 뽑는다\n",
    "np.random.randint(11,20, size = (3,4))  # 11~20까지 난수를 3행 4열로"
   ]
  },
  {
   "cell_type": "code",
   "execution_count": 115,
   "metadata": {},
   "outputs": [
    {
     "data": {
      "text/plain": [
       "array([0.77132064, 0.02075195, 0.63364823, 0.74880388, 0.49850701])"
      ]
     },
     "execution_count": 115,
     "metadata": {},
     "output_type": "execute_result"
    }
   ],
   "source": [
    "#재현성을 위해서   (다시해도 똑같은게 나올 수 있게)  #나중에 같은 값으로 시뮬레이션 할때 사용\n",
    "np.random.seed(10)  #항상 10에서 시작하게 고정\n",
    "np.random.rand(5)   #그러면 난수를 돌려도 같은 값으로 계속 나올 수 있게 함"
   ]
  },
  {
   "cell_type": "code",
   "execution_count": 117,
   "metadata": {},
   "outputs": [
    {
     "name": "stdout",
     "output_type": "stream",
     "text": [
      "[0 1 2 3 4 5 6 7 8 9]\n",
      "[1 6 2 5 7 8 9 0 3 4]\n"
     ]
    }
   ],
   "source": [
    "# 데이터의 순서 바꾸기\n",
    "# 표본을 뽑을 때 항상 일정하게 뽑힐 수도 있기 때문에 섞어주기 위하여 사용\n",
    "\n",
    "x = np.arange(10)  #10개의 수 생성\n",
    "print(x)\n",
    "\n",
    "np.random.shuffle(x)\n",
    "print(x)    #랜덤하게 숫자가 섞인다 (시드고정하면 같아짐)"
   ]
  },
  {
   "cell_type": "code",
   "execution_count": 124,
   "metadata": {},
   "outputs": [
    {
     "data": {
      "text/plain": [
       "array([2, 0, 2, 2, 3, 0, 3, 2, 3, 2], dtype=int64)"
      ]
     },
     "execution_count": 124,
     "metadata": {},
     "output_type": "execute_result"
    }
   ],
   "source": [
    "# 샘플링  : 복원, 비복원    (상자에서 공을 뽑을 때 다시 넣는게 복원, 안넣으면 비복원)\n",
    "\n",
    "np.random.choice(5,6)   # 0~4 까지  5개를 뽑는것  복원 추출\n",
    "\n",
    "np.random.choice(5,5, replace=False)  # 같은 값을 뽑지 않는 비복원 추출  replace 기본이 True이다.\n",
    "# choice(a,b, ) 일때 b는 a보다 작아야 한다.\n",
    "\n",
    "\n",
    "np.random.choice(5,10, p=[0.1, 0, 0.3, 0.6, 0])  # 확률을 정해줄수 있다. 지정한 숫자 갯수만큼, 합쳐서 1이되게\n"
   ]
  },
  {
   "cell_type": "markdown",
   "metadata": {},
   "source": [
    "## 정수형 데이터 카운팅 :\n",
    "    - unique\n",
    "    - bincount"
   ]
  },
  {
   "cell_type": "code",
   "execution_count": 128,
   "metadata": {},
   "outputs": [
    {
     "name": "stdout",
     "output_type": "stream",
     "text": [
      "4\n",
      "['a' 'b' 'c']\n",
      "['a' 'b' 'c']\n",
      "[2 1 1]\n"
     ]
    }
   ],
   "source": [
    "# len 은 단순\n",
    "\n",
    "arr = np.array(['a', 'b', 'c', 'a'])\n",
    "\n",
    "print(len(arr))\n",
    "print(np.unique(arr))      # 중복된걸 빼준다.  저장할 때 이미 값을 세주고 있다. \n",
    "\n",
    "index, count = np.unique(arr, return_counts=True)  # return인자를 주면 어떤종류, 몇개  이렇게 반환한다.\n",
    "\n",
    "print(index)\n",
    "print(count)"
   ]
  },
  {
   "cell_type": "code",
   "execution_count": 130,
   "metadata": {},
   "outputs": [
    {
     "data": {
      "text/plain": [
       "array([0, 2, 3, 1, 0, 0], dtype=int64)"
      ]
     },
     "execution_count": 130,
     "metadata": {},
     "output_type": "execute_result"
    }
   ],
   "source": [
    "# bincount를 쓰면 없는 수도 카운트가 가능하다\n",
    "\n",
    "arr = np.array([1,1,2,2,2,3])\n",
    "np.bincount(arr, minlength = 6)  # minlength로 6을 주면 최소부터 6까지\n",
    "# 출력은 0이나온 횟수, 1이나온 횟수 ... 5가 나온 횟수"
   ]
  },
  {
   "cell_type": "markdown",
   "metadata": {},
   "source": [
    "## Numpy만 사용한 예제\n",
    "\n",
    "    - https://grouplens.org   -> dataset -> movielens -> OLD부분 젤 용량 작은거"
   ]
  },
  {
   "cell_type": "code",
   "execution_count": 19,
   "metadata": {},
   "outputs": [],
   "source": [
    "data = np.loadtxt(\"data/ml-1m/ratings.dat\", delimiter=\"::\", dtype=np.int64) #숫자로 못바꿔서 오류나기 때문에\n",
    "# print(data)\n",
    "# print(data.shape)\n",
    "\n"
   ]
  },
  {
   "cell_type": "code",
   "execution_count": 143,
   "metadata": {},
   "outputs": [],
   "source": [
    "# 1행부터 20까지 출력\n",
    "# print(data[0:20])\n"
   ]
  },
  {
   "cell_type": "code",
   "execution_count": 148,
   "metadata": {},
   "outputs": [
    {
     "name": "stdout",
     "output_type": "stream",
     "text": [
      "[[   1  720]\n",
      " [   1 1270]\n",
      " [   1  527]\n",
      " [   1 2340]\n",
      " [   1   48]\n",
      " [   1 1097]\n",
      " [   1 1721]\n",
      " [   1 1545]\n",
      " [   1  745]]\n"
     ]
    }
   ],
   "source": [
    "# 21행부터 30행까지 출력 (userId와 movie만 출력)\n",
    "\n",
    "print(data[21:30, 0:2])"
   ]
  },
  {
   "cell_type": "code",
   "execution_count": 150,
   "metadata": {},
   "outputs": [
    {
     "name": "stdout",
     "output_type": "stream",
     "text": [
      "244575591.625\n",
      "3.581564453029317\n"
     ]
    }
   ],
   "source": [
    "#전체 평점 평균  mean\n",
    "\n",
    "print(data[:, 2].mean())       # data[:, 2]  data 전체에서 3행만\n",
    "print(np.mean(data[:, 2]))"
   ]
  },
  {
   "cell_type": "code",
   "execution_count": 28,
   "metadata": {},
   "outputs": [
    {
     "name": "stdout",
     "output_type": "stream",
     "text": [
      "[[1, 4.188679245283019], [2, 3.7131782945736433], [3, 3.9019607843137254], [4, 4.190476190476191], [5, 3.1464646464646466], [6, 3.9014084507042255], [7, 4.32258064516129], [8, 3.884892086330935], [9, 3.7358490566037736], [10, 4.114713216957606]]\n"
     ]
    }
   ],
   "source": [
    "# 사용자별 평점 평균(10명만 출력)\n",
    "idx, value = np.unique(data[:, 0], return_counts=True)\n",
    "\n",
    "sum = 0\n",
    "arr = []\n",
    "for i in range(0, 10) :\n",
    "    arr.append([idx[i], data[sum:sum+value[i], 2].mean()])\n",
    "    sum += value[i]\n",
    "    \n",
    "print(arr)\n",
    "\n",
    "np.savetxt(\"data/test.csv\", arr, fmt=\"%.1f\", delimiter=\",\")   \n",
    "# arr_np = np.array(arr)\n",
    "\n",
    "#최고 평점\n",
    "# print(arr_np[np.argmax(arr_np[:, 1])])\n"
   ]
  },
  {
   "cell_type": "code",
   "execution_count": null,
   "metadata": {},
   "outputs": [],
   "source": []
  },
  {
   "cell_type": "code",
   "execution_count": 31,
   "metadata": {},
   "outputs": [
    {
     "name": "stdout",
     "output_type": "stream",
     "text": [
      "[[1, 4.188679245283019], [2, 3.7131782945736433], [3, 3.9019607843137254], [4, 4.190476190476191], [5, 3.1464646464646466], [6, 3.9014084507042255], [7, 4.32258064516129], [8, 3.884892086330935], [9, 3.7358490566037736], [10, 4.114713216957606]]\n"
     ]
    }
   ],
   "source": [
    "# 강사님 코드\n",
    "user_id = np.unique(data[:, 0])\n",
    "# print(user_id.shape)\n",
    "\n",
    "mean_values = []\n",
    "for id in user_id :\n",
    "    data_for_user = data[data[:, 0] == id, :]\n",
    "    value = data_for_user[:, 2].mean()\n",
    "    mean_values.append([id, value])\n",
    "    \n",
    "print(mean_values[:10])"
   ]
  },
  {
   "cell_type": "code",
   "execution_count": 32,
   "metadata": {},
   "outputs": [
    {
     "name": "stdout",
     "output_type": "stream",
     "text": [
      "(6040, 2)\n",
      "<class 'numpy.ndarray'>\n"
     ]
    }
   ],
   "source": [
    "arr_mean_values = np.array(mean_values)\n",
    "print(arr_mean_values.shape)\n",
    "print(type(arr_mean_values))"
   ]
  },
  {
   "cell_type": "code",
   "execution_count": 34,
   "metadata": {},
   "outputs": [
    {
     "ename": "TypeError",
     "evalue": "list indices must be integers or slices, not tuple",
     "output_type": "error",
     "traceback": [
      "\u001b[1;31m---------------------------------------------------------------------------\u001b[0m",
      "\u001b[1;31mTypeError\u001b[0m                                 Traceback (most recent call last)",
      "\u001b[1;32m<ipython-input-34-da41dc634a10>\u001b[0m in \u001b[0;36m<module>\u001b[1;34m\u001b[0m\n\u001b[0;32m      1\u001b[0m \u001b[1;31m# 가장 최고 평점 구하기\u001b[0m\u001b[1;33m\u001b[0m\u001b[1;33m\u001b[0m\u001b[1;33m\u001b[0m\u001b[0m\n\u001b[1;32m----> 2\u001b[1;33m \u001b[0mprint\u001b[0m\u001b[1;33m(\u001b[0m\u001b[0mnp\u001b[0m\u001b[1;33m.\u001b[0m\u001b[0margmax\u001b[0m\u001b[1;33m(\u001b[0m\u001b[0marr\u001b[0m\u001b[1;33m[\u001b[0m\u001b[1;33m:\u001b[0m\u001b[1;33m,\u001b[0m \u001b[1;36m1\u001b[0m\u001b[1;33m]\u001b[0m\u001b[1;33m)\u001b[0m\u001b[1;33m)\u001b[0m\u001b[1;33m\u001b[0m\u001b[1;33m\u001b[0m\u001b[0m\n\u001b[0m\u001b[0;32m      3\u001b[0m \u001b[0mprint\u001b[0m\u001b[1;33m(\u001b[0m\u001b[0marr_mean_values\u001b[0m\u001b[1;33m[\u001b[0m\u001b[1;36m282\u001b[0m\u001b[1;33m]\u001b[0m\u001b[1;33m)\u001b[0m\u001b[1;33m\u001b[0m\u001b[1;33m\u001b[0m\u001b[0m\n\u001b[0;32m      4\u001b[0m \u001b[1;33m\u001b[0m\u001b[0m\n\u001b[0;32m      5\u001b[0m \u001b[0mprint\u001b[0m\u001b[1;33m(\u001b[0m\u001b[0mnp\u001b[0m\u001b[1;33m.\u001b[0m\u001b[0mmax\u001b[0m\u001b[1;33m(\u001b[0m\u001b[0marr_mean_values\u001b[0m\u001b[1;33m[\u001b[0m\u001b[1;33m:\u001b[0m\u001b[1;33m,\u001b[0m \u001b[1;36m1\u001b[0m\u001b[1;33m]\u001b[0m\u001b[1;33m)\u001b[0m\u001b[1;33m)\u001b[0m\u001b[1;33m\u001b[0m\u001b[1;33m\u001b[0m\u001b[0m\n",
      "\u001b[1;31mTypeError\u001b[0m: list indices must be integers or slices, not tuple"
     ]
    }
   ],
   "source": [
    "# 가장 최고 평점 구하기\n",
    "print(np.argmax(arr[:, 1]))\n",
    "print(arr_mean_values[282])\n",
    "\n",
    "print(np.max(arr_mean_values[:, 1]))\n",
    "\n",
    "print(np.argsort(arr[:,1])[::-1])  # :: 전체 행열\n",
    "      \n",
    "\n",
    "np.savetxt(\"data/ml-1m/id_rations.csv\", mean_values, fmt=\"%.1f\", delimiter=\",\")"
   ]
  },
  {
   "cell_type": "raw",
   "metadata": {},
   "source": []
  },
  {
   "cell_type": "code",
   "execution_count": 54,
   "metadata": {},
   "outputs": [
    {
     "data": {
      "text/plain": [
       "[1, 3, 5]"
      ]
     },
     "execution_count": 54,
     "metadata": {},
     "output_type": "execute_result"
    }
   ],
   "source": [
    "# ::   확장된 슬라이스\n",
    "arr = range(10)\n",
    "list(arr)  #python3에서는 list로 변환 시켜줘야 데이터를 뽑아줄 수 있음\n",
    "\n",
    "list(arr[::])      # 전체\n",
    "list(arr[1::2])    # 1부터 2씩 접근   인덱스 1부터 \n",
    "list(arr[::-1])    # 역순으로 접근\n",
    "list(arr[::-2])    # 역순으로 2씩\n",
    "list(arr[3::-1])   # 시작위치가 3부터 역순으로 접근\n",
    "list(arr[1:6:2])   # 1부터 6까지 2씩"
   ]
  },
  {
   "cell_type": "code",
   "execution_count": null,
   "metadata": {},
   "outputs": [],
   "source": []
  }
 ],
 "metadata": {
  "kernelspec": {
   "display_name": "Python 3",
   "language": "python",
   "name": "python3"
  },
  "language_info": {
   "codemirror_mode": {
    "name": "ipython",
    "version": 3
   },
   "file_extension": ".py",
   "mimetype": "text/x-python",
   "name": "python",
   "nbconvert_exporter": "python",
   "pygments_lexer": "ipython3",
   "version": "3.7.4"
  }
 },
 "nbformat": 4,
 "nbformat_minor": 2
}
